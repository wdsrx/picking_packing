{
 "cells": [
  {
   "cell_type": "code",
   "execution_count": 1,
   "id": "631cdeb5",
   "metadata": {
    "execution": {
     "iopub.execute_input": "2022-05-07T14:17:13.119889Z",
     "iopub.status.busy": "2022-05-07T14:17:13.118892Z",
     "iopub.status.idle": "2022-05-07T14:17:14.265682Z",
     "shell.execute_reply": "2022-05-07T14:17:14.265682Z"
    }
   },
   "outputs": [],
   "source": [
    "import pyodbc\n",
    "import pandas as pd\n",
    "import numpy as np\n",
    "\n",
    "import matplotlib.pyplot as plt\n",
    "from matplotlib import style\n",
    "style.use('fivethirtyeight')"
   ]
  },
  {
   "cell_type": "markdown",
   "id": "e452ad18",
   "metadata": {},
   "source": [
    "# QUERY 01: Operations"
   ]
  },
  {
   "cell_type": "code",
   "execution_count": 2,
   "id": "cfa380f7",
   "metadata": {
    "execution": {
     "iopub.execute_input": "2022-05-07T14:17:14.268682Z",
     "iopub.status.busy": "2022-05-07T14:17:14.268682Z",
     "iopub.status.idle": "2022-05-07T14:17:14.346727Z",
     "shell.execute_reply": "2022-05-07T14:17:14.344929Z"
    }
   },
   "outputs": [],
   "source": [
    "# Connect to the Database\n",
    "cnxn = pyodbc.connect(\"Driver={SQL Server Native Client 11.0};\"\n",
    "                        \"Server=wd02;\"\n",
    "                        \"Database=FootPrint;\"\n",
    "                        \"Trusted_Connection=yes;\")"
   ]
  },
  {
   "cell_type": "code",
   "execution_count": 3,
   "id": "a7a26b14",
   "metadata": {
    "execution": {
     "iopub.execute_input": "2022-05-07T14:17:14.355718Z",
     "iopub.status.busy": "2022-05-07T14:17:14.355718Z",
     "iopub.status.idle": "2022-05-07T14:17:15.460138Z",
     "shell.execute_reply": "2022-05-07T14:17:15.459102Z"
    }
   },
   "outputs": [],
   "source": [
    "df = pd.read_sql_query(\"DECLARE @from date, @to date;\\\n",
    "    SELECT\\\n",
    "        @from = getdate()\\\n",
    "        ,@to = dateadd(day, 1, getdate());\\\n",
    "\\\n",
    "SELECT CONVERT(varchar,t.completedDateTime,100) Date, w.name warehouse, p.name project, oc.name operationCode, t.employee\\\n",
    "    FROM datex_footprint.Tasks t\\\n",
    "    JOIN datex_footprint.OperationCodes oc\\\n",
    "        ON oc.id = t.operationCodeId\\\n",
    "    JOIN datex_footprint.Warehouses w\\\n",
    "        ON w.id = t.warehouseId\\\n",
    "    JOIN datex_footprint.Projects p\\\n",
    "        ON p.id = t.projectId\\\n",
    "    WHERE t.completedDateTime >= @from AND t.completedDateTime < @to AND (t.employee != 'FootPrintService') AND (t.employee != 'Foot Print Service') and t.statusId = 2\", cnxn)"
   ]
  },
  {
   "cell_type": "code",
   "execution_count": 4,
   "id": "c735920a",
   "metadata": {
    "execution": {
     "iopub.execute_input": "2022-05-07T14:17:15.464129Z",
     "iopub.status.busy": "2022-05-07T14:17:15.464129Z",
     "iopub.status.idle": "2022-05-07T14:17:15.505629Z",
     "shell.execute_reply": "2022-05-07T14:17:15.504612Z"
    }
   },
   "outputs": [
    {
     "data": {
      "text/html": [
       "<div>\n",
       "<style scoped>\n",
       "    .dataframe tbody tr th:only-of-type {\n",
       "        vertical-align: middle;\n",
       "    }\n",
       "\n",
       "    .dataframe tbody tr th {\n",
       "        vertical-align: top;\n",
       "    }\n",
       "\n",
       "    .dataframe thead th {\n",
       "        text-align: right;\n",
       "    }\n",
       "</style>\n",
       "<table border=\"1\" class=\"dataframe\">\n",
       "  <thead>\n",
       "    <tr style=\"text-align: right;\">\n",
       "      <th></th>\n",
       "      <th>Date</th>\n",
       "      <th>warehouse</th>\n",
       "      <th>project</th>\n",
       "      <th>operationCode</th>\n",
       "      <th>employee</th>\n",
       "      <th>Hour</th>\n",
       "    </tr>\n",
       "  </thead>\n",
       "  <tbody>\n",
       "    <tr>\n",
       "      <th>0</th>\n",
       "      <td>May  7 2022  6:50AM</td>\n",
       "      <td>20</td>\n",
       "      <td>Andelyn Biosciences, Inc.</td>\n",
       "      <td>Picking</td>\n",
       "      <td>Ernest Ferguson</td>\n",
       "      <td>6</td>\n",
       "    </tr>\n",
       "    <tr>\n",
       "      <th>1</th>\n",
       "      <td>May  7 2022  6:53AM</td>\n",
       "      <td>20</td>\n",
       "      <td>Andelyn Biosciences, Inc.</td>\n",
       "      <td>Picking</td>\n",
       "      <td>Ernest Ferguson</td>\n",
       "      <td>6</td>\n",
       "    </tr>\n",
       "    <tr>\n",
       "      <th>2</th>\n",
       "      <td>May  7 2022  6:49AM</td>\n",
       "      <td>20</td>\n",
       "      <td>Andelyn Biosciences, Inc.</td>\n",
       "      <td>Picking</td>\n",
       "      <td>Ernest Ferguson</td>\n",
       "      <td>6</td>\n",
       "    </tr>\n",
       "    <tr>\n",
       "      <th>3</th>\n",
       "      <td>May  7 2022  7:10AM</td>\n",
       "      <td>20</td>\n",
       "      <td>Else Nutrition</td>\n",
       "      <td>Scanned Shipment</td>\n",
       "      <td>Ernest Ferguson</td>\n",
       "      <td>7</td>\n",
       "    </tr>\n",
       "    <tr>\n",
       "      <th>4</th>\n",
       "      <td>May  7 2022  6:44AM</td>\n",
       "      <td>20</td>\n",
       "      <td>Andelyn Biosciences, Inc.</td>\n",
       "      <td>Scanned Shipment</td>\n",
       "      <td>Ernest Ferguson</td>\n",
       "      <td>6</td>\n",
       "    </tr>\n",
       "  </tbody>\n",
       "</table>\n",
       "</div>"
      ],
      "text/plain": [
       "                  Date warehouse                    project     operationCode  \\\n",
       "0  May  7 2022  6:50AM        20  Andelyn Biosciences, Inc.           Picking   \n",
       "1  May  7 2022  6:53AM        20  Andelyn Biosciences, Inc.           Picking   \n",
       "2  May  7 2022  6:49AM        20  Andelyn Biosciences, Inc.           Picking   \n",
       "3  May  7 2022  7:10AM        20             Else Nutrition  Scanned Shipment   \n",
       "4  May  7 2022  6:44AM        20  Andelyn Biosciences, Inc.  Scanned Shipment   \n",
       "\n",
       "          employee  Hour  \n",
       "0  Ernest Ferguson     6  \n",
       "1  Ernest Ferguson     6  \n",
       "2  Ernest Ferguson     6  \n",
       "3  Ernest Ferguson     7  \n",
       "4  Ernest Ferguson     6  "
      ]
     },
     "execution_count": 4,
     "metadata": {},
     "output_type": "execute_result"
    }
   ],
   "source": [
    "# Adding Hours\n",
    "df['Hour'] = pd.to_datetime(df['Date']).dt.hour\n",
    "df.head()"
   ]
  },
  {
   "cell_type": "markdown",
   "id": "c682f27b",
   "metadata": {},
   "source": [
    "# PICKING"
   ]
  },
  {
   "cell_type": "code",
   "execution_count": 5,
   "id": "70bb160d",
   "metadata": {
    "execution": {
     "iopub.execute_input": "2022-05-07T14:17:15.512642Z",
     "iopub.status.busy": "2022-05-07T14:17:15.512642Z",
     "iopub.status.idle": "2022-05-07T14:17:15.538014Z",
     "shell.execute_reply": "2022-05-07T14:17:15.535219Z"
    }
   },
   "outputs": [],
   "source": [
    "# Filtered by Picking\n",
    "df_picking = df[df['operationCode'] == 'Picking']"
   ]
  },
  {
   "cell_type": "markdown",
   "id": "2066214c",
   "metadata": {},
   "source": [
    "### Picking By Warehouse Function"
   ]
  },
  {
   "cell_type": "code",
   "execution_count": 6,
   "id": "8d7c4806",
   "metadata": {
    "execution": {
     "iopub.execute_input": "2022-05-07T14:17:15.546991Z",
     "iopub.status.busy": "2022-05-07T14:17:15.546991Z",
     "iopub.status.idle": "2022-05-07T14:17:15.568930Z",
     "shell.execute_reply": "2022-05-07T14:17:15.565985Z"
    }
   },
   "outputs": [],
   "source": [
    "# Picking Function\n",
    "def picking_by_warehouse (warehouse):\n",
    "    # Filter by warehouse\n",
    "    df_w = df_picking[df_picking['warehouse'] == warehouse]\n",
    "    \n",
    "    # Grouped by Employee and Hour\n",
    "    df_w_group = df_w.groupby(['employee', 'Hour']).count()[['operationCode']]\n",
    "    df_w_group.reset_index(inplace=True)\n",
    "    \n",
    "    # Pivot\n",
    "    df_w_pivot = df_w_group.pivot(index='employee', columns='Hour', values='operationCode')\n",
    "    df_w_pivot = df_w_pivot.fillna(0)\n",
    "    df_w_pivot = df_w_pivot.rename_axis(None, axis=1)\n",
    "    \n",
    "    # Save into JSON\n",
    "    pickers_df = df_w_pivot.T\n",
    "    file_name = f'data/pickers_w{warehouse}.json'\n",
    "    pickers_df.to_json(file_name)"
   ]
  },
  {
   "cell_type": "code",
   "execution_count": 7,
   "id": "e1257b5b",
   "metadata": {
    "execution": {
     "iopub.execute_input": "2022-05-07T14:17:15.577907Z",
     "iopub.status.busy": "2022-05-07T14:17:15.576910Z",
     "iopub.status.idle": "2022-05-07T14:17:15.615806Z",
     "shell.execute_reply": "2022-05-07T14:17:15.613845Z"
    }
   },
   "outputs": [],
   "source": [
    "# Save warehouse data into JSON files\n",
    "\n",
    "picking_by_warehouse('10')\n",
    "#picking_by_warehouse('12')\n",
    "#picking_by_warehouse('15')\n",
    "#picking_by_warehouse('16')\n",
    "#picking_by_warehouse('18')\n",
    "#picking_by_warehouse('19')\n",
    "#picking_by_warehouse('20')\n",
    "#picking_by_warehouse('21')\n",
    "#picking_by_warehouse('22')"
   ]
  },
  {
   "cell_type": "code",
   "execution_count": 8,
   "id": "388936da",
   "metadata": {
    "execution": {
     "iopub.execute_input": "2022-05-07T14:17:15.625779Z",
     "iopub.status.busy": "2022-05-07T14:17:15.624783Z",
     "iopub.status.idle": "2022-05-07T14:17:15.647134Z",
     "shell.execute_reply": "2022-05-07T14:17:15.645110Z"
    }
   },
   "outputs": [],
   "source": [
    "# Close connection\n",
    "cnxn.close()"
   ]
  },
  {
   "cell_type": "markdown",
   "id": "9dc39cfe",
   "metadata": {},
   "source": [
    "# QUERY: PACKING"
   ]
  },
  {
   "cell_type": "code",
   "execution_count": 9,
   "id": "d2268aac",
   "metadata": {
    "execution": {
     "iopub.execute_input": "2022-05-07T14:17:15.657072Z",
     "iopub.status.busy": "2022-05-07T14:17:15.656076Z",
     "iopub.status.idle": "2022-05-07T14:17:15.679678Z",
     "shell.execute_reply": "2022-05-07T14:17:15.676685Z"
    }
   },
   "outputs": [],
   "source": [
    "# Connect to the Database\n",
    "cnxn = pyodbc.connect(\"Driver={SQL Server Native Client 11.0};\"\n",
    "                        \"Server=wd02;\"\n",
    "                        \"Database=FootPrint;\"\n",
    "                        \"Trusted_Connection=yes;\")"
   ]
  },
  {
   "cell_type": "code",
   "execution_count": 10,
   "id": "cc6bd3e4",
   "metadata": {
    "execution": {
     "iopub.execute_input": "2022-05-07T14:17:15.688685Z",
     "iopub.status.busy": "2022-05-07T14:17:15.688685Z",
     "iopub.status.idle": "2022-05-07T14:17:15.711590Z",
     "shell.execute_reply": "2022-05-07T14:17:15.708603Z"
    }
   },
   "outputs": [],
   "source": [
    "df_packing = pd.read_sql_query(\"DECLARE @from date, @to date;\\\n",
    "    SELECT @from = getdate() ,@to = dateadd(day, 1, getdate());\\\n",
    "\\\n",
    "    select t.completedDateTime Date, w.name Warehouse, p.name Project,\\\n",
    "        oc.name OperationCode, t.employee, s.lookupCode Shipment, lp.lookupCode LP\\\n",
    "    from datex_footprint.Tasks t\\\n",
    "        join datex_footprint.Shipments s\\\n",
    "            on s.id = t.shipmentId\\\n",
    "        join datex_footprint.LicensePlates lp\\\n",
    "            on lp.shipmentId = s.id\\\n",
    "        join datex_footprint.Warehouses w\\\n",
    "            on w.id = t.warehouseId\\\n",
    "        join datex_footprint.Projects p\\\n",
    "            on p.id = t.projectId\\\n",
    "        join datex_footprint.OperationCodes oc\\\n",
    "            on oc.id = t.operationCodeId\\\n",
    "        where t.completedDateTime >= @from AND t.completedDateTime < @to AND (t.employee != 'FootPrintService') AND (t.employee != 'Foot Print Service') and t.statusId = 2 and t.operationCodeId = 2067\", cnxn)"
   ]
  },
  {
   "cell_type": "code",
   "execution_count": 11,
   "id": "5b290d8b",
   "metadata": {
    "execution": {
     "iopub.execute_input": "2022-05-07T14:17:15.720566Z",
     "iopub.status.busy": "2022-05-07T14:17:15.719569Z",
     "iopub.status.idle": "2022-05-07T14:17:15.757467Z",
     "shell.execute_reply": "2022-05-07T14:17:15.755510Z"
    }
   },
   "outputs": [
    {
     "data": {
      "text/html": [
       "<div>\n",
       "<style scoped>\n",
       "    .dataframe tbody tr th:only-of-type {\n",
       "        vertical-align: middle;\n",
       "    }\n",
       "\n",
       "    .dataframe tbody tr th {\n",
       "        vertical-align: top;\n",
       "    }\n",
       "\n",
       "    .dataframe thead th {\n",
       "        text-align: right;\n",
       "    }\n",
       "</style>\n",
       "<table border=\"1\" class=\"dataframe\">\n",
       "  <thead>\n",
       "    <tr style=\"text-align: right;\">\n",
       "      <th></th>\n",
       "      <th>Date</th>\n",
       "      <th>Warehouse</th>\n",
       "      <th>Project</th>\n",
       "      <th>OperationCode</th>\n",
       "      <th>employee</th>\n",
       "      <th>Shipment</th>\n",
       "      <th>LP</th>\n",
       "      <th>Hour</th>\n",
       "    </tr>\n",
       "  </thead>\n",
       "  <tbody>\n",
       "  </tbody>\n",
       "</table>\n",
       "</div>"
      ],
      "text/plain": [
       "Empty DataFrame\n",
       "Columns: [Date, Warehouse, Project, OperationCode, employee, Shipment, LP, Hour]\n",
       "Index: []"
      ]
     },
     "execution_count": 11,
     "metadata": {},
     "output_type": "execute_result"
    }
   ],
   "source": [
    "# Adding Hours\n",
    "df_packing['Hour'] = pd.to_datetime(df_packing['Date']).dt.hour\n",
    "df_packing.head()"
   ]
  },
  {
   "cell_type": "code",
   "execution_count": 12,
   "id": "d2d05e74",
   "metadata": {
    "execution": {
     "iopub.execute_input": "2022-05-07T14:17:15.775417Z",
     "iopub.status.busy": "2022-05-07T14:17:15.775417Z",
     "iopub.status.idle": "2022-05-07T14:17:15.787384Z",
     "shell.execute_reply": "2022-05-07T14:17:15.787384Z"
    }
   },
   "outputs": [],
   "source": [
    "# Packing Function\n",
    "def packing_by_warehouse (warehouse):\n",
    "    # Filter by warehouse\n",
    "    df_p = df_packing[df_packing['Warehouse'] == warehouse]\n",
    "    \n",
    "    # Grouped by Employee and Hour\n",
    "    df_p_group = df_p.groupby(['employee', 'Hour']).count()[['OperationCode']]\n",
    "    df_p_group.reset_index(inplace=True)\n",
    "    \n",
    "    # Pivot\n",
    "    df_p_pivot = df_p_group.pivot(index='employee', columns='Hour', values='OperationCode')\n",
    "    df_p_pivot = df_p_pivot.fillna(0)\n",
    "    df_p_pivot = df_p_pivot.rename_axis(None, axis=1)\n",
    "    \n",
    "    # Save into JSON\n",
    "    packers_df = df_p_pivot.T\n",
    "    file_name = f'data/packers_w{warehouse}.json'\n",
    "    packers_df.to_json(file_name)"
   ]
  },
  {
   "cell_type": "code",
   "execution_count": 13,
   "id": "2f51190a",
   "metadata": {
    "execution": {
     "iopub.execute_input": "2022-05-07T14:17:15.790416Z",
     "iopub.status.busy": "2022-05-07T14:17:15.790416Z",
     "iopub.status.idle": "2022-05-07T14:17:15.803790Z",
     "shell.execute_reply": "2022-05-07T14:17:15.802788Z"
    }
   },
   "outputs": [],
   "source": [
    "# Save warehouse data into JSON files\n",
    "\n",
    "packing_by_warehouse('10')"
   ]
  },
  {
   "cell_type": "code",
   "execution_count": 14,
   "id": "ab7aa825",
   "metadata": {
    "execution": {
     "iopub.execute_input": "2022-05-07T14:17:15.805782Z",
     "iopub.status.busy": "2022-05-07T14:17:15.805782Z",
     "iopub.status.idle": "2022-05-07T14:17:15.819178Z",
     "shell.execute_reply": "2022-05-07T14:17:15.818408Z"
    }
   },
   "outputs": [],
   "source": [
    "# Close connection\n",
    "cnxn.close()"
   ]
  },
  {
   "cell_type": "code",
   "execution_count": null,
   "id": "b47fff9f",
   "metadata": {},
   "outputs": [],
   "source": []
  },
  {
   "cell_type": "code",
   "execution_count": null,
   "id": "a34045bd",
   "metadata": {},
   "outputs": [],
   "source": []
  },
  {
   "cell_type": "code",
   "execution_count": null,
   "id": "4d84963a",
   "metadata": {},
   "outputs": [],
   "source": []
  },
  {
   "cell_type": "code",
   "execution_count": null,
   "id": "e1a2dff7",
   "metadata": {},
   "outputs": [],
   "source": []
  },
  {
   "cell_type": "code",
   "execution_count": null,
   "id": "c928dabf",
   "metadata": {},
   "outputs": [],
   "source": []
  },
  {
   "cell_type": "code",
   "execution_count": null,
   "id": "69ef2b6e",
   "metadata": {},
   "outputs": [],
   "source": []
  },
  {
   "cell_type": "markdown",
   "id": "535778bf",
   "metadata": {},
   "source": [
    "# QUERY 02: Open Outbounds WAREHOUSE 10"
   ]
  },
  {
   "cell_type": "code",
   "execution_count": 15,
   "id": "2c1090ec",
   "metadata": {
    "execution": {
     "iopub.execute_input": "2022-05-07T14:17:15.822170Z",
     "iopub.status.busy": "2022-05-07T14:17:15.822170Z",
     "iopub.status.idle": "2022-05-07T14:17:15.835245Z",
     "shell.execute_reply": "2022-05-07T14:17:15.834484Z"
    }
   },
   "outputs": [],
   "source": [
    "# Connect to the Database\n",
    "\n",
    "# cnxn = pyodbc.connect(\"Driver={SQL Server Native Client 11.0};\"\n",
    "#                         \"Server=wd02;\"\n",
    "#                         \"Database=FootPrint;\"\n",
    "#                         \"Trusted_Connection=yes;\")"
   ]
  },
  {
   "cell_type": "code",
   "execution_count": 16,
   "id": "50ba15dd",
   "metadata": {
    "execution": {
     "iopub.execute_input": "2022-05-07T14:17:15.837269Z",
     "iopub.status.busy": "2022-05-07T14:17:15.837269Z",
     "iopub.status.idle": "2022-05-07T14:17:15.851180Z",
     "shell.execute_reply": "2022-05-07T14:17:15.850338Z"
    }
   },
   "outputs": [],
   "source": [
    "# df_02 = pd.read_sql_query(\"SELECT DISTINCT w.name warehouse, p.name project, s.lookupCode shipment_number, s.createdSysDateTime\\\n",
    "#     FROM datex_footprint.shipments s\\\n",
    "#     LEFT JOIN datex_footprint.ShipmentOrderLookup sol\\\n",
    "#         on sol.shipmentId = s.id\\\n",
    "#     LEFT JOIN datex_footprint.orders o\\\n",
    "#         on o.id = sol.orderId\\\n",
    "#     LEFT JOIN datex_footprint.Projects p\\\n",
    "#         on p.id = o.projectId\\\n",
    "#     LEFT JOIN datex_footprint.warehouses w\\\n",
    "#         on w.id = isnull(s.actualWarehouseId, s.expectedWarehouseId)\\\n",
    "#     WHERE s.statusId in (1, 2, 4) and s.typeId = 2\\\n",
    "#     ORDER BY createdSysDateTime\", cnxn)"
   ]
  },
  {
   "cell_type": "code",
   "execution_count": 17,
   "id": "4ead82a2",
   "metadata": {
    "execution": {
     "iopub.execute_input": "2022-05-07T14:17:15.855148Z",
     "iopub.status.busy": "2022-05-07T14:17:15.854192Z",
     "iopub.status.idle": "2022-05-07T14:17:15.866438Z",
     "shell.execute_reply": "2022-05-07T14:17:15.865470Z"
    }
   },
   "outputs": [],
   "source": [
    "# df_02.head()"
   ]
  },
  {
   "cell_type": "code",
   "execution_count": 18,
   "id": "2f4d888f",
   "metadata": {
    "execution": {
     "iopub.execute_input": "2022-05-07T14:17:15.871456Z",
     "iopub.status.busy": "2022-05-07T14:17:15.871456Z",
     "iopub.status.idle": "2022-05-07T14:17:15.883454Z",
     "shell.execute_reply": "2022-05-07T14:17:15.881431Z"
    }
   },
   "outputs": [],
   "source": [
    "# df_02['age_order'] = pd.Timestamp.now() - df_02['createdSysDateTime']\n",
    "# df_02.head()"
   ]
  },
  {
   "cell_type": "code",
   "execution_count": 19,
   "id": "8b695887",
   "metadata": {
    "execution": {
     "iopub.execute_input": "2022-05-07T14:17:15.890459Z",
     "iopub.status.busy": "2022-05-07T14:17:15.889407Z",
     "iopub.status.idle": "2022-05-07T14:17:15.899386Z",
     "shell.execute_reply": "2022-05-07T14:17:15.897425Z"
    }
   },
   "outputs": [],
   "source": [
    "# df_02['age_order_days'] = df_02['age_order'].dt.components['days']\n",
    "# df_02['age_order_hours'] = df_02['age_order'].dt.components['hours']\n",
    "# df_02.head()"
   ]
  },
  {
   "cell_type": "code",
   "execution_count": 20,
   "id": "b21efff0",
   "metadata": {
    "execution": {
     "iopub.execute_input": "2022-05-07T14:17:15.908406Z",
     "iopub.status.busy": "2022-05-07T14:17:15.907363Z",
     "iopub.status.idle": "2022-05-07T14:17:15.931719Z",
     "shell.execute_reply": "2022-05-07T14:17:15.928863Z"
    }
   },
   "outputs": [],
   "source": [
    "# Open Orders less than 24 hours\n",
    "\n",
    "# df_02 = df_02.loc[(df_02['age_order_days'] == 0) & (df_02['warehouse'] == '10')]\n",
    "# df_02.head()"
   ]
  },
  {
   "cell_type": "code",
   "execution_count": 21,
   "id": "1e73132e",
   "metadata": {
    "execution": {
     "iopub.execute_input": "2022-05-07T14:17:15.939660Z",
     "iopub.status.busy": "2022-05-07T14:17:15.939660Z",
     "iopub.status.idle": "2022-05-07T14:17:15.961931Z",
     "shell.execute_reply": "2022-05-07T14:17:15.960117Z"
    }
   },
   "outputs": [],
   "source": [
    "# Bins per hour\n",
    "\n",
    "# bins =[-1,4,8,12,16,24]\n",
    "# bin_names = ['4 Hours', '8 Hours', '12 Hours', '16 Hours', '24 Hours']\n",
    "\n",
    "# df_02['age_group'] = pd.cut(df_02['age_order_hours'], bins, labels=bin_names)"
   ]
  },
  {
   "cell_type": "code",
   "execution_count": 22,
   "id": "50b37145",
   "metadata": {
    "execution": {
     "iopub.execute_input": "2022-05-07T14:17:15.970918Z",
     "iopub.status.busy": "2022-05-07T14:17:15.969865Z",
     "iopub.status.idle": "2022-05-07T14:17:15.993743Z",
     "shell.execute_reply": "2022-05-07T14:17:15.990981Z"
    }
   },
   "outputs": [],
   "source": [
    "# df_02_grouped = df_02.groupby(['age_group'])[['project']].count()"
   ]
  },
  {
   "cell_type": "code",
   "execution_count": 23,
   "id": "ad0ad7b8",
   "metadata": {
    "execution": {
     "iopub.execute_input": "2022-05-07T14:17:16.002759Z",
     "iopub.status.busy": "2022-05-07T14:17:16.001762Z",
     "iopub.status.idle": "2022-05-07T14:17:16.024630Z",
     "shell.execute_reply": "2022-05-07T14:17:16.021800Z"
    }
   },
   "outputs": [],
   "source": [
    "# df_02_grouped = df_02_grouped.rename(columns={'project': 'orders'})"
   ]
  },
  {
   "cell_type": "markdown",
   "id": "ae473cac",
   "metadata": {},
   "source": [
    "### Save in JSON File"
   ]
  },
  {
   "cell_type": "code",
   "execution_count": 24,
   "id": "2d6c8932",
   "metadata": {
    "execution": {
     "iopub.execute_input": "2022-05-07T14:17:16.033666Z",
     "iopub.status.busy": "2022-05-07T14:17:16.032659Z",
     "iopub.status.idle": "2022-05-07T14:17:16.056137Z",
     "shell.execute_reply": "2022-05-07T14:17:16.053317Z"
    }
   },
   "outputs": [],
   "source": [
    "# open_outbounds = df_02_grouped\n",
    "# open_outbounds.to_json('data/open_outbounds.json')\n",
    "# open_outbounds"
   ]
  },
  {
   "cell_type": "code",
   "execution_count": 25,
   "id": "9f6bab4b",
   "metadata": {
    "execution": {
     "iopub.execute_input": "2022-05-07T14:17:16.065161Z",
     "iopub.status.busy": "2022-05-07T14:17:16.064167Z",
     "iopub.status.idle": "2022-05-07T14:17:16.087074Z",
     "shell.execute_reply": "2022-05-07T14:17:16.084280Z"
    }
   },
   "outputs": [],
   "source": [
    "# df_02_grouped = df_02_grouped.iloc[::-1]\n",
    "# df_02_grouped.plot.barh()"
   ]
  },
  {
   "cell_type": "code",
   "execution_count": 26,
   "id": "b030f66f",
   "metadata": {
    "execution": {
     "iopub.execute_input": "2022-05-07T14:17:16.096067Z",
     "iopub.status.busy": "2022-05-07T14:17:16.095070Z",
     "iopub.status.idle": "2022-05-07T14:17:16.118154Z",
     "shell.execute_reply": "2022-05-07T14:17:16.115332Z"
    }
   },
   "outputs": [],
   "source": [
    "# Close connection\n",
    "\n",
    "# cnxn.close()"
   ]
  },
  {
   "cell_type": "markdown",
   "id": "cda41e6f",
   "metadata": {},
   "source": []
  },
  {
   "cell_type": "markdown",
   "id": "9bf6f1bc",
   "metadata": {},
   "source": [
    "# QUERY 3: Picking Performance (Orders and Waves)"
   ]
  },
  {
   "cell_type": "code",
   "execution_count": 27,
   "id": "887d613e",
   "metadata": {
    "execution": {
     "iopub.execute_input": "2022-05-07T14:17:16.127130Z",
     "iopub.status.busy": "2022-05-07T14:17:16.127130Z",
     "iopub.status.idle": "2022-05-07T14:17:16.150061Z",
     "shell.execute_reply": "2022-05-07T14:17:16.147078Z"
    }
   },
   "outputs": [],
   "source": [
    "# Connect to the Database\n",
    "\n",
    "# cnxn = pyodbc.connect(\"Driver={SQL Server Native Client 11.0};\"\n",
    "#                         \"Server=wd02;\"\n",
    "#                         \"Database=FootPrint;\"\n",
    "#                         \"Trusted_Connection=yes;\")"
   ]
  },
  {
   "cell_type": "code",
   "execution_count": 28,
   "id": "641caea5",
   "metadata": {
    "execution": {
     "iopub.execute_input": "2022-05-07T14:17:16.159046Z",
     "iopub.status.busy": "2022-05-07T14:17:16.158048Z",
     "iopub.status.idle": "2022-05-07T14:17:16.181987Z",
     "shell.execute_reply": "2022-05-07T14:17:16.179155Z"
    }
   },
   "outputs": [],
   "source": [
    "# df03 = pd.read_sql_query(\"DECLARE @from date, @to date;\\\n",
    "#                           SELECT @from = getdate(), @to = dateadd(day, 1, getdate());\\\n",
    "#     SELECT t.completedDateTime Date, oc.name Operation, w.name Warehouse,\\\n",
    "#            p.name Project, m.lookupCode Material, employee Employee, s.lookupCode Shipment, isnull(s.waveId, ps.waveId) Wave,\\\n",
    "#            ordersPerWave.shipmentsCount, lc.name Location\\\n",
    "#     FROM datex_footprint.Tasks t\\\n",
    "#         join datex_footprint.OperationCodes oc\\\n",
    "#             on oc.id = t.operationCodeId\\\n",
    "#         left join datex_footprint.Warehouses w\\\n",
    "#             on w.id = t.warehouseId\\\n",
    "#         left join datex_footprint.Projects p\\\n",
    "#             on p.id = t.projectId\\\n",
    "#         left join datex_footprint.Materials m\\\n",
    "#             on m.id = t.materialId\\\n",
    "#         left join datex_footprint.Shipments s\\\n",
    "#             on s.id = t.shipmentId\\\n",
    "#         left join datex_footprint.PickSlips ps\\\n",
    "#             on ps.id = t.pickSlipId\\\n",
    "#         left join datex_footprint.LocationContainers lc\\\n",
    "#             on lc.id = t.actualSourceLocationId\\\n",
    "#         outer apply (\\\n",
    "#             select\\\n",
    "#                 count(distinct tt.shipmentId) shipmentsCount\\\n",
    "#                 from datex_footprint.waves ww\\\n",
    "#                     inner join datex_footprint.PickSlips ppss\\\n",
    "#                     inner join datex_footprint.tasks tt\\\n",
    "#                         on tt.operationCodeId = 8 and tt.pickSlipId = ppss.id\\\n",
    "#                         on ppss.waveId = ww.id\\\n",
    "#                 where ww.id = isnull(s.waveId, ps.waveId)) ordersPerWave\\\n",
    "#     where t.completedDateTime >= @from and t.completedDateTime < @to and t.statusId = 2\\\n",
    "#     and t.operationCodeId in (8, 39, 2064, 2065, 2066) and t.employee != 'Foot Print Service'\\\n",
    "#     order by s.lookupCode, t.completedDateTime\", cnxn)"
   ]
  },
  {
   "cell_type": "code",
   "execution_count": 29,
   "id": "a4cb2a77",
   "metadata": {
    "execution": {
     "iopub.execute_input": "2022-05-07T14:17:16.190961Z",
     "iopub.status.busy": "2022-05-07T14:17:16.189963Z",
     "iopub.status.idle": "2022-05-07T14:17:16.213139Z",
     "shell.execute_reply": "2022-05-07T14:17:16.210310Z"
    }
   },
   "outputs": [],
   "source": [
    "# df03.tail(3)"
   ]
  },
  {
   "cell_type": "code",
   "execution_count": 30,
   "id": "b2d6e6c7",
   "metadata": {
    "execution": {
     "iopub.execute_input": "2022-05-07T14:17:16.222102Z",
     "iopub.status.busy": "2022-05-07T14:17:16.221157Z",
     "iopub.status.idle": "2022-05-07T14:17:16.244257Z",
     "shell.execute_reply": "2022-05-07T14:17:16.241494Z"
    }
   },
   "outputs": [],
   "source": [
    "# Order Columns\n",
    "\n",
    "# df03 = df03[['Warehouse', 'Project', 'Wave', 'Shipment', 'Date', 'Operation', 'Employee',\n",
    "#              'Location', 'shipmentsCount', 'Material']]"
   ]
  },
  {
   "cell_type": "markdown",
   "id": "782d10c7",
   "metadata": {},
   "source": [
    "### Filter by Shipments"
   ]
  },
  {
   "cell_type": "code",
   "execution_count": 31,
   "id": "deb919ce",
   "metadata": {
    "execution": {
     "iopub.execute_input": "2022-05-07T14:17:16.253267Z",
     "iopub.status.busy": "2022-05-07T14:17:16.253267Z",
     "iopub.status.idle": "2022-05-07T14:17:16.276205Z",
     "shell.execute_reply": "2022-05-07T14:17:16.273187Z"
    }
   },
   "outputs": [],
   "source": [
    "# Filter by Orders only\n",
    "\n",
    "# df03_orders = df03.loc[(df03['Operation']=='Picking') |\n",
    "#                        (df03['Operation']=='Scanned Shipment') |\n",
    "#                        (df03['Operation']=='Picking Completed')]\n",
    "\n",
    "# df03_orders = df03_orders[['Warehouse', 'Project', 'Shipment', 'Date', 'Operation', 'Employee', 'Location']]\n",
    "\n",
    "# df03_orders.head()"
   ]
  },
  {
   "cell_type": "code",
   "execution_count": 32,
   "id": "379538a4",
   "metadata": {
    "execution": {
     "iopub.execute_input": "2022-05-07T14:17:16.285182Z",
     "iopub.status.busy": "2022-05-07T14:17:16.285182Z",
     "iopub.status.idle": "2022-05-07T14:17:16.307420Z",
     "shell.execute_reply": "2022-05-07T14:17:16.304551Z"
    }
   },
   "outputs": [],
   "source": [
    "# Create a new column with the time difference between rows\n",
    "\n",
    "# df03_orders['PickingTime'] = df03_orders['Date'].diff()\n",
    "# df03_orders.head()"
   ]
  },
  {
   "cell_type": "code",
   "execution_count": 33,
   "id": "1c8ab7a0",
   "metadata": {
    "execution": {
     "iopub.execute_input": "2022-05-07T14:17:16.316402Z",
     "iopub.status.busy": "2022-05-07T14:17:16.315404Z",
     "iopub.status.idle": "2022-05-07T14:17:16.338335Z",
     "shell.execute_reply": "2022-05-07T14:17:16.336353Z"
    }
   },
   "outputs": [],
   "source": [
    "# Add Hour, Minute and Second columns\n",
    "\n",
    "# df03_orders['hour'] = df03_orders['PickingTime'].dt.components['hours']\n",
    "# df03_orders['minute'] = df03_orders['PickingTime'].dt.components['minutes']\n",
    "# df03_orders['second'] = df03_orders['PickingTime'].dt.components['seconds']\n",
    "# df03_orders.head()"
   ]
  },
  {
   "cell_type": "code",
   "execution_count": 34,
   "id": "65c5bae7",
   "metadata": {
    "execution": {
     "iopub.execute_input": "2022-05-07T14:17:16.348269Z",
     "iopub.status.busy": "2022-05-07T14:17:16.347268Z",
     "iopub.status.idle": "2022-05-07T14:17:16.370241Z",
     "shell.execute_reply": "2022-05-07T14:17:16.367432Z"
    }
   },
   "outputs": [],
   "source": [
    "# Set all the Scanned Shipment hour, minute, time to ZERO\n",
    "\n",
    "# df03_orders_modified = df03_orders\n",
    "\n",
    "# df03_orders_modified.loc[df03_orders_modified.Operation == 'Scanned Shipment', 'hour'] = 0.0\n",
    "# df03_orders_modified.loc[df03_orders_modified.Operation == 'Scanned Shipment', 'minute'] = 0.0\n",
    "# df03_orders_modified.loc[df03_orders_modified.Operation == 'Scanned Shipment', 'second'] = 0.0\n",
    "\n",
    "# df03_orders_modified.loc[df03_orders_modified['Operation'] == 'Scanned Shipment'].head()"
   ]
  },
  {
   "cell_type": "code",
   "execution_count": 35,
   "id": "0a32c449",
   "metadata": {
    "execution": {
     "iopub.execute_input": "2022-05-07T14:17:16.379214Z",
     "iopub.status.busy": "2022-05-07T14:17:16.379214Z",
     "iopub.status.idle": "2022-05-07T14:17:16.402078Z",
     "shell.execute_reply": "2022-05-07T14:17:16.399206Z"
    }
   },
   "outputs": [],
   "source": [
    "# df03_orders_modified['Time'] = df03_orders_modified['hour']*60 + df03_orders_modified['minute'] + df03_orders_modified['second']/60\n",
    "# df03_orders_modified.head()"
   ]
  },
  {
   "cell_type": "code",
   "execution_count": 36,
   "id": "47d0ed4a",
   "metadata": {
    "execution": {
     "iopub.execute_input": "2022-05-07T14:17:16.411057Z",
     "iopub.status.busy": "2022-05-07T14:17:16.411057Z",
     "iopub.status.idle": "2022-05-07T14:17:16.433647Z",
     "shell.execute_reply": "2022-05-07T14:17:16.430652Z"
    }
   },
   "outputs": [],
   "source": [
    "# Save in JSON Format for HTML\n",
    "\n",
    "# df03_group = df03_orders_modified.groupby(['Warehouse', 'Project', 'Shipment', 'Operation', 'Date'])[['Time']].sum().sort_values(['Warehouse', 'Project', 'Shipment', 'Date'])\n",
    "# df03_group.to_json('data/performance.json', orient='table')\n",
    "# df03_group.head(20)"
   ]
  },
  {
   "cell_type": "code",
   "execution_count": 37,
   "id": "8965cf87",
   "metadata": {
    "execution": {
     "iopub.execute_input": "2022-05-07T14:17:16.442670Z",
     "iopub.status.busy": "2022-05-07T14:17:16.441674Z",
     "iopub.status.idle": "2022-05-07T14:17:16.464643Z",
     "shell.execute_reply": "2022-05-07T14:17:16.461810Z"
    }
   },
   "outputs": [],
   "source": [
    "# Remove Operation 'Scanned Shipment'\n",
    "\n",
    "# df03_excluding_Scanned = df03_orders_modified.loc[df03_orders_modified['Operation'] != 'Scanned Shipment']\n",
    "# df03_excluding_Scanned.head()"
   ]
  },
  {
   "cell_type": "code",
   "execution_count": 38,
   "id": "639c4e63",
   "metadata": {
    "execution": {
     "iopub.execute_input": "2022-05-07T14:17:16.473614Z",
     "iopub.status.busy": "2022-05-07T14:17:16.472619Z",
     "iopub.status.idle": "2022-05-07T14:17:16.495779Z",
     "shell.execute_reply": "2022-05-07T14:17:16.492964Z"
    }
   },
   "outputs": [],
   "source": [
    "# Save in CSV Format for Tableau\n",
    "\n",
    "# df03_group2 = df03_excluding_Scanned.groupby(['Warehouse', 'Project', 'Employee', 'Shipment', 'Operation', 'Date'])[['Time']].sum().sort_values(['Warehouse', 'Project', 'Employee', 'Shipment', 'Date'])\n",
    "# df03_group2.to_csv('data/performance.csv')\n",
    "# df03_group2.head(20)"
   ]
  },
  {
   "cell_type": "code",
   "execution_count": 39,
   "id": "72973a53",
   "metadata": {
    "execution": {
     "iopub.execute_input": "2022-05-07T14:17:16.504805Z",
     "iopub.status.busy": "2022-05-07T14:17:16.503808Z",
     "iopub.status.idle": "2022-05-07T14:17:16.525413Z",
     "shell.execute_reply": "2022-05-07T14:17:16.523389Z"
    }
   },
   "outputs": [],
   "source": [
    "# Close connection\n",
    "\n",
    "# cnxn.close()"
   ]
  },
  {
   "cell_type": "code",
   "execution_count": null,
   "id": "61b643e2",
   "metadata": {},
   "outputs": [],
   "source": []
  }
 ],
 "metadata": {
  "kernelspec": {
   "display_name": "PythonData",
   "language": "python",
   "name": "pythondata"
  },
  "language_info": {
   "codemirror_mode": {
    "name": "ipython",
    "version": 3
   },
   "file_extension": ".py",
   "mimetype": "text/x-python",
   "name": "python",
   "nbconvert_exporter": "python",
   "pygments_lexer": "ipython3",
   "version": "3.7.11"
  }
 },
 "nbformat": 4,
 "nbformat_minor": 5
}
