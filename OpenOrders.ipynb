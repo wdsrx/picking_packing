{
 "cells": [
  {
   "cell_type": "code",
   "execution_count": 1,
   "id": "631cdeb5",
   "metadata": {
    "execution": {
     "iopub.execute_input": "2022-05-07T09:14:10.867126Z",
     "iopub.status.busy": "2022-05-07T09:14:10.866130Z",
     "iopub.status.idle": "2022-05-07T09:14:11.983261Z",
     "shell.execute_reply": "2022-05-07T09:14:11.982255Z"
    }
   },
   "outputs": [],
   "source": [
    "import pyodbc\n",
    "import pandas as pd\n",
    "import numpy as np\n",
    "\n",
    "import matplotlib.pyplot as plt\n",
    "from matplotlib import style\n",
    "style.use('fivethirtyeight')"
   ]
  },
  {
   "cell_type": "markdown",
   "id": "e452ad18",
   "metadata": {},
   "source": [
    "# QUERY 01: Operations"
   ]
  },
  {
   "cell_type": "code",
   "execution_count": 2,
   "id": "cfa380f7",
   "metadata": {
    "execution": {
     "iopub.execute_input": "2022-05-07T09:14:11.985285Z",
     "iopub.status.busy": "2022-05-07T09:14:11.985285Z",
     "iopub.status.idle": "2022-05-07T09:14:12.045835Z",
     "shell.execute_reply": "2022-05-07T09:14:12.044826Z"
    }
   },
   "outputs": [],
   "source": [
    "# Connect to the Database\n",
    "cnxn = pyodbc.connect(\"Driver={SQL Server Native Client 11.0};\"\n",
    "                        \"Server=wd02;\"\n",
    "                        \"Database=FootPrint;\"\n",
    "                        \"Trusted_Connection=yes;\")"
   ]
  },
  {
   "cell_type": "code",
   "execution_count": 3,
   "id": "a7a26b14",
   "metadata": {
    "execution": {
     "iopub.execute_input": "2022-05-07T09:14:12.049856Z",
     "iopub.status.busy": "2022-05-07T09:14:12.049856Z",
     "iopub.status.idle": "2022-05-07T09:14:13.148305Z",
     "shell.execute_reply": "2022-05-07T09:14:13.145240Z"
    }
   },
   "outputs": [],
   "source": [
    "df = pd.read_sql_query(\"DECLARE @from date, @to date;\\\n",
    "    SELECT\\\n",
    "        @from = getdate()\\\n",
    "        ,@to = dateadd(day, 1, getdate());\\\n",
    "\\\n",
    "SELECT CONVERT(varchar,t.completedDateTime,100) Date, w.name warehouse, p.name project, oc.name operationCode, t.employee\\\n",
    "    FROM datex_footprint.Tasks t\\\n",
    "    JOIN datex_footprint.OperationCodes oc\\\n",
    "        ON oc.id = t.operationCodeId\\\n",
    "    JOIN datex_footprint.Warehouses w\\\n",
    "        ON w.id = t.warehouseId\\\n",
    "    JOIN datex_footprint.Projects p\\\n",
    "        ON p.id = t.projectId\\\n",
    "    WHERE t.completedDateTime >= @from AND t.completedDateTime < @to AND (t.employee != 'FootPrintService') AND (t.employee != 'Foot Print Service') and t.statusId = 2\", cnxn)"
   ]
  },
  {
   "cell_type": "code",
   "execution_count": 4,
   "id": "c735920a",
   "metadata": {
    "execution": {
     "iopub.execute_input": "2022-05-07T09:14:13.157279Z",
     "iopub.status.busy": "2022-05-07T09:14:13.156281Z",
     "iopub.status.idle": "2022-05-07T09:14:13.195130Z",
     "shell.execute_reply": "2022-05-07T09:14:13.193184Z"
    }
   },
   "outputs": [
    {
     "data": {
      "text/html": [
       "<div>\n",
       "<style scoped>\n",
       "    .dataframe tbody tr th:only-of-type {\n",
       "        vertical-align: middle;\n",
       "    }\n",
       "\n",
       "    .dataframe tbody tr th {\n",
       "        vertical-align: top;\n",
       "    }\n",
       "\n",
       "    .dataframe thead th {\n",
       "        text-align: right;\n",
       "    }\n",
       "</style>\n",
       "<table border=\"1\" class=\"dataframe\">\n",
       "  <thead>\n",
       "    <tr style=\"text-align: right;\">\n",
       "      <th></th>\n",
       "      <th>Date</th>\n",
       "      <th>warehouse</th>\n",
       "      <th>project</th>\n",
       "      <th>operationCode</th>\n",
       "      <th>employee</th>\n",
       "      <th>Hour</th>\n",
       "    </tr>\n",
       "  </thead>\n",
       "  <tbody>\n",
       "  </tbody>\n",
       "</table>\n",
       "</div>"
      ],
      "text/plain": [
       "Empty DataFrame\n",
       "Columns: [Date, warehouse, project, operationCode, employee, Hour]\n",
       "Index: []"
      ]
     },
     "execution_count": 4,
     "metadata": {},
     "output_type": "execute_result"
    }
   ],
   "source": [
    "# Adding Hours\n",
    "df['Hour'] = pd.to_datetime(df['Date']).dt.hour\n",
    "df.head()"
   ]
  },
  {
   "cell_type": "markdown",
   "id": "c682f27b",
   "metadata": {},
   "source": [
    "# PICKING"
   ]
  },
  {
   "cell_type": "code",
   "execution_count": 5,
   "id": "70bb160d",
   "metadata": {
    "execution": {
     "iopub.execute_input": "2022-05-07T09:14:13.204153Z",
     "iopub.status.busy": "2022-05-07T09:14:13.204153Z",
     "iopub.status.idle": "2022-05-07T09:14:13.226688Z",
     "shell.execute_reply": "2022-05-07T09:14:13.223862Z"
    }
   },
   "outputs": [],
   "source": [
    "# Filtered by Picking\n",
    "df_picking = df[df['operationCode'] == 'Picking']"
   ]
  },
  {
   "cell_type": "markdown",
   "id": "2066214c",
   "metadata": {},
   "source": [
    "### Picking By Warehouse Function"
   ]
  },
  {
   "cell_type": "code",
   "execution_count": 6,
   "id": "8d7c4806",
   "metadata": {
    "execution": {
     "iopub.execute_input": "2022-05-07T09:14:13.235600Z",
     "iopub.status.busy": "2022-05-07T09:14:13.234603Z",
     "iopub.status.idle": "2022-05-07T09:14:13.258541Z",
     "shell.execute_reply": "2022-05-07T09:14:13.255546Z"
    }
   },
   "outputs": [],
   "source": [
    "# Picking Function\n",
    "def picking_by_warehouse (warehouse):\n",
    "    # Filter by warehouse\n",
    "    df_w = df_picking[df_picking['warehouse'] == warehouse]\n",
    "    \n",
    "    # Grouped by Employee and Hour\n",
    "    df_w_group = df_w.groupby(['employee', 'Hour']).count()[['operationCode']]\n",
    "    df_w_group.reset_index(inplace=True)\n",
    "    \n",
    "    # Pivot\n",
    "    df_w_pivot = df_w_group.pivot(index='employee', columns='Hour', values='operationCode')\n",
    "    df_w_pivot = df_w_pivot.fillna(0)\n",
    "    df_w_pivot = df_w_pivot.rename_axis(None, axis=1)\n",
    "    \n",
    "    # Save into JSON\n",
    "    pickers_df = df_w_pivot.T\n",
    "    file_name = f'data/pickers_w{warehouse}.json'\n",
    "    pickers_df.to_json(file_name)"
   ]
  },
  {
   "cell_type": "code",
   "execution_count": 7,
   "id": "e1257b5b",
   "metadata": {
    "execution": {
     "iopub.execute_input": "2022-05-07T09:14:13.267517Z",
     "iopub.status.busy": "2022-05-07T09:14:13.267517Z",
     "iopub.status.idle": "2022-05-07T09:14:13.305411Z",
     "shell.execute_reply": "2022-05-07T09:14:13.303468Z"
    }
   },
   "outputs": [],
   "source": [
    "# Save warehouse data into JSON files\n",
    "\n",
    "picking_by_warehouse('10')\n",
    "#picking_by_warehouse('12')\n",
    "#picking_by_warehouse('15')\n",
    "#picking_by_warehouse('16')\n",
    "#picking_by_warehouse('18')\n",
    "#picking_by_warehouse('19')\n",
    "#picking_by_warehouse('20')\n",
    "#picking_by_warehouse('21')\n",
    "#picking_by_warehouse('22')"
   ]
  },
  {
   "cell_type": "code",
   "execution_count": 8,
   "id": "388936da",
   "metadata": {
    "execution": {
     "iopub.execute_input": "2022-05-07T09:14:13.315437Z",
     "iopub.status.busy": "2022-05-07T09:14:13.314441Z",
     "iopub.status.idle": "2022-05-07T09:14:13.336915Z",
     "shell.execute_reply": "2022-05-07T09:14:13.333923Z"
    }
   },
   "outputs": [],
   "source": [
    "# Close connection\n",
    "cnxn.close()"
   ]
  },
  {
   "cell_type": "markdown",
   "id": "9dc39cfe",
   "metadata": {},
   "source": [
    "# QUERY: PACKING"
   ]
  },
  {
   "cell_type": "code",
   "execution_count": 9,
   "id": "d2268aac",
   "metadata": {
    "execution": {
     "iopub.execute_input": "2022-05-07T09:14:13.345935Z",
     "iopub.status.busy": "2022-05-07T09:14:13.344929Z",
     "iopub.status.idle": "2022-05-07T09:14:13.367972Z",
     "shell.execute_reply": "2022-05-07T09:14:13.365210Z"
    }
   },
   "outputs": [],
   "source": [
    "# Connect to the Database\n",
    "cnxn = pyodbc.connect(\"Driver={SQL Server Native Client 11.0};\"\n",
    "                        \"Server=wd02;\"\n",
    "                        \"Database=FootPrint;\"\n",
    "                        \"Trusted_Connection=yes;\")"
   ]
  },
  {
   "cell_type": "code",
   "execution_count": 10,
   "id": "cc6bd3e4",
   "metadata": {
    "execution": {
     "iopub.execute_input": "2022-05-07T09:14:13.376949Z",
     "iopub.status.busy": "2022-05-07T09:14:13.375952Z",
     "iopub.status.idle": "2022-05-07T09:14:13.398888Z",
     "shell.execute_reply": "2022-05-07T09:14:13.396894Z"
    }
   },
   "outputs": [],
   "source": [
    "df_packing = pd.read_sql_query(\"DECLARE @from date, @to date;\\\n",
    "    SELECT @from = getdate() ,@to = dateadd(day, 1, getdate());\\\n",
    "\\\n",
    "    select t.completedDateTime Date, w.name Warehouse, p.name Project,\\\n",
    "        oc.name OperationCode, t.employee, s.lookupCode Shipment, lp.lookupCode LP\\\n",
    "    from datex_footprint.Tasks t\\\n",
    "        join datex_footprint.Shipments s\\\n",
    "            on s.id = t.shipmentId\\\n",
    "        join datex_footprint.LicensePlates lp\\\n",
    "            on lp.shipmentId = s.id\\\n",
    "        join datex_footprint.Warehouses w\\\n",
    "            on w.id = t.warehouseId\\\n",
    "        join datex_footprint.Projects p\\\n",
    "            on p.id = t.projectId\\\n",
    "        join datex_footprint.OperationCodes oc\\\n",
    "            on oc.id = t.operationCodeId\\\n",
    "        where t.completedDateTime >= @from AND t.completedDateTime < @to AND (t.employee != 'FootPrintService') AND (t.employee != 'Foot Print Service') and t.statusId = 2 and t.operationCodeId = 2067\", cnxn)"
   ]
  },
  {
   "cell_type": "code",
   "execution_count": 11,
   "id": "5b290d8b",
   "metadata": {
    "execution": {
     "iopub.execute_input": "2022-05-07T09:14:13.407866Z",
     "iopub.status.busy": "2022-05-07T09:14:13.407866Z",
     "iopub.status.idle": "2022-05-07T09:14:13.444770Z",
     "shell.execute_reply": "2022-05-07T09:14:13.442825Z"
    }
   },
   "outputs": [
    {
     "data": {
      "text/html": [
       "<div>\n",
       "<style scoped>\n",
       "    .dataframe tbody tr th:only-of-type {\n",
       "        vertical-align: middle;\n",
       "    }\n",
       "\n",
       "    .dataframe tbody tr th {\n",
       "        vertical-align: top;\n",
       "    }\n",
       "\n",
       "    .dataframe thead th {\n",
       "        text-align: right;\n",
       "    }\n",
       "</style>\n",
       "<table border=\"1\" class=\"dataframe\">\n",
       "  <thead>\n",
       "    <tr style=\"text-align: right;\">\n",
       "      <th></th>\n",
       "      <th>Date</th>\n",
       "      <th>Warehouse</th>\n",
       "      <th>Project</th>\n",
       "      <th>OperationCode</th>\n",
       "      <th>employee</th>\n",
       "      <th>Shipment</th>\n",
       "      <th>LP</th>\n",
       "      <th>Hour</th>\n",
       "    </tr>\n",
       "  </thead>\n",
       "  <tbody>\n",
       "  </tbody>\n",
       "</table>\n",
       "</div>"
      ],
      "text/plain": [
       "Empty DataFrame\n",
       "Columns: [Date, Warehouse, Project, OperationCode, employee, Shipment, LP, Hour]\n",
       "Index: []"
      ]
     },
     "execution_count": 11,
     "metadata": {},
     "output_type": "execute_result"
    }
   ],
   "source": [
    "# Adding Hours\n",
    "df_packing['Hour'] = pd.to_datetime(df_packing['Date']).dt.hour\n",
    "df_packing.head()"
   ]
  },
  {
   "cell_type": "code",
   "execution_count": 12,
   "id": "d2d05e74",
   "metadata": {
    "execution": {
     "iopub.execute_input": "2022-05-07T09:14:13.476733Z",
     "iopub.status.busy": "2022-05-07T09:14:13.476733Z",
     "iopub.status.idle": "2022-05-07T09:14:13.508609Z",
     "shell.execute_reply": "2022-05-07T09:14:13.505754Z"
    }
   },
   "outputs": [],
   "source": [
    "# Packing Function\n",
    "def packing_by_warehouse (warehouse):\n",
    "    # Filter by warehouse\n",
    "    df_p = df_packing[df_packing['Warehouse'] == warehouse]\n",
    "    \n",
    "    # Grouped by Employee and Hour\n",
    "    df_p_group = df_p.groupby(['employee', 'Hour']).count()[['OperationCode']]\n",
    "    df_p_group.reset_index(inplace=True)\n",
    "    \n",
    "    # Pivot\n",
    "    df_p_pivot = df_p_group.pivot(index='employee', columns='Hour', values='OperationCode')\n",
    "    df_p_pivot = df_p_pivot.fillna(0)\n",
    "    df_p_pivot = df_p_pivot.rename_axis(None, axis=1)\n",
    "    \n",
    "    # Save into JSON\n",
    "    packers_df = df_p_pivot.T\n",
    "    file_name = f'data/packers_w{warehouse}.json'\n",
    "    packers_df.to_json(file_name)"
   ]
  },
  {
   "cell_type": "code",
   "execution_count": 13,
   "id": "2f51190a",
   "metadata": {
    "execution": {
     "iopub.execute_input": "2022-05-07T09:14:13.517603Z",
     "iopub.status.busy": "2022-05-07T09:14:13.516603Z",
     "iopub.status.idle": "2022-05-07T09:14:13.555686Z",
     "shell.execute_reply": "2022-05-07T09:14:13.552870Z"
    }
   },
   "outputs": [],
   "source": [
    "# Save warehouse data into JSON files\n",
    "\n",
    "packing_by_warehouse('10')"
   ]
  },
  {
   "cell_type": "code",
   "execution_count": 14,
   "id": "ab7aa825",
   "metadata": {
    "execution": {
     "iopub.execute_input": "2022-05-07T09:14:13.564673Z",
     "iopub.status.busy": "2022-05-07T09:14:13.563679Z",
     "iopub.status.idle": "2022-05-07T09:14:13.586847Z",
     "shell.execute_reply": "2022-05-07T09:14:13.583937Z"
    }
   },
   "outputs": [],
   "source": [
    "# Close connection\n",
    "cnxn.close()"
   ]
  },
  {
   "cell_type": "code",
   "execution_count": null,
   "id": "b47fff9f",
   "metadata": {},
   "outputs": [],
   "source": []
  },
  {
   "cell_type": "code",
   "execution_count": null,
   "id": "a34045bd",
   "metadata": {},
   "outputs": [],
   "source": []
  },
  {
   "cell_type": "code",
   "execution_count": null,
   "id": "4d84963a",
   "metadata": {},
   "outputs": [],
   "source": []
  },
  {
   "cell_type": "code",
   "execution_count": null,
   "id": "e1a2dff7",
   "metadata": {},
   "outputs": [],
   "source": []
  },
  {
   "cell_type": "code",
   "execution_count": null,
   "id": "c928dabf",
   "metadata": {},
   "outputs": [],
   "source": []
  },
  {
   "cell_type": "code",
   "execution_count": null,
   "id": "69ef2b6e",
   "metadata": {},
   "outputs": [],
   "source": []
  },
  {
   "cell_type": "markdown",
   "id": "535778bf",
   "metadata": {},
   "source": [
    "# QUERY 02: Open Outbounds WAREHOUSE 10"
   ]
  },
  {
   "cell_type": "code",
   "execution_count": 15,
   "id": "2c1090ec",
   "metadata": {
    "execution": {
     "iopub.execute_input": "2022-05-07T09:14:13.596820Z",
     "iopub.status.busy": "2022-05-07T09:14:13.596820Z",
     "iopub.status.idle": "2022-05-07T09:14:13.618211Z",
     "shell.execute_reply": "2022-05-07T09:14:13.615394Z"
    }
   },
   "outputs": [],
   "source": [
    "# Connect to the Database\n",
    "\n",
    "# cnxn = pyodbc.connect(\"Driver={SQL Server Native Client 11.0};\"\n",
    "#                         \"Server=wd02;\"\n",
    "#                         \"Database=FootPrint;\"\n",
    "#                         \"Trusted_Connection=yes;\")"
   ]
  },
  {
   "cell_type": "code",
   "execution_count": 16,
   "id": "50ba15dd",
   "metadata": {
    "execution": {
     "iopub.execute_input": "2022-05-07T09:14:13.627199Z",
     "iopub.status.busy": "2022-05-07T09:14:13.627199Z",
     "iopub.status.idle": "2022-05-07T09:14:13.648325Z",
     "shell.execute_reply": "2022-05-07T09:14:13.645559Z"
    }
   },
   "outputs": [],
   "source": [
    "# df_02 = pd.read_sql_query(\"SELECT DISTINCT w.name warehouse, p.name project, s.lookupCode shipment_number, s.createdSysDateTime\\\n",
    "#     FROM datex_footprint.shipments s\\\n",
    "#     LEFT JOIN datex_footprint.ShipmentOrderLookup sol\\\n",
    "#         on sol.shipmentId = s.id\\\n",
    "#     LEFT JOIN datex_footprint.orders o\\\n",
    "#         on o.id = sol.orderId\\\n",
    "#     LEFT JOIN datex_footprint.Projects p\\\n",
    "#         on p.id = o.projectId\\\n",
    "#     LEFT JOIN datex_footprint.warehouses w\\\n",
    "#         on w.id = isnull(s.actualWarehouseId, s.expectedWarehouseId)\\\n",
    "#     WHERE s.statusId in (1, 2, 4) and s.typeId = 2\\\n",
    "#     ORDER BY createdSysDateTime\", cnxn)"
   ]
  },
  {
   "cell_type": "code",
   "execution_count": 17,
   "id": "4ead82a2",
   "metadata": {
    "execution": {
     "iopub.execute_input": "2022-05-07T09:14:13.657300Z",
     "iopub.status.busy": "2022-05-07T09:14:13.656304Z",
     "iopub.status.idle": "2022-05-07T09:14:13.679658Z",
     "shell.execute_reply": "2022-05-07T09:14:13.676845Z"
    }
   },
   "outputs": [],
   "source": [
    "# df_02.head()"
   ]
  },
  {
   "cell_type": "code",
   "execution_count": 18,
   "id": "2f4d888f",
   "metadata": {
    "execution": {
     "iopub.execute_input": "2022-05-07T09:14:13.688650Z",
     "iopub.status.busy": "2022-05-07T09:14:13.687653Z",
     "iopub.status.idle": "2022-05-07T09:14:13.710777Z",
     "shell.execute_reply": "2022-05-07T09:14:13.707945Z"
    }
   },
   "outputs": [],
   "source": [
    "# df_02['age_order'] = pd.Timestamp.now() - df_02['createdSysDateTime']\n",
    "# df_02.head()"
   ]
  },
  {
   "cell_type": "code",
   "execution_count": 19,
   "id": "8b695887",
   "metadata": {
    "execution": {
     "iopub.execute_input": "2022-05-07T09:14:13.719743Z",
     "iopub.status.busy": "2022-05-07T09:14:13.718749Z",
     "iopub.status.idle": "2022-05-07T09:14:13.741321Z",
     "shell.execute_reply": "2022-05-07T09:14:13.738533Z"
    }
   },
   "outputs": [],
   "source": [
    "# df_02['age_order_days'] = df_02['age_order'].dt.components['days']\n",
    "# df_02['age_order_hours'] = df_02['age_order'].dt.components['hours']\n",
    "# df_02.head()"
   ]
  },
  {
   "cell_type": "code",
   "execution_count": 20,
   "id": "b21efff0",
   "metadata": {
    "execution": {
     "iopub.execute_input": "2022-05-07T09:14:13.750346Z",
     "iopub.status.busy": "2022-05-07T09:14:13.750346Z",
     "iopub.status.idle": "2022-05-07T09:14:13.771866Z",
     "shell.execute_reply": "2022-05-07T09:14:13.769799Z"
    }
   },
   "outputs": [],
   "source": [
    "# Open Orders less than 24 hours\n",
    "\n",
    "# df_02 = df_02.loc[(df_02['age_order_days'] == 0) & (df_02['warehouse'] == '10')]\n",
    "# df_02.head()"
   ]
  },
  {
   "cell_type": "code",
   "execution_count": 21,
   "id": "1e73132e",
   "metadata": {
    "execution": {
     "iopub.execute_input": "2022-05-07T09:14:13.781841Z",
     "iopub.status.busy": "2022-05-07T09:14:13.780853Z",
     "iopub.status.idle": "2022-05-07T09:14:13.805108Z",
     "shell.execute_reply": "2022-05-07T09:14:13.802096Z"
    }
   },
   "outputs": [],
   "source": [
    "# Bins per hour\n",
    "\n",
    "# bins =[-1,4,8,12,16,24]\n",
    "# bin_names = ['4 Hours', '8 Hours', '12 Hours', '16 Hours', '24 Hours']\n",
    "\n",
    "# df_02['age_group'] = pd.cut(df_02['age_order_hours'], bins, labels=bin_names)"
   ]
  },
  {
   "cell_type": "code",
   "execution_count": 22,
   "id": "50b37145",
   "metadata": {
    "execution": {
     "iopub.execute_input": "2022-05-07T09:14:13.814130Z",
     "iopub.status.busy": "2022-05-07T09:14:13.813129Z",
     "iopub.status.idle": "2022-05-07T09:14:13.836060Z",
     "shell.execute_reply": "2022-05-07T09:14:13.834081Z"
    }
   },
   "outputs": [],
   "source": [
    "# df_02_grouped = df_02.groupby(['age_group'])[['project']].count()"
   ]
  },
  {
   "cell_type": "code",
   "execution_count": 23,
   "id": "ad0ad7b8",
   "metadata": {
    "execution": {
     "iopub.execute_input": "2022-05-07T09:14:13.845036Z",
     "iopub.status.busy": "2022-05-07T09:14:13.845036Z",
     "iopub.status.idle": "2022-05-07T09:14:13.868328Z",
     "shell.execute_reply": "2022-05-07T09:14:13.865510Z"
    }
   },
   "outputs": [],
   "source": [
    "# df_02_grouped = df_02_grouped.rename(columns={'project': 'orders'})"
   ]
  },
  {
   "cell_type": "markdown",
   "id": "ae473cac",
   "metadata": {},
   "source": [
    "### Save in JSON File"
   ]
  },
  {
   "cell_type": "code",
   "execution_count": 24,
   "id": "2d6c8932",
   "metadata": {
    "execution": {
     "iopub.execute_input": "2022-05-07T09:14:13.877314Z",
     "iopub.status.busy": "2022-05-07T09:14:13.877314Z",
     "iopub.status.idle": "2022-05-07T09:14:13.899279Z",
     "shell.execute_reply": "2022-05-07T09:14:13.896495Z"
    }
   },
   "outputs": [],
   "source": [
    "# open_outbounds = df_02_grouped\n",
    "# open_outbounds.to_json('data/open_outbounds.json')\n",
    "# open_outbounds"
   ]
  },
  {
   "cell_type": "code",
   "execution_count": 25,
   "id": "9f6bab4b",
   "metadata": {
    "execution": {
     "iopub.execute_input": "2022-05-07T09:14:13.908286Z",
     "iopub.status.busy": "2022-05-07T09:14:13.907284Z",
     "iopub.status.idle": "2022-05-07T09:14:13.931193Z",
     "shell.execute_reply": "2022-05-07T09:14:13.928193Z"
    }
   },
   "outputs": [],
   "source": [
    "# df_02_grouped = df_02_grouped.iloc[::-1]\n",
    "# df_02_grouped.plot.barh()"
   ]
  },
  {
   "cell_type": "code",
   "execution_count": 26,
   "id": "b030f66f",
   "metadata": {
    "execution": {
     "iopub.execute_input": "2022-05-07T09:14:13.939172Z",
     "iopub.status.busy": "2022-05-07T09:14:13.939172Z",
     "iopub.status.idle": "2022-05-07T09:14:13.962239Z",
     "shell.execute_reply": "2022-05-07T09:14:13.959183Z"
    }
   },
   "outputs": [],
   "source": [
    "# Close connection\n",
    "\n",
    "# cnxn.close()"
   ]
  },
  {
   "cell_type": "markdown",
   "id": "cda41e6f",
   "metadata": {},
   "source": []
  },
  {
   "cell_type": "markdown",
   "id": "9bf6f1bc",
   "metadata": {},
   "source": [
    "# QUERY 3: Picking Performance (Orders and Waves)"
   ]
  },
  {
   "cell_type": "code",
   "execution_count": 27,
   "id": "887d613e",
   "metadata": {
    "execution": {
     "iopub.execute_input": "2022-05-07T09:14:13.971222Z",
     "iopub.status.busy": "2022-05-07T09:14:13.971222Z",
     "iopub.status.idle": "2022-05-07T09:14:13.993164Z",
     "shell.execute_reply": "2022-05-07T09:14:13.990338Z"
    }
   },
   "outputs": [],
   "source": [
    "# Connect to the Database\n",
    "\n",
    "# cnxn = pyodbc.connect(\"Driver={SQL Server Native Client 11.0};\"\n",
    "#                         \"Server=wd02;\"\n",
    "#                         \"Database=FootPrint;\"\n",
    "#                         \"Trusted_Connection=yes;\")"
   ]
  },
  {
   "cell_type": "code",
   "execution_count": 28,
   "id": "641caea5",
   "metadata": {
    "execution": {
     "iopub.execute_input": "2022-05-07T09:14:14.002090Z",
     "iopub.status.busy": "2022-05-07T09:14:14.002090Z",
     "iopub.status.idle": "2022-05-07T09:14:14.025082Z",
     "shell.execute_reply": "2022-05-07T09:14:14.022255Z"
    }
   },
   "outputs": [],
   "source": [
    "# df03 = pd.read_sql_query(\"DECLARE @from date, @to date;\\\n",
    "#                           SELECT @from = getdate(), @to = dateadd(day, 1, getdate());\\\n",
    "#     SELECT t.completedDateTime Date, oc.name Operation, w.name Warehouse,\\\n",
    "#            p.name Project, m.lookupCode Material, employee Employee, s.lookupCode Shipment, isnull(s.waveId, ps.waveId) Wave,\\\n",
    "#            ordersPerWave.shipmentsCount, lc.name Location\\\n",
    "#     FROM datex_footprint.Tasks t\\\n",
    "#         join datex_footprint.OperationCodes oc\\\n",
    "#             on oc.id = t.operationCodeId\\\n",
    "#         left join datex_footprint.Warehouses w\\\n",
    "#             on w.id = t.warehouseId\\\n",
    "#         left join datex_footprint.Projects p\\\n",
    "#             on p.id = t.projectId\\\n",
    "#         left join datex_footprint.Materials m\\\n",
    "#             on m.id = t.materialId\\\n",
    "#         left join datex_footprint.Shipments s\\\n",
    "#             on s.id = t.shipmentId\\\n",
    "#         left join datex_footprint.PickSlips ps\\\n",
    "#             on ps.id = t.pickSlipId\\\n",
    "#         left join datex_footprint.LocationContainers lc\\\n",
    "#             on lc.id = t.actualSourceLocationId\\\n",
    "#         outer apply (\\\n",
    "#             select\\\n",
    "#                 count(distinct tt.shipmentId) shipmentsCount\\\n",
    "#                 from datex_footprint.waves ww\\\n",
    "#                     inner join datex_footprint.PickSlips ppss\\\n",
    "#                     inner join datex_footprint.tasks tt\\\n",
    "#                         on tt.operationCodeId = 8 and tt.pickSlipId = ppss.id\\\n",
    "#                         on ppss.waveId = ww.id\\\n",
    "#                 where ww.id = isnull(s.waveId, ps.waveId)) ordersPerWave\\\n",
    "#     where t.completedDateTime >= @from and t.completedDateTime < @to and t.statusId = 2\\\n",
    "#     and t.operationCodeId in (8, 39, 2064, 2065, 2066) and t.employee != 'Foot Print Service'\\\n",
    "#     order by s.lookupCode, t.completedDateTime\", cnxn)"
   ]
  },
  {
   "cell_type": "code",
   "execution_count": 29,
   "id": "a4cb2a77",
   "metadata": {
    "execution": {
     "iopub.execute_input": "2022-05-07T09:14:14.034055Z",
     "iopub.status.busy": "2022-05-07T09:14:14.033058Z",
     "iopub.status.idle": "2022-05-07T09:14:14.056272Z",
     "shell.execute_reply": "2022-05-07T09:14:14.053417Z"
    }
   },
   "outputs": [],
   "source": [
    "# df03.tail(3)"
   ]
  },
  {
   "cell_type": "code",
   "execution_count": 30,
   "id": "b2d6e6c7",
   "metadata": {
    "execution": {
     "iopub.execute_input": "2022-05-07T09:14:14.065263Z",
     "iopub.status.busy": "2022-05-07T09:14:14.064265Z",
     "iopub.status.idle": "2022-05-07T09:14:14.087343Z",
     "shell.execute_reply": "2022-05-07T09:14:14.084565Z"
    }
   },
   "outputs": [],
   "source": [
    "# Order Columns\n",
    "\n",
    "# df03 = df03[['Warehouse', 'Project', 'Wave', 'Shipment', 'Date', 'Operation', 'Employee',\n",
    "#              'Location', 'shipmentsCount', 'Material']]"
   ]
  },
  {
   "cell_type": "markdown",
   "id": "782d10c7",
   "metadata": {},
   "source": [
    "### Filter by Shipments"
   ]
  },
  {
   "cell_type": "code",
   "execution_count": 31,
   "id": "deb919ce",
   "metadata": {
    "execution": {
     "iopub.execute_input": "2022-05-07T09:14:14.097316Z",
     "iopub.status.busy": "2022-05-07T09:14:14.096319Z",
     "iopub.status.idle": "2022-05-07T09:14:14.119258Z",
     "shell.execute_reply": "2022-05-07T09:14:14.116266Z"
    }
   },
   "outputs": [],
   "source": [
    "# Filter by Orders only\n",
    "\n",
    "# df03_orders = df03.loc[(df03['Operation']=='Picking') |\n",
    "#                        (df03['Operation']=='Scanned Shipment') |\n",
    "#                        (df03['Operation']=='Picking Completed')]\n",
    "\n",
    "# df03_orders = df03_orders[['Warehouse', 'Project', 'Shipment', 'Date', 'Operation', 'Employee', 'Location']]\n",
    "\n",
    "# df03_orders.head()"
   ]
  },
  {
   "cell_type": "code",
   "execution_count": 32,
   "id": "379538a4",
   "metadata": {
    "execution": {
     "iopub.execute_input": "2022-05-07T09:14:14.129231Z",
     "iopub.status.busy": "2022-05-07T09:14:14.128234Z",
     "iopub.status.idle": "2022-05-07T09:14:14.149182Z",
     "shell.execute_reply": "2022-05-07T09:14:14.147181Z"
    }
   },
   "outputs": [],
   "source": [
    "# Create a new column with the time difference between rows\n",
    "\n",
    "# df03_orders['PickingTime'] = df03_orders['Date'].diff()\n",
    "# df03_orders.head()"
   ]
  },
  {
   "cell_type": "code",
   "execution_count": 33,
   "id": "1c8ab7a0",
   "metadata": {
    "execution": {
     "iopub.execute_input": "2022-05-07T09:14:14.155163Z",
     "iopub.status.busy": "2022-05-07T09:14:14.155163Z",
     "iopub.status.idle": "2022-05-07T09:14:14.164139Z",
     "shell.execute_reply": "2022-05-07T09:14:14.163143Z"
    }
   },
   "outputs": [],
   "source": [
    "# Add Hour, Minute and Second columns\n",
    "\n",
    "# df03_orders['hour'] = df03_orders['PickingTime'].dt.components['hours']\n",
    "# df03_orders['minute'] = df03_orders['PickingTime'].dt.components['minutes']\n",
    "# df03_orders['second'] = df03_orders['PickingTime'].dt.components['seconds']\n",
    "# df03_orders.head()"
   ]
  },
  {
   "cell_type": "code",
   "execution_count": 34,
   "id": "65c5bae7",
   "metadata": {
    "execution": {
     "iopub.execute_input": "2022-05-07T09:14:14.168125Z",
     "iopub.status.busy": "2022-05-07T09:14:14.168125Z",
     "iopub.status.idle": "2022-05-07T09:14:14.179128Z",
     "shell.execute_reply": "2022-05-07T09:14:14.178368Z"
    }
   },
   "outputs": [],
   "source": [
    "# Set all the Scanned Shipment hour, minute, time to ZERO\n",
    "\n",
    "# df03_orders_modified = df03_orders\n",
    "\n",
    "# df03_orders_modified.loc[df03_orders_modified.Operation == 'Scanned Shipment', 'hour'] = 0.0\n",
    "# df03_orders_modified.loc[df03_orders_modified.Operation == 'Scanned Shipment', 'minute'] = 0.0\n",
    "# df03_orders_modified.loc[df03_orders_modified.Operation == 'Scanned Shipment', 'second'] = 0.0\n",
    "\n",
    "# df03_orders_modified.loc[df03_orders_modified['Operation'] == 'Scanned Shipment'].head()"
   ]
  },
  {
   "cell_type": "code",
   "execution_count": 35,
   "id": "0a32c449",
   "metadata": {
    "execution": {
     "iopub.execute_input": "2022-05-07T09:14:14.182088Z",
     "iopub.status.busy": "2022-05-07T09:14:14.182088Z",
     "iopub.status.idle": "2022-05-07T09:14:14.195430Z",
     "shell.execute_reply": "2022-05-07T09:14:14.194627Z"
    }
   },
   "outputs": [],
   "source": [
    "# df03_orders_modified['Time'] = df03_orders_modified['hour']*60 + df03_orders_modified['minute'] + df03_orders_modified['second']/60\n",
    "# df03_orders_modified.head()"
   ]
  },
  {
   "cell_type": "code",
   "execution_count": 36,
   "id": "47d0ed4a",
   "metadata": {
    "execution": {
     "iopub.execute_input": "2022-05-07T09:14:14.198388Z",
     "iopub.status.busy": "2022-05-07T09:14:14.198388Z",
     "iopub.status.idle": "2022-05-07T09:14:14.211509Z",
     "shell.execute_reply": "2022-05-07T09:14:14.210818Z"
    }
   },
   "outputs": [],
   "source": [
    "# Save in JSON Format for HTML\n",
    "\n",
    "# df03_group = df03_orders_modified.groupby(['Warehouse', 'Project', 'Shipment', 'Operation', 'Date'])[['Time']].sum().sort_values(['Warehouse', 'Project', 'Shipment', 'Date'])\n",
    "# df03_group.to_json('data/performance.json', orient='table')\n",
    "# df03_group.head(20)"
   ]
  },
  {
   "cell_type": "code",
   "execution_count": 37,
   "id": "8965cf87",
   "metadata": {
    "execution": {
     "iopub.execute_input": "2022-05-07T09:14:14.214531Z",
     "iopub.status.busy": "2022-05-07T09:14:14.214531Z",
     "iopub.status.idle": "2022-05-07T09:14:14.227353Z",
     "shell.execute_reply": "2022-05-07T09:14:14.226581Z"
    }
   },
   "outputs": [],
   "source": [
    "# Remove Operation 'Scanned Shipment'\n",
    "\n",
    "# df03_excluding_Scanned = df03_orders_modified.loc[df03_orders_modified['Operation'] != 'Scanned Shipment']\n",
    "# df03_excluding_Scanned.head()"
   ]
  },
  {
   "cell_type": "code",
   "execution_count": 38,
   "id": "639c4e63",
   "metadata": {
    "execution": {
     "iopub.execute_input": "2022-05-07T09:14:14.230307Z",
     "iopub.status.busy": "2022-05-07T09:14:14.230307Z",
     "iopub.status.idle": "2022-05-07T09:14:14.242877Z",
     "shell.execute_reply": "2022-05-07T09:14:14.241869Z"
    }
   },
   "outputs": [],
   "source": [
    "# Save in CSV Format for Tableau\n",
    "\n",
    "# df03_group2 = df03_excluding_Scanned.groupby(['Warehouse', 'Project', 'Employee', 'Shipment', 'Operation', 'Date'])[['Time']].sum().sort_values(['Warehouse', 'Project', 'Employee', 'Shipment', 'Date'])\n",
    "# df03_group2.to_csv('data/performance.csv')\n",
    "# df03_group2.head(20)"
   ]
  },
  {
   "cell_type": "code",
   "execution_count": 39,
   "id": "72973a53",
   "metadata": {
    "execution": {
     "iopub.execute_input": "2022-05-07T09:14:14.245899Z",
     "iopub.status.busy": "2022-05-07T09:14:14.245899Z",
     "iopub.status.idle": "2022-05-07T09:14:14.257868Z",
     "shell.execute_reply": "2022-05-07T09:14:14.257868Z"
    }
   },
   "outputs": [],
   "source": [
    "# Close connection\n",
    "\n",
    "# cnxn.close()"
   ]
  },
  {
   "cell_type": "code",
   "execution_count": null,
   "id": "61b643e2",
   "metadata": {},
   "outputs": [],
   "source": []
  }
 ],
 "metadata": {
  "kernelspec": {
   "display_name": "PythonData",
   "language": "python",
   "name": "pythondata"
  },
  "language_info": {
   "codemirror_mode": {
    "name": "ipython",
    "version": 3
   },
   "file_extension": ".py",
   "mimetype": "text/x-python",
   "name": "python",
   "nbconvert_exporter": "python",
   "pygments_lexer": "ipython3",
   "version": "3.7.11"
  }
 },
 "nbformat": 4,
 "nbformat_minor": 5
}
