{
 "cells": [
  {
   "cell_type": "code",
   "execution_count": 1,
   "id": "631cdeb5",
   "metadata": {
    "execution": {
     "iopub.execute_input": "2022-05-07T23:56:17.141583Z",
     "iopub.status.busy": "2022-05-07T23:56:17.140588Z",
     "iopub.status.idle": "2022-05-07T23:56:18.306321Z",
     "shell.execute_reply": "2022-05-07T23:56:18.306321Z"
    }
   },
   "outputs": [],
   "source": [
    "import pyodbc\n",
    "import pandas as pd\n",
    "import numpy as np\n",
    "\n",
    "import matplotlib.pyplot as plt\n",
    "from matplotlib import style\n",
    "style.use('fivethirtyeight')"
   ]
  },
  {
   "cell_type": "markdown",
   "id": "e452ad18",
   "metadata": {},
   "source": [
    "# QUERY 01: Operations"
   ]
  },
  {
   "cell_type": "code",
   "execution_count": 2,
   "id": "cfa380f7",
   "metadata": {
    "execution": {
     "iopub.execute_input": "2022-05-07T23:56:18.309322Z",
     "iopub.status.busy": "2022-05-07T23:56:18.309322Z",
     "iopub.status.idle": "2022-05-07T23:56:18.386503Z",
     "shell.execute_reply": "2022-05-07T23:56:18.384488Z"
    }
   },
   "outputs": [],
   "source": [
    "# Connect to the Database\n",
    "cnxn = pyodbc.connect(\"Driver={SQL Server Native Client 11.0};\"\n",
    "                        \"Server=wd02;\"\n",
    "                        \"Database=FootPrint;\"\n",
    "                        \"Trusted_Connection=yes;\")"
   ]
  },
  {
   "cell_type": "code",
   "execution_count": 3,
   "id": "a7a26b14",
   "metadata": {
    "execution": {
     "iopub.execute_input": "2022-05-07T23:56:18.395478Z",
     "iopub.status.busy": "2022-05-07T23:56:18.395478Z",
     "iopub.status.idle": "2022-05-07T23:56:19.536075Z",
     "shell.execute_reply": "2022-05-07T23:56:19.533022Z"
    }
   },
   "outputs": [],
   "source": [
    "df = pd.read_sql_query(\"DECLARE @from date, @to date;\\\n",
    "    SELECT\\\n",
    "        @from = getdate()\\\n",
    "        ,@to = dateadd(day, 1, getdate());\\\n",
    "\\\n",
    "SELECT CONVERT(varchar,t.completedDateTime,100) Date, w.name warehouse, p.name project, oc.name operationCode, t.employee\\\n",
    "    FROM datex_footprint.Tasks t\\\n",
    "    JOIN datex_footprint.OperationCodes oc\\\n",
    "        ON oc.id = t.operationCodeId\\\n",
    "    JOIN datex_footprint.Warehouses w\\\n",
    "        ON w.id = t.warehouseId\\\n",
    "    JOIN datex_footprint.Projects p\\\n",
    "        ON p.id = t.projectId\\\n",
    "    WHERE t.completedDateTime >= @from AND t.completedDateTime < @to AND (t.employee != 'FootPrintService') AND (t.employee != 'Foot Print Service') and t.statusId = 2\", cnxn)"
   ]
  },
  {
   "cell_type": "code",
   "execution_count": 4,
   "id": "c735920a",
   "metadata": {
    "execution": {
     "iopub.execute_input": "2022-05-07T23:56:19.545066Z",
     "iopub.status.busy": "2022-05-07T23:56:19.545066Z",
     "iopub.status.idle": "2022-05-07T23:56:19.599863Z",
     "shell.execute_reply": "2022-05-07T23:56:19.597871Z"
    }
   },
   "outputs": [
    {
     "data": {
      "text/html": [
       "<div>\n",
       "<style scoped>\n",
       "    .dataframe tbody tr th:only-of-type {\n",
       "        vertical-align: middle;\n",
       "    }\n",
       "\n",
       "    .dataframe tbody tr th {\n",
       "        vertical-align: top;\n",
       "    }\n",
       "\n",
       "    .dataframe thead th {\n",
       "        text-align: right;\n",
       "    }\n",
       "</style>\n",
       "<table border=\"1\" class=\"dataframe\">\n",
       "  <thead>\n",
       "    <tr style=\"text-align: right;\">\n",
       "      <th></th>\n",
       "      <th>Date</th>\n",
       "      <th>warehouse</th>\n",
       "      <th>project</th>\n",
       "      <th>operationCode</th>\n",
       "      <th>employee</th>\n",
       "      <th>Hour</th>\n",
       "    </tr>\n",
       "  </thead>\n",
       "  <tbody>\n",
       "    <tr>\n",
       "      <th>0</th>\n",
       "      <td>May  7 2022  7:10AM</td>\n",
       "      <td>20</td>\n",
       "      <td>Else Nutrition</td>\n",
       "      <td>Scanned Shipment</td>\n",
       "      <td>Ernest Ferguson</td>\n",
       "      <td>7</td>\n",
       "    </tr>\n",
       "    <tr>\n",
       "      <th>1</th>\n",
       "      <td>May  7 2022  6:44AM</td>\n",
       "      <td>20</td>\n",
       "      <td>Andelyn Biosciences, Inc.</td>\n",
       "      <td>Scanned Shipment</td>\n",
       "      <td>Ernest Ferguson</td>\n",
       "      <td>6</td>\n",
       "    </tr>\n",
       "    <tr>\n",
       "      <th>2</th>\n",
       "      <td>May  7 2022  6:53AM</td>\n",
       "      <td>20</td>\n",
       "      <td>Andelyn Biosciences, Inc.</td>\n",
       "      <td>Picking Completed</td>\n",
       "      <td>Ernest Ferguson</td>\n",
       "      <td>6</td>\n",
       "    </tr>\n",
       "    <tr>\n",
       "      <th>3</th>\n",
       "      <td>May  7 2022  6:50AM</td>\n",
       "      <td>20</td>\n",
       "      <td>Andelyn Biosciences, Inc.</td>\n",
       "      <td>Picking</td>\n",
       "      <td>Ernest Ferguson</td>\n",
       "      <td>6</td>\n",
       "    </tr>\n",
       "    <tr>\n",
       "      <th>4</th>\n",
       "      <td>May  7 2022  6:53AM</td>\n",
       "      <td>20</td>\n",
       "      <td>Andelyn Biosciences, Inc.</td>\n",
       "      <td>Picking</td>\n",
       "      <td>Ernest Ferguson</td>\n",
       "      <td>6</td>\n",
       "    </tr>\n",
       "  </tbody>\n",
       "</table>\n",
       "</div>"
      ],
      "text/plain": [
       "                  Date warehouse                    project  \\\n",
       "0  May  7 2022  7:10AM        20             Else Nutrition   \n",
       "1  May  7 2022  6:44AM        20  Andelyn Biosciences, Inc.   \n",
       "2  May  7 2022  6:53AM        20  Andelyn Biosciences, Inc.   \n",
       "3  May  7 2022  6:50AM        20  Andelyn Biosciences, Inc.   \n",
       "4  May  7 2022  6:53AM        20  Andelyn Biosciences, Inc.   \n",
       "\n",
       "       operationCode         employee  Hour  \n",
       "0   Scanned Shipment  Ernest Ferguson     7  \n",
       "1   Scanned Shipment  Ernest Ferguson     6  \n",
       "2  Picking Completed  Ernest Ferguson     6  \n",
       "3            Picking  Ernest Ferguson     6  \n",
       "4            Picking  Ernest Ferguson     6  "
      ]
     },
     "execution_count": 4,
     "metadata": {},
     "output_type": "execute_result"
    }
   ],
   "source": [
    "# Adding Hours\n",
    "df['Hour'] = pd.to_datetime(df['Date']).dt.hour\n",
    "df.head()"
   ]
  },
  {
   "cell_type": "markdown",
   "id": "c682f27b",
   "metadata": {},
   "source": [
    "# PICKING"
   ]
  },
  {
   "cell_type": "code",
   "execution_count": 5,
   "id": "70bb160d",
   "metadata": {
    "execution": {
     "iopub.execute_input": "2022-05-07T23:56:19.609836Z",
     "iopub.status.busy": "2022-05-07T23:56:19.608839Z",
     "iopub.status.idle": "2022-05-07T23:56:19.630782Z",
     "shell.execute_reply": "2022-05-07T23:56:19.628792Z"
    }
   },
   "outputs": [],
   "source": [
    "# Filtered by Picking\n",
    "df_picking = df[df['operationCode'] == 'Picking']"
   ]
  },
  {
   "cell_type": "markdown",
   "id": "2066214c",
   "metadata": {},
   "source": [
    "### Picking By Warehouse Function"
   ]
  },
  {
   "cell_type": "code",
   "execution_count": 6,
   "id": "8d7c4806",
   "metadata": {
    "execution": {
     "iopub.execute_input": "2022-05-07T23:56:19.640756Z",
     "iopub.status.busy": "2022-05-07T23:56:19.640756Z",
     "iopub.status.idle": "2022-05-07T23:56:19.662739Z",
     "shell.execute_reply": "2022-05-07T23:56:19.660700Z"
    }
   },
   "outputs": [],
   "source": [
    "# Picking Function\n",
    "def picking_by_warehouse (warehouse):\n",
    "    # Filter by warehouse\n",
    "    df_w = df_picking[df_picking['warehouse'] == warehouse]\n",
    "    \n",
    "    # Grouped by Employee and Hour\n",
    "    df_w_group = df_w.groupby(['employee', 'Hour']).count()[['operationCode']]\n",
    "    df_w_group.reset_index(inplace=True)\n",
    "    \n",
    "    # Pivot\n",
    "    df_w_pivot = df_w_group.pivot(index='employee', columns='Hour', values='operationCode')\n",
    "    df_w_pivot = df_w_pivot.fillna(0)\n",
    "    df_w_pivot = df_w_pivot.rename_axis(None, axis=1)\n",
    "    \n",
    "    # Save into JSON\n",
    "    pickers_df = df_w_pivot.T\n",
    "    file_name = f'data/pickers_w{warehouse}.json'\n",
    "    pickers_df.to_json(file_name)"
   ]
  },
  {
   "cell_type": "code",
   "execution_count": 7,
   "id": "e1257b5b",
   "metadata": {
    "execution": {
     "iopub.execute_input": "2022-05-07T23:56:19.672704Z",
     "iopub.status.busy": "2022-05-07T23:56:19.671708Z",
     "iopub.status.idle": "2022-05-07T23:56:19.709614Z",
     "shell.execute_reply": "2022-05-07T23:56:19.707631Z"
    }
   },
   "outputs": [],
   "source": [
    "# Save warehouse data into JSON files\n",
    "\n",
    "picking_by_warehouse('10')\n",
    "#picking_by_warehouse('12')\n",
    "#picking_by_warehouse('15')\n",
    "#picking_by_warehouse('16')\n",
    "#picking_by_warehouse('18')\n",
    "#picking_by_warehouse('19')\n",
    "#picking_by_warehouse('20')\n",
    "#picking_by_warehouse('21')\n",
    "#picking_by_warehouse('22')"
   ]
  },
  {
   "cell_type": "code",
   "execution_count": 8,
   "id": "388936da",
   "metadata": {
    "execution": {
     "iopub.execute_input": "2022-05-07T23:56:19.718587Z",
     "iopub.status.busy": "2022-05-07T23:56:19.718587Z",
     "iopub.status.idle": "2022-05-07T23:56:19.741526Z",
     "shell.execute_reply": "2022-05-07T23:56:19.739541Z"
    }
   },
   "outputs": [],
   "source": [
    "# Close connection\n",
    "cnxn.close()"
   ]
  },
  {
   "cell_type": "markdown",
   "id": "9dc39cfe",
   "metadata": {},
   "source": [
    "# QUERY: PACKING"
   ]
  },
  {
   "cell_type": "code",
   "execution_count": 9,
   "id": "d2268aac",
   "metadata": {
    "execution": {
     "iopub.execute_input": "2022-05-07T23:56:19.751493Z",
     "iopub.status.busy": "2022-05-07T23:56:19.750499Z",
     "iopub.status.idle": "2022-05-07T23:56:19.771446Z",
     "shell.execute_reply": "2022-05-07T23:56:19.769452Z"
    }
   },
   "outputs": [],
   "source": [
    "# Connect to the Database\n",
    "cnxn = pyodbc.connect(\"Driver={SQL Server Native Client 11.0};\"\n",
    "                        \"Server=wd02;\"\n",
    "                        \"Database=FootPrint;\"\n",
    "                        \"Trusted_Connection=yes;\")"
   ]
  },
  {
   "cell_type": "code",
   "execution_count": 10,
   "id": "cc6bd3e4",
   "metadata": {
    "execution": {
     "iopub.execute_input": "2022-05-07T23:56:19.779417Z",
     "iopub.status.busy": "2022-05-07T23:56:19.779417Z",
     "iopub.status.idle": "2022-05-07T23:56:19.801355Z",
     "shell.execute_reply": "2022-05-07T23:56:19.801355Z"
    }
   },
   "outputs": [],
   "source": [
    "df_packing = pd.read_sql_query(\"DECLARE @from date, @to date;\\\n",
    "    SELECT @from = getdate() ,@to = dateadd(day, 1, getdate());\\\n",
    "\\\n",
    "    select t.completedDateTime Date, w.name Warehouse, p.name Project,\\\n",
    "        oc.name OperationCode, t.employee, s.lookupCode Shipment, lp.lookupCode LP\\\n",
    "    from datex_footprint.Tasks t\\\n",
    "        join datex_footprint.Shipments s\\\n",
    "            on s.id = t.shipmentId\\\n",
    "        join datex_footprint.LicensePlates lp\\\n",
    "            on lp.shipmentId = s.id\\\n",
    "        join datex_footprint.Warehouses w\\\n",
    "            on w.id = t.warehouseId\\\n",
    "        join datex_footprint.Projects p\\\n",
    "            on p.id = t.projectId\\\n",
    "        join datex_footprint.OperationCodes oc\\\n",
    "            on oc.id = t.operationCodeId\\\n",
    "        where t.completedDateTime >= @from AND t.completedDateTime < @to AND (t.employee != 'FootPrintService') AND (t.employee != 'Foot Print Service') and t.statusId = 2 and t.operationCodeId = 2067\", cnxn)"
   ]
  },
  {
   "cell_type": "code",
   "execution_count": 11,
   "id": "5b290d8b",
   "metadata": {
    "execution": {
     "iopub.execute_input": "2022-05-07T23:56:19.805344Z",
     "iopub.status.busy": "2022-05-07T23:56:19.805344Z",
     "iopub.status.idle": "2022-05-07T23:56:19.817280Z",
     "shell.execute_reply": "2022-05-07T23:56:19.817280Z"
    }
   },
   "outputs": [
    {
     "data": {
      "text/html": [
       "<div>\n",
       "<style scoped>\n",
       "    .dataframe tbody tr th:only-of-type {\n",
       "        vertical-align: middle;\n",
       "    }\n",
       "\n",
       "    .dataframe tbody tr th {\n",
       "        vertical-align: top;\n",
       "    }\n",
       "\n",
       "    .dataframe thead th {\n",
       "        text-align: right;\n",
       "    }\n",
       "</style>\n",
       "<table border=\"1\" class=\"dataframe\">\n",
       "  <thead>\n",
       "    <tr style=\"text-align: right;\">\n",
       "      <th></th>\n",
       "      <th>Date</th>\n",
       "      <th>Warehouse</th>\n",
       "      <th>Project</th>\n",
       "      <th>OperationCode</th>\n",
       "      <th>employee</th>\n",
       "      <th>Shipment</th>\n",
       "      <th>LP</th>\n",
       "      <th>Hour</th>\n",
       "    </tr>\n",
       "  </thead>\n",
       "  <tbody>\n",
       "  </tbody>\n",
       "</table>\n",
       "</div>"
      ],
      "text/plain": [
       "Empty DataFrame\n",
       "Columns: [Date, Warehouse, Project, OperationCode, employee, Shipment, LP, Hour]\n",
       "Index: []"
      ]
     },
     "execution_count": 11,
     "metadata": {},
     "output_type": "execute_result"
    }
   ],
   "source": [
    "# Adding Hours\n",
    "df_packing['Hour'] = pd.to_datetime(df_packing['Date']).dt.hour\n",
    "df_packing.head()"
   ]
  },
  {
   "cell_type": "code",
   "execution_count": 12,
   "id": "d2d05e74",
   "metadata": {
    "execution": {
     "iopub.execute_input": "2022-05-07T23:56:19.829278Z",
     "iopub.status.busy": "2022-05-07T23:56:19.829278Z",
     "iopub.status.idle": "2022-05-07T23:56:19.848555Z",
     "shell.execute_reply": "2022-05-07T23:56:19.848555Z"
    }
   },
   "outputs": [],
   "source": [
    "# Packing Function\n",
    "def packing_by_warehouse (warehouse):\n",
    "    # Filter by warehouse\n",
    "    df_p = df_packing[df_packing['Warehouse'] == warehouse]\n",
    "    \n",
    "    # Grouped by Employee and Hour\n",
    "    df_p_group = df_p.groupby(['employee', 'Hour']).count()[['OperationCode']]\n",
    "    df_p_group.reset_index(inplace=True)\n",
    "    \n",
    "    # Pivot\n",
    "    df_p_pivot = df_p_group.pivot(index='employee', columns='Hour', values='OperationCode')\n",
    "    df_p_pivot = df_p_pivot.fillna(0)\n",
    "    df_p_pivot = df_p_pivot.rename_axis(None, axis=1)\n",
    "    \n",
    "    # Save into JSON\n",
    "    packers_df = df_p_pivot.T\n",
    "    file_name = f'data/packers_w{warehouse}.json'\n",
    "    packers_df.to_json(file_name)"
   ]
  },
  {
   "cell_type": "code",
   "execution_count": 13,
   "id": "2f51190a",
   "metadata": {
    "execution": {
     "iopub.execute_input": "2022-05-07T23:56:19.851546Z",
     "iopub.status.busy": "2022-05-07T23:56:19.851546Z",
     "iopub.status.idle": "2022-05-07T23:56:19.865328Z",
     "shell.execute_reply": "2022-05-07T23:56:19.864541Z"
    }
   },
   "outputs": [],
   "source": [
    "# Save warehouse data into JSON files\n",
    "\n",
    "packing_by_warehouse('10')"
   ]
  },
  {
   "cell_type": "code",
   "execution_count": 14,
   "id": "ab7aa825",
   "metadata": {
    "execution": {
     "iopub.execute_input": "2022-05-07T23:56:19.867357Z",
     "iopub.status.busy": "2022-05-07T23:56:19.867357Z",
     "iopub.status.idle": "2022-05-07T23:56:19.880575Z",
     "shell.execute_reply": "2022-05-07T23:56:19.879846Z"
    }
   },
   "outputs": [],
   "source": [
    "# Close connection\n",
    "cnxn.close()"
   ]
  },
  {
   "cell_type": "code",
   "execution_count": null,
   "id": "b47fff9f",
   "metadata": {},
   "outputs": [],
   "source": []
  },
  {
   "cell_type": "code",
   "execution_count": null,
   "id": "a34045bd",
   "metadata": {},
   "outputs": [],
   "source": []
  },
  {
   "cell_type": "code",
   "execution_count": null,
   "id": "4d84963a",
   "metadata": {},
   "outputs": [],
   "source": []
  },
  {
   "cell_type": "code",
   "execution_count": null,
   "id": "e1a2dff7",
   "metadata": {},
   "outputs": [],
   "source": []
  },
  {
   "cell_type": "code",
   "execution_count": null,
   "id": "c928dabf",
   "metadata": {},
   "outputs": [],
   "source": []
  },
  {
   "cell_type": "code",
   "execution_count": null,
   "id": "69ef2b6e",
   "metadata": {},
   "outputs": [],
   "source": []
  },
  {
   "cell_type": "markdown",
   "id": "535778bf",
   "metadata": {},
   "source": [
    "# QUERY 02: Open Outbounds WAREHOUSE 10"
   ]
  },
  {
   "cell_type": "code",
   "execution_count": 15,
   "id": "2c1090ec",
   "metadata": {
    "execution": {
     "iopub.execute_input": "2022-05-07T23:56:19.883567Z",
     "iopub.status.busy": "2022-05-07T23:56:19.883567Z",
     "iopub.status.idle": "2022-05-07T23:56:19.895742Z",
     "shell.execute_reply": "2022-05-07T23:56:19.894917Z"
    }
   },
   "outputs": [],
   "source": [
    "# Connect to the Database\n",
    "\n",
    "# cnxn = pyodbc.connect(\"Driver={SQL Server Native Client 11.0};\"\n",
    "#                         \"Server=wd02;\"\n",
    "#                         \"Database=FootPrint;\"\n",
    "#                         \"Trusted_Connection=yes;\")"
   ]
  },
  {
   "cell_type": "code",
   "execution_count": 16,
   "id": "50ba15dd",
   "metadata": {
    "execution": {
     "iopub.execute_input": "2022-05-07T23:56:19.898728Z",
     "iopub.status.busy": "2022-05-07T23:56:19.898728Z",
     "iopub.status.idle": "2022-05-07T23:56:19.911429Z",
     "shell.execute_reply": "2022-05-07T23:56:19.910355Z"
    }
   },
   "outputs": [],
   "source": [
    "# df_02 = pd.read_sql_query(\"SELECT DISTINCT w.name warehouse, p.name project, s.lookupCode shipment_number, s.createdSysDateTime\\\n",
    "#     FROM datex_footprint.shipments s\\\n",
    "#     LEFT JOIN datex_footprint.ShipmentOrderLookup sol\\\n",
    "#         on sol.shipmentId = s.id\\\n",
    "#     LEFT JOIN datex_footprint.orders o\\\n",
    "#         on o.id = sol.orderId\\\n",
    "#     LEFT JOIN datex_footprint.Projects p\\\n",
    "#         on p.id = o.projectId\\\n",
    "#     LEFT JOIN datex_footprint.warehouses w\\\n",
    "#         on w.id = isnull(s.actualWarehouseId, s.expectedWarehouseId)\\\n",
    "#     WHERE s.statusId in (1, 2, 4) and s.typeId = 2\\\n",
    "#     ORDER BY createdSysDateTime\", cnxn)"
   ]
  },
  {
   "cell_type": "code",
   "execution_count": 17,
   "id": "4ead82a2",
   "metadata": {
    "execution": {
     "iopub.execute_input": "2022-05-07T23:56:19.915423Z",
     "iopub.status.busy": "2022-05-07T23:56:19.915423Z",
     "iopub.status.idle": "2022-05-07T23:56:19.927548Z",
     "shell.execute_reply": "2022-05-07T23:56:19.925762Z"
    }
   },
   "outputs": [],
   "source": [
    "# df_02.head()"
   ]
  },
  {
   "cell_type": "code",
   "execution_count": 18,
   "id": "2f4d888f",
   "metadata": {
    "execution": {
     "iopub.execute_input": "2022-05-07T23:56:19.934532Z",
     "iopub.status.busy": "2022-05-07T23:56:19.933547Z",
     "iopub.status.idle": "2022-05-07T23:56:19.942474Z",
     "shell.execute_reply": "2022-05-07T23:56:19.940518Z"
    }
   },
   "outputs": [],
   "source": [
    "# df_02['age_order'] = pd.Timestamp.now() - df_02['createdSysDateTime']\n",
    "# df_02.head()"
   ]
  },
  {
   "cell_type": "code",
   "execution_count": 19,
   "id": "8b695887",
   "metadata": {
    "execution": {
     "iopub.execute_input": "2022-05-07T23:56:19.949517Z",
     "iopub.status.busy": "2022-05-07T23:56:19.949517Z",
     "iopub.status.idle": "2022-05-07T23:56:19.958441Z",
     "shell.execute_reply": "2022-05-07T23:56:19.956479Z"
    }
   },
   "outputs": [],
   "source": [
    "# df_02['age_order_days'] = df_02['age_order'].dt.components['days']\n",
    "# df_02['age_order_hours'] = df_02['age_order'].dt.components['hours']\n",
    "# df_02.head()"
   ]
  },
  {
   "cell_type": "code",
   "execution_count": 20,
   "id": "b21efff0",
   "metadata": {
    "execution": {
     "iopub.execute_input": "2022-05-07T23:56:19.966465Z",
     "iopub.status.busy": "2022-05-07T23:56:19.965416Z",
     "iopub.status.idle": "2022-05-07T23:56:19.974399Z",
     "shell.execute_reply": "2022-05-07T23:56:19.972394Z"
    }
   },
   "outputs": [],
   "source": [
    "# Open Orders less than 24 hours\n",
    "\n",
    "# df_02 = df_02.loc[(df_02['age_order_days'] == 0) & (df_02['warehouse'] == '10')]\n",
    "# df_02.head()"
   ]
  },
  {
   "cell_type": "code",
   "execution_count": 21,
   "id": "1e73132e",
   "metadata": {
    "execution": {
     "iopub.execute_input": "2022-05-07T23:56:19.982413Z",
     "iopub.status.busy": "2022-05-07T23:56:19.981412Z",
     "iopub.status.idle": "2022-05-07T23:56:20.005211Z",
     "shell.execute_reply": "2022-05-07T23:56:20.003262Z"
    }
   },
   "outputs": [],
   "source": [
    "# Bins per hour\n",
    "\n",
    "# bins =[-1,4,8,12,16,24]\n",
    "# bin_names = ['4 Hours', '8 Hours', '12 Hours', '16 Hours', '24 Hours']\n",
    "\n",
    "# df_02['age_group'] = pd.cut(df_02['age_order_hours'], bins, labels=bin_names)"
   ]
  },
  {
   "cell_type": "code",
   "execution_count": 22,
   "id": "50b37145",
   "metadata": {
    "execution": {
     "iopub.execute_input": "2022-05-07T23:56:20.013190Z",
     "iopub.status.busy": "2022-05-07T23:56:20.013190Z",
     "iopub.status.idle": "2022-05-07T23:56:20.021174Z",
     "shell.execute_reply": "2022-05-07T23:56:20.019182Z"
    }
   },
   "outputs": [],
   "source": [
    "# df_02_grouped = df_02.groupby(['age_group'])[['project']].count()"
   ]
  },
  {
   "cell_type": "code",
   "execution_count": 23,
   "id": "ad0ad7b8",
   "metadata": {
    "execution": {
     "iopub.execute_input": "2022-05-07T23:56:20.029148Z",
     "iopub.status.busy": "2022-05-07T23:56:20.029148Z",
     "iopub.status.idle": "2022-05-07T23:56:20.037127Z",
     "shell.execute_reply": "2022-05-07T23:56:20.035171Z"
    }
   },
   "outputs": [],
   "source": [
    "# df_02_grouped = df_02_grouped.rename(columns={'project': 'orders'})"
   ]
  },
  {
   "cell_type": "markdown",
   "id": "ae473cac",
   "metadata": {},
   "source": [
    "### Save in JSON File"
   ]
  },
  {
   "cell_type": "code",
   "execution_count": 24,
   "id": "2d6c8932",
   "metadata": {
    "execution": {
     "iopub.execute_input": "2022-05-07T23:56:20.046139Z",
     "iopub.status.busy": "2022-05-07T23:56:20.045142Z",
     "iopub.status.idle": "2022-05-07T23:56:20.067397Z",
     "shell.execute_reply": "2022-05-07T23:56:20.065539Z"
    }
   },
   "outputs": [],
   "source": [
    "# open_outbounds = df_02_grouped\n",
    "# open_outbounds.to_json('data/open_outbounds.json')\n",
    "# open_outbounds"
   ]
  },
  {
   "cell_type": "code",
   "execution_count": 25,
   "id": "9f6bab4b",
   "metadata": {
    "execution": {
     "iopub.execute_input": "2022-05-07T23:56:20.075372Z",
     "iopub.status.busy": "2022-05-07T23:56:20.074374Z",
     "iopub.status.idle": "2022-05-07T23:56:20.083303Z",
     "shell.execute_reply": "2022-05-07T23:56:20.081346Z"
    }
   },
   "outputs": [],
   "source": [
    "# df_02_grouped = df_02_grouped.iloc[::-1]\n",
    "# df_02_grouped.plot.barh()"
   ]
  },
  {
   "cell_type": "code",
   "execution_count": 26,
   "id": "b030f66f",
   "metadata": {
    "execution": {
     "iopub.execute_input": "2022-05-07T23:56:20.091319Z",
     "iopub.status.busy": "2022-05-07T23:56:20.090322Z",
     "iopub.status.idle": "2022-05-07T23:56:20.099299Z",
     "shell.execute_reply": "2022-05-07T23:56:20.097305Z"
    }
   },
   "outputs": [],
   "source": [
    "# Close connection\n",
    "\n",
    "# cnxn.close()"
   ]
  },
  {
   "cell_type": "markdown",
   "id": "cda41e6f",
   "metadata": {},
   "source": []
  },
  {
   "cell_type": "markdown",
   "id": "9bf6f1bc",
   "metadata": {},
   "source": [
    "# QUERY 3: Picking Performance (Orders and Waves)"
   ]
  },
  {
   "cell_type": "code",
   "execution_count": 27,
   "id": "887d613e",
   "metadata": {
    "execution": {
     "iopub.execute_input": "2022-05-07T23:56:20.108237Z",
     "iopub.status.busy": "2022-05-07T23:56:20.107239Z",
     "iopub.status.idle": "2022-05-07T23:56:20.130693Z",
     "shell.execute_reply": "2022-05-07T23:56:20.128677Z"
    }
   },
   "outputs": [],
   "source": [
    "# Connect to the Database\n",
    "\n",
    "# cnxn = pyodbc.connect(\"Driver={SQL Server Native Client 11.0};\"\n",
    "#                         \"Server=wd02;\"\n",
    "#                         \"Database=FootPrint;\"\n",
    "#                         \"Trusted_Connection=yes;\")"
   ]
  },
  {
   "cell_type": "code",
   "execution_count": 28,
   "id": "641caea5",
   "metadata": {
    "execution": {
     "iopub.execute_input": "2022-05-07T23:56:20.138722Z",
     "iopub.status.busy": "2022-05-07T23:56:20.137679Z",
     "iopub.status.idle": "2022-05-07T23:56:20.160916Z",
     "shell.execute_reply": "2022-05-07T23:56:20.159103Z"
    }
   },
   "outputs": [],
   "source": [
    "# df03 = pd.read_sql_query(\"DECLARE @from date, @to date;\\\n",
    "#                           SELECT @from = getdate(), @to = dateadd(day, 1, getdate());\\\n",
    "#     SELECT t.completedDateTime Date, oc.name Operation, w.name Warehouse,\\\n",
    "#            p.name Project, m.lookupCode Material, employee Employee, s.lookupCode Shipment, isnull(s.waveId, ps.waveId) Wave,\\\n",
    "#            ordersPerWave.shipmentsCount, lc.name Location\\\n",
    "#     FROM datex_footprint.Tasks t\\\n",
    "#         join datex_footprint.OperationCodes oc\\\n",
    "#             on oc.id = t.operationCodeId\\\n",
    "#         left join datex_footprint.Warehouses w\\\n",
    "#             on w.id = t.warehouseId\\\n",
    "#         left join datex_footprint.Projects p\\\n",
    "#             on p.id = t.projectId\\\n",
    "#         left join datex_footprint.Materials m\\\n",
    "#             on m.id = t.materialId\\\n",
    "#         left join datex_footprint.Shipments s\\\n",
    "#             on s.id = t.shipmentId\\\n",
    "#         left join datex_footprint.PickSlips ps\\\n",
    "#             on ps.id = t.pickSlipId\\\n",
    "#         left join datex_footprint.LocationContainers lc\\\n",
    "#             on lc.id = t.actualSourceLocationId\\\n",
    "#         outer apply (\\\n",
    "#             select\\\n",
    "#                 count(distinct tt.shipmentId) shipmentsCount\\\n",
    "#                 from datex_footprint.waves ww\\\n",
    "#                     inner join datex_footprint.PickSlips ppss\\\n",
    "#                     inner join datex_footprint.tasks tt\\\n",
    "#                         on tt.operationCodeId = 8 and tt.pickSlipId = ppss.id\\\n",
    "#                         on ppss.waveId = ww.id\\\n",
    "#                 where ww.id = isnull(s.waveId, ps.waveId)) ordersPerWave\\\n",
    "#     where t.completedDateTime >= @from and t.completedDateTime < @to and t.statusId = 2\\\n",
    "#     and t.operationCodeId in (8, 39, 2064, 2065, 2066) and t.employee != 'Foot Print Service'\\\n",
    "#     order by s.lookupCode, t.completedDateTime\", cnxn)"
   ]
  },
  {
   "cell_type": "code",
   "execution_count": 29,
   "id": "a4cb2a77",
   "metadata": {
    "execution": {
     "iopub.execute_input": "2022-05-07T23:56:20.168941Z",
     "iopub.status.busy": "2022-05-07T23:56:20.168941Z",
     "iopub.status.idle": "2022-05-07T23:56:20.176878Z",
     "shell.execute_reply": "2022-05-07T23:56:20.174923Z"
    }
   },
   "outputs": [],
   "source": [
    "# df03.tail(3)"
   ]
  },
  {
   "cell_type": "code",
   "execution_count": 30,
   "id": "b2d6e6c7",
   "metadata": {
    "execution": {
     "iopub.execute_input": "2022-05-07T23:56:20.183891Z",
     "iopub.status.busy": "2022-05-07T23:56:20.183891Z",
     "iopub.status.idle": "2022-05-07T23:56:20.192868Z",
     "shell.execute_reply": "2022-05-07T23:56:20.190841Z"
    }
   },
   "outputs": [],
   "source": [
    "# Order Columns\n",
    "\n",
    "# df03 = df03[['Warehouse', 'Project', 'Wave', 'Shipment', 'Date', 'Operation', 'Employee',\n",
    "#              'Location', 'shipmentsCount', 'Material']]"
   ]
  },
  {
   "cell_type": "markdown",
   "id": "782d10c7",
   "metadata": {},
   "source": [
    "### Filter by Shipments"
   ]
  },
  {
   "cell_type": "code",
   "execution_count": 31,
   "id": "deb919ce",
   "metadata": {
    "execution": {
     "iopub.execute_input": "2022-05-07T23:56:20.200845Z",
     "iopub.status.busy": "2022-05-07T23:56:20.199848Z",
     "iopub.status.idle": "2022-05-07T23:56:20.208791Z",
     "shell.execute_reply": "2022-05-07T23:56:20.206798Z"
    }
   },
   "outputs": [],
   "source": [
    "# Filter by Orders only\n",
    "\n",
    "# df03_orders = df03.loc[(df03['Operation']=='Picking') |\n",
    "#                        (df03['Operation']=='Scanned Shipment') |\n",
    "#                        (df03['Operation']=='Picking Completed')]\n",
    "\n",
    "# df03_orders = df03_orders[['Warehouse', 'Project', 'Shipment', 'Date', 'Operation', 'Employee', 'Location']]\n",
    "\n",
    "# df03_orders.head()"
   ]
  },
  {
   "cell_type": "code",
   "execution_count": 32,
   "id": "379538a4",
   "metadata": {
    "execution": {
     "iopub.execute_input": "2022-05-07T23:56:20.217763Z",
     "iopub.status.busy": "2022-05-07T23:56:20.217763Z",
     "iopub.status.idle": "2022-05-07T23:56:20.239887Z",
     "shell.execute_reply": "2022-05-07T23:56:20.238061Z"
    }
   },
   "outputs": [],
   "source": [
    "# Create a new column with the time difference between rows\n",
    "\n",
    "# df03_orders['PickingTime'] = df03_orders['Date'].diff()\n",
    "# df03_orders.head()"
   ]
  },
  {
   "cell_type": "code",
   "execution_count": 33,
   "id": "1c8ab7a0",
   "metadata": {
    "execution": {
     "iopub.execute_input": "2022-05-07T23:56:20.247856Z",
     "iopub.status.busy": "2022-05-07T23:56:20.247856Z",
     "iopub.status.idle": "2022-05-07T23:56:20.271420Z",
     "shell.execute_reply": "2022-05-07T23:56:20.269550Z"
    }
   },
   "outputs": [],
   "source": [
    "# Add Hour, Minute and Second columns\n",
    "\n",
    "# df03_orders['hour'] = df03_orders['PickingTime'].dt.components['hours']\n",
    "# df03_orders['minute'] = df03_orders['PickingTime'].dt.components['minutes']\n",
    "# df03_orders['second'] = df03_orders['PickingTime'].dt.components['seconds']\n",
    "# df03_orders.head()"
   ]
  },
  {
   "cell_type": "code",
   "execution_count": 34,
   "id": "65c5bae7",
   "metadata": {
    "execution": {
     "iopub.execute_input": "2022-05-07T23:56:20.279399Z",
     "iopub.status.busy": "2022-05-07T23:56:20.279399Z",
     "iopub.status.idle": "2022-05-07T23:56:20.302572Z",
     "shell.execute_reply": "2022-05-07T23:56:20.300576Z"
    }
   },
   "outputs": [],
   "source": [
    "# Set all the Scanned Shipment hour, minute, time to ZERO\n",
    "\n",
    "# df03_orders_modified = df03_orders\n",
    "\n",
    "# df03_orders_modified.loc[df03_orders_modified.Operation == 'Scanned Shipment', 'hour'] = 0.0\n",
    "# df03_orders_modified.loc[df03_orders_modified.Operation == 'Scanned Shipment', 'minute'] = 0.0\n",
    "# df03_orders_modified.loc[df03_orders_modified.Operation == 'Scanned Shipment', 'second'] = 0.0\n",
    "\n",
    "# df03_orders_modified.loc[df03_orders_modified['Operation'] == 'Scanned Shipment'].head()"
   ]
  },
  {
   "cell_type": "code",
   "execution_count": 35,
   "id": "0a32c449",
   "metadata": {
    "execution": {
     "iopub.execute_input": "2022-05-07T23:56:20.310598Z",
     "iopub.status.busy": "2022-05-07T23:56:20.310598Z",
     "iopub.status.idle": "2022-05-07T23:56:20.318526Z",
     "shell.execute_reply": "2022-05-07T23:56:20.316571Z"
    }
   },
   "outputs": [],
   "source": [
    "# df03_orders_modified['Time'] = df03_orders_modified['hour']*60 + df03_orders_modified['minute'] + df03_orders_modified['second']/60\n",
    "# df03_orders_modified.head()"
   ]
  },
  {
   "cell_type": "code",
   "execution_count": 36,
   "id": "47d0ed4a",
   "metadata": {
    "execution": {
     "iopub.execute_input": "2022-05-07T23:56:20.326505Z",
     "iopub.status.busy": "2022-05-07T23:56:20.325510Z",
     "iopub.status.idle": "2022-05-07T23:56:20.334523Z",
     "shell.execute_reply": "2022-05-07T23:56:20.332540Z"
    }
   },
   "outputs": [],
   "source": [
    "# Save in JSON Format for HTML\n",
    "\n",
    "# df03_group = df03_orders_modified.groupby(['Warehouse', 'Project', 'Shipment', 'Operation', 'Date'])[['Time']].sum().sort_values(['Warehouse', 'Project', 'Shipment', 'Date'])\n",
    "# df03_group.to_json('data/performance.json', orient='table')\n",
    "# df03_group.head(20)"
   ]
  },
  {
   "cell_type": "code",
   "execution_count": 37,
   "id": "8965cf87",
   "metadata": {
    "execution": {
     "iopub.execute_input": "2022-05-07T23:56:20.342509Z",
     "iopub.status.busy": "2022-05-07T23:56:20.341519Z",
     "iopub.status.idle": "2022-05-07T23:56:20.350442Z",
     "shell.execute_reply": "2022-05-07T23:56:20.348485Z"
    }
   },
   "outputs": [],
   "source": [
    "# Remove Operation 'Scanned Shipment'\n",
    "\n",
    "# df03_excluding_Scanned = df03_orders_modified.loc[df03_orders_modified['Operation'] != 'Scanned Shipment']\n",
    "# df03_excluding_Scanned.head()"
   ]
  },
  {
   "cell_type": "code",
   "execution_count": 38,
   "id": "639c4e63",
   "metadata": {
    "execution": {
     "iopub.execute_input": "2022-05-07T23:56:20.358422Z",
     "iopub.status.busy": "2022-05-07T23:56:20.357424Z",
     "iopub.status.idle": "2022-05-07T23:56:20.366404Z",
     "shell.execute_reply": "2022-05-07T23:56:20.364403Z"
    }
   },
   "outputs": [],
   "source": [
    "# Save in CSV Format for Tableau\n",
    "\n",
    "# df03_group2 = df03_excluding_Scanned.groupby(['Warehouse', 'Project', 'Employee', 'Shipment', 'Operation', 'Date'])[['Time']].sum().sort_values(['Warehouse', 'Project', 'Employee', 'Shipment', 'Date'])\n",
    "# df03_group2.to_csv('data/performance.csv')\n",
    "# df03_group2.head(20)"
   ]
  },
  {
   "cell_type": "code",
   "execution_count": 39,
   "id": "72973a53",
   "metadata": {
    "execution": {
     "iopub.execute_input": "2022-05-07T23:56:20.374416Z",
     "iopub.status.busy": "2022-05-07T23:56:20.373419Z",
     "iopub.status.idle": "2022-05-07T23:56:20.396635Z",
     "shell.execute_reply": "2022-05-07T23:56:20.394687Z"
    }
   },
   "outputs": [],
   "source": [
    "# Close connection\n",
    "\n",
    "# cnxn.close()"
   ]
  },
  {
   "cell_type": "code",
   "execution_count": null,
   "id": "61b643e2",
   "metadata": {},
   "outputs": [],
   "source": []
  }
 ],
 "metadata": {
  "kernelspec": {
   "display_name": "PythonData",
   "language": "python",
   "name": "pythondata"
  },
  "language_info": {
   "codemirror_mode": {
    "name": "ipython",
    "version": 3
   },
   "file_extension": ".py",
   "mimetype": "text/x-python",
   "name": "python",
   "nbconvert_exporter": "python",
   "pygments_lexer": "ipython3",
   "version": "3.7.11"
  }
 },
 "nbformat": 4,
 "nbformat_minor": 5
}
