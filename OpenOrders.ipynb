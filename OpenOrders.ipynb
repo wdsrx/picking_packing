{
 "cells": [
  {
   "cell_type": "code",
   "execution_count": 1,
   "id": "631cdeb5",
   "metadata": {
    "execution": {
     "iopub.execute_input": "2022-05-09T20:18:11.801434Z",
     "iopub.status.busy": "2022-05-09T20:18:11.799440Z",
     "iopub.status.idle": "2022-05-09T20:18:12.870882Z",
     "shell.execute_reply": "2022-05-09T20:18:12.869876Z"
    }
   },
   "outputs": [],
   "source": [
    "import pyodbc\n",
    "import pandas as pd\n",
    "import numpy as np\n",
    "\n",
    "import matplotlib.pyplot as plt\n",
    "from matplotlib import style\n",
    "style.use('fivethirtyeight')"
   ]
  },
  {
   "cell_type": "markdown",
   "id": "e452ad18",
   "metadata": {},
   "source": [
    "# QUERY 01: OPERATIONS"
   ]
  },
  {
   "cell_type": "code",
   "execution_count": 2,
   "id": "cfa380f7",
   "metadata": {
    "execution": {
     "iopub.execute_input": "2022-05-09T20:18:12.872903Z",
     "iopub.status.busy": "2022-05-09T20:18:12.872903Z",
     "iopub.status.idle": "2022-05-09T20:18:12.933551Z",
     "shell.execute_reply": "2022-05-09T20:18:12.932544Z"
    }
   },
   "outputs": [],
   "source": [
    "# Connect to the Database\n",
    "cnxn = pyodbc.connect(\"Driver={SQL Server Native Client 11.0};\"\n",
    "                        \"Server=wd02;\"\n",
    "                        \"Database=FootPrint;\"\n",
    "                        \"Trusted_Connection=yes;\")"
   ]
  },
  {
   "cell_type": "code",
   "execution_count": 3,
   "id": "a7a26b14",
   "metadata": {
    "execution": {
     "iopub.execute_input": "2022-05-09T20:18:12.936576Z",
     "iopub.status.busy": "2022-05-09T20:18:12.936576Z",
     "iopub.status.idle": "2022-05-09T20:18:14.143557Z",
     "shell.execute_reply": "2022-05-09T20:18:14.143557Z"
    }
   },
   "outputs": [],
   "source": [
    "df = pd.read_sql_query(\"DECLARE @from date, @to date;\\\n",
    "    SELECT\\\n",
    "        @from = getdate()\\\n",
    "        ,@to = dateadd(day, 1, getdate());\\\n",
    "\\\n",
    "SELECT CONVERT(varchar,t.completedDateTime,100) Date, w.name warehouse, p.name project, oc.name operationCode, t.employee\\\n",
    "    FROM datex_footprint.Tasks t\\\n",
    "    JOIN datex_footprint.OperationCodes oc\\\n",
    "        ON oc.id = t.operationCodeId\\\n",
    "    JOIN datex_footprint.Warehouses w\\\n",
    "        ON w.id = t.warehouseId\\\n",
    "    JOIN datex_footprint.Projects p\\\n",
    "        ON p.id = t.projectId\\\n",
    "    WHERE t.completedDateTime >= @from AND t.completedDateTime < @to AND (t.employee != 'FootPrintService') AND (t.employee != 'Foot Print Service') and t.statusId = 2\", cnxn)"
   ]
  },
  {
   "cell_type": "code",
   "execution_count": 4,
   "id": "c735920a",
   "metadata": {
    "execution": {
     "iopub.execute_input": "2022-05-09T20:18:14.146538Z",
     "iopub.status.busy": "2022-05-09T20:18:14.146538Z",
     "iopub.status.idle": "2022-05-09T20:18:14.222348Z",
     "shell.execute_reply": "2022-05-09T20:18:14.222348Z"
    }
   },
   "outputs": [
    {
     "data": {
      "text/html": [
       "<div>\n",
       "<style scoped>\n",
       "    .dataframe tbody tr th:only-of-type {\n",
       "        vertical-align: middle;\n",
       "    }\n",
       "\n",
       "    .dataframe tbody tr th {\n",
       "        vertical-align: top;\n",
       "    }\n",
       "\n",
       "    .dataframe thead th {\n",
       "        text-align: right;\n",
       "    }\n",
       "</style>\n",
       "<table border=\"1\" class=\"dataframe\">\n",
       "  <thead>\n",
       "    <tr style=\"text-align: right;\">\n",
       "      <th></th>\n",
       "      <th>Date</th>\n",
       "      <th>warehouse</th>\n",
       "      <th>project</th>\n",
       "      <th>operationCode</th>\n",
       "      <th>employee</th>\n",
       "      <th>Hour</th>\n",
       "    </tr>\n",
       "  </thead>\n",
       "  <tbody>\n",
       "    <tr>\n",
       "      <th>0</th>\n",
       "      <td>May  9 2022  1:31PM</td>\n",
       "      <td>20</td>\n",
       "      <td>Alumier Labs Inc.</td>\n",
       "      <td>Receiving</td>\n",
       "      <td>Brittany Owen</td>\n",
       "      <td>13</td>\n",
       "    </tr>\n",
       "    <tr>\n",
       "      <th>1</th>\n",
       "      <td>May  9 2022  1:28PM</td>\n",
       "      <td>20</td>\n",
       "      <td>Alumier Labs Inc.</td>\n",
       "      <td>Receiving</td>\n",
       "      <td>Brittany Owen</td>\n",
       "      <td>13</td>\n",
       "    </tr>\n",
       "    <tr>\n",
       "      <th>2</th>\n",
       "      <td>May  9 2022  1:28PM</td>\n",
       "      <td>20</td>\n",
       "      <td>Alumier Labs Inc.</td>\n",
       "      <td>Receiving</td>\n",
       "      <td>Brittany Owen</td>\n",
       "      <td>13</td>\n",
       "    </tr>\n",
       "    <tr>\n",
       "      <th>3</th>\n",
       "      <td>May  9 2022  1:28PM</td>\n",
       "      <td>20</td>\n",
       "      <td>Alumier Labs Inc.</td>\n",
       "      <td>Receiving</td>\n",
       "      <td>Brittany Owen</td>\n",
       "      <td>13</td>\n",
       "    </tr>\n",
       "    <tr>\n",
       "      <th>4</th>\n",
       "      <td>May  9 2022  1:28PM</td>\n",
       "      <td>20</td>\n",
       "      <td>Alumier Labs Inc.</td>\n",
       "      <td>Receiving</td>\n",
       "      <td>Brittany Owen</td>\n",
       "      <td>13</td>\n",
       "    </tr>\n",
       "  </tbody>\n",
       "</table>\n",
       "</div>"
      ],
      "text/plain": [
       "                  Date warehouse            project operationCode  \\\n",
       "0  May  9 2022  1:31PM        20  Alumier Labs Inc.     Receiving   \n",
       "1  May  9 2022  1:28PM        20  Alumier Labs Inc.     Receiving   \n",
       "2  May  9 2022  1:28PM        20  Alumier Labs Inc.     Receiving   \n",
       "3  May  9 2022  1:28PM        20  Alumier Labs Inc.     Receiving   \n",
       "4  May  9 2022  1:28PM        20  Alumier Labs Inc.     Receiving   \n",
       "\n",
       "        employee  Hour  \n",
       "0  Brittany Owen    13  \n",
       "1  Brittany Owen    13  \n",
       "2  Brittany Owen    13  \n",
       "3  Brittany Owen    13  \n",
       "4  Brittany Owen    13  "
      ]
     },
     "execution_count": 4,
     "metadata": {},
     "output_type": "execute_result"
    }
   ],
   "source": [
    "# Adding Hours\n",
    "df['Hour'] = pd.to_datetime(df['Date']).dt.hour\n",
    "df.head()"
   ]
  },
  {
   "cell_type": "markdown",
   "id": "c682f27b",
   "metadata": {},
   "source": [
    "# PICKING"
   ]
  },
  {
   "cell_type": "code",
   "execution_count": 5,
   "id": "70bb160d",
   "metadata": {
    "execution": {
     "iopub.execute_input": "2022-05-09T20:18:14.225310Z",
     "iopub.status.busy": "2022-05-09T20:18:14.225310Z",
     "iopub.status.idle": "2022-05-09T20:18:14.238309Z",
     "shell.execute_reply": "2022-05-09T20:18:14.238309Z"
    }
   },
   "outputs": [],
   "source": [
    "# Filtered by Picking\n",
    "df_picking = df[df['operationCode'] == 'Picking']"
   ]
  },
  {
   "cell_type": "markdown",
   "id": "2066214c",
   "metadata": {},
   "source": [
    "### Picking By Warehouse Function"
   ]
  },
  {
   "cell_type": "code",
   "execution_count": 6,
   "id": "8d7c4806",
   "metadata": {
    "execution": {
     "iopub.execute_input": "2022-05-09T20:18:14.241267Z",
     "iopub.status.busy": "2022-05-09T20:18:14.241267Z",
     "iopub.status.idle": "2022-05-09T20:18:14.254262Z",
     "shell.execute_reply": "2022-05-09T20:18:14.254262Z"
    }
   },
   "outputs": [],
   "source": [
    "# Picking Function\n",
    "def picking_by_warehouse (warehouse):\n",
    "    # Filter by warehouse\n",
    "    df_w = df_picking[df_picking['warehouse'] == warehouse]\n",
    "    \n",
    "    # Grouped by Employee and Hour\n",
    "    df_w_group = df_w.groupby(['employee', 'Hour']).count()[['operationCode']]\n",
    "    df_w_group.reset_index(inplace=True)\n",
    "    \n",
    "    # Pivot\n",
    "    df_w_pivot = df_w_group.pivot(index='employee', columns='Hour', values='operationCode')\n",
    "    df_w_pivot = df_w_pivot.fillna(0)\n",
    "    df_w_pivot = df_w_pivot.rename_axis(None, axis=1)\n",
    "    \n",
    "    # Save into JSON\n",
    "    pickers_df = df_w_pivot.T\n",
    "    file_name = f'data/pickers_w{warehouse}.json'\n",
    "    pickers_df.to_json(file_name)"
   ]
  },
  {
   "cell_type": "code",
   "execution_count": 7,
   "id": "e1257b5b",
   "metadata": {
    "execution": {
     "iopub.execute_input": "2022-05-09T20:18:14.257225Z",
     "iopub.status.busy": "2022-05-09T20:18:14.257225Z",
     "iopub.status.idle": "2022-05-09T20:18:14.269192Z",
     "shell.execute_reply": "2022-05-09T20:18:14.269192Z"
    }
   },
   "outputs": [],
   "source": [
    "# Save warehouse data into JSON files\n",
    "\n",
    "picking_by_warehouse('10')\n",
    "#picking_by_warehouse('12')\n",
    "#picking_by_warehouse('15')\n",
    "#picking_by_warehouse('16')\n",
    "#picking_by_warehouse('18')\n",
    "#picking_by_warehouse('19')\n",
    "#picking_by_warehouse('20')\n",
    "#picking_by_warehouse('21')\n",
    "#picking_by_warehouse('22')"
   ]
  },
  {
   "cell_type": "markdown",
   "id": "a680625e",
   "metadata": {},
   "source": [
    "# BATCHING"
   ]
  },
  {
   "cell_type": "code",
   "execution_count": 8,
   "id": "24ff9a34",
   "metadata": {
    "execution": {
     "iopub.execute_input": "2022-05-09T20:18:14.272184Z",
     "iopub.status.busy": "2022-05-09T20:18:14.272184Z",
     "iopub.status.idle": "2022-05-09T20:18:14.285149Z",
     "shell.execute_reply": "2022-05-09T20:18:14.285149Z"
    }
   },
   "outputs": [
    {
     "data": {
      "text/html": [
       "<div>\n",
       "<style scoped>\n",
       "    .dataframe tbody tr th:only-of-type {\n",
       "        vertical-align: middle;\n",
       "    }\n",
       "\n",
       "    .dataframe tbody tr th {\n",
       "        vertical-align: top;\n",
       "    }\n",
       "\n",
       "    .dataframe thead th {\n",
       "        text-align: right;\n",
       "    }\n",
       "</style>\n",
       "<table border=\"1\" class=\"dataframe\">\n",
       "  <thead>\n",
       "    <tr style=\"text-align: right;\">\n",
       "      <th></th>\n",
       "      <th>Date</th>\n",
       "      <th>warehouse</th>\n",
       "      <th>project</th>\n",
       "      <th>operationCode</th>\n",
       "      <th>employee</th>\n",
       "      <th>Hour</th>\n",
       "    </tr>\n",
       "  </thead>\n",
       "  <tbody>\n",
       "    <tr>\n",
       "      <th>1481</th>\n",
       "      <td>May  9 2022  2:08PM</td>\n",
       "      <td>10</td>\n",
       "      <td>ISDIN Corporation</td>\n",
       "      <td>Batch Move</td>\n",
       "      <td>Rita Geldres</td>\n",
       "      <td>14</td>\n",
       "    </tr>\n",
       "    <tr>\n",
       "      <th>1482</th>\n",
       "      <td>May  9 2022  2:08PM</td>\n",
       "      <td>10</td>\n",
       "      <td>ISDIN Corporation</td>\n",
       "      <td>Batch Move</td>\n",
       "      <td>Rita Geldres</td>\n",
       "      <td>14</td>\n",
       "    </tr>\n",
       "    <tr>\n",
       "      <th>1483</th>\n",
       "      <td>May  9 2022  2:11PM</td>\n",
       "      <td>10</td>\n",
       "      <td>ISDIN Corporation</td>\n",
       "      <td>Batch Move</td>\n",
       "      <td>Rita Geldres</td>\n",
       "      <td>14</td>\n",
       "    </tr>\n",
       "    <tr>\n",
       "      <th>1484</th>\n",
       "      <td>May  9 2022  3:21PM</td>\n",
       "      <td>10</td>\n",
       "      <td>ISDIN Corporation</td>\n",
       "      <td>Batch Move</td>\n",
       "      <td>Rita Geldres</td>\n",
       "      <td>15</td>\n",
       "    </tr>\n",
       "    <tr>\n",
       "      <th>1485</th>\n",
       "      <td>May  9 2022  2:48PM</td>\n",
       "      <td>10</td>\n",
       "      <td>ISDIN Corporation</td>\n",
       "      <td>Batch Move</td>\n",
       "      <td>Rita Geldres</td>\n",
       "      <td>14</td>\n",
       "    </tr>\n",
       "  </tbody>\n",
       "</table>\n",
       "</div>"
      ],
      "text/plain": [
       "                     Date warehouse            project operationCode  \\\n",
       "1481  May  9 2022  2:08PM        10  ISDIN Corporation    Batch Move   \n",
       "1482  May  9 2022  2:08PM        10  ISDIN Corporation    Batch Move   \n",
       "1483  May  9 2022  2:11PM        10  ISDIN Corporation    Batch Move   \n",
       "1484  May  9 2022  3:21PM        10  ISDIN Corporation    Batch Move   \n",
       "1485  May  9 2022  2:48PM        10  ISDIN Corporation    Batch Move   \n",
       "\n",
       "          employee  Hour  \n",
       "1481  Rita Geldres    14  \n",
       "1482  Rita Geldres    14  \n",
       "1483  Rita Geldres    14  \n",
       "1484  Rita Geldres    15  \n",
       "1485  Rita Geldres    14  "
      ]
     },
     "execution_count": 8,
     "metadata": {},
     "output_type": "execute_result"
    }
   ],
   "source": [
    "# Filtered by Batch Move\n",
    "df_batching = df[df['operationCode'] == 'Batch Move']\n",
    "df_batching.head()"
   ]
  },
  {
   "cell_type": "code",
   "execution_count": 9,
   "id": "e9b2d00a",
   "metadata": {
    "execution": {
     "iopub.execute_input": "2022-05-09T20:18:14.295123Z",
     "iopub.status.busy": "2022-05-09T20:18:14.295123Z",
     "iopub.status.idle": "2022-05-09T20:18:14.301107Z",
     "shell.execute_reply": "2022-05-09T20:18:14.301107Z"
    }
   },
   "outputs": [],
   "source": [
    "# Batching Function\n",
    "def batching_by_warehouse (warehouse):\n",
    "    # Filter by warehouse\n",
    "    df = df_batching[df_batching['warehouse'] == warehouse]\n",
    "    \n",
    "    # Grouped by Employee and Hour\n",
    "    df = df.groupby(['employee', 'Hour']).count()[['operationCode']]\n",
    "    df.reset_index(inplace=True)\n",
    "    \n",
    "    # Pivot\n",
    "    df = df.pivot(index='employee', columns='Hour', values='operationCode')\n",
    "    df = df.fillna(0)\n",
    "    df = df.rename_axis(None, axis=1)\n",
    "    \n",
    "    # Save into JSON\n",
    "    batchers_df = df.T\n",
    "    file_name = f'data/batchers_w{warehouse}.json'\n",
    "    batchers_df.to_json(file_name)"
   ]
  },
  {
   "cell_type": "code",
   "execution_count": 10,
   "id": "04f04c33",
   "metadata": {
    "execution": {
     "iopub.execute_input": "2022-05-09T20:18:14.304101Z",
     "iopub.status.busy": "2022-05-09T20:18:14.304101Z",
     "iopub.status.idle": "2022-05-09T20:18:14.317065Z",
     "shell.execute_reply": "2022-05-09T20:18:14.317065Z"
    }
   },
   "outputs": [],
   "source": [
    "batching_by_warehouse('10')"
   ]
  },
  {
   "cell_type": "code",
   "execution_count": 11,
   "id": "d12bf2d8",
   "metadata": {
    "execution": {
     "iopub.execute_input": "2022-05-09T20:18:14.320058Z",
     "iopub.status.busy": "2022-05-09T20:18:14.320058Z",
     "iopub.status.idle": "2022-05-09T20:18:14.332026Z",
     "shell.execute_reply": "2022-05-09T20:18:14.332026Z"
    }
   },
   "outputs": [],
   "source": [
    "# Close connection\n",
    "cnxn.close()"
   ]
  },
  {
   "cell_type": "markdown",
   "id": "9dc39cfe",
   "metadata": {},
   "source": [
    "# QUERY: PACKING"
   ]
  },
  {
   "cell_type": "code",
   "execution_count": 12,
   "id": "d2268aac",
   "metadata": {
    "execution": {
     "iopub.execute_input": "2022-05-09T20:18:14.335018Z",
     "iopub.status.busy": "2022-05-09T20:18:14.335018Z",
     "iopub.status.idle": "2022-05-09T20:18:14.346986Z",
     "shell.execute_reply": "2022-05-09T20:18:14.346986Z"
    }
   },
   "outputs": [],
   "source": [
    "# Connect to the Database\n",
    "cnxn = pyodbc.connect(\"Driver={SQL Server Native Client 11.0};\"\n",
    "                        \"Server=wd02;\"\n",
    "                        \"Database=FootPrint;\"\n",
    "                        \"Trusted_Connection=yes;\")"
   ]
  },
  {
   "cell_type": "code",
   "execution_count": 13,
   "id": "cc6bd3e4",
   "metadata": {
    "execution": {
     "iopub.execute_input": "2022-05-09T20:18:14.349978Z",
     "iopub.status.busy": "2022-05-09T20:18:14.349978Z",
     "iopub.status.idle": "2022-05-09T20:18:14.378929Z",
     "shell.execute_reply": "2022-05-09T20:18:14.378929Z"
    }
   },
   "outputs": [],
   "source": [
    "df_packing = pd.read_sql_query(\"DECLARE @from date, @to date;\\\n",
    "    SELECT @from = getdate() ,@to = dateadd(day, 1, getdate());\\\n",
    "\\\n",
    "    select t.completedDateTime Date, w.name Warehouse, p.name Project,\\\n",
    "        oc.name OperationCode, t.employee, s.lookupCode Shipment, lp.lookupCode LP\\\n",
    "    from datex_footprint.Tasks t\\\n",
    "        join datex_footprint.Shipments s\\\n",
    "            on s.id = t.shipmentId\\\n",
    "        join datex_footprint.LicensePlates lp\\\n",
    "            on lp.shipmentId = s.id\\\n",
    "        join datex_footprint.Warehouses w\\\n",
    "            on w.id = t.warehouseId\\\n",
    "        join datex_footprint.Projects p\\\n",
    "            on p.id = t.projectId\\\n",
    "        join datex_footprint.OperationCodes oc\\\n",
    "            on oc.id = t.operationCodeId\\\n",
    "        where t.completedDateTime >= @from AND t.completedDateTime < @to AND (t.employee != 'FootPrintService') AND (t.employee != 'Foot Print Service') and t.statusId = 2 and t.operationCodeId = 2067\", cnxn)"
   ]
  },
  {
   "cell_type": "code",
   "execution_count": 14,
   "id": "5b290d8b",
   "metadata": {
    "execution": {
     "iopub.execute_input": "2022-05-09T20:18:14.381891Z",
     "iopub.status.busy": "2022-05-09T20:18:14.381891Z",
     "iopub.status.idle": "2022-05-09T20:18:14.393859Z",
     "shell.execute_reply": "2022-05-09T20:18:14.393859Z"
    }
   },
   "outputs": [
    {
     "data": {
      "text/html": [
       "<div>\n",
       "<style scoped>\n",
       "    .dataframe tbody tr th:only-of-type {\n",
       "        vertical-align: middle;\n",
       "    }\n",
       "\n",
       "    .dataframe tbody tr th {\n",
       "        vertical-align: top;\n",
       "    }\n",
       "\n",
       "    .dataframe thead th {\n",
       "        text-align: right;\n",
       "    }\n",
       "</style>\n",
       "<table border=\"1\" class=\"dataframe\">\n",
       "  <thead>\n",
       "    <tr style=\"text-align: right;\">\n",
       "      <th></th>\n",
       "      <th>Date</th>\n",
       "      <th>Warehouse</th>\n",
       "      <th>Project</th>\n",
       "      <th>OperationCode</th>\n",
       "      <th>employee</th>\n",
       "      <th>Shipment</th>\n",
       "      <th>LP</th>\n",
       "      <th>Hour</th>\n",
       "    </tr>\n",
       "  </thead>\n",
       "  <tbody>\n",
       "    <tr>\n",
       "      <th>0</th>\n",
       "      <td>2022-05-09 11:34:20.747</td>\n",
       "      <td>10</td>\n",
       "      <td>ISDIN Corporation</td>\n",
       "      <td>Rate And Ship</td>\n",
       "      <td>Jackson Pierre</td>\n",
       "      <td>0085647797</td>\n",
       "      <td>OB968198</td>\n",
       "      <td>11</td>\n",
       "    </tr>\n",
       "    <tr>\n",
       "      <th>1</th>\n",
       "      <td>2022-05-09 11:32:14.280</td>\n",
       "      <td>10</td>\n",
       "      <td>ISDIN Corporation</td>\n",
       "      <td>Rate And Ship</td>\n",
       "      <td>Jackson Pierre</td>\n",
       "      <td>0085647813</td>\n",
       "      <td>OB968196</td>\n",
       "      <td>11</td>\n",
       "    </tr>\n",
       "    <tr>\n",
       "      <th>2</th>\n",
       "      <td>2022-05-09 11:38:44.783</td>\n",
       "      <td>10</td>\n",
       "      <td>ISDIN Corporation</td>\n",
       "      <td>Rate And Ship</td>\n",
       "      <td>Jackson Pierre</td>\n",
       "      <td>0085647932</td>\n",
       "      <td>OB968199</td>\n",
       "      <td>11</td>\n",
       "    </tr>\n",
       "    <tr>\n",
       "      <th>3</th>\n",
       "      <td>2022-05-09 11:31:35.290</td>\n",
       "      <td>10</td>\n",
       "      <td>ISDIN Corporation</td>\n",
       "      <td>Rate And Ship</td>\n",
       "      <td>Jackson Pierre</td>\n",
       "      <td>0085647949</td>\n",
       "      <td>OB968197</td>\n",
       "      <td>11</td>\n",
       "    </tr>\n",
       "    <tr>\n",
       "      <th>4</th>\n",
       "      <td>2022-05-09 11:33:35.190</td>\n",
       "      <td>10</td>\n",
       "      <td>ISDIN Corporation</td>\n",
       "      <td>Rate And Ship</td>\n",
       "      <td>Jackson Pierre</td>\n",
       "      <td>0085649973</td>\n",
       "      <td>OB968105</td>\n",
       "      <td>11</td>\n",
       "    </tr>\n",
       "  </tbody>\n",
       "</table>\n",
       "</div>"
      ],
      "text/plain": [
       "                     Date Warehouse            Project  OperationCode  \\\n",
       "0 2022-05-09 11:34:20.747        10  ISDIN Corporation  Rate And Ship   \n",
       "1 2022-05-09 11:32:14.280        10  ISDIN Corporation  Rate And Ship   \n",
       "2 2022-05-09 11:38:44.783        10  ISDIN Corporation  Rate And Ship   \n",
       "3 2022-05-09 11:31:35.290        10  ISDIN Corporation  Rate And Ship   \n",
       "4 2022-05-09 11:33:35.190        10  ISDIN Corporation  Rate And Ship   \n",
       "\n",
       "         employee    Shipment        LP  Hour  \n",
       "0  Jackson Pierre  0085647797  OB968198    11  \n",
       "1  Jackson Pierre  0085647813  OB968196    11  \n",
       "2  Jackson Pierre  0085647932  OB968199    11  \n",
       "3  Jackson Pierre  0085647949  OB968197    11  \n",
       "4  Jackson Pierre  0085649973  OB968105    11  "
      ]
     },
     "execution_count": 14,
     "metadata": {},
     "output_type": "execute_result"
    }
   ],
   "source": [
    "# Adding Hours\n",
    "df_packing['Hour'] = pd.to_datetime(df_packing['Date']).dt.hour\n",
    "df_packing.head()"
   ]
  },
  {
   "cell_type": "code",
   "execution_count": 15,
   "id": "d2d05e74",
   "metadata": {
    "execution": {
     "iopub.execute_input": "2022-05-09T20:18:14.396851Z",
     "iopub.status.busy": "2022-05-09T20:18:14.396851Z",
     "iopub.status.idle": "2022-05-09T20:18:14.409847Z",
     "shell.execute_reply": "2022-05-09T20:18:14.409847Z"
    }
   },
   "outputs": [],
   "source": [
    "# Packing Function\n",
    "def packing_by_warehouse (warehouse):\n",
    "    # Filter by warehouse\n",
    "    df_p = df_packing[df_packing['Warehouse'] == warehouse]\n",
    "    \n",
    "    # Grouped by Employee and Hour\n",
    "    df_p_group = df_p.groupby(['employee', 'Hour']).count()[['OperationCode']]\n",
    "    df_p_group.reset_index(inplace=True)\n",
    "    \n",
    "    # Pivot\n",
    "    df_p_pivot = df_p_group.pivot(index='employee', columns='Hour', values='OperationCode')\n",
    "    df_p_pivot = df_p_pivot.fillna(0)\n",
    "    df_p_pivot = df_p_pivot.rename_axis(None, axis=1)\n",
    "    \n",
    "    # Save into JSON\n",
    "    packers_df = df_p_pivot.T\n",
    "    file_name = f'data/packers_w{warehouse}.json'\n",
    "    packers_df.to_json(file_name)"
   ]
  },
  {
   "cell_type": "code",
   "execution_count": 16,
   "id": "2f51190a",
   "metadata": {
    "execution": {
     "iopub.execute_input": "2022-05-09T20:18:14.412808Z",
     "iopub.status.busy": "2022-05-09T20:18:14.412808Z",
     "iopub.status.idle": "2022-05-09T20:18:14.425802Z",
     "shell.execute_reply": "2022-05-09T20:18:14.425802Z"
    }
   },
   "outputs": [],
   "source": [
    "# Save warehouse data into JSON files\n",
    "packing_by_warehouse('10')"
   ]
  },
  {
   "cell_type": "code",
   "execution_count": 17,
   "id": "ab7aa825",
   "metadata": {
    "execution": {
     "iopub.execute_input": "2022-05-09T20:18:14.428766Z",
     "iopub.status.busy": "2022-05-09T20:18:14.428766Z",
     "iopub.status.idle": "2022-05-09T20:18:14.441762Z",
     "shell.execute_reply": "2022-05-09T20:18:14.441762Z"
    }
   },
   "outputs": [],
   "source": [
    "# Close connection\n",
    "cnxn.close()"
   ]
  },
  {
   "cell_type": "code",
   "execution_count": null,
   "id": "b47fff9f",
   "metadata": {},
   "outputs": [],
   "source": []
  },
  {
   "cell_type": "code",
   "execution_count": null,
   "id": "a34045bd",
   "metadata": {},
   "outputs": [],
   "source": []
  },
  {
   "cell_type": "code",
   "execution_count": null,
   "id": "4d84963a",
   "metadata": {},
   "outputs": [],
   "source": []
  },
  {
   "cell_type": "code",
   "execution_count": null,
   "id": "e1a2dff7",
   "metadata": {},
   "outputs": [],
   "source": []
  },
  {
   "cell_type": "code",
   "execution_count": null,
   "id": "c928dabf",
   "metadata": {},
   "outputs": [],
   "source": []
  },
  {
   "cell_type": "code",
   "execution_count": null,
   "id": "69ef2b6e",
   "metadata": {},
   "outputs": [],
   "source": []
  },
  {
   "cell_type": "markdown",
   "id": "535778bf",
   "metadata": {},
   "source": [
    "# QUERY 02: Open Outbounds WAREHOUSE 10"
   ]
  },
  {
   "cell_type": "code",
   "execution_count": 18,
   "id": "2c1090ec",
   "metadata": {
    "execution": {
     "iopub.execute_input": "2022-05-09T20:18:14.444722Z",
     "iopub.status.busy": "2022-05-09T20:18:14.444722Z",
     "iopub.status.idle": "2022-05-09T20:18:14.457687Z",
     "shell.execute_reply": "2022-05-09T20:18:14.457687Z"
    }
   },
   "outputs": [],
   "source": [
    "# Connect to the Database\n",
    "\n",
    "# cnxn = pyodbc.connect(\"Driver={SQL Server Native Client 11.0};\"\n",
    "#                         \"Server=wd02;\"\n",
    "#                         \"Database=FootPrint;\"\n",
    "#                         \"Trusted_Connection=yes;\")"
   ]
  },
  {
   "cell_type": "code",
   "execution_count": 19,
   "id": "50ba15dd",
   "metadata": {
    "execution": {
     "iopub.execute_input": "2022-05-09T20:18:14.460680Z",
     "iopub.status.busy": "2022-05-09T20:18:14.459682Z",
     "iopub.status.idle": "2022-05-09T20:18:14.473645Z",
     "shell.execute_reply": "2022-05-09T20:18:14.473645Z"
    }
   },
   "outputs": [],
   "source": [
    "# df_02 = pd.read_sql_query(\"SELECT DISTINCT w.name warehouse, p.name project, s.lookupCode shipment_number, s.createdSysDateTime\\\n",
    "#     FROM datex_footprint.shipments s\\\n",
    "#     LEFT JOIN datex_footprint.ShipmentOrderLookup sol\\\n",
    "#         on sol.shipmentId = s.id\\\n",
    "#     LEFT JOIN datex_footprint.orders o\\\n",
    "#         on o.id = sol.orderId\\\n",
    "#     LEFT JOIN datex_footprint.Projects p\\\n",
    "#         on p.id = o.projectId\\\n",
    "#     LEFT JOIN datex_footprint.warehouses w\\\n",
    "#         on w.id = isnull(s.actualWarehouseId, s.expectedWarehouseId)\\\n",
    "#     WHERE s.statusId in (1, 2, 4) and s.typeId = 2\\\n",
    "#     ORDER BY createdSysDateTime\", cnxn)"
   ]
  },
  {
   "cell_type": "code",
   "execution_count": 20,
   "id": "4ead82a2",
   "metadata": {
    "execution": {
     "iopub.execute_input": "2022-05-09T20:18:14.476639Z",
     "iopub.status.busy": "2022-05-09T20:18:14.476639Z",
     "iopub.status.idle": "2022-05-09T20:18:14.489604Z",
     "shell.execute_reply": "2022-05-09T20:18:14.489604Z"
    }
   },
   "outputs": [],
   "source": [
    "# df_02.head()"
   ]
  },
  {
   "cell_type": "code",
   "execution_count": 21,
   "id": "2f4d888f",
   "metadata": {
    "execution": {
     "iopub.execute_input": "2022-05-09T20:18:14.492596Z",
     "iopub.status.busy": "2022-05-09T20:18:14.492596Z",
     "iopub.status.idle": "2022-05-09T20:18:14.504564Z",
     "shell.execute_reply": "2022-05-09T20:18:14.504564Z"
    }
   },
   "outputs": [],
   "source": [
    "# df_02['age_order'] = pd.Timestamp.now() - df_02['createdSysDateTime']\n",
    "# df_02.head()"
   ]
  },
  {
   "cell_type": "code",
   "execution_count": 22,
   "id": "8b695887",
   "metadata": {
    "execution": {
     "iopub.execute_input": "2022-05-09T20:18:14.507556Z",
     "iopub.status.busy": "2022-05-09T20:18:14.507556Z",
     "iopub.status.idle": "2022-05-09T20:18:14.519524Z",
     "shell.execute_reply": "2022-05-09T20:18:14.519524Z"
    }
   },
   "outputs": [],
   "source": [
    "# df_02['age_order_days'] = df_02['age_order'].dt.components['days']\n",
    "# df_02['age_order_hours'] = df_02['age_order'].dt.components['hours']\n",
    "# df_02.head()"
   ]
  },
  {
   "cell_type": "code",
   "execution_count": 23,
   "id": "b21efff0",
   "metadata": {
    "execution": {
     "iopub.execute_input": "2022-05-09T20:18:14.522516Z",
     "iopub.status.busy": "2022-05-09T20:18:14.522516Z",
     "iopub.status.idle": "2022-05-09T20:18:14.535481Z",
     "shell.execute_reply": "2022-05-09T20:18:14.535481Z"
    }
   },
   "outputs": [],
   "source": [
    "# Open Orders less than 24 hours\n",
    "\n",
    "# df_02 = df_02.loc[(df_02['age_order_days'] == 0) & (df_02['warehouse'] == '10')]\n",
    "# df_02.head()"
   ]
  },
  {
   "cell_type": "code",
   "execution_count": 24,
   "id": "1e73132e",
   "metadata": {
    "execution": {
     "iopub.execute_input": "2022-05-09T20:18:14.538472Z",
     "iopub.status.busy": "2022-05-09T20:18:14.538472Z",
     "iopub.status.idle": "2022-05-09T20:18:14.551467Z",
     "shell.execute_reply": "2022-05-09T20:18:14.551467Z"
    }
   },
   "outputs": [],
   "source": [
    "# Bins per hour\n",
    "\n",
    "# bins =[-1,4,8,12,16,24]\n",
    "# bin_names = ['4 Hours', '8 Hours', '12 Hours', '16 Hours', '24 Hours']\n",
    "\n",
    "# df_02['age_group'] = pd.cut(df_02['age_order_hours'], bins, labels=bin_names)"
   ]
  },
  {
   "cell_type": "code",
   "execution_count": 25,
   "id": "50b37145",
   "metadata": {
    "execution": {
     "iopub.execute_input": "2022-05-09T20:18:14.554429Z",
     "iopub.status.busy": "2022-05-09T20:18:14.554429Z",
     "iopub.status.idle": "2022-05-09T20:18:14.566431Z",
     "shell.execute_reply": "2022-05-09T20:18:14.566431Z"
    }
   },
   "outputs": [],
   "source": [
    "# df_02_grouped = df_02.groupby(['age_group'])[['project']].count()"
   ]
  },
  {
   "cell_type": "code",
   "execution_count": 26,
   "id": "ad0ad7b8",
   "metadata": {
    "execution": {
     "iopub.execute_input": "2022-05-09T20:18:14.569420Z",
     "iopub.status.busy": "2022-05-09T20:18:14.569420Z",
     "iopub.status.idle": "2022-05-09T20:18:14.582355Z",
     "shell.execute_reply": "2022-05-09T20:18:14.582355Z"
    }
   },
   "outputs": [],
   "source": [
    "# df_02_grouped = df_02_grouped.rename(columns={'project': 'orders'})"
   ]
  },
  {
   "cell_type": "markdown",
   "id": "ae473cac",
   "metadata": {},
   "source": [
    "### Save in JSON File"
   ]
  },
  {
   "cell_type": "code",
   "execution_count": 27,
   "id": "2d6c8932",
   "metadata": {
    "execution": {
     "iopub.execute_input": "2022-05-09T20:18:14.585347Z",
     "iopub.status.busy": "2022-05-09T20:18:14.585347Z",
     "iopub.status.idle": "2022-05-09T20:18:14.599309Z",
     "shell.execute_reply": "2022-05-09T20:18:14.598339Z"
    }
   },
   "outputs": [],
   "source": [
    "# open_outbounds = df_02_grouped\n",
    "# open_outbounds.to_json('data/open_outbounds.json')\n",
    "# open_outbounds"
   ]
  },
  {
   "cell_type": "code",
   "execution_count": 28,
   "id": "9f6bab4b",
   "metadata": {
    "execution": {
     "iopub.execute_input": "2022-05-09T20:18:14.601304Z",
     "iopub.status.busy": "2022-05-09T20:18:14.601304Z",
     "iopub.status.idle": "2022-05-09T20:18:14.614294Z",
     "shell.execute_reply": "2022-05-09T20:18:14.614294Z"
    }
   },
   "outputs": [],
   "source": [
    "# df_02_grouped = df_02_grouped.iloc[::-1]\n",
    "# df_02_grouped.plot.barh()"
   ]
  },
  {
   "cell_type": "code",
   "execution_count": 29,
   "id": "b030f66f",
   "metadata": {
    "execution": {
     "iopub.execute_input": "2022-05-09T20:18:14.617261Z",
     "iopub.status.busy": "2022-05-09T20:18:14.617261Z",
     "iopub.status.idle": "2022-05-09T20:18:14.630227Z",
     "shell.execute_reply": "2022-05-09T20:18:14.630227Z"
    }
   },
   "outputs": [],
   "source": [
    "# Close connection\n",
    "\n",
    "# cnxn.close()"
   ]
  },
  {
   "cell_type": "markdown",
   "id": "cda41e6f",
   "metadata": {},
   "source": []
  },
  {
   "cell_type": "markdown",
   "id": "9bf6f1bc",
   "metadata": {},
   "source": [
    "# QUERY 3: Picking Performance (Orders and Waves)"
   ]
  },
  {
   "cell_type": "code",
   "execution_count": 30,
   "id": "887d613e",
   "metadata": {
    "execution": {
     "iopub.execute_input": "2022-05-09T20:18:14.633219Z",
     "iopub.status.busy": "2022-05-09T20:18:14.633219Z",
     "iopub.status.idle": "2022-05-09T20:18:14.646222Z",
     "shell.execute_reply": "2022-05-09T20:18:14.646222Z"
    }
   },
   "outputs": [],
   "source": [
    "# Connect to the Database\n",
    "\n",
    "# cnxn = pyodbc.connect(\"Driver={SQL Server Native Client 11.0};\"\n",
    "#                         \"Server=wd02;\"\n",
    "#                         \"Database=FootPrint;\"\n",
    "#                         \"Trusted_Connection=yes;\")"
   ]
  },
  {
   "cell_type": "code",
   "execution_count": 31,
   "id": "641caea5",
   "metadata": {
    "execution": {
     "iopub.execute_input": "2022-05-09T20:18:14.649176Z",
     "iopub.status.busy": "2022-05-09T20:18:14.649176Z",
     "iopub.status.idle": "2022-05-09T20:18:14.661143Z",
     "shell.execute_reply": "2022-05-09T20:18:14.661143Z"
    }
   },
   "outputs": [],
   "source": [
    "# df03 = pd.read_sql_query(\"DECLARE @from date, @to date;\\\n",
    "#                           SELECT @from = getdate(), @to = dateadd(day, 1, getdate());\\\n",
    "#     SELECT t.completedDateTime Date, oc.name Operation, w.name Warehouse,\\\n",
    "#            p.name Project, m.lookupCode Material, employee Employee, s.lookupCode Shipment, isnull(s.waveId, ps.waveId) Wave,\\\n",
    "#            ordersPerWave.shipmentsCount, lc.name Location\\\n",
    "#     FROM datex_footprint.Tasks t\\\n",
    "#         join datex_footprint.OperationCodes oc\\\n",
    "#             on oc.id = t.operationCodeId\\\n",
    "#         left join datex_footprint.Warehouses w\\\n",
    "#             on w.id = t.warehouseId\\\n",
    "#         left join datex_footprint.Projects p\\\n",
    "#             on p.id = t.projectId\\\n",
    "#         left join datex_footprint.Materials m\\\n",
    "#             on m.id = t.materialId\\\n",
    "#         left join datex_footprint.Shipments s\\\n",
    "#             on s.id = t.shipmentId\\\n",
    "#         left join datex_footprint.PickSlips ps\\\n",
    "#             on ps.id = t.pickSlipId\\\n",
    "#         left join datex_footprint.LocationContainers lc\\\n",
    "#             on lc.id = t.actualSourceLocationId\\\n",
    "#         outer apply (\\\n",
    "#             select\\\n",
    "#                 count(distinct tt.shipmentId) shipmentsCount\\\n",
    "#                 from datex_footprint.waves ww\\\n",
    "#                     inner join datex_footprint.PickSlips ppss\\\n",
    "#                     inner join datex_footprint.tasks tt\\\n",
    "#                         on tt.operationCodeId = 8 and tt.pickSlipId = ppss.id\\\n",
    "#                         on ppss.waveId = ww.id\\\n",
    "#                 where ww.id = isnull(s.waveId, ps.waveId)) ordersPerWave\\\n",
    "#     where t.completedDateTime >= @from and t.completedDateTime < @to and t.statusId = 2\\\n",
    "#     and t.operationCodeId in (8, 39, 2064, 2065, 2066) and t.employee != 'Foot Print Service'\\\n",
    "#     order by s.lookupCode, t.completedDateTime\", cnxn)"
   ]
  },
  {
   "cell_type": "code",
   "execution_count": 32,
   "id": "a4cb2a77",
   "metadata": {
    "execution": {
     "iopub.execute_input": "2022-05-09T20:18:14.664135Z",
     "iopub.status.busy": "2022-05-09T20:18:14.664135Z",
     "iopub.status.idle": "2022-05-09T20:18:14.677101Z",
     "shell.execute_reply": "2022-05-09T20:18:14.677101Z"
    }
   },
   "outputs": [],
   "source": [
    "# df03.tail(3)"
   ]
  },
  {
   "cell_type": "code",
   "execution_count": 33,
   "id": "b2d6e6c7",
   "metadata": {
    "execution": {
     "iopub.execute_input": "2022-05-09T20:18:14.680094Z",
     "iopub.status.busy": "2022-05-09T20:18:14.680094Z",
     "iopub.status.idle": "2022-05-09T20:18:14.693060Z",
     "shell.execute_reply": "2022-05-09T20:18:14.693060Z"
    }
   },
   "outputs": [],
   "source": [
    "# Order Columns\n",
    "\n",
    "# df03 = df03[['Warehouse', 'Project', 'Wave', 'Shipment', 'Date', 'Operation', 'Employee',\n",
    "#              'Location', 'shipmentsCount', 'Material']]"
   ]
  },
  {
   "cell_type": "markdown",
   "id": "782d10c7",
   "metadata": {},
   "source": [
    "### Filter by Shipments"
   ]
  },
  {
   "cell_type": "code",
   "execution_count": 34,
   "id": "deb919ce",
   "metadata": {
    "execution": {
     "iopub.execute_input": "2022-05-09T20:18:14.696052Z",
     "iopub.status.busy": "2022-05-09T20:18:14.696052Z",
     "iopub.status.idle": "2022-05-09T20:18:14.709016Z",
     "shell.execute_reply": "2022-05-09T20:18:14.709016Z"
    }
   },
   "outputs": [],
   "source": [
    "# Filter by Orders only\n",
    "\n",
    "# df03_orders = df03.loc[(df03['Operation']=='Picking') |\n",
    "#                        (df03['Operation']=='Scanned Shipment') |\n",
    "#                        (df03['Operation']=='Picking Completed')]\n",
    "\n",
    "# df03_orders = df03_orders[['Warehouse', 'Project', 'Shipment', 'Date', 'Operation', 'Employee', 'Location']]\n",
    "\n",
    "# df03_orders.head()"
   ]
  },
  {
   "cell_type": "code",
   "execution_count": 35,
   "id": "379538a4",
   "metadata": {
    "execution": {
     "iopub.execute_input": "2022-05-09T20:18:14.712007Z",
     "iopub.status.busy": "2022-05-09T20:18:14.712007Z",
     "iopub.status.idle": "2022-05-09T20:18:14.724973Z",
     "shell.execute_reply": "2022-05-09T20:18:14.724973Z"
    }
   },
   "outputs": [],
   "source": [
    "# Create a new column with the time difference between rows\n",
    "\n",
    "# df03_orders['PickingTime'] = df03_orders['Date'].diff()\n",
    "# df03_orders.head()"
   ]
  },
  {
   "cell_type": "code",
   "execution_count": 36,
   "id": "1c8ab7a0",
   "metadata": {
    "execution": {
     "iopub.execute_input": "2022-05-09T20:18:14.727965Z",
     "iopub.status.busy": "2022-05-09T20:18:14.727965Z",
     "iopub.status.idle": "2022-05-09T20:18:14.739933Z",
     "shell.execute_reply": "2022-05-09T20:18:14.739933Z"
    }
   },
   "outputs": [],
   "source": [
    "# Add Hour, Minute and Second columns\n",
    "\n",
    "# df03_orders['hour'] = df03_orders['PickingTime'].dt.components['hours']\n",
    "# df03_orders['minute'] = df03_orders['PickingTime'].dt.components['minutes']\n",
    "# df03_orders['second'] = df03_orders['PickingTime'].dt.components['seconds']\n",
    "# df03_orders.head()"
   ]
  },
  {
   "cell_type": "code",
   "execution_count": 37,
   "id": "65c5bae7",
   "metadata": {
    "execution": {
     "iopub.execute_input": "2022-05-09T20:18:14.742925Z",
     "iopub.status.busy": "2022-05-09T20:18:14.742925Z",
     "iopub.status.idle": "2022-05-09T20:18:14.755891Z",
     "shell.execute_reply": "2022-05-09T20:18:14.755891Z"
    }
   },
   "outputs": [],
   "source": [
    "# Set all the Scanned Shipment hour, minute, time to ZERO\n",
    "\n",
    "# df03_orders_modified = df03_orders\n",
    "\n",
    "# df03_orders_modified.loc[df03_orders_modified.Operation == 'Scanned Shipment', 'hour'] = 0.0\n",
    "# df03_orders_modified.loc[df03_orders_modified.Operation == 'Scanned Shipment', 'minute'] = 0.0\n",
    "# df03_orders_modified.loc[df03_orders_modified.Operation == 'Scanned Shipment', 'second'] = 0.0\n",
    "\n",
    "# df03_orders_modified.loc[df03_orders_modified['Operation'] == 'Scanned Shipment'].head()"
   ]
  },
  {
   "cell_type": "code",
   "execution_count": 38,
   "id": "0a32c449",
   "metadata": {
    "execution": {
     "iopub.execute_input": "2022-05-09T20:18:14.758883Z",
     "iopub.status.busy": "2022-05-09T20:18:14.758883Z",
     "iopub.status.idle": "2022-05-09T20:18:14.771848Z",
     "shell.execute_reply": "2022-05-09T20:18:14.771848Z"
    }
   },
   "outputs": [],
   "source": [
    "# df03_orders_modified['Time'] = df03_orders_modified['hour']*60 + df03_orders_modified['minute'] + df03_orders_modified['second']/60\n",
    "# df03_orders_modified.head()"
   ]
  },
  {
   "cell_type": "code",
   "execution_count": 39,
   "id": "47d0ed4a",
   "metadata": {
    "execution": {
     "iopub.execute_input": "2022-05-09T20:18:14.774840Z",
     "iopub.status.busy": "2022-05-09T20:18:14.774840Z",
     "iopub.status.idle": "2022-05-09T20:18:14.786838Z",
     "shell.execute_reply": "2022-05-09T20:18:14.786838Z"
    }
   },
   "outputs": [],
   "source": [
    "# Save in JSON Format for HTML\n",
    "\n",
    "# df03_group = df03_orders_modified.groupby(['Warehouse', 'Project', 'Shipment', 'Operation', 'Date'])[['Time']].sum().sort_values(['Warehouse', 'Project', 'Shipment', 'Date'])\n",
    "# df03_group.to_json('data/performance.json', orient='table')\n",
    "# df03_group.head(20)"
   ]
  },
  {
   "cell_type": "code",
   "execution_count": 40,
   "id": "8965cf87",
   "metadata": {
    "execution": {
     "iopub.execute_input": "2022-05-09T20:18:14.789799Z",
     "iopub.status.busy": "2022-05-09T20:18:14.789799Z",
     "iopub.status.idle": "2022-05-09T20:18:14.801767Z",
     "shell.execute_reply": "2022-05-09T20:18:14.801767Z"
    }
   },
   "outputs": [],
   "source": [
    "# Remove Operation 'Scanned Shipment'\n",
    "\n",
    "# df03_excluding_Scanned = df03_orders_modified.loc[df03_orders_modified['Operation'] != 'Scanned Shipment']\n",
    "# df03_excluding_Scanned.head()"
   ]
  },
  {
   "cell_type": "code",
   "execution_count": 41,
   "id": "639c4e63",
   "metadata": {
    "execution": {
     "iopub.execute_input": "2022-05-09T20:18:14.804759Z",
     "iopub.status.busy": "2022-05-09T20:18:14.804759Z",
     "iopub.status.idle": "2022-05-09T20:18:14.817724Z",
     "shell.execute_reply": "2022-05-09T20:18:14.817724Z"
    }
   },
   "outputs": [],
   "source": [
    "# Save in CSV Format for Tableau\n",
    "\n",
    "# df03_group2 = df03_excluding_Scanned.groupby(['Warehouse', 'Project', 'Employee', 'Shipment', 'Operation', 'Date'])[['Time']].sum().sort_values(['Warehouse', 'Project', 'Employee', 'Shipment', 'Date'])\n",
    "# df03_group2.to_csv('data/performance.csv')\n",
    "# df03_group2.head(20)"
   ]
  },
  {
   "cell_type": "code",
   "execution_count": 42,
   "id": "72973a53",
   "metadata": {
    "execution": {
     "iopub.execute_input": "2022-05-09T20:18:14.820716Z",
     "iopub.status.busy": "2022-05-09T20:18:14.819719Z",
     "iopub.status.idle": "2022-05-09T20:18:14.833682Z",
     "shell.execute_reply": "2022-05-09T20:18:14.833682Z"
    }
   },
   "outputs": [],
   "source": [
    "# Close connection\n",
    "\n",
    "# cnxn.close()"
   ]
  },
  {
   "cell_type": "code",
   "execution_count": null,
   "id": "61b643e2",
   "metadata": {},
   "outputs": [],
   "source": []
  }
 ],
 "metadata": {
  "kernelspec": {
   "display_name": "PythonData",
   "language": "python",
   "name": "pythondata"
  },
  "language_info": {
   "codemirror_mode": {
    "name": "ipython",
    "version": 3
   },
   "file_extension": ".py",
   "mimetype": "text/x-python",
   "name": "python",
   "nbconvert_exporter": "python",
   "pygments_lexer": "ipython3",
   "version": "3.7.11"
  }
 },
 "nbformat": 4,
 "nbformat_minor": 5
}
