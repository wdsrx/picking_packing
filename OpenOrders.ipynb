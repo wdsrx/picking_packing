{
 "cells": [
  {
   "cell_type": "code",
   "execution_count": 1,
   "id": "631cdeb5",
   "metadata": {
    "execution": {
     "iopub.execute_input": "2022-05-13T10:58:40.489856Z",
     "iopub.status.busy": "2022-05-13T10:58:40.489856Z",
     "iopub.status.idle": "2022-05-13T10:58:41.649040Z",
     "shell.execute_reply": "2022-05-13T10:58:41.648025Z"
    }
   },
   "outputs": [],
   "source": [
    "import pyodbc\n",
    "import pandas as pd\n",
    "import numpy as np\n",
    "\n",
    "import matplotlib.pyplot as plt\n",
    "from matplotlib import style\n",
    "style.use('fivethirtyeight')"
   ]
  },
  {
   "cell_type": "markdown",
   "id": "e452ad18",
   "metadata": {},
   "source": [
    "# QUERY LINES: PICKING - PACKING - BATCHING"
   ]
  },
  {
   "cell_type": "code",
   "execution_count": 2,
   "id": "cfa380f7",
   "metadata": {
    "execution": {
     "iopub.execute_input": "2022-05-13T10:58:41.651026Z",
     "iopub.status.busy": "2022-05-13T10:58:41.651026Z",
     "iopub.status.idle": "2022-05-13T10:58:41.710248Z",
     "shell.execute_reply": "2022-05-13T10:58:41.710248Z"
    }
   },
   "outputs": [],
   "source": [
    "# Connect to the Database\n",
    "cnxn = pyodbc.connect(\"Driver={SQL Server Native Client 11.0};\"\n",
    "                        \"Server=wd02;\"\n",
    "                        \"Database=FootPrint;\"\n",
    "                        \"Trusted_Connection=yes;\")"
   ]
  },
  {
   "cell_type": "code",
   "execution_count": 3,
   "id": "33630a7b",
   "metadata": {
    "execution": {
     "iopub.execute_input": "2022-05-13T10:58:41.714269Z",
     "iopub.status.busy": "2022-05-13T10:58:41.714269Z",
     "iopub.status.idle": "2022-05-13T10:58:42.172745Z",
     "shell.execute_reply": "2022-05-13T10:58:42.171779Z"
    }
   },
   "outputs": [],
   "source": [
    "df = pd.read_sql_query(\"DECLARE @from date, @to date;\\\n",
    "    SELECT @from = getdate() ,@to = dateadd(day, 1, getdate());\\\n",
    "\\\n",
    "    select t.completedDateTime Date, w.name Warehouse, p.name Project,\\\n",
    "        oc.name OperationCode, t.employee Employee\\\n",
    "    from datex_footprint.Tasks t\\\n",
    "        left join datex_footprint.Warehouses w\\\n",
    "            on w.id = t.warehouseId\\\n",
    "        left join datex_footprint.Projects p\\\n",
    "            on p.id = t.projectId\\\n",
    "        join datex_footprint.OperationCodes oc\\\n",
    "            on oc.id = t.operationCodeId\\\n",
    "        where t.completedDateTime >= @from AND t.completedDateTime < @to AND\\\n",
    "        (t.employee != 'FootPrintService') AND (t.employee != 'Foot Print Service') AND\\\n",
    "        t.statusId = 2 AND t.operationCodeId in (8, 39, 2067)\", cnxn)"
   ]
  },
  {
   "cell_type": "code",
   "execution_count": 4,
   "id": "c735920a",
   "metadata": {
    "execution": {
     "iopub.execute_input": "2022-05-13T10:58:42.174739Z",
     "iopub.status.busy": "2022-05-13T10:58:42.174739Z",
     "iopub.status.idle": "2022-05-13T10:58:42.187733Z",
     "shell.execute_reply": "2022-05-13T10:58:42.187733Z"
    }
   },
   "outputs": [
    {
     "data": {
      "text/html": [
       "<div>\n",
       "<style scoped>\n",
       "    .dataframe tbody tr th:only-of-type {\n",
       "        vertical-align: middle;\n",
       "    }\n",
       "\n",
       "    .dataframe tbody tr th {\n",
       "        vertical-align: top;\n",
       "    }\n",
       "\n",
       "    .dataframe thead th {\n",
       "        text-align: right;\n",
       "    }\n",
       "</style>\n",
       "<table border=\"1\" class=\"dataframe\">\n",
       "  <thead>\n",
       "    <tr style=\"text-align: right;\">\n",
       "      <th></th>\n",
       "      <th>Date</th>\n",
       "      <th>Warehouse</th>\n",
       "      <th>Project</th>\n",
       "      <th>OperationCode</th>\n",
       "      <th>Employee</th>\n",
       "      <th>Hour</th>\n",
       "    </tr>\n",
       "  </thead>\n",
       "  <tbody>\n",
       "    <tr>\n",
       "      <th>0</th>\n",
       "      <td>2022-05-13 06:54:13.963</td>\n",
       "      <td>22</td>\n",
       "      <td>NBTY Global, Inc.</td>\n",
       "      <td>Picking</td>\n",
       "      <td>William Trevino Trevino</td>\n",
       "      <td>6</td>\n",
       "    </tr>\n",
       "    <tr>\n",
       "      <th>1</th>\n",
       "      <td>2022-05-13 06:47:52.807</td>\n",
       "      <td>22</td>\n",
       "      <td>NBTY Global, Inc.</td>\n",
       "      <td>Picking</td>\n",
       "      <td>William Trevino Trevino</td>\n",
       "      <td>6</td>\n",
       "    </tr>\n",
       "    <tr>\n",
       "      <th>2</th>\n",
       "      <td>2022-05-13 06:24:43.943</td>\n",
       "      <td>22</td>\n",
       "      <td>NBTY Global, Inc.</td>\n",
       "      <td>Picking</td>\n",
       "      <td>William Trevino Trevino</td>\n",
       "      <td>6</td>\n",
       "    </tr>\n",
       "    <tr>\n",
       "      <th>3</th>\n",
       "      <td>2022-05-13 06:28:30.053</td>\n",
       "      <td>22</td>\n",
       "      <td>NBTY Global, Inc.</td>\n",
       "      <td>Picking</td>\n",
       "      <td>William Trevino Trevino</td>\n",
       "      <td>6</td>\n",
       "    </tr>\n",
       "    <tr>\n",
       "      <th>4</th>\n",
       "      <td>2022-05-13 06:37:07.460</td>\n",
       "      <td>22</td>\n",
       "      <td>NBTY Global, Inc.</td>\n",
       "      <td>Picking</td>\n",
       "      <td>William Trevino Trevino</td>\n",
       "      <td>6</td>\n",
       "    </tr>\n",
       "  </tbody>\n",
       "</table>\n",
       "</div>"
      ],
      "text/plain": [
       "                     Date Warehouse            Project OperationCode  \\\n",
       "0 2022-05-13 06:54:13.963        22  NBTY Global, Inc.       Picking   \n",
       "1 2022-05-13 06:47:52.807        22  NBTY Global, Inc.       Picking   \n",
       "2 2022-05-13 06:24:43.943        22  NBTY Global, Inc.       Picking   \n",
       "3 2022-05-13 06:28:30.053        22  NBTY Global, Inc.       Picking   \n",
       "4 2022-05-13 06:37:07.460        22  NBTY Global, Inc.       Picking   \n",
       "\n",
       "                  Employee  Hour  \n",
       "0  William Trevino Trevino     6  \n",
       "1  William Trevino Trevino     6  \n",
       "2  William Trevino Trevino     6  \n",
       "3  William Trevino Trevino     6  \n",
       "4  William Trevino Trevino     6  "
      ]
     },
     "execution_count": 4,
     "metadata": {},
     "output_type": "execute_result"
    }
   ],
   "source": [
    "# Adding Hours\n",
    "df['Hour'] = pd.to_datetime(df['Date']).dt.hour\n",
    "df.head()"
   ]
  },
  {
   "cell_type": "code",
   "execution_count": 5,
   "id": "22ae8da8",
   "metadata": {
    "execution": {
     "iopub.execute_input": "2022-05-13T10:58:42.196680Z",
     "iopub.status.busy": "2022-05-13T10:58:42.196680Z",
     "iopub.status.idle": "2022-05-13T10:58:42.203695Z",
     "shell.execute_reply": "2022-05-13T10:58:42.203695Z"
    }
   },
   "outputs": [],
   "source": [
    "# Activity Function By Warehouse\n",
    "def activity (warehouse, operationCode, df):\n",
    "    # Filter by warehouse\n",
    "    df2 = df[(df['Warehouse'] == warehouse) & (df['OperationCode'] == operationCode)]\n",
    "    \n",
    "    # Grouped by Employee and Hour\n",
    "    df2 = df2.groupby(['Employee', 'Hour']).count()[['OperationCode']]\n",
    "    df2.reset_index(inplace=True)\n",
    "    \n",
    "    # Pivot\n",
    "    df2 = df2.pivot(index='Employee', columns='Hour', values='OperationCode')\n",
    "    df2 = df2.fillna(0)\n",
    "    df2 = df2.rename_axis(None, axis=1)\n",
    "    \n",
    "    # Save into JSON\n",
    "    df2 = df2.T\n",
    "    file_name = f'data/W{warehouse}_{operationCode}.json'\n",
    "    df2.to_json(file_name)"
   ]
  },
  {
   "cell_type": "code",
   "execution_count": 6,
   "id": "f48970d1",
   "metadata": {
    "execution": {
     "iopub.execute_input": "2022-05-13T10:58:42.206654Z",
     "iopub.status.busy": "2022-05-13T10:58:42.206654Z",
     "iopub.status.idle": "2022-05-13T10:58:42.236573Z",
     "shell.execute_reply": "2022-05-13T10:58:42.235609Z"
    }
   },
   "outputs": [],
   "source": [
    "activity('10', 'Picking', df)\n",
    "activity('10', 'Rate And Ship', df)\n",
    "activity('10', 'Batch Move', df)"
   ]
  },
  {
   "cell_type": "code",
   "execution_count": 7,
   "id": "ab7aa825",
   "metadata": {
    "execution": {
     "iopub.execute_input": "2022-05-13T10:58:42.238598Z",
     "iopub.status.busy": "2022-05-13T10:58:42.238598Z",
     "iopub.status.idle": "2022-05-13T10:58:42.251563Z",
     "shell.execute_reply": "2022-05-13T10:58:42.251563Z"
    }
   },
   "outputs": [],
   "source": [
    "# # Close connection\n",
    "cnxn.close()"
   ]
  },
  {
   "cell_type": "markdown",
   "id": "f6e6c852",
   "metadata": {},
   "source": [
    "# QUERY ORDERS: PICKING - PACKING - BATCHING"
   ]
  },
  {
   "cell_type": "code",
   "execution_count": 8,
   "id": "a34045bd",
   "metadata": {
    "execution": {
     "iopub.execute_input": "2022-05-13T10:58:42.254525Z",
     "iopub.status.busy": "2022-05-13T10:58:42.254525Z",
     "iopub.status.idle": "2022-05-13T10:58:42.267523Z",
     "shell.execute_reply": "2022-05-13T10:58:42.267523Z"
    }
   },
   "outputs": [],
   "source": [
    "# Connect to the Database\n",
    "cnxn = pyodbc.connect(\"Driver={SQL Server Native Client 11.0};\"\n",
    "                        \"Server=wd02;\"\n",
    "                        \"Database=FootPrint;\"\n",
    "                        \"Trusted_Connection=yes;\")"
   ]
  },
  {
   "cell_type": "code",
   "execution_count": 9,
   "id": "4d84963a",
   "metadata": {
    "execution": {
     "iopub.execute_input": "2022-05-13T10:58:42.270483Z",
     "iopub.status.busy": "2022-05-13T10:58:42.270483Z",
     "iopub.status.idle": "2022-05-13T10:58:43.479813Z",
     "shell.execute_reply": "2022-05-13T10:58:43.476769Z"
    }
   },
   "outputs": [],
   "source": [
    "# TODAY ORDERS\n",
    "df_today = pd.read_sql_query(\"DECLARE @from date, @to date;\\\n",
    "    SELECT @from = getdate() ,@to = dateadd(day, 1, getdate());\\\n",
    "\\\n",
    "    select distinct w.name Warehouse, oc.name OperationCode,\\\n",
    "        COUNt(DISTINCT (ISNULL(s.lookupCode, t.shipmentId))) Shipment\\\n",
    "    from datex_footprint.Tasks t\\\n",
    "        left join datex_footprint.Warehouses w\\\n",
    "            on w.id = t.warehouseId\\\n",
    "        join datex_footprint.OperationCodes oc\\\n",
    "            on oc.id = t.operationCodeId\\\n",
    "        left join datex_footprint.PickSlips ps\\\n",
    "            on ps.id = t.pickSlipId\\\n",
    "        left join datex_footprint.Waves wa\\\n",
    "            on wa.id = ps.waveId\\\n",
    "        left join datex_footprint.shipments s\\\n",
    "            on s.waveId = wa.id\\\n",
    "        where t.completedDateTime >= @from AND t.completedDateTime < @to AND\\\n",
    "        (t.employee != 'FootPrintService') AND (t.employee != 'Foot Print Service') AND\\\n",
    "        t.statusId = 2 AND t.operationCodeId in (8, 39, 2067)\\\n",
    "        group by w.name, oc.name\", cnxn)"
   ]
  },
  {
   "cell_type": "code",
   "execution_count": 10,
   "id": "73bf0281",
   "metadata": {
    "execution": {
     "iopub.execute_input": "2022-05-13T10:58:43.488811Z",
     "iopub.status.busy": "2022-05-13T10:58:43.488811Z",
     "iopub.status.idle": "2022-05-13T10:58:44.734333Z",
     "shell.execute_reply": "2022-05-13T10:58:44.731265Z"
    }
   },
   "outputs": [],
   "source": [
    "# YESTEDAY ORDERS\n",
    "df_yesterday = pd.read_sql_query(\"DECLARE @from date, @to date;\\\n",
    "    SELECT @from = dateadd(day, -1, getdate()) ,@to = getdate();\\\n",
    "\\\n",
    "    select distinct w.name Warehouse, oc.name OperationCode,\\\n",
    "        COUNt(DISTINCT (ISNULL(s.lookupCode, t.shipmentId))) Shipment\\\n",
    "    from datex_footprint.Tasks t\\\n",
    "        left join datex_footprint.Warehouses w\\\n",
    "            on w.id = t.warehouseId\\\n",
    "        join datex_footprint.OperationCodes oc\\\n",
    "            on oc.id = t.operationCodeId\\\n",
    "        left join datex_footprint.PickSlips ps\\\n",
    "            on ps.id = t.pickSlipId\\\n",
    "        left join datex_footprint.Waves wa\\\n",
    "            on wa.id = ps.waveId\\\n",
    "        left join datex_footprint.shipments s\\\n",
    "            on s.waveId = wa.id\\\n",
    "        where t.completedDateTime >= @from AND t.completedDateTime < @to AND\\\n",
    "        (t.employee != 'FootPrintService') AND (t.employee != 'Foot Print Service') AND\\\n",
    "        t.statusId = 2 AND t.operationCodeId in (8, 39, 2067)\\\n",
    "        group by w.name, oc.name\", cnxn)"
   ]
  },
  {
   "cell_type": "code",
   "execution_count": 11,
   "id": "6fc49f2e",
   "metadata": {
    "execution": {
     "iopub.execute_input": "2022-05-13T10:58:44.743308Z",
     "iopub.status.busy": "2022-05-13T10:58:44.742309Z",
     "iopub.status.idle": "2022-05-13T10:58:44.765564Z",
     "shell.execute_reply": "2022-05-13T10:58:44.762607Z"
    }
   },
   "outputs": [],
   "source": [
    "# Rename Columns\n",
    "df_today.rename(columns={'Shipment': 'Today'}, inplace=True)\n",
    "df_yesterday.rename(columns={'Shipment': 'Yesterday'}, inplace=True)"
   ]
  },
  {
   "cell_type": "code",
   "execution_count": 12,
   "id": "b18420f4",
   "metadata": {
    "execution": {
     "iopub.execute_input": "2022-05-13T10:58:44.775535Z",
     "iopub.status.busy": "2022-05-13T10:58:44.774539Z",
     "iopub.status.idle": "2022-05-13T10:58:44.796547Z",
     "shell.execute_reply": "2022-05-13T10:58:44.794595Z"
    }
   },
   "outputs": [],
   "source": [
    "# Merge dataframes\n",
    "new_df = pd.merge(df_today, df_yesterday,  how='outer', left_on=['Warehouse','OperationCode'], right_on = ['Warehouse','OperationCode'])"
   ]
  },
  {
   "cell_type": "code",
   "execution_count": 13,
   "id": "79c1e830",
   "metadata": {
    "execution": {
     "iopub.execute_input": "2022-05-13T10:58:44.806527Z",
     "iopub.status.busy": "2022-05-13T10:58:44.805575Z",
     "iopub.status.idle": "2022-05-13T10:58:44.828537Z",
     "shell.execute_reply": "2022-05-13T10:58:44.825754Z"
    }
   },
   "outputs": [],
   "source": [
    "def orders (warehouse, df):\n",
    "    df2 = df[df['Warehouse'] == warehouse]\n",
    "    df2 = df2.pivot(index='Warehouse', columns='OperationCode', values=['Today', 'Yesterday']).fillna(0)\n",
    "    df2 = df2.T\n",
    "    \n",
    "    display(df2)\n",
    "    \n",
    "    file_name = f'data/W{warehouse}_Orders.json'\n",
    "    df2.to_json(file_name)"
   ]
  },
  {
   "cell_type": "code",
   "execution_count": 14,
   "id": "993773f6",
   "metadata": {
    "execution": {
     "iopub.execute_input": "2022-05-13T10:58:44.837564Z",
     "iopub.status.busy": "2022-05-13T10:58:44.837564Z",
     "iopub.status.idle": "2022-05-13T10:58:44.891998Z",
     "shell.execute_reply": "2022-05-13T10:58:44.889007Z"
    }
   },
   "outputs": [
    {
     "data": {
      "text/html": [
       "<div>\n",
       "<style scoped>\n",
       "    .dataframe tbody tr th:only-of-type {\n",
       "        vertical-align: middle;\n",
       "    }\n",
       "\n",
       "    .dataframe tbody tr th {\n",
       "        vertical-align: top;\n",
       "    }\n",
       "\n",
       "    .dataframe thead th {\n",
       "        text-align: right;\n",
       "    }\n",
       "</style>\n",
       "<table border=\"1\" class=\"dataframe\">\n",
       "  <thead>\n",
       "    <tr style=\"text-align: right;\">\n",
       "      <th></th>\n",
       "      <th>Warehouse</th>\n",
       "      <th>10</th>\n",
       "    </tr>\n",
       "    <tr>\n",
       "      <th></th>\n",
       "      <th>OperationCode</th>\n",
       "      <th></th>\n",
       "    </tr>\n",
       "  </thead>\n",
       "  <tbody>\n",
       "    <tr>\n",
       "      <th rowspan=\"3\" valign=\"top\">Today</th>\n",
       "      <th>Batch Move</th>\n",
       "      <td>0.0</td>\n",
       "    </tr>\n",
       "    <tr>\n",
       "      <th>Picking</th>\n",
       "      <td>0.0</td>\n",
       "    </tr>\n",
       "    <tr>\n",
       "      <th>Rate And Ship</th>\n",
       "      <td>0.0</td>\n",
       "    </tr>\n",
       "    <tr>\n",
       "      <th rowspan=\"3\" valign=\"top\">Yesterday</th>\n",
       "      <th>Batch Move</th>\n",
       "      <td>227.0</td>\n",
       "    </tr>\n",
       "    <tr>\n",
       "      <th>Picking</th>\n",
       "      <td>297.0</td>\n",
       "    </tr>\n",
       "    <tr>\n",
       "      <th>Rate And Ship</th>\n",
       "      <td>110.0</td>\n",
       "    </tr>\n",
       "  </tbody>\n",
       "</table>\n",
       "</div>"
      ],
      "text/plain": [
       "Warehouse                   10\n",
       "          OperationCode       \n",
       "Today     Batch Move       0.0\n",
       "          Picking          0.0\n",
       "          Rate And Ship    0.0\n",
       "Yesterday Batch Move     227.0\n",
       "          Picking        297.0\n",
       "          Rate And Ship  110.0"
      ]
     },
     "metadata": {},
     "output_type": "display_data"
    }
   ],
   "source": [
    "orders('10', new_df)"
   ]
  },
  {
   "cell_type": "code",
   "execution_count": 15,
   "id": "4bb020fd",
   "metadata": {
    "execution": {
     "iopub.execute_input": "2022-05-13T10:58:44.901025Z",
     "iopub.status.busy": "2022-05-13T10:58:44.900025Z",
     "iopub.status.idle": "2022-05-13T10:58:44.923140Z",
     "shell.execute_reply": "2022-05-13T10:58:44.920341Z"
    }
   },
   "outputs": [],
   "source": [
    "# # Close connection\n",
    "cnxn.close()"
   ]
  },
  {
   "cell_type": "code",
   "execution_count": null,
   "id": "b0a6d3fb",
   "metadata": {},
   "outputs": [],
   "source": []
  },
  {
   "cell_type": "code",
   "execution_count": null,
   "id": "b6917f6f",
   "metadata": {},
   "outputs": [],
   "source": []
  },
  {
   "cell_type": "code",
   "execution_count": 16,
   "id": "7176e0e1",
   "metadata": {
    "execution": {
     "iopub.execute_input": "2022-05-13T10:58:44.932168Z",
     "iopub.status.busy": "2022-05-13T10:58:44.932168Z",
     "iopub.status.idle": "2022-05-13T10:58:44.955033Z",
     "shell.execute_reply": "2022-05-13T10:58:44.952174Z"
    }
   },
   "outputs": [],
   "source": [
    "# def orders (warehouse, df):\n",
    "#     df2 = df[df['Warehouse'] == warehouse]\n",
    "    \n",
    "#     df2 = df2.pivot(index='Warehouse', columns='OperationCode', values='Today').fillna(0)\n",
    "#     df2 = df2.rename_axis(None, axis=1)\n",
    "    \n",
    "#     df2 = df2.T\n",
    "    \n",
    "#     display(df2)\n",
    "    \n",
    "#     file_name = f'data/W{warehouse}_Orders.json'\n",
    "#     df2.to_json(file_name)"
   ]
  },
  {
   "cell_type": "code",
   "execution_count": null,
   "id": "72994acb",
   "metadata": {},
   "outputs": [],
   "source": []
  },
  {
   "cell_type": "code",
   "execution_count": null,
   "id": "2cfd5c4a",
   "metadata": {},
   "outputs": [],
   "source": []
  },
  {
   "cell_type": "code",
   "execution_count": null,
   "id": "2dbbdccf",
   "metadata": {},
   "outputs": [],
   "source": []
  },
  {
   "cell_type": "code",
   "execution_count": null,
   "id": "86aaf66f",
   "metadata": {},
   "outputs": [],
   "source": []
  },
  {
   "cell_type": "code",
   "execution_count": null,
   "id": "72b78df6",
   "metadata": {},
   "outputs": [],
   "source": []
  },
  {
   "cell_type": "code",
   "execution_count": null,
   "id": "d5f52d43",
   "metadata": {},
   "outputs": [],
   "source": []
  },
  {
   "cell_type": "code",
   "execution_count": null,
   "id": "81d3bd0c",
   "metadata": {},
   "outputs": [],
   "source": []
  },
  {
   "cell_type": "code",
   "execution_count": null,
   "id": "a0252f3a",
   "metadata": {},
   "outputs": [],
   "source": []
  },
  {
   "cell_type": "code",
   "execution_count": null,
   "id": "5b20e3fe",
   "metadata": {},
   "outputs": [],
   "source": []
  },
  {
   "cell_type": "code",
   "execution_count": null,
   "id": "e427507c",
   "metadata": {},
   "outputs": [],
   "source": []
  },
  {
   "cell_type": "code",
   "execution_count": null,
   "id": "ce5a9472",
   "metadata": {},
   "outputs": [],
   "source": []
  },
  {
   "cell_type": "code",
   "execution_count": null,
   "id": "ec1114a6",
   "metadata": {},
   "outputs": [],
   "source": []
  },
  {
   "cell_type": "code",
   "execution_count": null,
   "id": "48dcade4",
   "metadata": {},
   "outputs": [],
   "source": []
  },
  {
   "cell_type": "code",
   "execution_count": null,
   "id": "87b3ff6b",
   "metadata": {},
   "outputs": [],
   "source": []
  },
  {
   "cell_type": "markdown",
   "id": "535778bf",
   "metadata": {},
   "source": [
    "# QUERY 02: Open Outbounds WAREHOUSE 10"
   ]
  },
  {
   "cell_type": "code",
   "execution_count": 17,
   "id": "2c1090ec",
   "metadata": {
    "execution": {
     "iopub.execute_input": "2022-05-13T10:58:44.966014Z",
     "iopub.status.busy": "2022-05-13T10:58:44.966014Z",
     "iopub.status.idle": "2022-05-13T10:58:44.985985Z",
     "shell.execute_reply": "2022-05-13T10:58:44.983126Z"
    }
   },
   "outputs": [],
   "source": [
    "# Connect to the Database\n",
    "\n",
    "# cnxn = pyodbc.connect(\"Driver={SQL Server Native Client 11.0};\"\n",
    "#                         \"Server=wd02;\"\n",
    "#                         \"Database=FootPrint;\"\n",
    "#                         \"Trusted_Connection=yes;\")"
   ]
  },
  {
   "cell_type": "code",
   "execution_count": 18,
   "id": "50ba15dd",
   "metadata": {
    "execution": {
     "iopub.execute_input": "2022-05-13T10:58:44.994979Z",
     "iopub.status.busy": "2022-05-13T10:58:44.994979Z",
     "iopub.status.idle": "2022-05-13T10:58:45.017362Z",
     "shell.execute_reply": "2022-05-13T10:58:45.014540Z"
    }
   },
   "outputs": [],
   "source": [
    "# df_02 = pd.read_sql_query(\"SELECT DISTINCT w.name warehouse, p.name project, s.lookupCode shipment_number, s.createdSysDateTime\\\n",
    "#     FROM datex_footprint.shipments s\\\n",
    "#     LEFT JOIN datex_footprint.ShipmentOrderLookup sol\\\n",
    "#         on sol.shipmentId = s.id\\\n",
    "#     LEFT JOIN datex_footprint.orders o\\\n",
    "#         on o.id = sol.orderId\\\n",
    "#     LEFT JOIN datex_footprint.Projects p\\\n",
    "#         on p.id = o.projectId\\\n",
    "#     LEFT JOIN datex_footprint.warehouses w\\\n",
    "#         on w.id = isnull(s.actualWarehouseId, s.expectedWarehouseId)\\\n",
    "#     WHERE s.statusId in (1, 2, 4) and s.typeId = 2\\\n",
    "#     ORDER BY createdSysDateTime\", cnxn)"
   ]
  },
  {
   "cell_type": "code",
   "execution_count": 19,
   "id": "4ead82a2",
   "metadata": {
    "execution": {
     "iopub.execute_input": "2022-05-13T10:58:45.026385Z",
     "iopub.status.busy": "2022-05-13T10:58:45.025387Z",
     "iopub.status.idle": "2022-05-13T10:58:45.048308Z",
     "shell.execute_reply": "2022-05-13T10:58:45.045497Z"
    }
   },
   "outputs": [],
   "source": [
    "# df_02.head()"
   ]
  },
  {
   "cell_type": "code",
   "execution_count": 20,
   "id": "2f4d888f",
   "metadata": {
    "execution": {
     "iopub.execute_input": "2022-05-13T10:58:45.057236Z",
     "iopub.status.busy": "2022-05-13T10:58:45.056239Z",
     "iopub.status.idle": "2022-05-13T10:58:45.079487Z",
     "shell.execute_reply": "2022-05-13T10:58:45.076637Z"
    }
   },
   "outputs": [],
   "source": [
    "# df_02['age_order'] = pd.Timestamp.now() - df_02['createdSysDateTime']\n",
    "# df_02.head()"
   ]
  },
  {
   "cell_type": "code",
   "execution_count": 21,
   "id": "8b695887",
   "metadata": {
    "execution": {
     "iopub.execute_input": "2022-05-13T10:58:45.088478Z",
     "iopub.status.busy": "2022-05-13T10:58:45.087479Z",
     "iopub.status.idle": "2022-05-13T10:58:45.111376Z",
     "shell.execute_reply": "2022-05-13T10:58:45.108354Z"
    }
   },
   "outputs": [],
   "source": [
    "# df_02['age_order_days'] = df_02['age_order'].dt.components['days']\n",
    "# df_02['age_order_hours'] = df_02['age_order'].dt.components['hours']\n",
    "# df_02.head()"
   ]
  },
  {
   "cell_type": "code",
   "execution_count": 22,
   "id": "b21efff0",
   "metadata": {
    "execution": {
     "iopub.execute_input": "2022-05-13T10:58:45.120395Z",
     "iopub.status.busy": "2022-05-13T10:58:45.119405Z",
     "iopub.status.idle": "2022-05-13T10:58:45.142428Z",
     "shell.execute_reply": "2022-05-13T10:58:45.139641Z"
    }
   },
   "outputs": [],
   "source": [
    "# Open Orders less than 24 hours\n",
    "\n",
    "# df_02 = df_02.loc[(df_02['age_order_days'] == 0) & (df_02['warehouse'] == '10')]\n",
    "# df_02.head()"
   ]
  },
  {
   "cell_type": "code",
   "execution_count": 23,
   "id": "1e73132e",
   "metadata": {
    "execution": {
     "iopub.execute_input": "2022-05-13T10:58:45.151446Z",
     "iopub.status.busy": "2022-05-13T10:58:45.150451Z",
     "iopub.status.idle": "2022-05-13T10:58:45.174341Z",
     "shell.execute_reply": "2022-05-13T10:58:45.171349Z"
    }
   },
   "outputs": [],
   "source": [
    "# Bins per hour\n",
    "\n",
    "# bins =[-1,4,8,12,16,24]\n",
    "# bin_names = ['4 Hours', '8 Hours', '12 Hours', '16 Hours', '24 Hours']\n",
    "\n",
    "# df_02['age_group'] = pd.cut(df_02['age_order_hours'], bins, labels=bin_names)"
   ]
  },
  {
   "cell_type": "code",
   "execution_count": 24,
   "id": "50b37145",
   "metadata": {
    "execution": {
     "iopub.execute_input": "2022-05-13T10:58:45.185307Z",
     "iopub.status.busy": "2022-05-13T10:58:45.184343Z",
     "iopub.status.idle": "2022-05-13T10:58:45.205527Z",
     "shell.execute_reply": "2022-05-13T10:58:45.202555Z"
    }
   },
   "outputs": [],
   "source": [
    "# df_02_grouped = df_02.groupby(['age_group'])[['project']].count()"
   ]
  },
  {
   "cell_type": "code",
   "execution_count": 25,
   "id": "ad0ad7b8",
   "metadata": {
    "execution": {
     "iopub.execute_input": "2022-05-13T10:58:45.214514Z",
     "iopub.status.busy": "2022-05-13T10:58:45.213515Z",
     "iopub.status.idle": "2022-05-13T10:58:45.236675Z",
     "shell.execute_reply": "2022-05-13T10:58:45.233869Z"
    }
   },
   "outputs": [],
   "source": [
    "# df_02_grouped = df_02_grouped.rename(columns={'project': 'orders'})"
   ]
  },
  {
   "cell_type": "markdown",
   "id": "ae473cac",
   "metadata": {},
   "source": [
    "### Save in JSON File"
   ]
  },
  {
   "cell_type": "code",
   "execution_count": 26,
   "id": "2d6c8932",
   "metadata": {
    "execution": {
     "iopub.execute_input": "2022-05-13T10:58:45.245671Z",
     "iopub.status.busy": "2022-05-13T10:58:45.244627Z",
     "iopub.status.idle": "2022-05-13T10:58:45.266885Z",
     "shell.execute_reply": "2022-05-13T10:58:45.264059Z"
    }
   },
   "outputs": [],
   "source": [
    "# open_outbounds = df_02_grouped\n",
    "# open_outbounds.to_json('data/open_outbounds.json')\n",
    "# open_outbounds"
   ]
  },
  {
   "cell_type": "code",
   "execution_count": 27,
   "id": "9f6bab4b",
   "metadata": {
    "execution": {
     "iopub.execute_input": "2022-05-13T10:58:45.275904Z",
     "iopub.status.busy": "2022-05-13T10:58:45.275904Z",
     "iopub.status.idle": "2022-05-13T10:58:45.297504Z",
     "shell.execute_reply": "2022-05-13T10:58:45.295599Z"
    }
   },
   "outputs": [],
   "source": [
    "# df_02_grouped = df_02_grouped.iloc[::-1]\n",
    "# df_02_grouped.plot.barh()"
   ]
  },
  {
   "cell_type": "code",
   "execution_count": 28,
   "id": "b030f66f",
   "metadata": {
    "execution": {
     "iopub.execute_input": "2022-05-13T10:58:45.307472Z",
     "iopub.status.busy": "2022-05-13T10:58:45.306474Z",
     "iopub.status.idle": "2022-05-13T10:58:45.329343Z",
     "shell.execute_reply": "2022-05-13T10:58:45.326582Z"
    }
   },
   "outputs": [],
   "source": [
    "# Close connection\n",
    "\n",
    "# cnxn.close()"
   ]
  },
  {
   "cell_type": "markdown",
   "id": "cda41e6f",
   "metadata": {},
   "source": []
  },
  {
   "cell_type": "markdown",
   "id": "9bf6f1bc",
   "metadata": {},
   "source": [
    "# QUERY 3: Picking Performance (Orders and Waves)"
   ]
  },
  {
   "cell_type": "code",
   "execution_count": 29,
   "id": "887d613e",
   "metadata": {
    "execution": {
     "iopub.execute_input": "2022-05-13T10:58:45.339317Z",
     "iopub.status.busy": "2022-05-13T10:58:45.338321Z",
     "iopub.status.idle": "2022-05-13T10:58:45.360281Z",
     "shell.execute_reply": "2022-05-13T10:58:45.358250Z"
    }
   },
   "outputs": [],
   "source": [
    "# Connect to the Database\n",
    "\n",
    "# cnxn = pyodbc.connect(\"Driver={SQL Server Native Client 11.0};\"\n",
    "#                         \"Server=wd02;\"\n",
    "#                         \"Database=FootPrint;\"\n",
    "#                         \"Trusted_Connection=yes;\")"
   ]
  },
  {
   "cell_type": "code",
   "execution_count": 30,
   "id": "641caea5",
   "metadata": {
    "execution": {
     "iopub.execute_input": "2022-05-13T10:58:45.370262Z",
     "iopub.status.busy": "2022-05-13T10:58:45.369268Z",
     "iopub.status.idle": "2022-05-13T10:58:45.391618Z",
     "shell.execute_reply": "2022-05-13T10:58:45.388578Z"
    }
   },
   "outputs": [],
   "source": [
    "# df03 = pd.read_sql_query(\"DECLARE @from date, @to date;\\\n",
    "#                           SELECT @from = getdate(), @to = dateadd(day, 1, getdate());\\\n",
    "#     SELECT t.completedDateTime Date, oc.name Operation, w.name Warehouse,\\\n",
    "#            p.name Project, m.lookupCode Material, employee Employee, s.lookupCode Shipment, isnull(s.waveId, ps.waveId) Wave,\\\n",
    "#            ordersPerWave.shipmentsCount, lc.name Location\\\n",
    "#     FROM datex_footprint.Tasks t\\\n",
    "#         join datex_footprint.OperationCodes oc\\\n",
    "#             on oc.id = t.operationCodeId\\\n",
    "#         left join datex_footprint.Warehouses w\\\n",
    "#             on w.id = t.warehouseId\\\n",
    "#         left join datex_footprint.Projects p\\\n",
    "#             on p.id = t.projectId\\\n",
    "#         left join datex_footprint.Materials m\\\n",
    "#             on m.id = t.materialId\\\n",
    "#         left join datex_footprint.Shipments s\\\n",
    "#             on s.id = t.shipmentId\\\n",
    "#         left join datex_footprint.PickSlips ps\\\n",
    "#             on ps.id = t.pickSlipId\\\n",
    "#         left join datex_footprint.LocationContainers lc\\\n",
    "#             on lc.id = t.actualSourceLocationId\\\n",
    "#         outer apply (\\\n",
    "#             select\\\n",
    "#                 count(distinct tt.shipmentId) shipmentsCount\\\n",
    "#                 from datex_footprint.waves ww\\\n",
    "#                     inner join datex_footprint.PickSlips ppss\\\n",
    "#                     inner join datex_footprint.tasks tt\\\n",
    "#                         on tt.operationCodeId = 8 and tt.pickSlipId = ppss.id\\\n",
    "#                         on ppss.waveId = ww.id\\\n",
    "#                 where ww.id = isnull(s.waveId, ps.waveId)) ordersPerWave\\\n",
    "#     where t.completedDateTime >= @from and t.completedDateTime < @to and t.statusId = 2\\\n",
    "#     and t.operationCodeId in (8, 39, 2064, 2065, 2066) and t.employee != 'Foot Print Service'\\\n",
    "#     order by s.lookupCode, t.completedDateTime\", cnxn)"
   ]
  },
  {
   "cell_type": "code",
   "execution_count": 31,
   "id": "a4cb2a77",
   "metadata": {
    "execution": {
     "iopub.execute_input": "2022-05-13T10:58:45.400592Z",
     "iopub.status.busy": "2022-05-13T10:58:45.400592Z",
     "iopub.status.idle": "2022-05-13T10:58:45.422521Z",
     "shell.execute_reply": "2022-05-13T10:58:45.420542Z"
    }
   },
   "outputs": [],
   "source": [
    "# df03.tail(3)"
   ]
  },
  {
   "cell_type": "code",
   "execution_count": 32,
   "id": "b2d6e6c7",
   "metadata": {
    "execution": {
     "iopub.execute_input": "2022-05-13T10:58:45.432512Z",
     "iopub.status.busy": "2022-05-13T10:58:45.431500Z",
     "iopub.status.idle": "2022-05-13T10:58:45.455398Z",
     "shell.execute_reply": "2022-05-13T10:58:45.452454Z"
    }
   },
   "outputs": [],
   "source": [
    "# Order Columns\n",
    "\n",
    "# df03 = df03[['Warehouse', 'Project', 'Wave', 'Shipment', 'Date', 'Operation', 'Employee',\n",
    "#              'Location', 'shipmentsCount', 'Material']]"
   ]
  },
  {
   "cell_type": "markdown",
   "id": "782d10c7",
   "metadata": {},
   "source": [
    "### Filter by Shipments"
   ]
  },
  {
   "cell_type": "code",
   "execution_count": 33,
   "id": "deb919ce",
   "metadata": {
    "execution": {
     "iopub.execute_input": "2022-05-13T10:58:45.464427Z",
     "iopub.status.busy": "2022-05-13T10:58:45.463424Z",
     "iopub.status.idle": "2022-05-13T10:58:45.486303Z",
     "shell.execute_reply": "2022-05-13T10:58:45.484271Z"
    }
   },
   "outputs": [],
   "source": [
    "# Filter by Orders only\n",
    "\n",
    "# df03_orders = df03.loc[(df03['Operation']=='Picking') |\n",
    "#                        (df03['Operation']=='Scanned Shipment') |\n",
    "#                        (df03['Operation']=='Picking Completed')]\n",
    "\n",
    "# df03_orders = df03_orders[['Warehouse', 'Project', 'Shipment', 'Date', 'Operation', 'Employee', 'Location']]\n",
    "\n",
    "# df03_orders.head()"
   ]
  },
  {
   "cell_type": "code",
   "execution_count": 34,
   "id": "379538a4",
   "metadata": {
    "execution": {
     "iopub.execute_input": "2022-05-13T10:58:45.496241Z",
     "iopub.status.busy": "2022-05-13T10:58:45.495288Z",
     "iopub.status.idle": "2022-05-13T10:58:45.518784Z",
     "shell.execute_reply": "2022-05-13T10:58:45.515789Z"
    }
   },
   "outputs": [],
   "source": [
    "# Create a new column with the time difference between rows\n",
    "\n",
    "# df03_orders['PickingTime'] = df03_orders['Date'].diff()\n",
    "# df03_orders.head()"
   ]
  },
  {
   "cell_type": "code",
   "execution_count": 35,
   "id": "1c8ab7a0",
   "metadata": {
    "execution": {
     "iopub.execute_input": "2022-05-13T10:58:45.527803Z",
     "iopub.status.busy": "2022-05-13T10:58:45.526805Z",
     "iopub.status.idle": "2022-05-13T10:58:45.549730Z",
     "shell.execute_reply": "2022-05-13T10:58:45.546926Z"
    }
   },
   "outputs": [],
   "source": [
    "# Add Hour, Minute and Second columns\n",
    "\n",
    "# df03_orders['hour'] = df03_orders['PickingTime'].dt.components['hours']\n",
    "# df03_orders['minute'] = df03_orders['PickingTime'].dt.components['minutes']\n",
    "# df03_orders['second'] = df03_orders['PickingTime'].dt.components['seconds']\n",
    "# df03_orders.head()"
   ]
  },
  {
   "cell_type": "code",
   "execution_count": 36,
   "id": "65c5bae7",
   "metadata": {
    "execution": {
     "iopub.execute_input": "2022-05-13T10:58:45.558720Z",
     "iopub.status.busy": "2022-05-13T10:58:45.557718Z",
     "iopub.status.idle": "2022-05-13T10:58:45.580603Z",
     "shell.execute_reply": "2022-05-13T10:58:45.577804Z"
    }
   },
   "outputs": [],
   "source": [
    "# Set all the Scanned Shipment hour, minute, time to ZERO\n",
    "\n",
    "# df03_orders_modified = df03_orders\n",
    "\n",
    "# df03_orders_modified.loc[df03_orders_modified.Operation == 'Scanned Shipment', 'hour'] = 0.0\n",
    "# df03_orders_modified.loc[df03_orders_modified.Operation == 'Scanned Shipment', 'minute'] = 0.0\n",
    "# df03_orders_modified.loc[df03_orders_modified.Operation == 'Scanned Shipment', 'second'] = 0.0\n",
    "\n",
    "# df03_orders_modified.loc[df03_orders_modified['Operation'] == 'Scanned Shipment'].head()"
   ]
  },
  {
   "cell_type": "code",
   "execution_count": 37,
   "id": "0a32c449",
   "metadata": {
    "execution": {
     "iopub.execute_input": "2022-05-13T10:58:45.589593Z",
     "iopub.status.busy": "2022-05-13T10:58:45.588595Z",
     "iopub.status.idle": "2022-05-13T10:58:45.612126Z",
     "shell.execute_reply": "2022-05-13T10:58:45.609263Z"
    }
   },
   "outputs": [],
   "source": [
    "# df03_orders_modified['Time'] = df03_orders_modified['hour']*60 + df03_orders_modified['minute'] + df03_orders_modified['second']/60\n",
    "# df03_orders_modified.head()"
   ]
  },
  {
   "cell_type": "code",
   "execution_count": 38,
   "id": "47d0ed4a",
   "metadata": {
    "execution": {
     "iopub.execute_input": "2022-05-13T10:58:45.621115Z",
     "iopub.status.busy": "2022-05-13T10:58:45.620113Z",
     "iopub.status.idle": "2022-05-13T10:58:45.643673Z",
     "shell.execute_reply": "2022-05-13T10:58:45.640641Z"
    }
   },
   "outputs": [],
   "source": [
    "# Save in JSON Format for HTML\n",
    "\n",
    "# df03_group = df03_orders_modified.groupby(['Warehouse', 'Project', 'Shipment', 'Operation', 'Date'])[['Time']].sum().sort_values(['Warehouse', 'Project', 'Shipment', 'Date'])\n",
    "# df03_group.to_json('data/performance.json', orient='table')\n",
    "# df03_group.head(20)"
   ]
  },
  {
   "cell_type": "code",
   "execution_count": 39,
   "id": "8965cf87",
   "metadata": {
    "execution": {
     "iopub.execute_input": "2022-05-13T10:58:45.652656Z",
     "iopub.status.busy": "2022-05-13T10:58:45.651659Z",
     "iopub.status.idle": "2022-05-13T10:58:45.673863Z",
     "shell.execute_reply": "2022-05-13T10:58:45.670842Z"
    }
   },
   "outputs": [],
   "source": [
    "# Remove Operation 'Scanned Shipment'\n",
    "\n",
    "# df03_excluding_Scanned = df03_orders_modified.loc[df03_orders_modified['Operation'] != 'Scanned Shipment']\n",
    "# df03_excluding_Scanned.head()"
   ]
  },
  {
   "cell_type": "code",
   "execution_count": 40,
   "id": "639c4e63",
   "metadata": {
    "execution": {
     "iopub.execute_input": "2022-05-13T10:58:45.682888Z",
     "iopub.status.busy": "2022-05-13T10:58:45.681891Z",
     "iopub.status.idle": "2022-05-13T10:58:45.704958Z",
     "shell.execute_reply": "2022-05-13T10:58:45.702124Z"
    }
   },
   "outputs": [],
   "source": [
    "# Save in CSV Format for Tableau\n",
    "\n",
    "# df03_group2 = df03_excluding_Scanned.groupby(['Warehouse', 'Project', 'Employee', 'Shipment', 'Operation', 'Date'])[['Time']].sum().sort_values(['Warehouse', 'Project', 'Employee', 'Shipment', 'Date'])\n",
    "# df03_group2.to_csv('data/performance.csv')\n",
    "# df03_group2.head(20)"
   ]
  },
  {
   "cell_type": "code",
   "execution_count": 41,
   "id": "72973a53",
   "metadata": {
    "execution": {
     "iopub.execute_input": "2022-05-13T10:58:45.713928Z",
     "iopub.status.busy": "2022-05-13T10:58:45.712883Z",
     "iopub.status.idle": "2022-05-13T10:58:45.736069Z",
     "shell.execute_reply": "2022-05-13T10:58:45.733258Z"
    }
   },
   "outputs": [],
   "source": [
    "# Close connection\n",
    "\n",
    "# cnxn.close()"
   ]
  },
  {
   "cell_type": "code",
   "execution_count": null,
   "id": "61b643e2",
   "metadata": {},
   "outputs": [],
   "source": []
  }
 ],
 "metadata": {
  "kernelspec": {
   "display_name": "PythonData",
   "language": "python",
   "name": "pythondata"
  },
  "language_info": {
   "codemirror_mode": {
    "name": "ipython",
    "version": 3
   },
   "file_extension": ".py",
   "mimetype": "text/x-python",
   "name": "python",
   "nbconvert_exporter": "python",
   "pygments_lexer": "ipython3",
   "version": "3.7.11"
  }
 },
 "nbformat": 4,
 "nbformat_minor": 5
}
