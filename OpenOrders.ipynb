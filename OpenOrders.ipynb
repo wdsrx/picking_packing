{
 "cells": [
  {
   "cell_type": "code",
   "execution_count": 1,
   "id": "631cdeb5",
   "metadata": {
    "execution": {
     "iopub.execute_input": "2022-07-01T16:57:03.159090Z",
     "iopub.status.busy": "2022-07-01T16:57:03.158471Z",
     "iopub.status.idle": "2022-07-01T16:57:04.422129Z",
     "shell.execute_reply": "2022-07-01T16:57:04.421107Z"
    }
   },
   "outputs": [],
   "source": [
    "import pyodbc\n",
    "import pandas as pd\n",
    "import numpy as np\n",
    "\n",
    "import matplotlib.pyplot as plt\n",
    "from matplotlib import style\n",
    "style.use('fivethirtyeight')"
   ]
  },
  {
   "cell_type": "markdown",
   "id": "e452ad18",
   "metadata": {},
   "source": [
    "# QUERY LINES: PICKING - PACKING - BATCHING"
   ]
  },
  {
   "cell_type": "code",
   "execution_count": 2,
   "id": "cfa380f7",
   "metadata": {
    "execution": {
     "iopub.execute_input": "2022-07-01T16:57:04.424158Z",
     "iopub.status.busy": "2022-07-01T16:57:04.424158Z",
     "iopub.status.idle": "2022-07-01T16:57:04.485042Z",
     "shell.execute_reply": "2022-07-01T16:57:04.484307Z"
    }
   },
   "outputs": [],
   "source": [
    "# Connect to the Database\n",
    "cnxn = pyodbc.connect(\"Driver={SQL Server Native Client 11.0};\"\n",
    "                        \"Server=wd02;\"\n",
    "                        \"Database=FootPrint;\"\n",
    "                        \"Trusted_Connection=yes;\")"
   ]
  },
  {
   "cell_type": "code",
   "execution_count": 3,
   "id": "33630a7b",
   "metadata": {
    "execution": {
     "iopub.execute_input": "2022-07-01T16:57:04.489071Z",
     "iopub.status.busy": "2022-07-01T16:57:04.489071Z",
     "iopub.status.idle": "2022-07-01T16:57:05.083345Z",
     "shell.execute_reply": "2022-07-01T16:57:05.081305Z"
    }
   },
   "outputs": [],
   "source": [
    "df_operations = pd.read_sql_query(\"DECLARE @from date, @to date;\\\n",
    "    SELECT @from = getdate() ,@to = dateadd(day, 1, getdate());\\\n",
    "\\\n",
    "    select t.completedDateTime Date, w.name Warehouse, p.name Project,\\\n",
    "        oc.name OperationCode, t.employee Employee\\\n",
    "    from datex_footprint.Tasks t\\\n",
    "        left join datex_footprint.Warehouses w\\\n",
    "            on w.id = t.warehouseId\\\n",
    "        left join datex_footprint.Projects p\\\n",
    "            on p.id = t.projectId\\\n",
    "        join datex_footprint.OperationCodes oc\\\n",
    "            on oc.id = t.operationCodeId\\\n",
    "        where t.completedDateTime >= @from AND t.completedDateTime < @to AND\\\n",
    "        (t.employee != 'FootPrintService') AND (t.employee != 'Foot Print Service') AND\\\n",
    "        t.statusId = 2 AND t.operationCodeId in (8, 39, 2067)\", cnxn)"
   ]
  },
  {
   "cell_type": "code",
   "execution_count": 4,
   "id": "c735920a",
   "metadata": {
    "execution": {
     "iopub.execute_input": "2022-07-01T16:57:05.092305Z",
     "iopub.status.busy": "2022-07-01T16:57:05.092305Z",
     "iopub.status.idle": "2022-07-01T16:57:05.163090Z",
     "shell.execute_reply": "2022-07-01T16:57:05.160517Z"
    }
   },
   "outputs": [
    {
     "data": {
      "text/html": [
       "<div>\n",
       "<style scoped>\n",
       "    .dataframe tbody tr th:only-of-type {\n",
       "        vertical-align: middle;\n",
       "    }\n",
       "\n",
       "    .dataframe tbody tr th {\n",
       "        vertical-align: top;\n",
       "    }\n",
       "\n",
       "    .dataframe thead th {\n",
       "        text-align: right;\n",
       "    }\n",
       "</style>\n",
       "<table border=\"1\" class=\"dataframe\">\n",
       "  <thead>\n",
       "    <tr style=\"text-align: right;\">\n",
       "      <th></th>\n",
       "      <th>Date</th>\n",
       "      <th>Warehouse</th>\n",
       "      <th>Project</th>\n",
       "      <th>OperationCode</th>\n",
       "      <th>Employee</th>\n",
       "      <th>Hour</th>\n",
       "    </tr>\n",
       "  </thead>\n",
       "  <tbody>\n",
       "    <tr>\n",
       "      <th>0</th>\n",
       "      <td>2022-07-01 07:16:10.547</td>\n",
       "      <td>22</td>\n",
       "      <td>NBTY Global, Inc.</td>\n",
       "      <td>Picking</td>\n",
       "      <td>Chris Martin</td>\n",
       "      <td>7</td>\n",
       "    </tr>\n",
       "    <tr>\n",
       "      <th>1</th>\n",
       "      <td>2022-07-01 07:40:29.553</td>\n",
       "      <td>22</td>\n",
       "      <td>NBTY Global, Inc.</td>\n",
       "      <td>Picking</td>\n",
       "      <td>Chris Martin</td>\n",
       "      <td>7</td>\n",
       "    </tr>\n",
       "    <tr>\n",
       "      <th>2</th>\n",
       "      <td>2022-07-01 07:43:27.297</td>\n",
       "      <td>22</td>\n",
       "      <td>NBTY Global, Inc.</td>\n",
       "      <td>Picking</td>\n",
       "      <td>Chris Martin</td>\n",
       "      <td>7</td>\n",
       "    </tr>\n",
       "    <tr>\n",
       "      <th>3</th>\n",
       "      <td>2022-07-01 07:33:35.220</td>\n",
       "      <td>22</td>\n",
       "      <td>NBTY Global, Inc.</td>\n",
       "      <td>Picking</td>\n",
       "      <td>Chris Martin</td>\n",
       "      <td>7</td>\n",
       "    </tr>\n",
       "    <tr>\n",
       "      <th>4</th>\n",
       "      <td>2022-07-01 07:39:32.053</td>\n",
       "      <td>22</td>\n",
       "      <td>NBTY Global, Inc.</td>\n",
       "      <td>Picking</td>\n",
       "      <td>Chris Martin</td>\n",
       "      <td>7</td>\n",
       "    </tr>\n",
       "  </tbody>\n",
       "</table>\n",
       "</div>"
      ],
      "text/plain": [
       "                     Date Warehouse            Project OperationCode  \\\n",
       "0 2022-07-01 07:16:10.547        22  NBTY Global, Inc.       Picking   \n",
       "1 2022-07-01 07:40:29.553        22  NBTY Global, Inc.       Picking   \n",
       "2 2022-07-01 07:43:27.297        22  NBTY Global, Inc.       Picking   \n",
       "3 2022-07-01 07:33:35.220        22  NBTY Global, Inc.       Picking   \n",
       "4 2022-07-01 07:39:32.053        22  NBTY Global, Inc.       Picking   \n",
       "\n",
       "       Employee  Hour  \n",
       "0  Chris Martin     7  \n",
       "1  Chris Martin     7  \n",
       "2  Chris Martin     7  \n",
       "3  Chris Martin     7  \n",
       "4  Chris Martin     7  "
      ]
     },
     "execution_count": 4,
     "metadata": {},
     "output_type": "execute_result"
    }
   ],
   "source": [
    "# Adding Hours\n",
    "df_operations['Hour'] = pd.to_datetime(df_operations['Date']).dt.hour\n",
    "df_operations.head()"
   ]
  },
  {
   "cell_type": "code",
   "execution_count": 5,
   "id": "22ae8da8",
   "metadata": {
    "execution": {
     "iopub.execute_input": "2022-07-01T16:57:05.173092Z",
     "iopub.status.busy": "2022-07-01T16:57:05.172092Z",
     "iopub.status.idle": "2022-07-01T16:57:05.195094Z",
     "shell.execute_reply": "2022-07-01T16:57:05.192141Z"
    }
   },
   "outputs": [],
   "source": [
    "# Activity Function By Warehouse\n",
    "def activity (warehouse, operationCode, df):\n",
    "    # Filter by warehouse\n",
    "    df2 = df[(df['Warehouse'] == warehouse) & (df['OperationCode'] == operationCode)]\n",
    "    \n",
    "    # Grouped by Employee and Hour\n",
    "    df2 = df2.groupby(['Employee', 'Hour']).count()[['OperationCode']]\n",
    "    df2.reset_index(inplace=True)\n",
    "    \n",
    "    # Pivot\n",
    "    df2 = df2.pivot(index='Employee', columns='Hour', values='OperationCode')\n",
    "    df2 = df2.fillna(0)\n",
    "    df2 = df2.rename_axis(None, axis=1)\n",
    "    \n",
    "    # Save into JSON\n",
    "    df2 = df2.T\n",
    "    file_name = f'data/W{warehouse}_{operationCode}.json'\n",
    "    df2.to_json(file_name)"
   ]
  },
  {
   "cell_type": "code",
   "execution_count": 6,
   "id": "f48970d1",
   "metadata": {
    "execution": {
     "iopub.execute_input": "2022-07-01T16:57:05.205145Z",
     "iopub.status.busy": "2022-07-01T16:57:05.204144Z",
     "iopub.status.idle": "2022-07-01T16:57:05.352891Z",
     "shell.execute_reply": "2022-07-01T16:57:05.351855Z"
    }
   },
   "outputs": [],
   "source": [
    "activity('10', 'Picking', df_operations)\n",
    "activity('10', 'Rate And Ship', df_operations)\n",
    "activity('10', 'Batch Move', df_operations)"
   ]
  },
  {
   "cell_type": "code",
   "execution_count": 7,
   "id": "ab7aa825",
   "metadata": {
    "execution": {
     "iopub.execute_input": "2022-07-01T16:57:05.358934Z",
     "iopub.status.busy": "2022-07-01T16:57:05.357938Z",
     "iopub.status.idle": "2022-07-01T16:57:05.367895Z",
     "shell.execute_reply": "2022-07-01T16:57:05.366926Z"
    }
   },
   "outputs": [],
   "source": [
    "# # Close connection\n",
    "cnxn.close()"
   ]
  },
  {
   "cell_type": "markdown",
   "id": "f6e6c852",
   "metadata": {},
   "source": [
    "# QUERY ORDERS: PICKING - PACKING - BATCHING"
   ]
  },
  {
   "cell_type": "code",
   "execution_count": 8,
   "id": "a34045bd",
   "metadata": {
    "execution": {
     "iopub.execute_input": "2022-07-01T16:57:05.373936Z",
     "iopub.status.busy": "2022-07-01T16:57:05.373936Z",
     "iopub.status.idle": "2022-07-01T16:57:05.383891Z",
     "shell.execute_reply": "2022-07-01T16:57:05.381928Z"
    }
   },
   "outputs": [],
   "source": [
    "# Connect to the Database\n",
    "cnxn = pyodbc.connect(\"Driver={SQL Server Native Client 11.0};\"\n",
    "                        \"Server=wd02;\"\n",
    "                        \"Database=FootPrint;\"\n",
    "                        \"Trusted_Connection=yes;\")"
   ]
  },
  {
   "cell_type": "code",
   "execution_count": 9,
   "id": "4d84963a",
   "metadata": {
    "execution": {
     "iopub.execute_input": "2022-07-01T16:57:05.388894Z",
     "iopub.status.busy": "2022-07-01T16:57:05.388894Z",
     "iopub.status.idle": "2022-07-01T16:57:06.510847Z",
     "shell.execute_reply": "2022-07-01T16:57:06.510847Z"
    }
   },
   "outputs": [],
   "source": [
    "# TODAY ORDERS\n",
    "df_today = pd.read_sql_query(\"DECLARE @from date, @to date;\\\n",
    "    SELECT @from = getdate() ,@to = dateadd(day, 1, getdate());\\\n",
    "\\\n",
    "    select distinct w.name Warehouse, oc.name OperationCode,\\\n",
    "        COUNt(DISTINCT (ISNULL(t.shipmentId, s.id))) Shipment\\\n",
    "    from datex_footprint.Tasks t\\\n",
    "        left join datex_footprint.Warehouses w\\\n",
    "            on w.id = t.warehouseId\\\n",
    "        join datex_footprint.OperationCodes oc\\\n",
    "            on oc.id = t.operationCodeId\\\n",
    "        left join datex_footprint.PickSlips ps\\\n",
    "            on ps.id = t.pickSlipId\\\n",
    "        left join datex_footprint.Waves wa\\\n",
    "            on wa.id = ps.waveId\\\n",
    "        left join datex_footprint.shipments s\\\n",
    "            on s.waveId = wa.id\\\n",
    "        where t.completedDateTime >= @from AND t.completedDateTime < @to AND\\\n",
    "        (t.employee != 'FootPrintService') AND (t.employee != 'Foot Print Service') AND\\\n",
    "        t.statusId = 2 AND t.operationCodeId in (8, 39, 2067)\\\n",
    "        group by w.name, oc.name\", cnxn)"
   ]
  },
  {
   "cell_type": "code",
   "execution_count": 10,
   "id": "73bf0281",
   "metadata": {
    "execution": {
     "iopub.execute_input": "2022-07-01T16:57:06.513847Z",
     "iopub.status.busy": "2022-07-01T16:57:06.513847Z",
     "iopub.status.idle": "2022-07-01T16:57:07.857617Z",
     "shell.execute_reply": "2022-07-01T16:57:07.856650Z"
    }
   },
   "outputs": [],
   "source": [
    "# YESTEDAY ORDERS\n",
    "df_yesterday = pd.read_sql_query(\"DECLARE @from date, @to date;\\\n",
    "    SELECT @from = dateadd(day, -1, getdate()) ,@to = getdate();\\\n",
    "\\\n",
    "    select distinct w.name Warehouse, oc.name OperationCode,\\\n",
    "        COUNt(DISTINCT (ISNULL(t.shipmentId, s.id))) Shipment\\\n",
    "    from datex_footprint.Tasks t\\\n",
    "        left join datex_footprint.Warehouses w\\\n",
    "            on w.id = t.warehouseId\\\n",
    "        join datex_footprint.OperationCodes oc\\\n",
    "            on oc.id = t.operationCodeId\\\n",
    "        left join datex_footprint.PickSlips ps\\\n",
    "            on ps.id = t.pickSlipId\\\n",
    "        left join datex_footprint.Waves wa\\\n",
    "            on wa.id = ps.waveId\\\n",
    "        left join datex_footprint.shipments s\\\n",
    "            on s.waveId = wa.id\\\n",
    "        where t.completedDateTime >= @from AND t.completedDateTime < @to AND\\\n",
    "        (t.employee != 'FootPrintService') AND (t.employee != 'Foot Print Service') AND\\\n",
    "        t.statusId = 2 AND t.operationCodeId in (8, 39, 2067)\\\n",
    "        group by w.name, oc.name\", cnxn)"
   ]
  },
  {
   "cell_type": "code",
   "execution_count": 11,
   "id": "6fc49f2e",
   "metadata": {
    "execution": {
     "iopub.execute_input": "2022-07-01T16:57:07.862612Z",
     "iopub.status.busy": "2022-07-01T16:57:07.862612Z",
     "iopub.status.idle": "2022-07-01T16:57:07.873418Z",
     "shell.execute_reply": "2022-07-01T16:57:07.871885Z"
    }
   },
   "outputs": [],
   "source": [
    "# Rename Columns\n",
    "df_today.rename(columns={'Shipment': 'Today'}, inplace=True)\n",
    "df_yesterday.rename(columns={'Shipment': 'Yesterday'}, inplace=True)"
   ]
  },
  {
   "cell_type": "code",
   "execution_count": 12,
   "id": "b18420f4",
   "metadata": {
    "execution": {
     "iopub.execute_input": "2022-07-01T16:57:07.878423Z",
     "iopub.status.busy": "2022-07-01T16:57:07.878423Z",
     "iopub.status.idle": "2022-07-01T16:57:07.904240Z",
     "shell.execute_reply": "2022-07-01T16:57:07.902703Z"
    }
   },
   "outputs": [],
   "source": [
    "# Merge dataframes\n",
    "df_today_yesterday = pd.merge(df_today, df_yesterday,  how='outer', left_on=['Warehouse','OperationCode'], right_on = ['Warehouse','OperationCode'])"
   ]
  },
  {
   "cell_type": "code",
   "execution_count": 13,
   "id": "79c1e830",
   "metadata": {
    "execution": {
     "iopub.execute_input": "2022-07-01T16:57:07.909251Z",
     "iopub.status.busy": "2022-07-01T16:57:07.909251Z",
     "iopub.status.idle": "2022-07-01T16:57:07.919063Z",
     "shell.execute_reply": "2022-07-01T16:57:07.918251Z"
    }
   },
   "outputs": [],
   "source": [
    "def orders (warehouse, df):\n",
    "    df2 = df[df['Warehouse'] == warehouse]\n",
    "    df2 = df2.pivot(index='Warehouse', columns='OperationCode', values=['Today', 'Yesterday']).fillna(0)\n",
    "    df2 = df2.T\n",
    "    \n",
    "    display(df2)\n",
    "    \n",
    "    file_name = f'data/W{warehouse}_Orders.json'\n",
    "    df2.to_json(file_name)"
   ]
  },
  {
   "cell_type": "code",
   "execution_count": 14,
   "id": "993773f6",
   "metadata": {
    "execution": {
     "iopub.execute_input": "2022-07-01T16:57:07.925126Z",
     "iopub.status.busy": "2022-07-01T16:57:07.925126Z",
     "iopub.status.idle": "2022-07-01T16:57:07.950078Z",
     "shell.execute_reply": "2022-07-01T16:57:07.949119Z"
    }
   },
   "outputs": [
    {
     "data": {
      "text/html": [
       "<div>\n",
       "<style scoped>\n",
       "    .dataframe tbody tr th:only-of-type {\n",
       "        vertical-align: middle;\n",
       "    }\n",
       "\n",
       "    .dataframe tbody tr th {\n",
       "        vertical-align: top;\n",
       "    }\n",
       "\n",
       "    .dataframe thead th {\n",
       "        text-align: right;\n",
       "    }\n",
       "</style>\n",
       "<table border=\"1\" class=\"dataframe\">\n",
       "  <thead>\n",
       "    <tr style=\"text-align: right;\">\n",
       "      <th></th>\n",
       "      <th>Warehouse</th>\n",
       "      <th>10</th>\n",
       "    </tr>\n",
       "    <tr>\n",
       "      <th></th>\n",
       "      <th>OperationCode</th>\n",
       "      <th></th>\n",
       "    </tr>\n",
       "  </thead>\n",
       "  <tbody>\n",
       "    <tr>\n",
       "      <th rowspan=\"3\" valign=\"top\">Today</th>\n",
       "      <th>Batch Move</th>\n",
       "      <td>86.0</td>\n",
       "    </tr>\n",
       "    <tr>\n",
       "      <th>Picking</th>\n",
       "      <td>51.0</td>\n",
       "    </tr>\n",
       "    <tr>\n",
       "      <th>Rate And Ship</th>\n",
       "      <td>23.0</td>\n",
       "    </tr>\n",
       "    <tr>\n",
       "      <th rowspan=\"3\" valign=\"top\">Yesterday</th>\n",
       "      <th>Batch Move</th>\n",
       "      <td>242.0</td>\n",
       "    </tr>\n",
       "    <tr>\n",
       "      <th>Picking</th>\n",
       "      <td>160.0</td>\n",
       "    </tr>\n",
       "    <tr>\n",
       "      <th>Rate And Ship</th>\n",
       "      <td>155.0</td>\n",
       "    </tr>\n",
       "  </tbody>\n",
       "</table>\n",
       "</div>"
      ],
      "text/plain": [
       "Warehouse                   10\n",
       "          OperationCode       \n",
       "Today     Batch Move      86.0\n",
       "          Picking         51.0\n",
       "          Rate And Ship   23.0\n",
       "Yesterday Batch Move     242.0\n",
       "          Picking        160.0\n",
       "          Rate And Ship  155.0"
      ]
     },
     "metadata": {},
     "output_type": "display_data"
    }
   ],
   "source": [
    "orders('10', df_today_yesterday)"
   ]
  },
  {
   "cell_type": "code",
   "execution_count": 15,
   "id": "4bb020fd",
   "metadata": {
    "execution": {
     "iopub.execute_input": "2022-07-01T16:57:07.954117Z",
     "iopub.status.busy": "2022-07-01T16:57:07.954117Z",
     "iopub.status.idle": "2022-07-01T16:57:07.965855Z",
     "shell.execute_reply": "2022-07-01T16:57:07.965120Z"
    }
   },
   "outputs": [],
   "source": [
    "# # Close connection\n",
    "cnxn.close()"
   ]
  },
  {
   "cell_type": "markdown",
   "id": "cfe829e8",
   "metadata": {},
   "source": [
    "# QUERY: OPEN ORDERS\n",
    "Shipments in Released and Executing status"
   ]
  },
  {
   "cell_type": "code",
   "execution_count": 16,
   "id": "b6917f6f",
   "metadata": {
    "execution": {
     "iopub.execute_input": "2022-07-01T16:57:07.970906Z",
     "iopub.status.busy": "2022-07-01T16:57:07.970906Z",
     "iopub.status.idle": "2022-07-01T16:57:07.981870Z",
     "shell.execute_reply": "2022-07-01T16:57:07.980868Z"
    }
   },
   "outputs": [],
   "source": [
    "# Connect to the Database\n",
    "cnxn = pyodbc.connect(\"Driver={SQL Server Native Client 11.0};\"\n",
    "                        \"Server=wd02;\"\n",
    "                        \"Database=FootPrint;\"\n",
    "                        \"Trusted_Connection=yes;\")"
   ]
  },
  {
   "cell_type": "code",
   "execution_count": 17,
   "id": "72994acb",
   "metadata": {
    "execution": {
     "iopub.execute_input": "2022-07-01T16:57:07.986911Z",
     "iopub.status.busy": "2022-07-01T16:57:07.985869Z",
     "iopub.status.idle": "2022-07-01T16:57:07.996870Z",
     "shell.execute_reply": "2022-07-01T16:57:07.995876Z"
    }
   },
   "outputs": [],
   "source": [
    "# OPEN ORDERS\n",
    "df_open_orders = pd.read_sql_query(\"select w.name Warehouse, count(s.lookupCode) Shipments\\\n",
    "    from datex_footprint.Shipments s\\\n",
    "        join datex_footprint.Warehouses w\\\n",
    "            on w.id = ISNULL(s.actualWarehouseId, s.expectedWarehouseId)\\\n",
    "    where s.statusId in (2, 4) and s.typeId = 2\\\n",
    "    group by w.name\", cnxn)"
   ]
  },
  {
   "cell_type": "code",
   "execution_count": 18,
   "id": "3e534528",
   "metadata": {
    "execution": {
     "iopub.execute_input": "2022-07-01T16:57:07.999870Z",
     "iopub.status.busy": "2022-07-01T16:57:07.999870Z",
     "iopub.status.idle": "2022-07-01T16:57:08.012867Z",
     "shell.execute_reply": "2022-07-01T16:57:08.011904Z"
    }
   },
   "outputs": [
    {
     "data": {
      "text/html": [
       "<div>\n",
       "<style scoped>\n",
       "    .dataframe tbody tr th:only-of-type {\n",
       "        vertical-align: middle;\n",
       "    }\n",
       "\n",
       "    .dataframe tbody tr th {\n",
       "        vertical-align: top;\n",
       "    }\n",
       "\n",
       "    .dataframe thead th {\n",
       "        text-align: right;\n",
       "    }\n",
       "</style>\n",
       "<table border=\"1\" class=\"dataframe\">\n",
       "  <thead>\n",
       "    <tr style=\"text-align: right;\">\n",
       "      <th>Warehouse</th>\n",
       "      <th>10</th>\n",
       "      <th>12</th>\n",
       "      <th>14</th>\n",
       "      <th>15</th>\n",
       "      <th>16</th>\n",
       "      <th>17</th>\n",
       "      <th>18</th>\n",
       "      <th>19</th>\n",
       "      <th>20</th>\n",
       "      <th>21</th>\n",
       "      <th>22</th>\n",
       "    </tr>\n",
       "  </thead>\n",
       "  <tbody>\n",
       "    <tr>\n",
       "      <th>Shipments</th>\n",
       "      <td>161</td>\n",
       "      <td>47</td>\n",
       "      <td>1</td>\n",
       "      <td>42</td>\n",
       "      <td>24</td>\n",
       "      <td>15</td>\n",
       "      <td>3</td>\n",
       "      <td>61</td>\n",
       "      <td>130</td>\n",
       "      <td>12</td>\n",
       "      <td>5</td>\n",
       "    </tr>\n",
       "  </tbody>\n",
       "</table>\n",
       "</div>"
      ],
      "text/plain": [
       "Warehouse   10  12  14  15  16  17  18  19   20  21  22\n",
       "Shipments  161  47   1  42  24  15   3  61  130  12   5"
      ]
     },
     "execution_count": 18,
     "metadata": {},
     "output_type": "execute_result"
    }
   ],
   "source": [
    "df_open_orders.set_index('Warehouse', inplace=True)\n",
    "df_open_orders = df_open_orders.T\n",
    "df_open_orders"
   ]
  },
  {
   "cell_type": "code",
   "execution_count": 19,
   "id": "2cfd5c4a",
   "metadata": {
    "execution": {
     "iopub.execute_input": "2022-07-01T16:57:08.015867Z",
     "iopub.status.busy": "2022-07-01T16:57:08.015867Z",
     "iopub.status.idle": "2022-07-01T16:57:08.028524Z",
     "shell.execute_reply": "2022-07-01T16:57:08.028014Z"
    }
   },
   "outputs": [],
   "source": [
    "file_name = f'data/Open_Orders.json'\n",
    "df_open_orders.to_json(file_name)"
   ]
  },
  {
   "cell_type": "code",
   "execution_count": 20,
   "id": "86aaf66f",
   "metadata": {
    "execution": {
     "iopub.execute_input": "2022-07-01T16:57:08.032578Z",
     "iopub.status.busy": "2022-07-01T16:57:08.032578Z",
     "iopub.status.idle": "2022-07-01T16:57:08.044540Z",
     "shell.execute_reply": "2022-07-01T16:57:08.043571Z"
    }
   },
   "outputs": [],
   "source": [
    "# # Close connection\n",
    "cnxn.close()"
   ]
  },
  {
   "cell_type": "code",
   "execution_count": null,
   "id": "72b78df6",
   "metadata": {},
   "outputs": [],
   "source": []
  },
  {
   "cell_type": "code",
   "execution_count": null,
   "id": "d5f52d43",
   "metadata": {},
   "outputs": [],
   "source": []
  },
  {
   "cell_type": "code",
   "execution_count": null,
   "id": "81d3bd0c",
   "metadata": {},
   "outputs": [],
   "source": []
  },
  {
   "cell_type": "code",
   "execution_count": null,
   "id": "a0252f3a",
   "metadata": {},
   "outputs": [],
   "source": []
  },
  {
   "cell_type": "code",
   "execution_count": null,
   "id": "5b20e3fe",
   "metadata": {},
   "outputs": [],
   "source": []
  },
  {
   "cell_type": "code",
   "execution_count": null,
   "id": "e427507c",
   "metadata": {},
   "outputs": [],
   "source": []
  },
  {
   "cell_type": "code",
   "execution_count": null,
   "id": "ce5a9472",
   "metadata": {},
   "outputs": [],
   "source": []
  },
  {
   "cell_type": "code",
   "execution_count": null,
   "id": "ec1114a6",
   "metadata": {},
   "outputs": [],
   "source": []
  },
  {
   "cell_type": "code",
   "execution_count": null,
   "id": "48dcade4",
   "metadata": {},
   "outputs": [],
   "source": []
  },
  {
   "cell_type": "code",
   "execution_count": null,
   "id": "87b3ff6b",
   "metadata": {},
   "outputs": [],
   "source": []
  },
  {
   "cell_type": "markdown",
   "id": "535778bf",
   "metadata": {},
   "source": [
    "# QUERY 02: Open Outbounds WAREHOUSE 10"
   ]
  },
  {
   "cell_type": "code",
   "execution_count": 21,
   "id": "2c1090ec",
   "metadata": {
    "execution": {
     "iopub.execute_input": "2022-07-01T16:57:08.048541Z",
     "iopub.status.busy": "2022-07-01T16:57:08.048541Z",
     "iopub.status.idle": "2022-07-01T16:57:08.060574Z",
     "shell.execute_reply": "2022-07-01T16:57:08.059571Z"
    }
   },
   "outputs": [],
   "source": [
    "# Connect to the Database\n",
    "\n",
    "# cnxn = pyodbc.connect(\"Driver={SQL Server Native Client 11.0};\"\n",
    "#                         \"Server=wd02;\"\n",
    "#                         \"Database=FootPrint;\"\n",
    "#                         \"Trusted_Connection=yes;\")"
   ]
  },
  {
   "cell_type": "code",
   "execution_count": 22,
   "id": "50ba15dd",
   "metadata": {
    "execution": {
     "iopub.execute_input": "2022-07-01T16:57:08.063571Z",
     "iopub.status.busy": "2022-07-01T16:57:08.063571Z",
     "iopub.status.idle": "2022-07-01T16:57:08.075535Z",
     "shell.execute_reply": "2022-07-01T16:57:08.074535Z"
    }
   },
   "outputs": [],
   "source": [
    "# df_02 = pd.read_sql_query(\"SELECT DISTINCT w.name warehouse, p.name project, s.lookupCode shipment_number, s.createdSysDateTime\\\n",
    "#     FROM datex_footprint.shipments s\\\n",
    "#     LEFT JOIN datex_footprint.ShipmentOrderLookup sol\\\n",
    "#         on sol.shipmentId = s.id\\\n",
    "#     LEFT JOIN datex_footprint.orders o\\\n",
    "#         on o.id = sol.orderId\\\n",
    "#     LEFT JOIN datex_footprint.Projects p\\\n",
    "#         on p.id = o.projectId\\\n",
    "#     LEFT JOIN datex_footprint.warehouses w\\\n",
    "#         on w.id = isnull(s.actualWarehouseId, s.expectedWarehouseId)\\\n",
    "#     WHERE s.statusId in (1, 2, 4) and s.typeId = 2\\\n",
    "#     ORDER BY createdSysDateTime\", cnxn)"
   ]
  },
  {
   "cell_type": "code",
   "execution_count": 23,
   "id": "4ead82a2",
   "metadata": {
    "execution": {
     "iopub.execute_input": "2022-07-01T16:57:08.079535Z",
     "iopub.status.busy": "2022-07-01T16:57:08.078571Z",
     "iopub.status.idle": "2022-07-01T16:57:08.090535Z",
     "shell.execute_reply": "2022-07-01T16:57:08.089579Z"
    }
   },
   "outputs": [],
   "source": [
    "# df_02.head()"
   ]
  },
  {
   "cell_type": "code",
   "execution_count": 24,
   "id": "2f4d888f",
   "metadata": {
    "execution": {
     "iopub.execute_input": "2022-07-01T16:57:08.094535Z",
     "iopub.status.busy": "2022-07-01T16:57:08.093544Z",
     "iopub.status.idle": "2022-07-01T16:57:08.106536Z",
     "shell.execute_reply": "2022-07-01T16:57:08.105540Z"
    }
   },
   "outputs": [],
   "source": [
    "# df_02['age_order'] = pd.Timestamp.now() - df_02['createdSysDateTime']\n",
    "# df_02.head()"
   ]
  },
  {
   "cell_type": "code",
   "execution_count": 25,
   "id": "8b695887",
   "metadata": {
    "execution": {
     "iopub.execute_input": "2022-07-01T16:57:08.110571Z",
     "iopub.status.busy": "2022-07-01T16:57:08.110571Z",
     "iopub.status.idle": "2022-07-01T16:57:08.122541Z",
     "shell.execute_reply": "2022-07-01T16:57:08.121541Z"
    }
   },
   "outputs": [],
   "source": [
    "# df_02['age_order_days'] = df_02['age_order'].dt.components['days']\n",
    "# df_02['age_order_hours'] = df_02['age_order'].dt.components['hours']\n",
    "# df_02.head()"
   ]
  },
  {
   "cell_type": "code",
   "execution_count": 26,
   "id": "b21efff0",
   "metadata": {
    "execution": {
     "iopub.execute_input": "2022-07-01T16:57:08.125538Z",
     "iopub.status.busy": "2022-07-01T16:57:08.125538Z",
     "iopub.status.idle": "2022-07-01T16:57:08.137211Z",
     "shell.execute_reply": "2022-07-01T16:57:08.136696Z"
    }
   },
   "outputs": [],
   "source": [
    "# Open Orders less than 24 hours\n",
    "\n",
    "# df_02 = df_02.loc[(df_02['age_order_days'] == 0) & (df_02['warehouse'] == '10')]\n",
    "# df_02.head()"
   ]
  },
  {
   "cell_type": "code",
   "execution_count": 27,
   "id": "1e73132e",
   "metadata": {
    "execution": {
     "iopub.execute_input": "2022-07-01T16:57:08.141266Z",
     "iopub.status.busy": "2022-07-01T16:57:08.141266Z",
     "iopub.status.idle": "2022-07-01T16:57:08.152952Z",
     "shell.execute_reply": "2022-07-01T16:57:08.152441Z"
    }
   },
   "outputs": [],
   "source": [
    "# Bins per hour\n",
    "\n",
    "# bins =[-1,4,8,12,16,24]\n",
    "# bin_names = ['4 Hours', '8 Hours', '12 Hours', '16 Hours', '24 Hours']\n",
    "\n",
    "# df_02['age_group'] = pd.cut(df_02['age_order_hours'], bins, labels=bin_names)"
   ]
  },
  {
   "cell_type": "code",
   "execution_count": 28,
   "id": "50b37145",
   "metadata": {
    "execution": {
     "iopub.execute_input": "2022-07-01T16:57:08.157001Z",
     "iopub.status.busy": "2022-07-01T16:57:08.157001Z",
     "iopub.status.idle": "2022-07-01T16:57:08.169001Z",
     "shell.execute_reply": "2022-07-01T16:57:08.168000Z"
    }
   },
   "outputs": [],
   "source": [
    "# df_02_grouped = df_02.groupby(['age_group'])[['project']].count()"
   ]
  },
  {
   "cell_type": "code",
   "execution_count": 29,
   "id": "ad0ad7b8",
   "metadata": {
    "execution": {
     "iopub.execute_input": "2022-07-01T16:57:08.172000Z",
     "iopub.status.busy": "2022-07-01T16:57:08.172000Z",
     "iopub.status.idle": "2022-07-01T16:57:08.185108Z",
     "shell.execute_reply": "2022-07-01T16:57:08.184070Z"
    }
   },
   "outputs": [],
   "source": [
    "# df_02_grouped = df_02_grouped.rename(columns={'project': 'orders'})"
   ]
  },
  {
   "cell_type": "markdown",
   "id": "ae473cac",
   "metadata": {},
   "source": [
    "### Save in JSON File"
   ]
  },
  {
   "cell_type": "code",
   "execution_count": 30,
   "id": "2d6c8932",
   "metadata": {
    "execution": {
     "iopub.execute_input": "2022-07-01T16:57:08.189103Z",
     "iopub.status.busy": "2022-07-01T16:57:08.189103Z",
     "iopub.status.idle": "2022-07-01T16:57:08.200198Z",
     "shell.execute_reply": "2022-07-01T16:57:08.199163Z"
    }
   },
   "outputs": [],
   "source": [
    "# open_outbounds = df_02_grouped\n",
    "# open_outbounds.to_json('data/open_outbounds.json')\n",
    "# open_outbounds"
   ]
  },
  {
   "cell_type": "code",
   "execution_count": 31,
   "id": "9f6bab4b",
   "metadata": {
    "execution": {
     "iopub.execute_input": "2022-07-01T16:57:08.204163Z",
     "iopub.status.busy": "2022-07-01T16:57:08.203161Z",
     "iopub.status.idle": "2022-07-01T16:57:08.215888Z",
     "shell.execute_reply": "2022-07-01T16:57:08.214856Z"
    }
   },
   "outputs": [],
   "source": [
    "# df_02_grouped = df_02_grouped.iloc[::-1]\n",
    "# df_02_grouped.plot.barh()"
   ]
  },
  {
   "cell_type": "code",
   "execution_count": 32,
   "id": "b030f66f",
   "metadata": {
    "execution": {
     "iopub.execute_input": "2022-07-01T16:57:08.218897Z",
     "iopub.status.busy": "2022-07-01T16:57:08.218897Z",
     "iopub.status.idle": "2022-07-01T16:57:08.231931Z",
     "shell.execute_reply": "2022-07-01T16:57:08.231177Z"
    }
   },
   "outputs": [],
   "source": [
    "# Close connection\n",
    "\n",
    "# cnxn.close()"
   ]
  },
  {
   "cell_type": "markdown",
   "id": "cda41e6f",
   "metadata": {},
   "source": []
  },
  {
   "cell_type": "markdown",
   "id": "9bf6f1bc",
   "metadata": {},
   "source": [
    "# QUERY 3: Picking Performance (Orders and Waves)"
   ]
  },
  {
   "cell_type": "code",
   "execution_count": 33,
   "id": "887d613e",
   "metadata": {
    "execution": {
     "iopub.execute_input": "2022-07-01T16:57:08.235925Z",
     "iopub.status.busy": "2022-07-01T16:57:08.235925Z",
     "iopub.status.idle": "2022-07-01T16:57:08.246938Z",
     "shell.execute_reply": "2022-07-01T16:57:08.246378Z"
    }
   },
   "outputs": [],
   "source": [
    "# Connect to the Database\n",
    "\n",
    "# cnxn = pyodbc.connect(\"Driver={SQL Server Native Client 11.0};\"\n",
    "#                         \"Server=wd02;\"\n",
    "#                         \"Database=FootPrint;\"\n",
    "#                         \"Trusted_Connection=yes;\")"
   ]
  },
  {
   "cell_type": "code",
   "execution_count": 34,
   "id": "641caea5",
   "metadata": {
    "execution": {
     "iopub.execute_input": "2022-07-01T16:57:08.250987Z",
     "iopub.status.busy": "2022-07-01T16:57:08.249987Z",
     "iopub.status.idle": "2022-07-01T16:57:08.263029Z",
     "shell.execute_reply": "2022-07-01T16:57:08.262249Z"
    }
   },
   "outputs": [],
   "source": [
    "# df03 = pd.read_sql_query(\"DECLARE @from date, @to date;\\\n",
    "#                           SELECT @from = getdate(), @to = dateadd(day, 1, getdate());\\\n",
    "#     SELECT t.completedDateTime Date, oc.name Operation, w.name Warehouse,\\\n",
    "#            p.name Project, m.lookupCode Material, employee Employee, s.lookupCode Shipment, isnull(s.waveId, ps.waveId) Wave,\\\n",
    "#            ordersPerWave.shipmentsCount, lc.name Location\\\n",
    "#     FROM datex_footprint.Tasks t\\\n",
    "#         join datex_footprint.OperationCodes oc\\\n",
    "#             on oc.id = t.operationCodeId\\\n",
    "#         left join datex_footprint.Warehouses w\\\n",
    "#             on w.id = t.warehouseId\\\n",
    "#         left join datex_footprint.Projects p\\\n",
    "#             on p.id = t.projectId\\\n",
    "#         left join datex_footprint.Materials m\\\n",
    "#             on m.id = t.materialId\\\n",
    "#         left join datex_footprint.Shipments s\\\n",
    "#             on s.id = t.shipmentId\\\n",
    "#         left join datex_footprint.PickSlips ps\\\n",
    "#             on ps.id = t.pickSlipId\\\n",
    "#         left join datex_footprint.LocationContainers lc\\\n",
    "#             on lc.id = t.actualSourceLocationId\\\n",
    "#         outer apply (\\\n",
    "#             select\\\n",
    "#                 count(distinct tt.shipmentId) shipmentsCount\\\n",
    "#                 from datex_footprint.waves ww\\\n",
    "#                     inner join datex_footprint.PickSlips ppss\\\n",
    "#                     inner join datex_footprint.tasks tt\\\n",
    "#                         on tt.operationCodeId = 8 and tt.pickSlipId = ppss.id\\\n",
    "#                         on ppss.waveId = ww.id\\\n",
    "#                 where ww.id = isnull(s.waveId, ps.waveId)) ordersPerWave\\\n",
    "#     where t.completedDateTime >= @from and t.completedDateTime < @to and t.statusId = 2\\\n",
    "#     and t.operationCodeId in (8, 39, 2064, 2065, 2066) and t.employee != 'Foot Print Service'\\\n",
    "#     order by s.lookupCode, t.completedDateTime\", cnxn)"
   ]
  },
  {
   "cell_type": "code",
   "execution_count": 35,
   "id": "a4cb2a77",
   "metadata": {
    "execution": {
     "iopub.execute_input": "2022-07-01T16:57:08.267042Z",
     "iopub.status.busy": "2022-07-01T16:57:08.266043Z",
     "iopub.status.idle": "2022-07-01T16:57:08.279010Z",
     "shell.execute_reply": "2022-07-01T16:57:08.278256Z"
    }
   },
   "outputs": [],
   "source": [
    "# df03.tail(3)"
   ]
  },
  {
   "cell_type": "code",
   "execution_count": 36,
   "id": "b2d6e6c7",
   "metadata": {
    "execution": {
     "iopub.execute_input": "2022-07-01T16:57:08.283049Z",
     "iopub.status.busy": "2022-07-01T16:57:08.283049Z",
     "iopub.status.idle": "2022-07-01T16:57:08.294394Z",
     "shell.execute_reply": "2022-07-01T16:57:08.293389Z"
    }
   },
   "outputs": [],
   "source": [
    "# Order Columns\n",
    "\n",
    "# df03 = df03[['Warehouse', 'Project', 'Wave', 'Shipment', 'Date', 'Operation', 'Employee',\n",
    "#              'Location', 'shipmentsCount', 'Material']]"
   ]
  },
  {
   "cell_type": "markdown",
   "id": "782d10c7",
   "metadata": {},
   "source": [
    "### Filter by Shipments"
   ]
  },
  {
   "cell_type": "code",
   "execution_count": 37,
   "id": "deb919ce",
   "metadata": {
    "execution": {
     "iopub.execute_input": "2022-07-01T16:57:08.298386Z",
     "iopub.status.busy": "2022-07-01T16:57:08.298386Z",
     "iopub.status.idle": "2022-07-01T16:57:08.309626Z",
     "shell.execute_reply": "2022-07-01T16:57:08.308702Z"
    }
   },
   "outputs": [],
   "source": [
    "# Filter by Orders only\n",
    "\n",
    "# df03_orders = df03.loc[(df03['Operation']=='Picking') |\n",
    "#                        (df03['Operation']=='Scanned Shipment') |\n",
    "#                        (df03['Operation']=='Picking Completed')]\n",
    "\n",
    "# df03_orders = df03_orders[['Warehouse', 'Project', 'Shipment', 'Date', 'Operation', 'Employee', 'Location']]\n",
    "\n",
    "# df03_orders.head()"
   ]
  },
  {
   "cell_type": "code",
   "execution_count": 38,
   "id": "379538a4",
   "metadata": {
    "execution": {
     "iopub.execute_input": "2022-07-01T16:57:08.313681Z",
     "iopub.status.busy": "2022-07-01T16:57:08.313681Z",
     "iopub.status.idle": "2022-07-01T16:57:08.324647Z",
     "shell.execute_reply": "2022-07-01T16:57:08.323906Z"
    }
   },
   "outputs": [],
   "source": [
    "# Create a new column with the time difference between rows\n",
    "\n",
    "# df03_orders['PickingTime'] = df03_orders['Date'].diff()\n",
    "# df03_orders.head()"
   ]
  },
  {
   "cell_type": "code",
   "execution_count": 39,
   "id": "1c8ab7a0",
   "metadata": {
    "execution": {
     "iopub.execute_input": "2022-07-01T16:57:08.328640Z",
     "iopub.status.busy": "2022-07-01T16:57:08.328640Z",
     "iopub.status.idle": "2022-07-01T16:57:08.340591Z",
     "shell.execute_reply": "2022-07-01T16:57:08.339583Z"
    }
   },
   "outputs": [],
   "source": [
    "# Add Hour, Minute and Second columns\n",
    "\n",
    "# df03_orders['hour'] = df03_orders['PickingTime'].dt.components['hours']\n",
    "# df03_orders['minute'] = df03_orders['PickingTime'].dt.components['minutes']\n",
    "# df03_orders['second'] = df03_orders['PickingTime'].dt.components['seconds']\n",
    "# df03_orders.head()"
   ]
  },
  {
   "cell_type": "code",
   "execution_count": 40,
   "id": "65c5bae7",
   "metadata": {
    "execution": {
     "iopub.execute_input": "2022-07-01T16:57:08.345590Z",
     "iopub.status.busy": "2022-07-01T16:57:08.345590Z",
     "iopub.status.idle": "2022-07-01T16:57:08.356240Z",
     "shell.execute_reply": "2022-07-01T16:57:08.355728Z"
    }
   },
   "outputs": [],
   "source": [
    "# Set all the Scanned Shipment hour, minute, time to ZERO\n",
    "\n",
    "# df03_orders_modified = df03_orders\n",
    "\n",
    "# df03_orders_modified.loc[df03_orders_modified.Operation == 'Scanned Shipment', 'hour'] = 0.0\n",
    "# df03_orders_modified.loc[df03_orders_modified.Operation == 'Scanned Shipment', 'minute'] = 0.0\n",
    "# df03_orders_modified.loc[df03_orders_modified.Operation == 'Scanned Shipment', 'second'] = 0.0\n",
    "\n",
    "# df03_orders_modified.loc[df03_orders_modified['Operation'] == 'Scanned Shipment'].head()"
   ]
  },
  {
   "cell_type": "code",
   "execution_count": 41,
   "id": "0a32c449",
   "metadata": {
    "execution": {
     "iopub.execute_input": "2022-07-01T16:57:08.360253Z",
     "iopub.status.busy": "2022-07-01T16:57:08.360253Z",
     "iopub.status.idle": "2022-07-01T16:57:08.371920Z",
     "shell.execute_reply": "2022-07-01T16:57:08.371411Z"
    }
   },
   "outputs": [],
   "source": [
    "# df03_orders_modified['Time'] = df03_orders_modified['hour']*60 + df03_orders_modified['minute'] + df03_orders_modified['second']/60\n",
    "# df03_orders_modified.head()"
   ]
  },
  {
   "cell_type": "code",
   "execution_count": 42,
   "id": "47d0ed4a",
   "metadata": {
    "execution": {
     "iopub.execute_input": "2022-07-01T16:57:08.375932Z",
     "iopub.status.busy": "2022-07-01T16:57:08.375932Z",
     "iopub.status.idle": "2022-07-01T16:57:08.387647Z",
     "shell.execute_reply": "2022-07-01T16:57:08.386937Z"
    }
   },
   "outputs": [],
   "source": [
    "# Save in JSON Format for HTML\n",
    "\n",
    "# df03_group = df03_orders_modified.groupby(['Warehouse', 'Project', 'Shipment', 'Operation', 'Date'])[['Time']].sum().sort_values(['Warehouse', 'Project', 'Shipment', 'Date'])\n",
    "# df03_group.to_json('data/performance.json', orient='table')\n",
    "# df03_group.head(20)"
   ]
  },
  {
   "cell_type": "code",
   "execution_count": 43,
   "id": "8965cf87",
   "metadata": {
    "execution": {
     "iopub.execute_input": "2022-07-01T16:57:08.391664Z",
     "iopub.status.busy": "2022-07-01T16:57:08.391664Z",
     "iopub.status.idle": "2022-07-01T16:57:08.403662Z",
     "shell.execute_reply": "2022-07-01T16:57:08.402663Z"
    }
   },
   "outputs": [],
   "source": [
    "# Remove Operation 'Scanned Shipment'\n",
    "\n",
    "# df03_excluding_Scanned = df03_orders_modified.loc[df03_orders_modified['Operation'] != 'Scanned Shipment']\n",
    "# df03_excluding_Scanned.head()"
   ]
  },
  {
   "cell_type": "code",
   "execution_count": 44,
   "id": "639c4e63",
   "metadata": {
    "execution": {
     "iopub.execute_input": "2022-07-01T16:57:08.406700Z",
     "iopub.status.busy": "2022-07-01T16:57:08.406700Z",
     "iopub.status.idle": "2022-07-01T16:57:08.419664Z",
     "shell.execute_reply": "2022-07-01T16:57:08.418664Z"
    }
   },
   "outputs": [],
   "source": [
    "# Save in CSV Format for Tableau\n",
    "\n",
    "# df03_group2 = df03_excluding_Scanned.groupby(['Warehouse', 'Project', 'Employee', 'Shipment', 'Operation', 'Date'])[['Time']].sum().sort_values(['Warehouse', 'Project', 'Employee', 'Shipment', 'Date'])\n",
    "# df03_group2.to_csv('data/performance.csv')\n",
    "# df03_group2.head(20)"
   ]
  },
  {
   "cell_type": "code",
   "execution_count": 45,
   "id": "72973a53",
   "metadata": {
    "execution": {
     "iopub.execute_input": "2022-07-01T16:57:08.422663Z",
     "iopub.status.busy": "2022-07-01T16:57:08.422663Z",
     "iopub.status.idle": "2022-07-01T16:57:08.434662Z",
     "shell.execute_reply": "2022-07-01T16:57:08.434662Z"
    }
   },
   "outputs": [],
   "source": [
    "# Close connection\n",
    "\n",
    "# cnxn.close()"
   ]
  },
  {
   "cell_type": "code",
   "execution_count": null,
   "id": "61b643e2",
   "metadata": {},
   "outputs": [],
   "source": []
  }
 ],
 "metadata": {
  "kernelspec": {
   "display_name": "PythonData",
   "language": "python",
   "name": "pythondata"
  },
  "language_info": {
   "codemirror_mode": {
    "name": "ipython",
    "version": 3
   },
   "file_extension": ".py",
   "mimetype": "text/x-python",
   "name": "python",
   "nbconvert_exporter": "python",
   "pygments_lexer": "ipython3",
   "version": "3.7.11"
  }
 },
 "nbformat": 4,
 "nbformat_minor": 5
}
