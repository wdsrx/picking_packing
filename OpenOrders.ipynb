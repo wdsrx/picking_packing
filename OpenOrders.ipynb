{
 "cells": [
  {
   "cell_type": "code",
   "execution_count": 1,
   "id": "631cdeb5",
   "metadata": {
    "execution": {
     "iopub.execute_input": "2022-10-31T10:44:50.372813Z",
     "iopub.status.busy": "2022-10-31T10:44:50.372813Z",
     "iopub.status.idle": "2022-10-31T10:44:51.785827Z",
     "shell.execute_reply": "2022-10-31T10:44:51.784819Z"
    }
   },
   "outputs": [],
   "source": [
    "import pyodbc\n",
    "import pandas as pd\n",
    "import numpy as np\n",
    "\n",
    "import matplotlib.pyplot as plt\n",
    "from matplotlib import style\n",
    "style.use('fivethirtyeight')"
   ]
  },
  {
   "cell_type": "markdown",
   "id": "e452ad18",
   "metadata": {},
   "source": [
    "# QUERY LINES: PICKING - PACKING - BATCHING"
   ]
  },
  {
   "cell_type": "code",
   "execution_count": 2,
   "id": "cfa380f7",
   "metadata": {
    "execution": {
     "iopub.execute_input": "2022-10-31T10:44:51.788785Z",
     "iopub.status.busy": "2022-10-31T10:44:51.787822Z",
     "iopub.status.idle": "2022-10-31T10:44:51.862611Z",
     "shell.execute_reply": "2022-10-31T10:44:51.862611Z"
    }
   },
   "outputs": [],
   "source": [
    "# Connect to the Database\n",
    "cnxn = pyodbc.connect(\"Driver={SQL Server Native Client 11.0};\"\n",
    "                        \"Server=wd02;\"\n",
    "                        \"Database=FootPrint;\"\n",
    "                        \"UID=WOODFIELD\\\\jmeza@wdsrx.com;\"\n",
    "                        \"PWD=Clavezaza2022;\"\n",
    "                        \"Trusted_Connection=yes;\")"
   ]
  },
  {
   "cell_type": "code",
   "execution_count": 3,
   "id": "33630a7b",
   "metadata": {
    "execution": {
     "iopub.execute_input": "2022-10-31T10:44:51.865610Z",
     "iopub.status.busy": "2022-10-31T10:44:51.865610Z",
     "iopub.status.idle": "2022-10-31T10:44:52.470192Z",
     "shell.execute_reply": "2022-10-31T10:44:52.469189Z"
    }
   },
   "outputs": [],
   "source": [
    "df_operations = pd.read_sql_query(\"DECLARE @from date, @to date;\\\n",
    "    SELECT @from = getdate() ,@to = dateadd(day, 1, getdate());\\\n",
    "\\\n",
    "    select t.completedDateTime Date, w.name Warehouse, p.name Project,\\\n",
    "        oc.name OperationCode, t.employee Employee\\\n",
    "    from datex_footprint.Tasks t\\\n",
    "        left join datex_footprint.Warehouses w\\\n",
    "            on w.id = t.warehouseId\\\n",
    "        left join datex_footprint.Projects p\\\n",
    "            on p.id = t.projectId\\\n",
    "        join datex_footprint.OperationCodes oc\\\n",
    "            on oc.id = t.operationCodeId\\\n",
    "        where t.completedDateTime >= @from AND t.completedDateTime < @to AND\\\n",
    "        (t.employee != 'FootPrintService') AND (t.employee != 'Foot Print Service') AND\\\n",
    "        t.statusId = 2 AND t.operationCodeId in (8, 39, 2067)\", cnxn)"
   ]
  },
  {
   "cell_type": "code",
   "execution_count": 4,
   "id": "c735920a",
   "metadata": {
    "execution": {
     "iopub.execute_input": "2022-10-31T10:44:52.472219Z",
     "iopub.status.busy": "2022-10-31T10:44:52.472219Z",
     "iopub.status.idle": "2022-10-31T10:44:52.485220Z",
     "shell.execute_reply": "2022-10-31T10:44:52.485220Z"
    }
   },
   "outputs": [
    {
     "data": {
      "text/html": [
       "<div>\n",
       "<style scoped>\n",
       "    .dataframe tbody tr th:only-of-type {\n",
       "        vertical-align: middle;\n",
       "    }\n",
       "\n",
       "    .dataframe tbody tr th {\n",
       "        vertical-align: top;\n",
       "    }\n",
       "\n",
       "    .dataframe thead th {\n",
       "        text-align: right;\n",
       "    }\n",
       "</style>\n",
       "<table border=\"1\" class=\"dataframe\">\n",
       "  <thead>\n",
       "    <tr style=\"text-align: right;\">\n",
       "      <th></th>\n",
       "      <th>Date</th>\n",
       "      <th>Warehouse</th>\n",
       "      <th>Project</th>\n",
       "      <th>OperationCode</th>\n",
       "      <th>Employee</th>\n",
       "      <th>Hour</th>\n",
       "    </tr>\n",
       "  </thead>\n",
       "  <tbody>\n",
       "  </tbody>\n",
       "</table>\n",
       "</div>"
      ],
      "text/plain": [
       "Empty DataFrame\n",
       "Columns: [Date, Warehouse, Project, OperationCode, Employee, Hour]\n",
       "Index: []"
      ]
     },
     "execution_count": 4,
     "metadata": {},
     "output_type": "execute_result"
    }
   ],
   "source": [
    "# Adding Hours\n",
    "df_operations['Hour'] = pd.to_datetime(df_operations['Date']).dt.hour\n",
    "df_operations.head()"
   ]
  },
  {
   "cell_type": "code",
   "execution_count": 5,
   "id": "22ae8da8",
   "metadata": {
    "execution": {
     "iopub.execute_input": "2022-10-31T10:44:52.489187Z",
     "iopub.status.busy": "2022-10-31T10:44:52.489187Z",
     "iopub.status.idle": "2022-10-31T10:44:52.500293Z",
     "shell.execute_reply": "2022-10-31T10:44:52.500293Z"
    }
   },
   "outputs": [],
   "source": [
    "# Activity Function By Warehouse\n",
    "def activity (warehouse, operationCode, df):\n",
    "    # Filter by warehouse\n",
    "    df2 = df[(df['Warehouse'] == warehouse) & (df['OperationCode'] == operationCode)]\n",
    "    \n",
    "    # Grouped by Employee and Hour\n",
    "    df2 = df2.groupby(['Employee', 'Hour']).count()[['OperationCode']]\n",
    "    df2.reset_index(inplace=True)\n",
    "    \n",
    "    # Pivot\n",
    "    df2 = df2.pivot(index='Employee', columns='Hour', values='OperationCode')\n",
    "    df2 = df2.fillna(0)\n",
    "    df2 = df2.rename_axis(None, axis=1)\n",
    "    \n",
    "    # Save into JSON\n",
    "    df2 = df2.T\n",
    "    file_name = f'data/W{warehouse}_{operationCode}.json'\n",
    "    df2.to_json(file_name)"
   ]
  },
  {
   "cell_type": "code",
   "execution_count": 6,
   "id": "f48970d1",
   "metadata": {
    "execution": {
     "iopub.execute_input": "2022-10-31T10:44:52.503189Z",
     "iopub.status.busy": "2022-10-31T10:44:52.503189Z",
     "iopub.status.idle": "2022-10-31T10:44:52.531193Z",
     "shell.execute_reply": "2022-10-31T10:44:52.530309Z"
    }
   },
   "outputs": [],
   "source": [
    "activity('10', 'Picking', df_operations)\n",
    "activity('10', 'Rate And Ship', df_operations)\n",
    "activity('10', 'Batch Move', df_operations)"
   ]
  },
  {
   "cell_type": "code",
   "execution_count": 7,
   "id": "ab7aa825",
   "metadata": {
    "execution": {
     "iopub.execute_input": "2022-10-31T10:44:52.534221Z",
     "iopub.status.busy": "2022-10-31T10:44:52.534221Z",
     "iopub.status.idle": "2022-10-31T10:44:52.546191Z",
     "shell.execute_reply": "2022-10-31T10:44:52.545209Z"
    }
   },
   "outputs": [],
   "source": [
    "# # Close connection\n",
    "cnxn.close()"
   ]
  },
  {
   "cell_type": "markdown",
   "id": "f6e6c852",
   "metadata": {},
   "source": [
    "# QUERY ORDERS: PICKING - PACKING - BATCHING"
   ]
  },
  {
   "cell_type": "code",
   "execution_count": 8,
   "id": "a34045bd",
   "metadata": {
    "execution": {
     "iopub.execute_input": "2022-10-31T10:44:52.549187Z",
     "iopub.status.busy": "2022-10-31T10:44:52.549187Z",
     "iopub.status.idle": "2022-10-31T10:44:52.562267Z",
     "shell.execute_reply": "2022-10-31T10:44:52.561524Z"
    }
   },
   "outputs": [],
   "source": [
    "# Connect to the Database\n",
    "cnxn = pyodbc.connect(\"Driver={SQL Server Native Client 11.0};\"\n",
    "                        \"Server=wd02;\"\n",
    "                        \"Database=FootPrint;\"\n",
    "                        \"UID=WOODFIELD\\\\jmeza@wdsrx.com;\"\n",
    "                        \"PWD=Clavezaza2022;\"\n",
    "                        \"Trusted_Connection=yes;\")"
   ]
  },
  {
   "cell_type": "code",
   "execution_count": 9,
   "id": "4d84963a",
   "metadata": {
    "execution": {
     "iopub.execute_input": "2022-10-31T10:44:52.565265Z",
     "iopub.status.busy": "2022-10-31T10:44:52.565265Z",
     "iopub.status.idle": "2022-10-31T10:44:53.807323Z",
     "shell.execute_reply": "2022-10-31T10:44:53.803264Z"
    }
   },
   "outputs": [],
   "source": [
    "# TODAY ORDERS\n",
    "df_today = pd.read_sql_query(\"DECLARE @from date, @to date;\\\n",
    "    SELECT @from = getdate() ,@to = dateadd(day, 1, getdate());\\\n",
    "\\\n",
    "    select distinct w.name Warehouse, oc.name OperationCode,\\\n",
    "        COUNt(DISTINCT (ISNULL(t.shipmentId, s.id))) Shipment\\\n",
    "    from datex_footprint.Tasks t\\\n",
    "        left join datex_footprint.Warehouses w\\\n",
    "            on w.id = t.warehouseId\\\n",
    "        join datex_footprint.OperationCodes oc\\\n",
    "            on oc.id = t.operationCodeId\\\n",
    "        left join datex_footprint.PickSlips ps\\\n",
    "            on ps.id = t.pickSlipId\\\n",
    "        left join datex_footprint.Waves wa\\\n",
    "            on wa.id = ps.waveId\\\n",
    "        left join datex_footprint.shipments s\\\n",
    "            on s.waveId = wa.id\\\n",
    "        where t.completedDateTime >= @from AND t.completedDateTime < @to AND\\\n",
    "        (t.employee != 'FootPrintService') AND (t.employee != 'Foot Print Service') AND\\\n",
    "        t.statusId = 2 AND t.operationCodeId in (8, 39, 2067)\\\n",
    "        group by w.name, oc.name\", cnxn)"
   ]
  },
  {
   "cell_type": "code",
   "execution_count": 10,
   "id": "73bf0281",
   "metadata": {
    "execution": {
     "iopub.execute_input": "2022-10-31T10:44:53.817368Z",
     "iopub.status.busy": "2022-10-31T10:44:53.816370Z",
     "iopub.status.idle": "2022-10-31T10:44:55.054103Z",
     "shell.execute_reply": "2022-10-31T10:44:55.050334Z"
    }
   },
   "outputs": [],
   "source": [
    "# YESTEDAY ORDERS\n",
    "df_yesterday = pd.read_sql_query(\"DECLARE @from date, @to date;\\\n",
    "    SELECT @from = dateadd(day, -1, getdate()) ,@to = getdate();\\\n",
    "\\\n",
    "    select distinct w.name Warehouse, oc.name OperationCode,\\\n",
    "        COUNt(DISTINCT (ISNULL(t.shipmentId, s.id))) Shipment\\\n",
    "    from datex_footprint.Tasks t\\\n",
    "        left join datex_footprint.Warehouses w\\\n",
    "            on w.id = t.warehouseId\\\n",
    "        join datex_footprint.OperationCodes oc\\\n",
    "            on oc.id = t.operationCodeId\\\n",
    "        left join datex_footprint.PickSlips ps\\\n",
    "            on ps.id = t.pickSlipId\\\n",
    "        left join datex_footprint.Waves wa\\\n",
    "            on wa.id = ps.waveId\\\n",
    "        left join datex_footprint.shipments s\\\n",
    "            on s.waveId = wa.id\\\n",
    "        where t.completedDateTime >= @from AND t.completedDateTime < @to AND\\\n",
    "        (t.employee != 'FootPrintService') AND (t.employee != 'Foot Print Service') AND\\\n",
    "        t.statusId = 2 AND t.operationCodeId in (8, 39, 2067)\\\n",
    "        group by w.name, oc.name\", cnxn)"
   ]
  },
  {
   "cell_type": "code",
   "execution_count": 11,
   "id": "6fc49f2e",
   "metadata": {
    "execution": {
     "iopub.execute_input": "2022-10-31T10:44:55.064135Z",
     "iopub.status.busy": "2022-10-31T10:44:55.063088Z",
     "iopub.status.idle": "2022-10-31T10:44:55.084087Z",
     "shell.execute_reply": "2022-10-31T10:44:55.081143Z"
    }
   },
   "outputs": [],
   "source": [
    "# Rename Columns\n",
    "df_today.rename(columns={'Shipment': 'Today'}, inplace=True)\n",
    "df_yesterday.rename(columns={'Shipment': 'Yesterday'}, inplace=True)"
   ]
  },
  {
   "cell_type": "code",
   "execution_count": 12,
   "id": "b18420f4",
   "metadata": {
    "execution": {
     "iopub.execute_input": "2022-10-31T10:44:55.095135Z",
     "iopub.status.busy": "2022-10-31T10:44:55.095135Z",
     "iopub.status.idle": "2022-10-31T10:44:55.129320Z",
     "shell.execute_reply": "2022-10-31T10:44:55.126644Z"
    }
   },
   "outputs": [],
   "source": [
    "# Merge dataframes\n",
    "df_today_yesterday = pd.merge(df_today, df_yesterday,  how='outer', left_on=['Warehouse','OperationCode'], right_on = ['Warehouse','OperationCode'])"
   ]
  },
  {
   "cell_type": "code",
   "execution_count": 13,
   "id": "79c1e830",
   "metadata": {
    "execution": {
     "iopub.execute_input": "2022-10-31T10:44:55.139325Z",
     "iopub.status.busy": "2022-10-31T10:44:55.139325Z",
     "iopub.status.idle": "2022-10-31T10:44:55.162265Z",
     "shell.execute_reply": "2022-10-31T10:44:55.158326Z"
    }
   },
   "outputs": [],
   "source": [
    "def orders (warehouse, df):\n",
    "    df2 = df[df['Warehouse'] == warehouse]\n",
    "    df2 = df2.pivot(index='Warehouse', columns='OperationCode', values=['Today', 'Yesterday']).fillna(0)\n",
    "    df2 = df2.T\n",
    "    \n",
    "    display(df2)\n",
    "    \n",
    "    file_name = f'data/W{warehouse}_Orders.json'\n",
    "    df2.to_json(file_name)"
   ]
  },
  {
   "cell_type": "code",
   "execution_count": 14,
   "id": "993773f6",
   "metadata": {
    "execution": {
     "iopub.execute_input": "2022-10-31T10:44:55.172324Z",
     "iopub.status.busy": "2022-10-31T10:44:55.171263Z",
     "iopub.status.idle": "2022-10-31T10:44:55.225328Z",
     "shell.execute_reply": "2022-10-31T10:44:55.222215Z"
    }
   },
   "outputs": [
    {
     "data": {
      "text/html": [
       "<div>\n",
       "<style scoped>\n",
       "    .dataframe tbody tr th:only-of-type {\n",
       "        vertical-align: middle;\n",
       "    }\n",
       "\n",
       "    .dataframe tbody tr th {\n",
       "        vertical-align: top;\n",
       "    }\n",
       "\n",
       "    .dataframe thead th {\n",
       "        text-align: right;\n",
       "    }\n",
       "</style>\n",
       "<table border=\"1\" class=\"dataframe\">\n",
       "  <thead>\n",
       "    <tr style=\"text-align: right;\">\n",
       "      <th></th>\n",
       "      <th>Warehouse</th>\n",
       "    </tr>\n",
       "    <tr>\n",
       "      <th></th>\n",
       "      <th>OperationCode</th>\n",
       "    </tr>\n",
       "  </thead>\n",
       "  <tbody>\n",
       "  </tbody>\n",
       "</table>\n",
       "</div>"
      ],
      "text/plain": [
       "Empty DataFrame\n",
       "Columns: []\n",
       "Index: []"
      ]
     },
     "metadata": {},
     "output_type": "display_data"
    }
   ],
   "source": [
    "orders('10', df_today_yesterday)"
   ]
  },
  {
   "cell_type": "code",
   "execution_count": 15,
   "id": "4bb020fd",
   "metadata": {
    "execution": {
     "iopub.execute_input": "2022-10-31T10:44:55.235337Z",
     "iopub.status.busy": "2022-10-31T10:44:55.234340Z",
     "iopub.status.idle": "2022-10-31T10:44:55.256821Z",
     "shell.execute_reply": "2022-10-31T10:44:55.253865Z"
    }
   },
   "outputs": [],
   "source": [
    "# # Close connection\n",
    "cnxn.close()"
   ]
  },
  {
   "cell_type": "markdown",
   "id": "cfe829e8",
   "metadata": {},
   "source": [
    "# QUERY: OPEN ORDERS\n",
    "Shipments in Released and Executing status"
   ]
  },
  {
   "cell_type": "code",
   "execution_count": 16,
   "id": "b6917f6f",
   "metadata": {
    "execution": {
     "iopub.execute_input": "2022-10-31T10:44:55.266875Z",
     "iopub.status.busy": "2022-10-31T10:44:55.265874Z",
     "iopub.status.idle": "2022-10-31T10:44:55.288811Z",
     "shell.execute_reply": "2022-10-31T10:44:55.284820Z"
    }
   },
   "outputs": [],
   "source": [
    "# Connect to the Database\n",
    "cnxn = pyodbc.connect(\"Driver={SQL Server Native Client 11.0};\"\n",
    "                        \"Server=wd02;\"\n",
    "                        \"Database=FootPrint;\"\n",
    "                        \"UID=WOODFIELD\\\\jmeza@wdsrx.com;\"\n",
    "                        \"PWD=Clavezaza2022;\"\n",
    "                        \"Trusted_Connection=yes;\")"
   ]
  },
  {
   "cell_type": "code",
   "execution_count": 17,
   "id": "72994acb",
   "metadata": {
    "execution": {
     "iopub.execute_input": "2022-10-31T10:44:55.298875Z",
     "iopub.status.busy": "2022-10-31T10:44:55.297871Z",
     "iopub.status.idle": "2022-10-31T10:44:55.319581Z",
     "shell.execute_reply": "2022-10-31T10:44:55.316570Z"
    }
   },
   "outputs": [],
   "source": [
    "# OPEN ORDERS\n",
    "df_open_orders = pd.read_sql_query(\"select w.name Warehouse, count(s.lookupCode) Shipments\\\n",
    "    from datex_footprint.Shipments s\\\n",
    "        join datex_footprint.Warehouses w\\\n",
    "            on w.id = ISNULL(s.actualWarehouseId, s.expectedWarehouseId)\\\n",
    "    where s.statusId in (2) and s.typeId = 2\\\n",
    "    group by w.name\", cnxn)"
   ]
  },
  {
   "cell_type": "code",
   "execution_count": 18,
   "id": "3e534528",
   "metadata": {
    "execution": {
     "iopub.execute_input": "2022-10-31T10:44:55.333574Z",
     "iopub.status.busy": "2022-10-31T10:44:55.332577Z",
     "iopub.status.idle": "2022-10-31T10:44:55.379574Z",
     "shell.execute_reply": "2022-10-31T10:44:55.376572Z"
    }
   },
   "outputs": [
    {
     "data": {
      "text/html": [
       "<div>\n",
       "<style scoped>\n",
       "    .dataframe tbody tr th:only-of-type {\n",
       "        vertical-align: middle;\n",
       "    }\n",
       "\n",
       "    .dataframe tbody tr th {\n",
       "        vertical-align: top;\n",
       "    }\n",
       "\n",
       "    .dataframe thead th {\n",
       "        text-align: right;\n",
       "    }\n",
       "</style>\n",
       "<table border=\"1\" class=\"dataframe\">\n",
       "  <thead>\n",
       "    <tr style=\"text-align: right;\">\n",
       "      <th>Warehouse</th>\n",
       "      <th>10</th>\n",
       "      <th>12</th>\n",
       "      <th>16</th>\n",
       "      <th>17</th>\n",
       "      <th>20</th>\n",
       "      <th>21</th>\n",
       "    </tr>\n",
       "  </thead>\n",
       "  <tbody>\n",
       "    <tr>\n",
       "      <th>Shipments</th>\n",
       "      <td>1</td>\n",
       "      <td>1</td>\n",
       "      <td>4</td>\n",
       "      <td>9</td>\n",
       "      <td>1</td>\n",
       "      <td>5</td>\n",
       "    </tr>\n",
       "  </tbody>\n",
       "</table>\n",
       "</div>"
      ],
      "text/plain": [
       "Warehouse  10  12  16  17  20  21\n",
       "Shipments   1   1   4   9   1   5"
      ]
     },
     "execution_count": 18,
     "metadata": {},
     "output_type": "execute_result"
    }
   ],
   "source": [
    "df_open_orders.set_index('Warehouse', inplace=True)\n",
    "df_open_orders = df_open_orders.T\n",
    "df_open_orders"
   ]
  },
  {
   "cell_type": "code",
   "execution_count": 19,
   "id": "2cfd5c4a",
   "metadata": {
    "execution": {
     "iopub.execute_input": "2022-10-31T10:44:55.389574Z",
     "iopub.status.busy": "2022-10-31T10:44:55.388574Z",
     "iopub.status.idle": "2022-10-31T10:44:55.409569Z",
     "shell.execute_reply": "2022-10-31T10:44:55.408604Z"
    }
   },
   "outputs": [],
   "source": [
    "file_name = f'data/Open_Orders.json'\n",
    "df_open_orders.to_json(file_name)"
   ]
  },
  {
   "cell_type": "code",
   "execution_count": 20,
   "id": "86aaf66f",
   "metadata": {
    "execution": {
     "iopub.execute_input": "2022-10-31T10:44:55.415564Z",
     "iopub.status.busy": "2022-10-31T10:44:55.415564Z",
     "iopub.status.idle": "2022-10-31T10:44:55.426561Z",
     "shell.execute_reply": "2022-10-31T10:44:55.424564Z"
    }
   },
   "outputs": [],
   "source": [
    "# # Close connection\n",
    "cnxn.close()"
   ]
  },
  {
   "cell_type": "code",
   "execution_count": null,
   "id": "72b78df6",
   "metadata": {},
   "outputs": [],
   "source": []
  },
  {
   "cell_type": "code",
   "execution_count": null,
   "id": "d5f52d43",
   "metadata": {},
   "outputs": [],
   "source": []
  },
  {
   "cell_type": "code",
   "execution_count": null,
   "id": "81d3bd0c",
   "metadata": {},
   "outputs": [],
   "source": []
  },
  {
   "cell_type": "code",
   "execution_count": null,
   "id": "a0252f3a",
   "metadata": {},
   "outputs": [],
   "source": []
  },
  {
   "cell_type": "code",
   "execution_count": null,
   "id": "5b20e3fe",
   "metadata": {},
   "outputs": [],
   "source": []
  },
  {
   "cell_type": "code",
   "execution_count": null,
   "id": "e427507c",
   "metadata": {},
   "outputs": [],
   "source": []
  },
  {
   "cell_type": "code",
   "execution_count": null,
   "id": "ce5a9472",
   "metadata": {},
   "outputs": [],
   "source": []
  },
  {
   "cell_type": "code",
   "execution_count": null,
   "id": "ec1114a6",
   "metadata": {},
   "outputs": [],
   "source": []
  },
  {
   "cell_type": "code",
   "execution_count": null,
   "id": "48dcade4",
   "metadata": {},
   "outputs": [],
   "source": []
  },
  {
   "cell_type": "code",
   "execution_count": null,
   "id": "87b3ff6b",
   "metadata": {},
   "outputs": [],
   "source": []
  },
  {
   "cell_type": "markdown",
   "id": "535778bf",
   "metadata": {},
   "source": [
    "# QUERY 02: Open Outbounds WAREHOUSE 10"
   ]
  },
  {
   "cell_type": "code",
   "execution_count": 21,
   "id": "2c1090ec",
   "metadata": {
    "execution": {
     "iopub.execute_input": "2022-10-31T10:44:55.433602Z",
     "iopub.status.busy": "2022-10-31T10:44:55.433602Z",
     "iopub.status.idle": "2022-10-31T10:44:55.441565Z",
     "shell.execute_reply": "2022-10-31T10:44:55.439560Z"
    }
   },
   "outputs": [],
   "source": [
    "# Connect to the Database\n",
    "\n",
    "# cnxn = pyodbc.connect(\"Driver={SQL Server Native Client 11.0};\"\n",
    "#                         \"Server=wd02;\"\n",
    "#                         \"Database=FootPrint;\"\n",
    "#                         \"Trusted_Connection=yes;\")"
   ]
  },
  {
   "cell_type": "code",
   "execution_count": 22,
   "id": "50ba15dd",
   "metadata": {
    "execution": {
     "iopub.execute_input": "2022-10-31T10:44:55.447597Z",
     "iopub.status.busy": "2022-10-31T10:44:55.447597Z",
     "iopub.status.idle": "2022-10-31T10:44:55.456570Z",
     "shell.execute_reply": "2022-10-31T10:44:55.455734Z"
    }
   },
   "outputs": [],
   "source": [
    "# df_02 = pd.read_sql_query(\"SELECT DISTINCT w.name warehouse, p.name project, s.lookupCode shipment_number, s.createdSysDateTime\\\n",
    "#     FROM datex_footprint.shipments s\\\n",
    "#     LEFT JOIN datex_footprint.ShipmentOrderLookup sol\\\n",
    "#         on sol.shipmentId = s.id\\\n",
    "#     LEFT JOIN datex_footprint.orders o\\\n",
    "#         on o.id = sol.orderId\\\n",
    "#     LEFT JOIN datex_footprint.Projects p\\\n",
    "#         on p.id = o.projectId\\\n",
    "#     LEFT JOIN datex_footprint.warehouses w\\\n",
    "#         on w.id = isnull(s.actualWarehouseId, s.expectedWarehouseId)\\\n",
    "#     WHERE s.statusId in (1, 2, 4) and s.typeId = 2\\\n",
    "#     ORDER BY createdSysDateTime\", cnxn)"
   ]
  },
  {
   "cell_type": "code",
   "execution_count": 23,
   "id": "4ead82a2",
   "metadata": {
    "execution": {
     "iopub.execute_input": "2022-10-31T10:44:55.462562Z",
     "iopub.status.busy": "2022-10-31T10:44:55.462562Z",
     "iopub.status.idle": "2022-10-31T10:44:55.473563Z",
     "shell.execute_reply": "2022-10-31T10:44:55.471602Z"
    }
   },
   "outputs": [],
   "source": [
    "# df_02.head()"
   ]
  },
  {
   "cell_type": "code",
   "execution_count": 24,
   "id": "2f4d888f",
   "metadata": {
    "execution": {
     "iopub.execute_input": "2022-10-31T10:44:55.478560Z",
     "iopub.status.busy": "2022-10-31T10:44:55.478560Z",
     "iopub.status.idle": "2022-10-31T10:44:55.488569Z",
     "shell.execute_reply": "2022-10-31T10:44:55.486559Z"
    }
   },
   "outputs": [],
   "source": [
    "# df_02['age_order'] = pd.Timestamp.now() - df_02['createdSysDateTime']\n",
    "# df_02.head()"
   ]
  },
  {
   "cell_type": "code",
   "execution_count": 25,
   "id": "8b695887",
   "metadata": {
    "execution": {
     "iopub.execute_input": "2022-10-31T10:44:55.494570Z",
     "iopub.status.busy": "2022-10-31T10:44:55.494570Z",
     "iopub.status.idle": "2022-10-31T10:44:55.503559Z",
     "shell.execute_reply": "2022-10-31T10:44:55.502568Z"
    }
   },
   "outputs": [],
   "source": [
    "# df_02['age_order_days'] = df_02['age_order'].dt.components['days']\n",
    "# df_02['age_order_hours'] = df_02['age_order'].dt.components['hours']\n",
    "# df_02.head()"
   ]
  },
  {
   "cell_type": "code",
   "execution_count": 26,
   "id": "b21efff0",
   "metadata": {
    "execution": {
     "iopub.execute_input": "2022-10-31T10:44:55.510558Z",
     "iopub.status.busy": "2022-10-31T10:44:55.510558Z",
     "iopub.status.idle": "2022-10-31T10:44:55.519564Z",
     "shell.execute_reply": "2022-10-31T10:44:55.518601Z"
    }
   },
   "outputs": [],
   "source": [
    "# Open Orders less than 24 hours\n",
    "\n",
    "# df_02 = df_02.loc[(df_02['age_order_days'] == 0) & (df_02['warehouse'] == '10')]\n",
    "# df_02.head()"
   ]
  },
  {
   "cell_type": "code",
   "execution_count": 27,
   "id": "1e73132e",
   "metadata": {
    "execution": {
     "iopub.execute_input": "2022-10-31T10:44:55.525602Z",
     "iopub.status.busy": "2022-10-31T10:44:55.524597Z",
     "iopub.status.idle": "2022-10-31T10:44:55.534597Z",
     "shell.execute_reply": "2022-10-31T10:44:55.533563Z"
    }
   },
   "outputs": [],
   "source": [
    "# Bins per hour\n",
    "\n",
    "# bins =[-1,4,8,12,16,24]\n",
    "# bin_names = ['4 Hours', '8 Hours', '12 Hours', '16 Hours', '24 Hours']\n",
    "\n",
    "# df_02['age_group'] = pd.cut(df_02['age_order_hours'], bins, labels=bin_names)"
   ]
  },
  {
   "cell_type": "code",
   "execution_count": 28,
   "id": "50b37145",
   "metadata": {
    "execution": {
     "iopub.execute_input": "2022-10-31T10:44:55.540607Z",
     "iopub.status.busy": "2022-10-31T10:44:55.539601Z",
     "iopub.status.idle": "2022-10-31T10:44:55.551604Z",
     "shell.execute_reply": "2022-10-31T10:44:55.549598Z"
    }
   },
   "outputs": [],
   "source": [
    "# df_02_grouped = df_02.groupby(['age_group'])[['project']].count()"
   ]
  },
  {
   "cell_type": "code",
   "execution_count": 29,
   "id": "ad0ad7b8",
   "metadata": {
    "execution": {
     "iopub.execute_input": "2022-10-31T10:44:55.556601Z",
     "iopub.status.busy": "2022-10-31T10:44:55.556601Z",
     "iopub.status.idle": "2022-10-31T10:44:55.566561Z",
     "shell.execute_reply": "2022-10-31T10:44:55.565790Z"
    }
   },
   "outputs": [],
   "source": [
    "# df_02_grouped = df_02_grouped.rename(columns={'project': 'orders'})"
   ]
  },
  {
   "cell_type": "markdown",
   "id": "ae473cac",
   "metadata": {},
   "source": [
    "### Save in JSON File"
   ]
  },
  {
   "cell_type": "code",
   "execution_count": 30,
   "id": "2d6c8932",
   "metadata": {
    "execution": {
     "iopub.execute_input": "2022-10-31T10:44:55.572603Z",
     "iopub.status.busy": "2022-10-31T10:44:55.572603Z",
     "iopub.status.idle": "2022-10-31T10:44:55.582602Z",
     "shell.execute_reply": "2022-10-31T10:44:55.581562Z"
    }
   },
   "outputs": [],
   "source": [
    "# open_outbounds = df_02_grouped\n",
    "# open_outbounds.to_json('data/open_outbounds.json')\n",
    "# open_outbounds"
   ]
  },
  {
   "cell_type": "code",
   "execution_count": 31,
   "id": "9f6bab4b",
   "metadata": {
    "execution": {
     "iopub.execute_input": "2022-10-31T10:44:55.588601Z",
     "iopub.status.busy": "2022-10-31T10:44:55.588601Z",
     "iopub.status.idle": "2022-10-31T10:44:55.597562Z",
     "shell.execute_reply": "2022-10-31T10:44:55.596561Z"
    }
   },
   "outputs": [],
   "source": [
    "# df_02_grouped = df_02_grouped.iloc[::-1]\n",
    "# df_02_grouped.plot.barh()"
   ]
  },
  {
   "cell_type": "code",
   "execution_count": 32,
   "id": "b030f66f",
   "metadata": {
    "execution": {
     "iopub.execute_input": "2022-10-31T10:44:55.603602Z",
     "iopub.status.busy": "2022-10-31T10:44:55.603602Z",
     "iopub.status.idle": "2022-10-31T10:44:55.612569Z",
     "shell.execute_reply": "2022-10-31T10:44:55.611748Z"
    }
   },
   "outputs": [],
   "source": [
    "# Close connection\n",
    "\n",
    "# cnxn.close()"
   ]
  },
  {
   "cell_type": "markdown",
   "id": "cda41e6f",
   "metadata": {},
   "source": []
  },
  {
   "cell_type": "markdown",
   "id": "9bf6f1bc",
   "metadata": {},
   "source": [
    "# QUERY 3: Picking Performance (Orders and Waves)"
   ]
  },
  {
   "cell_type": "code",
   "execution_count": 33,
   "id": "887d613e",
   "metadata": {
    "execution": {
     "iopub.execute_input": "2022-10-31T10:44:55.618597Z",
     "iopub.status.busy": "2022-10-31T10:44:55.618597Z",
     "iopub.status.idle": "2022-10-31T10:44:55.628600Z",
     "shell.execute_reply": "2022-10-31T10:44:55.627564Z"
    }
   },
   "outputs": [],
   "source": [
    "# Connect to the Database\n",
    "\n",
    "# cnxn = pyodbc.connect(\"Driver={SQL Server Native Client 11.0};\"\n",
    "#                         \"Server=wd02;\"\n",
    "#                         \"Database=FootPrint;\"\n",
    "#                         \"Trusted_Connection=yes;\")"
   ]
  },
  {
   "cell_type": "code",
   "execution_count": 34,
   "id": "641caea5",
   "metadata": {
    "execution": {
     "iopub.execute_input": "2022-10-31T10:44:55.635601Z",
     "iopub.status.busy": "2022-10-31T10:44:55.634568Z",
     "iopub.status.idle": "2022-10-31T10:44:55.644559Z",
     "shell.execute_reply": "2022-10-31T10:44:55.643598Z"
    }
   },
   "outputs": [],
   "source": [
    "# df03 = pd.read_sql_query(\"DECLARE @from date, @to date;\\\n",
    "#                           SELECT @from = getdate(), @to = dateadd(day, 1, getdate());\\\n",
    "#     SELECT t.completedDateTime Date, oc.name Operation, w.name Warehouse,\\\n",
    "#            p.name Project, m.lookupCode Material, employee Employee, s.lookupCode Shipment, isnull(s.waveId, ps.waveId) Wave,\\\n",
    "#            ordersPerWave.shipmentsCount, lc.name Location\\\n",
    "#     FROM datex_footprint.Tasks t\\\n",
    "#         join datex_footprint.OperationCodes oc\\\n",
    "#             on oc.id = t.operationCodeId\\\n",
    "#         left join datex_footprint.Warehouses w\\\n",
    "#             on w.id = t.warehouseId\\\n",
    "#         left join datex_footprint.Projects p\\\n",
    "#             on p.id = t.projectId\\\n",
    "#         left join datex_footprint.Materials m\\\n",
    "#             on m.id = t.materialId\\\n",
    "#         left join datex_footprint.Shipments s\\\n",
    "#             on s.id = t.shipmentId\\\n",
    "#         left join datex_footprint.PickSlips ps\\\n",
    "#             on ps.id = t.pickSlipId\\\n",
    "#         left join datex_footprint.LocationContainers lc\\\n",
    "#             on lc.id = t.actualSourceLocationId\\\n",
    "#         outer apply (\\\n",
    "#             select\\\n",
    "#                 count(distinct tt.shipmentId) shipmentsCount\\\n",
    "#                 from datex_footprint.waves ww\\\n",
    "#                     inner join datex_footprint.PickSlips ppss\\\n",
    "#                     inner join datex_footprint.tasks tt\\\n",
    "#                         on tt.operationCodeId = 8 and tt.pickSlipId = ppss.id\\\n",
    "#                         on ppss.waveId = ww.id\\\n",
    "#                 where ww.id = isnull(s.waveId, ps.waveId)) ordersPerWave\\\n",
    "#     where t.completedDateTime >= @from and t.completedDateTime < @to and t.statusId = 2\\\n",
    "#     and t.operationCodeId in (8, 39, 2064, 2065, 2066) and t.employee != 'Foot Print Service'\\\n",
    "#     order by s.lookupCode, t.completedDateTime\", cnxn)"
   ]
  },
  {
   "cell_type": "code",
   "execution_count": 35,
   "id": "a4cb2a77",
   "metadata": {
    "execution": {
     "iopub.execute_input": "2022-10-31T10:44:55.650563Z",
     "iopub.status.busy": "2022-10-31T10:44:55.650563Z",
     "iopub.status.idle": "2022-10-31T10:44:55.661563Z",
     "shell.execute_reply": "2022-10-31T10:44:55.659561Z"
    }
   },
   "outputs": [],
   "source": [
    "# df03.tail(3)"
   ]
  },
  {
   "cell_type": "code",
   "execution_count": 36,
   "id": "b2d6e6c7",
   "metadata": {
    "execution": {
     "iopub.execute_input": "2022-10-31T10:44:55.667601Z",
     "iopub.status.busy": "2022-10-31T10:44:55.667601Z",
     "iopub.status.idle": "2022-10-31T10:44:55.676561Z",
     "shell.execute_reply": "2022-10-31T10:44:55.675778Z"
    }
   },
   "outputs": [],
   "source": [
    "# Order Columns\n",
    "\n",
    "# df03 = df03[['Warehouse', 'Project', 'Wave', 'Shipment', 'Date', 'Operation', 'Employee',\n",
    "#              'Location', 'shipmentsCount', 'Material']]"
   ]
  },
  {
   "cell_type": "markdown",
   "id": "782d10c7",
   "metadata": {},
   "source": [
    "### Filter by Shipments"
   ]
  },
  {
   "cell_type": "code",
   "execution_count": 37,
   "id": "deb919ce",
   "metadata": {
    "execution": {
     "iopub.execute_input": "2022-10-31T10:44:55.682600Z",
     "iopub.status.busy": "2022-10-31T10:44:55.682600Z",
     "iopub.status.idle": "2022-10-31T10:44:55.691574Z",
     "shell.execute_reply": "2022-10-31T10:44:55.690562Z"
    }
   },
   "outputs": [],
   "source": [
    "# Filter by Orders only\n",
    "\n",
    "# df03_orders = df03.loc[(df03['Operation']=='Picking') |\n",
    "#                        (df03['Operation']=='Scanned Shipment') |\n",
    "#                        (df03['Operation']=='Picking Completed')]\n",
    "\n",
    "# df03_orders = df03_orders[['Warehouse', 'Project', 'Shipment', 'Date', 'Operation', 'Employee', 'Location']]\n",
    "\n",
    "# df03_orders.head()"
   ]
  },
  {
   "cell_type": "code",
   "execution_count": 38,
   "id": "379538a4",
   "metadata": {
    "execution": {
     "iopub.execute_input": "2022-10-31T10:44:55.697596Z",
     "iopub.status.busy": "2022-10-31T10:44:55.697596Z",
     "iopub.status.idle": "2022-10-31T10:44:55.707566Z",
     "shell.execute_reply": "2022-10-31T10:44:55.706561Z"
    }
   },
   "outputs": [],
   "source": [
    "# Create a new column with the time difference between rows\n",
    "\n",
    "# df03_orders['PickingTime'] = df03_orders['Date'].diff()\n",
    "# df03_orders.head()"
   ]
  },
  {
   "cell_type": "code",
   "execution_count": 39,
   "id": "1c8ab7a0",
   "metadata": {
    "execution": {
     "iopub.execute_input": "2022-10-31T10:44:55.713564Z",
     "iopub.status.busy": "2022-10-31T10:44:55.713564Z",
     "iopub.status.idle": "2022-10-31T10:44:55.723561Z",
     "shell.execute_reply": "2022-10-31T10:44:55.722565Z"
    }
   },
   "outputs": [],
   "source": [
    "# Add Hour, Minute and Second columns\n",
    "\n",
    "# df03_orders['hour'] = df03_orders['PickingTime'].dt.components['hours']\n",
    "# df03_orders['minute'] = df03_orders['PickingTime'].dt.components['minutes']\n",
    "# df03_orders['second'] = df03_orders['PickingTime'].dt.components['seconds']\n",
    "# df03_orders.head()"
   ]
  },
  {
   "cell_type": "code",
   "execution_count": 40,
   "id": "65c5bae7",
   "metadata": {
    "execution": {
     "iopub.execute_input": "2022-10-31T10:44:55.729601Z",
     "iopub.status.busy": "2022-10-31T10:44:55.729601Z",
     "iopub.status.idle": "2022-10-31T10:44:55.739560Z",
     "shell.execute_reply": "2022-10-31T10:44:55.738560Z"
    }
   },
   "outputs": [],
   "source": [
    "# Set all the Scanned Shipment hour, minute, time to ZERO\n",
    "\n",
    "# df03_orders_modified = df03_orders\n",
    "\n",
    "# df03_orders_modified.loc[df03_orders_modified.Operation == 'Scanned Shipment', 'hour'] = 0.0\n",
    "# df03_orders_modified.loc[df03_orders_modified.Operation == 'Scanned Shipment', 'minute'] = 0.0\n",
    "# df03_orders_modified.loc[df03_orders_modified.Operation == 'Scanned Shipment', 'second'] = 0.0\n",
    "\n",
    "# df03_orders_modified.loc[df03_orders_modified['Operation'] == 'Scanned Shipment'].head()"
   ]
  },
  {
   "cell_type": "code",
   "execution_count": 41,
   "id": "0a32c449",
   "metadata": {
    "execution": {
     "iopub.execute_input": "2022-10-31T10:44:55.746605Z",
     "iopub.status.busy": "2022-10-31T10:44:55.745601Z",
     "iopub.status.idle": "2022-10-31T10:44:55.755558Z",
     "shell.execute_reply": "2022-10-31T10:44:55.753808Z"
    }
   },
   "outputs": [],
   "source": [
    "# df03_orders_modified['Time'] = df03_orders_modified['hour']*60 + df03_orders_modified['minute'] + df03_orders_modified['second']/60\n",
    "# df03_orders_modified.head()"
   ]
  },
  {
   "cell_type": "code",
   "execution_count": 42,
   "id": "47d0ed4a",
   "metadata": {
    "execution": {
     "iopub.execute_input": "2022-10-31T10:44:55.761595Z",
     "iopub.status.busy": "2022-10-31T10:44:55.760600Z",
     "iopub.status.idle": "2022-10-31T10:44:55.770602Z",
     "shell.execute_reply": "2022-10-31T10:44:55.769599Z"
    }
   },
   "outputs": [],
   "source": [
    "# Save in JSON Format for HTML\n",
    "\n",
    "# df03_group = df03_orders_modified.groupby(['Warehouse', 'Project', 'Shipment', 'Operation', 'Date'])[['Time']].sum().sort_values(['Warehouse', 'Project', 'Shipment', 'Date'])\n",
    "# df03_group.to_json('data/performance.json', orient='table')\n",
    "# df03_group.head(20)"
   ]
  },
  {
   "cell_type": "code",
   "execution_count": 43,
   "id": "8965cf87",
   "metadata": {
    "execution": {
     "iopub.execute_input": "2022-10-31T10:44:55.776558Z",
     "iopub.status.busy": "2022-10-31T10:44:55.775557Z",
     "iopub.status.idle": "2022-10-31T10:44:55.786600Z",
     "shell.execute_reply": "2022-10-31T10:44:55.785768Z"
    }
   },
   "outputs": [],
   "source": [
    "# Remove Operation 'Scanned Shipment'\n",
    "\n",
    "# df03_excluding_Scanned = df03_orders_modified.loc[df03_orders_modified['Operation'] != 'Scanned Shipment']\n",
    "# df03_excluding_Scanned.head()"
   ]
  },
  {
   "cell_type": "code",
   "execution_count": 44,
   "id": "639c4e63",
   "metadata": {
    "execution": {
     "iopub.execute_input": "2022-10-31T10:44:55.792609Z",
     "iopub.status.busy": "2022-10-31T10:44:55.792609Z",
     "iopub.status.idle": "2022-10-31T10:44:55.802561Z",
     "shell.execute_reply": "2022-10-31T10:44:55.801559Z"
    }
   },
   "outputs": [],
   "source": [
    "# Save in CSV Format for Tableau\n",
    "\n",
    "# df03_group2 = df03_excluding_Scanned.groupby(['Warehouse', 'Project', 'Employee', 'Shipment', 'Operation', 'Date'])[['Time']].sum().sort_values(['Warehouse', 'Project', 'Employee', 'Shipment', 'Date'])\n",
    "# df03_group2.to_csv('data/performance.csv')\n",
    "# df03_group2.head(20)"
   ]
  },
  {
   "cell_type": "code",
   "execution_count": 45,
   "id": "72973a53",
   "metadata": {
    "execution": {
     "iopub.execute_input": "2022-10-31T10:44:55.808601Z",
     "iopub.status.busy": "2022-10-31T10:44:55.808601Z",
     "iopub.status.idle": "2022-10-31T10:44:55.818562Z",
     "shell.execute_reply": "2022-10-31T10:44:55.817602Z"
    }
   },
   "outputs": [],
   "source": [
    "# Close connection\n",
    "\n",
    "# cnxn.close()"
   ]
  },
  {
   "cell_type": "code",
   "execution_count": null,
   "id": "61b643e2",
   "metadata": {},
   "outputs": [],
   "source": []
  }
 ],
 "metadata": {
  "kernelspec": {
   "display_name": "PythonData",
   "language": "python",
   "name": "pythondata"
  },
  "language_info": {
   "codemirror_mode": {
    "name": "ipython",
    "version": 3
   },
   "file_extension": ".py",
   "mimetype": "text/x-python",
   "name": "python",
   "nbconvert_exporter": "python",
   "pygments_lexer": "ipython3",
   "version": "3.7.11"
  }
 },
 "nbformat": 4,
 "nbformat_minor": 5
}
