{
 "cells": [
  {
   "cell_type": "code",
   "execution_count": 104,
   "id": "631cdeb5",
   "metadata": {
    "execution": {
     "iopub.execute_input": "2022-05-09T23:00:44.139601Z",
     "iopub.status.busy": "2022-05-09T23:00:44.139601Z",
     "iopub.status.idle": "2022-05-09T23:00:45.299463Z",
     "shell.execute_reply": "2022-05-09T23:00:45.299463Z"
    }
   },
   "outputs": [],
   "source": [
    "import pyodbc\n",
    "import pandas as pd\n",
    "import numpy as np\n",
    "\n",
    "import matplotlib.pyplot as plt\n",
    "from matplotlib import style\n",
    "style.use('fivethirtyeight')"
   ]
  },
  {
   "cell_type": "markdown",
   "id": "e452ad18",
   "metadata": {},
   "source": [
    "# QUERY 01: OPERATIONS"
   ]
  },
  {
   "cell_type": "code",
   "execution_count": 214,
   "id": "cfa380f7",
   "metadata": {
    "execution": {
     "iopub.execute_input": "2022-05-09T23:00:45.302485Z",
     "iopub.status.busy": "2022-05-09T23:00:45.302485Z",
     "iopub.status.idle": "2022-05-09T23:00:45.362296Z",
     "shell.execute_reply": "2022-05-09T23:00:45.362296Z"
    }
   },
   "outputs": [],
   "source": [
    "# Connect to the Database\n",
    "cnxn = pyodbc.connect(\"Driver={SQL Server Native Client 11.0};\"\n",
    "                        \"Server=wd02;\"\n",
    "                        \"Database=FootPrint;\"\n",
    "                        \"Trusted_Connection=yes;\")"
   ]
  },
  {
   "cell_type": "code",
   "execution_count": 122,
   "id": "a7a26b14",
   "metadata": {
    "execution": {
     "iopub.execute_input": "2022-05-09T23:00:45.365317Z",
     "iopub.status.busy": "2022-05-09T23:00:45.365317Z",
     "iopub.status.idle": "2022-05-09T23:00:46.544613Z",
     "shell.execute_reply": "2022-05-09T23:00:46.541599Z"
    }
   },
   "outputs": [],
   "source": [
    "# df = pd.read_sql_query(\"DECLARE @from date, @to date;\\\n",
    "#     SELECT\\\n",
    "#         @from = getdate()\\\n",
    "#         ,@to = dateadd(day, 1, getdate());\\\n",
    "# \\\n",
    "# SELECT CONVERT(varchar,t.completedDateTime,100) Date, w.name Warehouse, p.name Project, oc.name OperationCode, t.employee\\\n",
    "#     FROM datex_footprint.Tasks t\\\n",
    "#     JOIN datex_footprint.OperationCodes oc\\\n",
    "#         ON oc.id = t.operationCodeId\\\n",
    "#     JOIN datex_footprint.Warehouses w\\\n",
    "#         ON w.id = t.warehouseId\\\n",
    "#     JOIN datex_footprint.Projects p\\\n",
    "#         ON p.id = t.projectId\\\n",
    "#     WHERE t.completedDateTime >= @from AND t.completedDateTime < @to AND (t.employee != 'FootPrintService') AND (t.employee != 'Foot Print Service') and t.statusId = 2\", cnxn)"
   ]
  },
  {
   "cell_type": "code",
   "execution_count": 239,
   "id": "b3af1326",
   "metadata": {},
   "outputs": [],
   "source": [
    "df = pd.read_sql_query(\"DECLARE @from date, @to date;\\\n",
    "    SELECT @from = getdate() ,@to = dateadd(day, 1, getdate());\\\n",
    "\\\n",
    "    select t.completedDateTime Date, w.name Warehouse, p.name Project,\\\n",
    "        oc.name OperationCode, t.employee Employee\\\n",
    "    from datex_footprint.Tasks t\\\n",
    "        left join datex_footprint.Warehouses w\\\n",
    "            on w.id = t.warehouseId\\\n",
    "        left join datex_footprint.Projects p\\\n",
    "            on p.id = t.projectId\\\n",
    "        join datex_footprint.OperationCodes oc\\\n",
    "            on oc.id = t.operationCodeId\\\n",
    "        where t.completedDateTime >= @from AND t.completedDateTime < @to AND\\\n",
    "        (t.employee != 'FootPrintService') AND (t.employee != 'Foot Print Service') AND\\\n",
    "        t.statusId = 2 AND t.operationCodeId in (8, 39, 2067)\", cnxn)"
   ]
  },
  {
   "cell_type": "code",
   "execution_count": 240,
   "id": "c735920a",
   "metadata": {
    "execution": {
     "iopub.execute_input": "2022-05-09T23:00:46.553639Z",
     "iopub.status.busy": "2022-05-09T23:00:46.552639Z",
     "iopub.status.idle": "2022-05-09T23:00:46.762058Z",
     "shell.execute_reply": "2022-05-09T23:00:46.762058Z"
    }
   },
   "outputs": [],
   "source": [
    "# Adding Hours\n",
    "df['Hour'] = pd.to_datetime(df['Date']).dt.hour"
   ]
  },
  {
   "cell_type": "markdown",
   "id": "c682f27b",
   "metadata": {},
   "source": [
    "# PICKING"
   ]
  },
  {
   "cell_type": "code",
   "execution_count": 241,
   "id": "70bb160d",
   "metadata": {
    "execution": {
     "iopub.execute_input": "2022-05-09T23:00:46.765018Z",
     "iopub.status.busy": "2022-05-09T23:00:46.765018Z",
     "iopub.status.idle": "2022-05-09T23:00:46.777924Z",
     "shell.execute_reply": "2022-05-09T23:00:46.777216Z"
    }
   },
   "outputs": [
    {
     "data": {
      "text/html": [
       "<div>\n",
       "<style scoped>\n",
       "    .dataframe tbody tr th:only-of-type {\n",
       "        vertical-align: middle;\n",
       "    }\n",
       "\n",
       "    .dataframe tbody tr th {\n",
       "        vertical-align: top;\n",
       "    }\n",
       "\n",
       "    .dataframe thead th {\n",
       "        text-align: right;\n",
       "    }\n",
       "</style>\n",
       "<table border=\"1\" class=\"dataframe\">\n",
       "  <thead>\n",
       "    <tr style=\"text-align: right;\">\n",
       "      <th></th>\n",
       "      <th>Date</th>\n",
       "      <th>Warehouse</th>\n",
       "      <th>Project</th>\n",
       "      <th>OperationCode</th>\n",
       "      <th>Employee</th>\n",
       "      <th>Hour</th>\n",
       "    </tr>\n",
       "  </thead>\n",
       "  <tbody>\n",
       "    <tr>\n",
       "      <th>0</th>\n",
       "      <td>2022-05-10 09:57:49.307</td>\n",
       "      <td>20</td>\n",
       "      <td>ACI Healthcare USA, Inc.</td>\n",
       "      <td>Picking</td>\n",
       "      <td>Gregory Watts</td>\n",
       "      <td>9</td>\n",
       "    </tr>\n",
       "    <tr>\n",
       "      <th>1</th>\n",
       "      <td>2022-05-10 14:13:35.980</td>\n",
       "      <td>20</td>\n",
       "      <td>ACI Healthcare USA, Inc.</td>\n",
       "      <td>Picking</td>\n",
       "      <td>Gregory Watts</td>\n",
       "      <td>14</td>\n",
       "    </tr>\n",
       "    <tr>\n",
       "      <th>2</th>\n",
       "      <td>2022-05-10 14:31:18.517</td>\n",
       "      <td>20</td>\n",
       "      <td>ACI Healthcare USA, Inc.</td>\n",
       "      <td>Picking</td>\n",
       "      <td>Gregory Watts</td>\n",
       "      <td>14</td>\n",
       "    </tr>\n",
       "    <tr>\n",
       "      <th>3</th>\n",
       "      <td>2022-05-10 14:42:49.720</td>\n",
       "      <td>20</td>\n",
       "      <td>ACI Healthcare USA, Inc.</td>\n",
       "      <td>Picking</td>\n",
       "      <td>Gregory Watts</td>\n",
       "      <td>14</td>\n",
       "    </tr>\n",
       "    <tr>\n",
       "      <th>4</th>\n",
       "      <td>2022-05-10 14:41:25.327</td>\n",
       "      <td>20</td>\n",
       "      <td>ACI Healthcare USA, Inc.</td>\n",
       "      <td>Picking</td>\n",
       "      <td>Gregory Watts</td>\n",
       "      <td>14</td>\n",
       "    </tr>\n",
       "  </tbody>\n",
       "</table>\n",
       "</div>"
      ],
      "text/plain": [
       "                     Date Warehouse                   Project OperationCode  \\\n",
       "0 2022-05-10 09:57:49.307        20  ACI Healthcare USA, Inc.       Picking   \n",
       "1 2022-05-10 14:13:35.980        20  ACI Healthcare USA, Inc.       Picking   \n",
       "2 2022-05-10 14:31:18.517        20  ACI Healthcare USA, Inc.       Picking   \n",
       "3 2022-05-10 14:42:49.720        20  ACI Healthcare USA, Inc.       Picking   \n",
       "4 2022-05-10 14:41:25.327        20  ACI Healthcare USA, Inc.       Picking   \n",
       "\n",
       "        Employee  Hour  \n",
       "0  Gregory Watts     9  \n",
       "1  Gregory Watts    14  \n",
       "2  Gregory Watts    14  \n",
       "3  Gregory Watts    14  \n",
       "4  Gregory Watts    14  "
      ]
     },
     "execution_count": 241,
     "metadata": {},
     "output_type": "execute_result"
    }
   ],
   "source": [
    "# Filtered by Picking\n",
    "df_picking = df[df['OperationCode'] == 'Picking']\n",
    "df_picking.head()"
   ]
  },
  {
   "cell_type": "code",
   "execution_count": 242,
   "id": "8d7c4806",
   "metadata": {
    "execution": {
     "iopub.execute_input": "2022-05-09T23:00:46.780948Z",
     "iopub.status.busy": "2022-05-09T23:00:46.779918Z",
     "iopub.status.idle": "2022-05-09T23:00:46.793233Z",
     "shell.execute_reply": "2022-05-09T23:00:46.792491Z"
    }
   },
   "outputs": [],
   "source": [
    "# Picking Function\n",
    "def picking_by_warehouse (warehouse):\n",
    "    # Filter by warehouse\n",
    "    df = df_picking[df_picking['Warehouse'] == warehouse]\n",
    "    \n",
    "    # Grouped by Employee and Hour\n",
    "    df = df.groupby(['Employee', 'Hour']).count()[['OperationCode']]\n",
    "    df.reset_index(inplace=True)\n",
    "    \n",
    "    # Pivot\n",
    "    df = df.pivot(index='Employee', columns='Hour', values='OperationCode')\n",
    "    df = df.fillna(0)\n",
    "    df = df.rename_axis(None, axis=1)\n",
    "    \n",
    "    # Save into JSON\n",
    "    pickers_df = df.T\n",
    "    file_name = f'data/pickers_w{warehouse}.json'\n",
    "    pickers_df.to_json(file_name)"
   ]
  },
  {
   "cell_type": "code",
   "execution_count": 243,
   "id": "e1257b5b",
   "metadata": {
    "execution": {
     "iopub.execute_input": "2022-05-09T23:00:46.796253Z",
     "iopub.status.busy": "2022-05-09T23:00:46.795260Z",
     "iopub.status.idle": "2022-05-09T23:00:46.808197Z",
     "shell.execute_reply": "2022-05-09T23:00:46.808197Z"
    }
   },
   "outputs": [],
   "source": [
    "# Save warehouse data into JSON files\n",
    "\n",
    "picking_by_warehouse('10')\n",
    "#picking_by_warehouse('12')\n",
    "#picking_by_warehouse('15')\n",
    "#picking_by_warehouse('16')\n",
    "#picking_by_warehouse('18')\n",
    "#picking_by_warehouse('19')\n",
    "#picking_by_warehouse('20')\n",
    "#picking_by_warehouse('21')\n",
    "#picking_by_warehouse('22')"
   ]
  },
  {
   "cell_type": "markdown",
   "id": "a680625e",
   "metadata": {},
   "source": [
    "# BATCHING"
   ]
  },
  {
   "cell_type": "code",
   "execution_count": 244,
   "id": "24ff9a34",
   "metadata": {
    "execution": {
     "iopub.execute_input": "2022-05-09T23:00:46.811218Z",
     "iopub.status.busy": "2022-05-09T23:00:46.811218Z",
     "iopub.status.idle": "2022-05-09T23:00:46.823188Z",
     "shell.execute_reply": "2022-05-09T23:00:46.823188Z"
    }
   },
   "outputs": [
    {
     "data": {
      "text/html": [
       "<div>\n",
       "<style scoped>\n",
       "    .dataframe tbody tr th:only-of-type {\n",
       "        vertical-align: middle;\n",
       "    }\n",
       "\n",
       "    .dataframe tbody tr th {\n",
       "        vertical-align: top;\n",
       "    }\n",
       "\n",
       "    .dataframe thead th {\n",
       "        text-align: right;\n",
       "    }\n",
       "</style>\n",
       "<table border=\"1\" class=\"dataframe\">\n",
       "  <thead>\n",
       "    <tr style=\"text-align: right;\">\n",
       "      <th></th>\n",
       "      <th>Date</th>\n",
       "      <th>Warehouse</th>\n",
       "      <th>Project</th>\n",
       "      <th>OperationCode</th>\n",
       "      <th>Employee</th>\n",
       "      <th>Hour</th>\n",
       "    </tr>\n",
       "  </thead>\n",
       "  <tbody>\n",
       "    <tr>\n",
       "      <th>1427</th>\n",
       "      <td>2022-05-10 13:27:20.160</td>\n",
       "      <td>10</td>\n",
       "      <td>ISDIN Corporation</td>\n",
       "      <td>Batch Move</td>\n",
       "      <td>Rita Geldres</td>\n",
       "      <td>13</td>\n",
       "    </tr>\n",
       "    <tr>\n",
       "      <th>1428</th>\n",
       "      <td>2022-05-10 13:27:49.757</td>\n",
       "      <td>10</td>\n",
       "      <td>ISDIN Corporation</td>\n",
       "      <td>Batch Move</td>\n",
       "      <td>Rita Geldres</td>\n",
       "      <td>13</td>\n",
       "    </tr>\n",
       "    <tr>\n",
       "      <th>1429</th>\n",
       "      <td>2022-05-10 13:29:41.077</td>\n",
       "      <td>10</td>\n",
       "      <td>ISDIN Corporation</td>\n",
       "      <td>Batch Move</td>\n",
       "      <td>Rita Geldres</td>\n",
       "      <td>13</td>\n",
       "    </tr>\n",
       "    <tr>\n",
       "      <th>1430</th>\n",
       "      <td>2022-05-10 13:36:08.880</td>\n",
       "      <td>10</td>\n",
       "      <td>ISDIN Corporation</td>\n",
       "      <td>Batch Move</td>\n",
       "      <td>Rita Geldres</td>\n",
       "      <td>13</td>\n",
       "    </tr>\n",
       "    <tr>\n",
       "      <th>1431</th>\n",
       "      <td>2022-05-10 13:35:06.177</td>\n",
       "      <td>10</td>\n",
       "      <td>ISDIN Corporation</td>\n",
       "      <td>Batch Move</td>\n",
       "      <td>Rita Geldres</td>\n",
       "      <td>13</td>\n",
       "    </tr>\n",
       "  </tbody>\n",
       "</table>\n",
       "</div>"
      ],
      "text/plain": [
       "                        Date Warehouse            Project OperationCode  \\\n",
       "1427 2022-05-10 13:27:20.160        10  ISDIN Corporation    Batch Move   \n",
       "1428 2022-05-10 13:27:49.757        10  ISDIN Corporation    Batch Move   \n",
       "1429 2022-05-10 13:29:41.077        10  ISDIN Corporation    Batch Move   \n",
       "1430 2022-05-10 13:36:08.880        10  ISDIN Corporation    Batch Move   \n",
       "1431 2022-05-10 13:35:06.177        10  ISDIN Corporation    Batch Move   \n",
       "\n",
       "          Employee  Hour  \n",
       "1427  Rita Geldres    13  \n",
       "1428  Rita Geldres    13  \n",
       "1429  Rita Geldres    13  \n",
       "1430  Rita Geldres    13  \n",
       "1431  Rita Geldres    13  "
      ]
     },
     "execution_count": 244,
     "metadata": {},
     "output_type": "execute_result"
    }
   ],
   "source": [
    "# Filtered by Batch Move\n",
    "df_batching = df[df['OperationCode'] == 'Batch Move']\n",
    "df_batching.head()"
   ]
  },
  {
   "cell_type": "code",
   "execution_count": 245,
   "id": "e9b2d00a",
   "metadata": {
    "execution": {
     "iopub.execute_input": "2022-05-09T23:00:46.833155Z",
     "iopub.status.busy": "2022-05-09T23:00:46.833155Z",
     "iopub.status.idle": "2022-05-09T23:00:46.839115Z",
     "shell.execute_reply": "2022-05-09T23:00:46.839115Z"
    }
   },
   "outputs": [],
   "source": [
    "# Batching Function\n",
    "def batching_by_warehouse (warehouse):\n",
    "    # Filter by warehouse\n",
    "    df = df_batching[df_batching['Warehouse'] == warehouse]\n",
    "    \n",
    "    # Grouped by Employee and Hour\n",
    "    df = df.groupby(['Employee', 'Hour']).count()[['OperationCode']]\n",
    "    df.reset_index(inplace=True)\n",
    "    \n",
    "    # Pivot\n",
    "    df = df.pivot(index='Employee', columns='Hour', values='OperationCode')\n",
    "    df = df.fillna(0)\n",
    "    df = df.rename_axis(None, axis=1)\n",
    "    \n",
    "    # Save into JSON\n",
    "    batchers_df = df.T\n",
    "    file_name = f'data/batchers_w{warehouse}.json'\n",
    "    batchers_df.to_json(file_name)"
   ]
  },
  {
   "cell_type": "code",
   "execution_count": 246,
   "id": "04f04c33",
   "metadata": {
    "execution": {
     "iopub.execute_input": "2022-05-09T23:00:46.842108Z",
     "iopub.status.busy": "2022-05-09T23:00:46.842108Z",
     "iopub.status.idle": "2022-05-09T23:00:46.856070Z",
     "shell.execute_reply": "2022-05-09T23:00:46.855072Z"
    }
   },
   "outputs": [],
   "source": [
    "batching_by_warehouse('10')"
   ]
  },
  {
   "cell_type": "markdown",
   "id": "9dc39cfe",
   "metadata": {},
   "source": [
    "# PACKING"
   ]
  },
  {
   "cell_type": "code",
   "execution_count": 247,
   "id": "8d1e4e42",
   "metadata": {},
   "outputs": [
    {
     "data": {
      "text/html": [
       "<div>\n",
       "<style scoped>\n",
       "    .dataframe tbody tr th:only-of-type {\n",
       "        vertical-align: middle;\n",
       "    }\n",
       "\n",
       "    .dataframe tbody tr th {\n",
       "        vertical-align: top;\n",
       "    }\n",
       "\n",
       "    .dataframe thead th {\n",
       "        text-align: right;\n",
       "    }\n",
       "</style>\n",
       "<table border=\"1\" class=\"dataframe\">\n",
       "  <thead>\n",
       "    <tr style=\"text-align: right;\">\n",
       "      <th></th>\n",
       "      <th>Date</th>\n",
       "      <th>Warehouse</th>\n",
       "      <th>Project</th>\n",
       "      <th>OperationCode</th>\n",
       "      <th>Employee</th>\n",
       "      <th>Hour</th>\n",
       "    </tr>\n",
       "  </thead>\n",
       "  <tbody>\n",
       "    <tr>\n",
       "      <th>881</th>\n",
       "      <td>2022-05-10 10:25:43.463</td>\n",
       "      <td>10</td>\n",
       "      <td>Eywa Pharma Inc.</td>\n",
       "      <td>Rate And Ship</td>\n",
       "      <td>Jackson Pierre</td>\n",
       "      <td>10</td>\n",
       "    </tr>\n",
       "    <tr>\n",
       "      <th>882</th>\n",
       "      <td>2022-05-10 10:26:26.217</td>\n",
       "      <td>10</td>\n",
       "      <td>Eywa Pharma Inc.</td>\n",
       "      <td>Rate And Ship</td>\n",
       "      <td>Jackson Pierre</td>\n",
       "      <td>10</td>\n",
       "    </tr>\n",
       "    <tr>\n",
       "      <th>883</th>\n",
       "      <td>2022-05-10 10:29:51.423</td>\n",
       "      <td>10</td>\n",
       "      <td>Eywa Pharma Inc.</td>\n",
       "      <td>Rate And Ship</td>\n",
       "      <td>Jackson Pierre</td>\n",
       "      <td>10</td>\n",
       "    </tr>\n",
       "    <tr>\n",
       "      <th>884</th>\n",
       "      <td>2022-05-10 10:34:23.333</td>\n",
       "      <td>10</td>\n",
       "      <td>Eywa Pharma Inc.</td>\n",
       "      <td>Rate And Ship</td>\n",
       "      <td>Jackson Pierre</td>\n",
       "      <td>10</td>\n",
       "    </tr>\n",
       "    <tr>\n",
       "      <th>885</th>\n",
       "      <td>2022-05-10 10:33:48.980</td>\n",
       "      <td>10</td>\n",
       "      <td>Eywa Pharma Inc.</td>\n",
       "      <td>Rate And Ship</td>\n",
       "      <td>Jackson Pierre</td>\n",
       "      <td>10</td>\n",
       "    </tr>\n",
       "  </tbody>\n",
       "</table>\n",
       "</div>"
      ],
      "text/plain": [
       "                       Date Warehouse           Project  OperationCode  \\\n",
       "881 2022-05-10 10:25:43.463        10  Eywa Pharma Inc.  Rate And Ship   \n",
       "882 2022-05-10 10:26:26.217        10  Eywa Pharma Inc.  Rate And Ship   \n",
       "883 2022-05-10 10:29:51.423        10  Eywa Pharma Inc.  Rate And Ship   \n",
       "884 2022-05-10 10:34:23.333        10  Eywa Pharma Inc.  Rate And Ship   \n",
       "885 2022-05-10 10:33:48.980        10  Eywa Pharma Inc.  Rate And Ship   \n",
       "\n",
       "           Employee  Hour  \n",
       "881  Jackson Pierre    10  \n",
       "882  Jackson Pierre    10  \n",
       "883  Jackson Pierre    10  \n",
       "884  Jackson Pierre    10  \n",
       "885  Jackson Pierre    10  "
      ]
     },
     "execution_count": 247,
     "metadata": {},
     "output_type": "execute_result"
    }
   ],
   "source": [
    "# Filtered by Batch Move\n",
    "df_packing = df[df['OperationCode'] == 'Rate And Ship']\n",
    "df_packing.head()"
   ]
  },
  {
   "cell_type": "code",
   "execution_count": 12,
   "id": "d2268aac",
   "metadata": {
    "execution": {
     "iopub.execute_input": "2022-05-09T23:00:46.874237Z",
     "iopub.status.busy": "2022-05-09T23:00:46.873209Z",
     "iopub.status.idle": "2022-05-09T23:00:46.886557Z",
     "shell.execute_reply": "2022-05-09T23:00:46.885814Z"
    }
   },
   "outputs": [],
   "source": [
    "# Connect to the Database\n",
    "# cnxn = pyodbc.connect(\"Driver={SQL Server Native Client 11.0};\"\n",
    "#                         \"Server=wd02;\"\n",
    "#                         \"Database=FootPrint;\"\n",
    "#                         \"Trusted_Connection=yes;\")"
   ]
  },
  {
   "cell_type": "code",
   "execution_count": 13,
   "id": "cc6bd3e4",
   "metadata": {
    "execution": {
     "iopub.execute_input": "2022-05-09T23:00:46.889577Z",
     "iopub.status.busy": "2022-05-09T23:00:46.889577Z",
     "iopub.status.idle": "2022-05-09T23:00:46.917348Z",
     "shell.execute_reply": "2022-05-09T23:00:46.916611Z"
    }
   },
   "outputs": [],
   "source": [
    "# df_packing = pd.read_sql_query(\"DECLARE @from date, @to date;\\\n",
    "#     SELECT @from = getdate() ,@to = dateadd(day, 1, getdate());\\\n",
    "# \\\n",
    "#     select t.completedDateTime Date, w.name Warehouse, p.name Project,\\\n",
    "#         oc.name OperationCode, t.employee, s.lookupCode Shipment, lp.lookupCode LP\\\n",
    "#     from datex_footprint.Tasks t\\\n",
    "#         join datex_footprint.Shipments s\\\n",
    "#             on s.id = t.shipmentId\\\n",
    "#         join datex_footprint.LicensePlates lp\\\n",
    "#             on lp.shipmentId = s.id\\\n",
    "#         join datex_footprint.Warehouses w\\\n",
    "#             on w.id = t.warehouseId\\\n",
    "#         join datex_footprint.Projects p\\\n",
    "#             on p.id = t.projectId\\\n",
    "#         join datex_footprint.OperationCodes oc\\\n",
    "#             on oc.id = t.operationCodeId\\\n",
    "#         where t.completedDateTime >= @from AND t.completedDateTime < @to AND (t.employee != 'FootPrintService') AND (t.employee != 'Foot Print Service') and t.statusId = 2 and t.operationCodeId = 2067\", cnxn)"
   ]
  },
  {
   "cell_type": "code",
   "execution_count": 248,
   "id": "d2d05e74",
   "metadata": {
    "execution": {
     "iopub.execute_input": "2022-05-09T23:00:46.954282Z",
     "iopub.status.busy": "2022-05-09T23:00:46.954282Z",
     "iopub.status.idle": "2022-05-09T23:00:46.965270Z",
     "shell.execute_reply": "2022-05-09T23:00:46.964258Z"
    }
   },
   "outputs": [],
   "source": [
    "# Packing Function\n",
    "def packing_by_warehouse (warehouse):\n",
    "    # Filter by warehouse\n",
    "    df = df_packing[df_packing['Warehouse'] == warehouse]\n",
    "    \n",
    "    # Grouped by Employee and Hour\n",
    "    df = df.groupby(['Employee', 'Hour']).count()[['OperationCode']]\n",
    "    df.reset_index(inplace=True)\n",
    "    \n",
    "    # Pivot\n",
    "    df = df.pivot(index='Employee', columns='Hour', values='OperationCode')\n",
    "    df = df.fillna(0)\n",
    "    df = df.rename_axis(None, axis=1)\n",
    "    \n",
    "    # Save into JSON\n",
    "    packers_df = df.T\n",
    "    file_name = f'data/packers_w{warehouse}.json'\n",
    "    packers_df.to_json(file_name)"
   ]
  },
  {
   "cell_type": "code",
   "execution_count": 249,
   "id": "2f51190a",
   "metadata": {
    "execution": {
     "iopub.execute_input": "2022-05-09T23:00:46.970241Z",
     "iopub.status.busy": "2022-05-09T23:00:46.969208Z",
     "iopub.status.idle": "2022-05-09T23:00:46.996170Z",
     "shell.execute_reply": "2022-05-09T23:00:46.995175Z"
    }
   },
   "outputs": [],
   "source": [
    "# Save warehouse data into JSON files\n",
    "packing_by_warehouse('10')"
   ]
  },
  {
   "cell_type": "code",
   "execution_count": 250,
   "id": "ab7aa825",
   "metadata": {
    "execution": {
     "iopub.execute_input": "2022-05-09T23:00:47.001121Z",
     "iopub.status.busy": "2022-05-09T23:00:47.000124Z",
     "iopub.status.idle": "2022-05-09T23:00:47.012127Z",
     "shell.execute_reply": "2022-05-09T23:00:47.011094Z"
    }
   },
   "outputs": [],
   "source": [
    "# Close connection\n",
    "cnxn.close()"
   ]
  },
  {
   "cell_type": "code",
   "execution_count": null,
   "id": "b47fff9f",
   "metadata": {},
   "outputs": [],
   "source": []
  },
  {
   "cell_type": "code",
   "execution_count": null,
   "id": "a34045bd",
   "metadata": {},
   "outputs": [],
   "source": []
  },
  {
   "cell_type": "code",
   "execution_count": null,
   "id": "4d84963a",
   "metadata": {},
   "outputs": [],
   "source": []
  },
  {
   "cell_type": "code",
   "execution_count": null,
   "id": "e1a2dff7",
   "metadata": {},
   "outputs": [],
   "source": []
  },
  {
   "cell_type": "code",
   "execution_count": null,
   "id": "c928dabf",
   "metadata": {},
   "outputs": [],
   "source": []
  },
  {
   "cell_type": "code",
   "execution_count": null,
   "id": "69ef2b6e",
   "metadata": {},
   "outputs": [],
   "source": []
  },
  {
   "cell_type": "markdown",
   "id": "535778bf",
   "metadata": {},
   "source": [
    "# QUERY 02: Open Outbounds WAREHOUSE 10"
   ]
  },
  {
   "cell_type": "code",
   "execution_count": 18,
   "id": "2c1090ec",
   "metadata": {
    "execution": {
     "iopub.execute_input": "2022-05-09T23:00:47.017080Z",
     "iopub.status.busy": "2022-05-09T23:00:47.017080Z",
     "iopub.status.idle": "2022-05-09T23:00:47.028088Z",
     "shell.execute_reply": "2022-05-09T23:00:47.027088Z"
    }
   },
   "outputs": [],
   "source": [
    "# Connect to the Database\n",
    "\n",
    "# cnxn = pyodbc.connect(\"Driver={SQL Server Native Client 11.0};\"\n",
    "#                         \"Server=wd02;\"\n",
    "#                         \"Database=FootPrint;\"\n",
    "#                         \"Trusted_Connection=yes;\")"
   ]
  },
  {
   "cell_type": "code",
   "execution_count": 19,
   "id": "50ba15dd",
   "metadata": {
    "execution": {
     "iopub.execute_input": "2022-05-09T23:00:47.033073Z",
     "iopub.status.busy": "2022-05-09T23:00:47.032041Z",
     "iopub.status.idle": "2022-05-09T23:00:47.044463Z",
     "shell.execute_reply": "2022-05-09T23:00:47.042695Z"
    }
   },
   "outputs": [],
   "source": [
    "# df_02 = pd.read_sql_query(\"SELECT DISTINCT w.name warehouse, p.name project, s.lookupCode shipment_number, s.createdSysDateTime\\\n",
    "#     FROM datex_footprint.shipments s\\\n",
    "#     LEFT JOIN datex_footprint.ShipmentOrderLookup sol\\\n",
    "#         on sol.shipmentId = s.id\\\n",
    "#     LEFT JOIN datex_footprint.orders o\\\n",
    "#         on o.id = sol.orderId\\\n",
    "#     LEFT JOIN datex_footprint.Projects p\\\n",
    "#         on p.id = o.projectId\\\n",
    "#     LEFT JOIN datex_footprint.warehouses w\\\n",
    "#         on w.id = isnull(s.actualWarehouseId, s.expectedWarehouseId)\\\n",
    "#     WHERE s.statusId in (1, 2, 4) and s.typeId = 2\\\n",
    "#     ORDER BY createdSysDateTime\", cnxn)"
   ]
  },
  {
   "cell_type": "code",
   "execution_count": 20,
   "id": "4ead82a2",
   "metadata": {
    "execution": {
     "iopub.execute_input": "2022-05-09T23:00:47.049484Z",
     "iopub.status.busy": "2022-05-09T23:00:47.048486Z",
     "iopub.status.idle": "2022-05-09T23:00:47.060167Z",
     "shell.execute_reply": "2022-05-09T23:00:47.058377Z"
    }
   },
   "outputs": [],
   "source": [
    "# df_02.head()"
   ]
  },
  {
   "cell_type": "code",
   "execution_count": 21,
   "id": "2f4d888f",
   "metadata": {
    "execution": {
     "iopub.execute_input": "2022-05-09T23:00:47.065167Z",
     "iopub.status.busy": "2022-05-09T23:00:47.064127Z",
     "iopub.status.idle": "2022-05-09T23:00:47.075163Z",
     "shell.execute_reply": "2022-05-09T23:00:47.074165Z"
    }
   },
   "outputs": [],
   "source": [
    "# df_02['age_order'] = pd.Timestamp.now() - df_02['createdSysDateTime']\n",
    "# df_02.head()"
   ]
  },
  {
   "cell_type": "code",
   "execution_count": 22,
   "id": "8b695887",
   "metadata": {
    "execution": {
     "iopub.execute_input": "2022-05-09T23:00:47.080185Z",
     "iopub.status.busy": "2022-05-09T23:00:47.079188Z",
     "iopub.status.idle": "2022-05-09T23:00:47.091158Z",
     "shell.execute_reply": "2022-05-09T23:00:47.090369Z"
    }
   },
   "outputs": [],
   "source": [
    "# df_02['age_order_days'] = df_02['age_order'].dt.components['days']\n",
    "# df_02['age_order_hours'] = df_02['age_order'].dt.components['hours']\n",
    "# df_02.head()"
   ]
  },
  {
   "cell_type": "code",
   "execution_count": 23,
   "id": "b21efff0",
   "metadata": {
    "execution": {
     "iopub.execute_input": "2022-05-09T23:00:47.096142Z",
     "iopub.status.busy": "2022-05-09T23:00:47.096142Z",
     "iopub.status.idle": "2022-05-09T23:00:47.107398Z",
     "shell.execute_reply": "2022-05-09T23:00:47.106427Z"
    }
   },
   "outputs": [],
   "source": [
    "# Open Orders less than 24 hours\n",
    "\n",
    "# df_02 = df_02.loc[(df_02['age_order_days'] == 0) & (df_02['warehouse'] == '10')]\n",
    "# df_02.head()"
   ]
  },
  {
   "cell_type": "code",
   "execution_count": 24,
   "id": "1e73132e",
   "metadata": {
    "execution": {
     "iopub.execute_input": "2022-05-09T23:00:47.112420Z",
     "iopub.status.busy": "2022-05-09T23:00:47.112420Z",
     "iopub.status.idle": "2022-05-09T23:00:47.123359Z",
     "shell.execute_reply": "2022-05-09T23:00:47.122359Z"
    }
   },
   "outputs": [],
   "source": [
    "# Bins per hour\n",
    "\n",
    "# bins =[-1,4,8,12,16,24]\n",
    "# bin_names = ['4 Hours', '8 Hours', '12 Hours', '16 Hours', '24 Hours']\n",
    "\n",
    "# df_02['age_group'] = pd.cut(df_02['age_order_hours'], bins, labels=bin_names)"
   ]
  },
  {
   "cell_type": "code",
   "execution_count": 25,
   "id": "50b37145",
   "metadata": {
    "execution": {
     "iopub.execute_input": "2022-05-09T23:00:47.128375Z",
     "iopub.status.busy": "2022-05-09T23:00:47.127345Z",
     "iopub.status.idle": "2022-05-09T23:00:47.139372Z",
     "shell.execute_reply": "2022-05-09T23:00:47.138729Z"
    }
   },
   "outputs": [],
   "source": [
    "# df_02_grouped = df_02.groupby(['age_group'])[['project']].count()"
   ]
  },
  {
   "cell_type": "code",
   "execution_count": 26,
   "id": "ad0ad7b8",
   "metadata": {
    "execution": {
     "iopub.execute_input": "2022-05-09T23:00:47.144395Z",
     "iopub.status.busy": "2022-05-09T23:00:47.144395Z",
     "iopub.status.idle": "2022-05-09T23:00:47.155074Z",
     "shell.execute_reply": "2022-05-09T23:00:47.154301Z"
    }
   },
   "outputs": [],
   "source": [
    "# df_02_grouped = df_02_grouped.rename(columns={'project': 'orders'})"
   ]
  },
  {
   "cell_type": "markdown",
   "id": "ae473cac",
   "metadata": {},
   "source": [
    "### Save in JSON File"
   ]
  },
  {
   "cell_type": "code",
   "execution_count": 27,
   "id": "2d6c8932",
   "metadata": {
    "execution": {
     "iopub.execute_input": "2022-05-09T23:00:47.161087Z",
     "iopub.status.busy": "2022-05-09T23:00:47.160059Z",
     "iopub.status.idle": "2022-05-09T23:00:47.171029Z",
     "shell.execute_reply": "2022-05-09T23:00:47.170035Z"
    }
   },
   "outputs": [],
   "source": [
    "# open_outbounds = df_02_grouped\n",
    "# open_outbounds.to_json('data/open_outbounds.json')\n",
    "# open_outbounds"
   ]
  },
  {
   "cell_type": "code",
   "execution_count": 28,
   "id": "9f6bab4b",
   "metadata": {
    "execution": {
     "iopub.execute_input": "2022-05-09T23:00:47.176047Z",
     "iopub.status.busy": "2022-05-09T23:00:47.176047Z",
     "iopub.status.idle": "2022-05-09T23:00:47.187337Z",
     "shell.execute_reply": "2022-05-09T23:00:47.186282Z"
    }
   },
   "outputs": [],
   "source": [
    "# df_02_grouped = df_02_grouped.iloc[::-1]\n",
    "# df_02_grouped.plot.barh()"
   ]
  },
  {
   "cell_type": "code",
   "execution_count": 29,
   "id": "b030f66f",
   "metadata": {
    "execution": {
     "iopub.execute_input": "2022-05-09T23:00:47.193308Z",
     "iopub.status.busy": "2022-05-09T23:00:47.192280Z",
     "iopub.status.idle": "2022-05-09T23:00:47.203251Z",
     "shell.execute_reply": "2022-05-09T23:00:47.202289Z"
    }
   },
   "outputs": [],
   "source": [
    "# Close connection\n",
    "\n",
    "# cnxn.close()"
   ]
  },
  {
   "cell_type": "markdown",
   "id": "cda41e6f",
   "metadata": {},
   "source": []
  },
  {
   "cell_type": "markdown",
   "id": "9bf6f1bc",
   "metadata": {},
   "source": [
    "# QUERY 3: Picking Performance (Orders and Waves)"
   ]
  },
  {
   "cell_type": "code",
   "execution_count": 30,
   "id": "887d613e",
   "metadata": {
    "execution": {
     "iopub.execute_input": "2022-05-09T23:00:47.209266Z",
     "iopub.status.busy": "2022-05-09T23:00:47.209266Z",
     "iopub.status.idle": "2022-05-09T23:00:47.220182Z",
     "shell.execute_reply": "2022-05-09T23:00:47.218187Z"
    }
   },
   "outputs": [],
   "source": [
    "# Connect to the Database\n",
    "\n",
    "# cnxn = pyodbc.connect(\"Driver={SQL Server Native Client 11.0};\"\n",
    "#                         \"Server=wd02;\"\n",
    "#                         \"Database=FootPrint;\"\n",
    "#                         \"Trusted_Connection=yes;\")"
   ]
  },
  {
   "cell_type": "code",
   "execution_count": 31,
   "id": "641caea5",
   "metadata": {
    "execution": {
     "iopub.execute_input": "2022-05-09T23:00:47.226206Z",
     "iopub.status.busy": "2022-05-09T23:00:47.225166Z",
     "iopub.status.idle": "2022-05-09T23:00:47.235139Z",
     "shell.execute_reply": "2022-05-09T23:00:47.234175Z"
    }
   },
   "outputs": [],
   "source": [
    "# df03 = pd.read_sql_query(\"DECLARE @from date, @to date;\\\n",
    "#                           SELECT @from = getdate(), @to = dateadd(day, 1, getdate());\\\n",
    "#     SELECT t.completedDateTime Date, oc.name Operation, w.name Warehouse,\\\n",
    "#            p.name Project, m.lookupCode Material, employee Employee, s.lookupCode Shipment, isnull(s.waveId, ps.waveId) Wave,\\\n",
    "#            ordersPerWave.shipmentsCount, lc.name Location\\\n",
    "#     FROM datex_footprint.Tasks t\\\n",
    "#         join datex_footprint.OperationCodes oc\\\n",
    "#             on oc.id = t.operationCodeId\\\n",
    "#         left join datex_footprint.Warehouses w\\\n",
    "#             on w.id = t.warehouseId\\\n",
    "#         left join datex_footprint.Projects p\\\n",
    "#             on p.id = t.projectId\\\n",
    "#         left join datex_footprint.Materials m\\\n",
    "#             on m.id = t.materialId\\\n",
    "#         left join datex_footprint.Shipments s\\\n",
    "#             on s.id = t.shipmentId\\\n",
    "#         left join datex_footprint.PickSlips ps\\\n",
    "#             on ps.id = t.pickSlipId\\\n",
    "#         left join datex_footprint.LocationContainers lc\\\n",
    "#             on lc.id = t.actualSourceLocationId\\\n",
    "#         outer apply (\\\n",
    "#             select\\\n",
    "#                 count(distinct tt.shipmentId) shipmentsCount\\\n",
    "#                 from datex_footprint.waves ww\\\n",
    "#                     inner join datex_footprint.PickSlips ppss\\\n",
    "#                     inner join datex_footprint.tasks tt\\\n",
    "#                         on tt.operationCodeId = 8 and tt.pickSlipId = ppss.id\\\n",
    "#                         on ppss.waveId = ww.id\\\n",
    "#                 where ww.id = isnull(s.waveId, ps.waveId)) ordersPerWave\\\n",
    "#     where t.completedDateTime >= @from and t.completedDateTime < @to and t.statusId = 2\\\n",
    "#     and t.operationCodeId in (8, 39, 2064, 2065, 2066) and t.employee != 'Foot Print Service'\\\n",
    "#     order by s.lookupCode, t.completedDateTime\", cnxn)"
   ]
  },
  {
   "cell_type": "code",
   "execution_count": 32,
   "id": "a4cb2a77",
   "metadata": {
    "execution": {
     "iopub.execute_input": "2022-05-09T23:00:47.241157Z",
     "iopub.status.busy": "2022-05-09T23:00:47.241157Z",
     "iopub.status.idle": "2022-05-09T23:00:47.251103Z",
     "shell.execute_reply": "2022-05-09T23:00:47.250106Z"
    }
   },
   "outputs": [],
   "source": [
    "# df03.tail(3)"
   ]
  },
  {
   "cell_type": "code",
   "execution_count": 33,
   "id": "b2d6e6c7",
   "metadata": {
    "execution": {
     "iopub.execute_input": "2022-05-09T23:00:47.257114Z",
     "iopub.status.busy": "2022-05-09T23:00:47.256084Z",
     "iopub.status.idle": "2022-05-09T23:00:47.267056Z",
     "shell.execute_reply": "2022-05-09T23:00:47.265279Z"
    }
   },
   "outputs": [],
   "source": [
    "# Order Columns\n",
    "\n",
    "# df03 = df03[['Warehouse', 'Project', 'Wave', 'Shipment', 'Date', 'Operation', 'Employee',\n",
    "#              'Location', 'shipmentsCount', 'Material']]"
   ]
  },
  {
   "cell_type": "markdown",
   "id": "782d10c7",
   "metadata": {},
   "source": [
    "### Filter by Shipments"
   ]
  },
  {
   "cell_type": "code",
   "execution_count": 34,
   "id": "deb919ce",
   "metadata": {
    "execution": {
     "iopub.execute_input": "2022-05-09T23:00:47.273040Z",
     "iopub.status.busy": "2022-05-09T23:00:47.272042Z",
     "iopub.status.idle": "2022-05-09T23:00:47.282018Z",
     "shell.execute_reply": "2022-05-09T23:00:47.281019Z"
    }
   },
   "outputs": [],
   "source": [
    "# Filter by Orders only\n",
    "\n",
    "# df03_orders = df03.loc[(df03['Operation']=='Picking') |\n",
    "#                        (df03['Operation']=='Scanned Shipment') |\n",
    "#                        (df03['Operation']=='Picking Completed')]\n",
    "\n",
    "# df03_orders = df03_orders[['Warehouse', 'Project', 'Shipment', 'Date', 'Operation', 'Employee', 'Location']]\n",
    "\n",
    "# df03_orders.head()"
   ]
  },
  {
   "cell_type": "code",
   "execution_count": 35,
   "id": "379538a4",
   "metadata": {
    "execution": {
     "iopub.execute_input": "2022-05-09T23:00:47.287999Z",
     "iopub.status.busy": "2022-05-09T23:00:47.287999Z",
     "iopub.status.idle": "2022-05-09T23:00:47.298010Z",
     "shell.execute_reply": "2022-05-09T23:00:47.297007Z"
    }
   },
   "outputs": [],
   "source": [
    "# Create a new column with the time difference between rows\n",
    "\n",
    "# df03_orders['PickingTime'] = df03_orders['Date'].diff()\n",
    "# df03_orders.head()"
   ]
  },
  {
   "cell_type": "code",
   "execution_count": 36,
   "id": "1c8ab7a0",
   "metadata": {
    "execution": {
     "iopub.execute_input": "2022-05-09T23:00:47.303988Z",
     "iopub.status.busy": "2022-05-09T23:00:47.302961Z",
     "iopub.status.idle": "2022-05-09T23:00:47.313962Z",
     "shell.execute_reply": "2022-05-09T23:00:47.312969Z"
    }
   },
   "outputs": [],
   "source": [
    "# Add Hour, Minute and Second columns\n",
    "\n",
    "# df03_orders['hour'] = df03_orders['PickingTime'].dt.components['hours']\n",
    "# df03_orders['minute'] = df03_orders['PickingTime'].dt.components['minutes']\n",
    "# df03_orders['second'] = df03_orders['PickingTime'].dt.components['seconds']\n",
    "# df03_orders.head()"
   ]
  },
  {
   "cell_type": "code",
   "execution_count": 37,
   "id": "65c5bae7",
   "metadata": {
    "execution": {
     "iopub.execute_input": "2022-05-09T23:00:47.319914Z",
     "iopub.status.busy": "2022-05-09T23:00:47.318917Z",
     "iopub.status.idle": "2022-05-09T23:00:47.329920Z",
     "shell.execute_reply": "2022-05-09T23:00:47.328890Z"
    }
   },
   "outputs": [],
   "source": [
    "# Set all the Scanned Shipment hour, minute, time to ZERO\n",
    "\n",
    "# df03_orders_modified = df03_orders\n",
    "\n",
    "# df03_orders_modified.loc[df03_orders_modified.Operation == 'Scanned Shipment', 'hour'] = 0.0\n",
    "# df03_orders_modified.loc[df03_orders_modified.Operation == 'Scanned Shipment', 'minute'] = 0.0\n",
    "# df03_orders_modified.loc[df03_orders_modified.Operation == 'Scanned Shipment', 'second'] = 0.0\n",
    "\n",
    "# df03_orders_modified.loc[df03_orders_modified['Operation'] == 'Scanned Shipment'].head()"
   ]
  },
  {
   "cell_type": "code",
   "execution_count": 38,
   "id": "0a32c449",
   "metadata": {
    "execution": {
     "iopub.execute_input": "2022-05-09T23:00:47.335903Z",
     "iopub.status.busy": "2022-05-09T23:00:47.334906Z",
     "iopub.status.idle": "2022-05-09T23:00:47.345876Z",
     "shell.execute_reply": "2022-05-09T23:00:47.344880Z"
    }
   },
   "outputs": [],
   "source": [
    "# df03_orders_modified['Time'] = df03_orders_modified['hour']*60 + df03_orders_modified['minute'] + df03_orders_modified['second']/60\n",
    "# df03_orders_modified.head()"
   ]
  },
  {
   "cell_type": "code",
   "execution_count": 39,
   "id": "47d0ed4a",
   "metadata": {
    "execution": {
     "iopub.execute_input": "2022-05-09T23:00:47.351861Z",
     "iopub.status.busy": "2022-05-09T23:00:47.350865Z",
     "iopub.status.idle": "2022-05-09T23:00:47.362830Z",
     "shell.execute_reply": "2022-05-09T23:00:47.360837Z"
    }
   },
   "outputs": [],
   "source": [
    "# Save in JSON Format for HTML\n",
    "\n",
    "# df03_group = df03_orders_modified.groupby(['Warehouse', 'Project', 'Shipment', 'Operation', 'Date'])[['Time']].sum().sort_values(['Warehouse', 'Project', 'Shipment', 'Date'])\n",
    "# df03_group.to_json('data/performance.json', orient='table')\n",
    "# df03_group.head(20)"
   ]
  },
  {
   "cell_type": "code",
   "execution_count": 40,
   "id": "8965cf87",
   "metadata": {
    "execution": {
     "iopub.execute_input": "2022-05-09T23:00:47.368818Z",
     "iopub.status.busy": "2022-05-09T23:00:47.367824Z",
     "iopub.status.idle": "2022-05-09T23:00:47.377789Z",
     "shell.execute_reply": "2022-05-09T23:00:47.375802Z"
    }
   },
   "outputs": [],
   "source": [
    "# Remove Operation 'Scanned Shipment'\n",
    "\n",
    "# df03_excluding_Scanned = df03_orders_modified.loc[df03_orders_modified['Operation'] != 'Scanned Shipment']\n",
    "# df03_excluding_Scanned.head()"
   ]
  },
  {
   "cell_type": "code",
   "execution_count": 41,
   "id": "639c4e63",
   "metadata": {
    "execution": {
     "iopub.execute_input": "2022-05-09T23:00:47.383778Z",
     "iopub.status.busy": "2022-05-09T23:00:47.383778Z",
     "iopub.status.idle": "2022-05-09T23:00:47.393785Z",
     "shell.execute_reply": "2022-05-09T23:00:47.391755Z"
    }
   },
   "outputs": [],
   "source": [
    "# Save in CSV Format for Tableau\n",
    "\n",
    "# df03_group2 = df03_excluding_Scanned.groupby(['Warehouse', 'Project', 'Employee', 'Shipment', 'Operation', 'Date'])[['Time']].sum().sort_values(['Warehouse', 'Project', 'Employee', 'Shipment', 'Date'])\n",
    "# df03_group2.to_csv('data/performance.csv')\n",
    "# df03_group2.head(20)"
   ]
  },
  {
   "cell_type": "code",
   "execution_count": 42,
   "id": "72973a53",
   "metadata": {
    "execution": {
     "iopub.execute_input": "2022-05-09T23:00:47.398772Z",
     "iopub.status.busy": "2022-05-09T23:00:47.398772Z",
     "iopub.status.idle": "2022-05-09T23:00:47.408707Z",
     "shell.execute_reply": "2022-05-09T23:00:47.407747Z"
    }
   },
   "outputs": [],
   "source": [
    "# Close connection\n",
    "\n",
    "# cnxn.close()"
   ]
  },
  {
   "cell_type": "code",
   "execution_count": null,
   "id": "61b643e2",
   "metadata": {},
   "outputs": [],
   "source": []
  }
 ],
 "metadata": {
  "kernelspec": {
   "display_name": "PythonData",
   "language": "python",
   "name": "pythondata"
  },
  "language_info": {
   "codemirror_mode": {
    "name": "ipython",
    "version": 3
   },
   "file_extension": ".py",
   "mimetype": "text/x-python",
   "name": "python",
   "nbconvert_exporter": "python",
   "pygments_lexer": "ipython3",
   "version": "3.7.11"
  }
 },
 "nbformat": 4,
 "nbformat_minor": 5
}
