{
 "cells": [
  {
   "cell_type": "code",
   "execution_count": 1,
   "id": "631cdeb5",
   "metadata": {
    "execution": {
     "iopub.execute_input": "2022-07-16T19:05:43.050020Z",
     "iopub.status.busy": "2022-07-16T19:05:43.048472Z",
     "iopub.status.idle": "2022-07-16T19:05:44.288669Z",
     "shell.execute_reply": "2022-07-16T19:05:44.287940Z"
    }
   },
   "outputs": [],
   "source": [
    "import pyodbc\n",
    "import pandas as pd\n",
    "import numpy as np\n",
    "\n",
    "import matplotlib.pyplot as plt\n",
    "from matplotlib import style\n",
    "style.use('fivethirtyeight')"
   ]
  },
  {
   "cell_type": "markdown",
   "id": "e452ad18",
   "metadata": {},
   "source": [
    "# QUERY LINES: PICKING - PACKING - BATCHING"
   ]
  },
  {
   "cell_type": "code",
   "execution_count": 2,
   "id": "cfa380f7",
   "metadata": {
    "execution": {
     "iopub.execute_input": "2022-07-16T19:05:44.291666Z",
     "iopub.status.busy": "2022-07-16T19:05:44.291666Z",
     "iopub.status.idle": "2022-07-16T19:05:44.351339Z",
     "shell.execute_reply": "2022-07-16T19:05:44.350596Z"
    }
   },
   "outputs": [],
   "source": [
    "# Connect to the Database\n",
    "cnxn = pyodbc.connect(\"Driver={SQL Server Native Client 11.0};\"\n",
    "                        \"Server=wd02;\"\n",
    "                        \"Database=FootPrint;\"\n",
    "                        \"Trusted_Connection=yes;\")"
   ]
  },
  {
   "cell_type": "code",
   "execution_count": 3,
   "id": "33630a7b",
   "metadata": {
    "execution": {
     "iopub.execute_input": "2022-07-16T19:05:44.355375Z",
     "iopub.status.busy": "2022-07-16T19:05:44.355375Z",
     "iopub.status.idle": "2022-07-16T19:05:44.869111Z",
     "shell.execute_reply": "2022-07-16T19:05:44.869111Z"
    }
   },
   "outputs": [],
   "source": [
    "df_operations = pd.read_sql_query(\"DECLARE @from date, @to date;\\\n",
    "    SELECT @from = getdate() ,@to = dateadd(day, 1, getdate());\\\n",
    "\\\n",
    "    select t.completedDateTime Date, w.name Warehouse, p.name Project,\\\n",
    "        oc.name OperationCode, t.employee Employee\\\n",
    "    from datex_footprint.Tasks t\\\n",
    "        left join datex_footprint.Warehouses w\\\n",
    "            on w.id = t.warehouseId\\\n",
    "        left join datex_footprint.Projects p\\\n",
    "            on p.id = t.projectId\\\n",
    "        join datex_footprint.OperationCodes oc\\\n",
    "            on oc.id = t.operationCodeId\\\n",
    "        where t.completedDateTime >= @from AND t.completedDateTime < @to AND\\\n",
    "        (t.employee != 'FootPrintService') AND (t.employee != 'Foot Print Service') AND\\\n",
    "        t.statusId = 2 AND t.operationCodeId in (8, 39, 2067)\", cnxn)"
   ]
  },
  {
   "cell_type": "code",
   "execution_count": 4,
   "id": "c735920a",
   "metadata": {
    "execution": {
     "iopub.execute_input": "2022-07-16T19:05:44.872081Z",
     "iopub.status.busy": "2022-07-16T19:05:44.872081Z",
     "iopub.status.idle": "2022-07-16T19:05:44.885079Z",
     "shell.execute_reply": "2022-07-16T19:05:44.885079Z"
    }
   },
   "outputs": [
    {
     "data": {
      "text/html": [
       "<div>\n",
       "<style scoped>\n",
       "    .dataframe tbody tr th:only-of-type {\n",
       "        vertical-align: middle;\n",
       "    }\n",
       "\n",
       "    .dataframe tbody tr th {\n",
       "        vertical-align: top;\n",
       "    }\n",
       "\n",
       "    .dataframe thead th {\n",
       "        text-align: right;\n",
       "    }\n",
       "</style>\n",
       "<table border=\"1\" class=\"dataframe\">\n",
       "  <thead>\n",
       "    <tr style=\"text-align: right;\">\n",
       "      <th></th>\n",
       "      <th>Date</th>\n",
       "      <th>Warehouse</th>\n",
       "      <th>Project</th>\n",
       "      <th>OperationCode</th>\n",
       "      <th>Employee</th>\n",
       "      <th>Hour</th>\n",
       "    </tr>\n",
       "  </thead>\n",
       "  <tbody>\n",
       "    <tr>\n",
       "      <th>0</th>\n",
       "      <td>2022-07-16 07:28:31.050</td>\n",
       "      <td>16</td>\n",
       "      <td>TASA USA Inc.</td>\n",
       "      <td>Picking</td>\n",
       "      <td>Hector Gonzalez</td>\n",
       "      <td>7</td>\n",
       "    </tr>\n",
       "    <tr>\n",
       "      <th>1</th>\n",
       "      <td>2022-07-16 07:28:08.020</td>\n",
       "      <td>16</td>\n",
       "      <td>TASA USA Inc.</td>\n",
       "      <td>Picking</td>\n",
       "      <td>Hector Gonzalez</td>\n",
       "      <td>7</td>\n",
       "    </tr>\n",
       "    <tr>\n",
       "      <th>2</th>\n",
       "      <td>2022-07-16 07:26:40.533</td>\n",
       "      <td>16</td>\n",
       "      <td>TASA USA Inc.</td>\n",
       "      <td>Picking</td>\n",
       "      <td>Hector Gonzalez</td>\n",
       "      <td>7</td>\n",
       "    </tr>\n",
       "    <tr>\n",
       "      <th>3</th>\n",
       "      <td>2022-07-16 07:28:57.803</td>\n",
       "      <td>16</td>\n",
       "      <td>TASA USA Inc.</td>\n",
       "      <td>Picking</td>\n",
       "      <td>Hector Gonzalez</td>\n",
       "      <td>7</td>\n",
       "    </tr>\n",
       "    <tr>\n",
       "      <th>4</th>\n",
       "      <td>2022-07-16 07:25:58.797</td>\n",
       "      <td>16</td>\n",
       "      <td>TASA USA Inc.</td>\n",
       "      <td>Picking</td>\n",
       "      <td>Hector Gonzalez</td>\n",
       "      <td>7</td>\n",
       "    </tr>\n",
       "  </tbody>\n",
       "</table>\n",
       "</div>"
      ],
      "text/plain": [
       "                     Date Warehouse        Project OperationCode  \\\n",
       "0 2022-07-16 07:28:31.050        16  TASA USA Inc.       Picking   \n",
       "1 2022-07-16 07:28:08.020        16  TASA USA Inc.       Picking   \n",
       "2 2022-07-16 07:26:40.533        16  TASA USA Inc.       Picking   \n",
       "3 2022-07-16 07:28:57.803        16  TASA USA Inc.       Picking   \n",
       "4 2022-07-16 07:25:58.797        16  TASA USA Inc.       Picking   \n",
       "\n",
       "          Employee  Hour  \n",
       "0  Hector Gonzalez     7  \n",
       "1  Hector Gonzalez     7  \n",
       "2  Hector Gonzalez     7  \n",
       "3  Hector Gonzalez     7  \n",
       "4  Hector Gonzalez     7  "
      ]
     },
     "execution_count": 4,
     "metadata": {},
     "output_type": "execute_result"
    }
   ],
   "source": [
    "# Adding Hours\n",
    "df_operations['Hour'] = pd.to_datetime(df_operations['Date']).dt.hour\n",
    "df_operations.head()"
   ]
  },
  {
   "cell_type": "code",
   "execution_count": 5,
   "id": "22ae8da8",
   "metadata": {
    "execution": {
     "iopub.execute_input": "2022-07-16T19:05:44.888079Z",
     "iopub.status.busy": "2022-07-16T19:05:44.888079Z",
     "iopub.status.idle": "2022-07-16T19:05:44.901121Z",
     "shell.execute_reply": "2022-07-16T19:05:44.901121Z"
    }
   },
   "outputs": [],
   "source": [
    "# Activity Function By Warehouse\n",
    "def activity (warehouse, operationCode, df):\n",
    "    # Filter by warehouse\n",
    "    df2 = df[(df['Warehouse'] == warehouse) & (df['OperationCode'] == operationCode)]\n",
    "    \n",
    "    # Grouped by Employee and Hour\n",
    "    df2 = df2.groupby(['Employee', 'Hour']).count()[['OperationCode']]\n",
    "    df2.reset_index(inplace=True)\n",
    "    \n",
    "    # Pivot\n",
    "    df2 = df2.pivot(index='Employee', columns='Hour', values='OperationCode')\n",
    "    df2 = df2.fillna(0)\n",
    "    df2 = df2.rename_axis(None, axis=1)\n",
    "    \n",
    "    # Save into JSON\n",
    "    df2 = df2.T\n",
    "    file_name = f'data/W{warehouse}_{operationCode}.json'\n",
    "    df2.to_json(file_name)"
   ]
  },
  {
   "cell_type": "code",
   "execution_count": 6,
   "id": "f48970d1",
   "metadata": {
    "execution": {
     "iopub.execute_input": "2022-07-16T19:05:44.904120Z",
     "iopub.status.busy": "2022-07-16T19:05:44.904120Z",
     "iopub.status.idle": "2022-07-16T19:05:44.933155Z",
     "shell.execute_reply": "2022-07-16T19:05:44.933155Z"
    }
   },
   "outputs": [],
   "source": [
    "activity('10', 'Picking', df_operations)\n",
    "activity('10', 'Rate And Ship', df_operations)\n",
    "activity('10', 'Batch Move', df_operations)"
   ]
  },
  {
   "cell_type": "code",
   "execution_count": 7,
   "id": "ab7aa825",
   "metadata": {
    "execution": {
     "iopub.execute_input": "2022-07-16T19:05:44.936122Z",
     "iopub.status.busy": "2022-07-16T19:05:44.936122Z",
     "iopub.status.idle": "2022-07-16T19:05:44.948851Z",
     "shell.execute_reply": "2022-07-16T19:05:44.948266Z"
    }
   },
   "outputs": [],
   "source": [
    "# # Close connection\n",
    "cnxn.close()"
   ]
  },
  {
   "cell_type": "markdown",
   "id": "f6e6c852",
   "metadata": {},
   "source": [
    "# QUERY ORDERS: PICKING - PACKING - BATCHING"
   ]
  },
  {
   "cell_type": "code",
   "execution_count": 8,
   "id": "a34045bd",
   "metadata": {
    "execution": {
     "iopub.execute_input": "2022-07-16T19:05:44.951903Z",
     "iopub.status.busy": "2022-07-16T19:05:44.951347Z",
     "iopub.status.idle": "2022-07-16T19:05:44.964029Z",
     "shell.execute_reply": "2022-07-16T19:05:44.963521Z"
    }
   },
   "outputs": [],
   "source": [
    "# Connect to the Database\n",
    "cnxn = pyodbc.connect(\"Driver={SQL Server Native Client 11.0};\"\n",
    "                        \"Server=wd02;\"\n",
    "                        \"Database=FootPrint;\"\n",
    "                        \"Trusted_Connection=yes;\")"
   ]
  },
  {
   "cell_type": "code",
   "execution_count": 9,
   "id": "4d84963a",
   "metadata": {
    "execution": {
     "iopub.execute_input": "2022-07-16T19:05:44.967918Z",
     "iopub.status.busy": "2022-07-16T19:05:44.967409Z",
     "iopub.status.idle": "2022-07-16T19:05:57.884381Z",
     "shell.execute_reply": "2022-07-16T19:05:57.881597Z"
    }
   },
   "outputs": [],
   "source": [
    "# TODAY ORDERS\n",
    "df_today = pd.read_sql_query(\"DECLARE @from date, @to date;\\\n",
    "    SELECT @from = getdate() ,@to = dateadd(day, 1, getdate());\\\n",
    "\\\n",
    "    select distinct w.name Warehouse, oc.name OperationCode,\\\n",
    "        COUNt(DISTINCT (ISNULL(t.shipmentId, s.id))) Shipment\\\n",
    "    from datex_footprint.Tasks t\\\n",
    "        left join datex_footprint.Warehouses w\\\n",
    "            on w.id = t.warehouseId\\\n",
    "        join datex_footprint.OperationCodes oc\\\n",
    "            on oc.id = t.operationCodeId\\\n",
    "        left join datex_footprint.PickSlips ps\\\n",
    "            on ps.id = t.pickSlipId\\\n",
    "        left join datex_footprint.Waves wa\\\n",
    "            on wa.id = ps.waveId\\\n",
    "        left join datex_footprint.shipments s\\\n",
    "            on s.waveId = wa.id\\\n",
    "        where t.completedDateTime >= @from AND t.completedDateTime < @to AND\\\n",
    "        (t.employee != 'FootPrintService') AND (t.employee != 'Foot Print Service') AND\\\n",
    "        t.statusId = 2 AND t.operationCodeId in (8, 39, 2067)\\\n",
    "        group by w.name, oc.name\", cnxn)"
   ]
  },
  {
   "cell_type": "code",
   "execution_count": 10,
   "id": "73bf0281",
   "metadata": {
    "execution": {
     "iopub.execute_input": "2022-07-16T19:05:57.893333Z",
     "iopub.status.busy": "2022-07-16T19:05:57.893333Z",
     "iopub.status.idle": "2022-07-16T19:05:58.999365Z",
     "shell.execute_reply": "2022-07-16T19:05:58.998606Z"
    }
   },
   "outputs": [],
   "source": [
    "# YESTEDAY ORDERS\n",
    "df_yesterday = pd.read_sql_query(\"DECLARE @from date, @to date;\\\n",
    "    SELECT @from = dateadd(day, -1, getdate()) ,@to = getdate();\\\n",
    "\\\n",
    "    select distinct w.name Warehouse, oc.name OperationCode,\\\n",
    "        COUNt(DISTINCT (ISNULL(t.shipmentId, s.id))) Shipment\\\n",
    "    from datex_footprint.Tasks t\\\n",
    "        left join datex_footprint.Warehouses w\\\n",
    "            on w.id = t.warehouseId\\\n",
    "        join datex_footprint.OperationCodes oc\\\n",
    "            on oc.id = t.operationCodeId\\\n",
    "        left join datex_footprint.PickSlips ps\\\n",
    "            on ps.id = t.pickSlipId\\\n",
    "        left join datex_footprint.Waves wa\\\n",
    "            on wa.id = ps.waveId\\\n",
    "        left join datex_footprint.shipments s\\\n",
    "            on s.waveId = wa.id\\\n",
    "        where t.completedDateTime >= @from AND t.completedDateTime < @to AND\\\n",
    "        (t.employee != 'FootPrintService') AND (t.employee != 'Foot Print Service') AND\\\n",
    "        t.statusId = 2 AND t.operationCodeId in (8, 39, 2067)\\\n",
    "        group by w.name, oc.name\", cnxn)"
   ]
  },
  {
   "cell_type": "code",
   "execution_count": 11,
   "id": "6fc49f2e",
   "metadata": {
    "execution": {
     "iopub.execute_input": "2022-07-16T19:05:59.004356Z",
     "iopub.status.busy": "2022-07-16T19:05:59.004356Z",
     "iopub.status.idle": "2022-07-16T19:05:59.015359Z",
     "shell.execute_reply": "2022-07-16T19:05:59.014393Z"
    }
   },
   "outputs": [],
   "source": [
    "# Rename Columns\n",
    "df_today.rename(columns={'Shipment': 'Today'}, inplace=True)\n",
    "df_yesterday.rename(columns={'Shipment': 'Yesterday'}, inplace=True)"
   ]
  },
  {
   "cell_type": "code",
   "execution_count": 12,
   "id": "b18420f4",
   "metadata": {
    "execution": {
     "iopub.execute_input": "2022-07-16T19:05:59.021402Z",
     "iopub.status.busy": "2022-07-16T19:05:59.020360Z",
     "iopub.status.idle": "2022-07-16T19:05:59.047154Z",
     "shell.execute_reply": "2022-07-16T19:05:59.045289Z"
    }
   },
   "outputs": [],
   "source": [
    "# Merge dataframes\n",
    "df_today_yesterday = pd.merge(df_today, df_yesterday,  how='outer', left_on=['Warehouse','OperationCode'], right_on = ['Warehouse','OperationCode'])"
   ]
  },
  {
   "cell_type": "code",
   "execution_count": 13,
   "id": "79c1e830",
   "metadata": {
    "execution": {
     "iopub.execute_input": "2022-07-16T19:05:59.052118Z",
     "iopub.status.busy": "2022-07-16T19:05:59.052118Z",
     "iopub.status.idle": "2022-07-16T19:05:59.062116Z",
     "shell.execute_reply": "2022-07-16T19:05:59.061116Z"
    }
   },
   "outputs": [],
   "source": [
    "def orders (warehouse, df):\n",
    "    df2 = df[df['Warehouse'] == warehouse]\n",
    "    df2 = df2.pivot(index='Warehouse', columns='OperationCode', values=['Today', 'Yesterday']).fillna(0)\n",
    "    df2 = df2.T\n",
    "    \n",
    "    display(df2)\n",
    "    \n",
    "    file_name = f'data/W{warehouse}_Orders.json'\n",
    "    df2.to_json(file_name)"
   ]
  },
  {
   "cell_type": "code",
   "execution_count": 14,
   "id": "993773f6",
   "metadata": {
    "execution": {
     "iopub.execute_input": "2022-07-16T19:05:59.068128Z",
     "iopub.status.busy": "2022-07-16T19:05:59.067153Z",
     "iopub.status.idle": "2022-07-16T19:05:59.110033Z",
     "shell.execute_reply": "2022-07-16T19:05:59.108171Z"
    }
   },
   "outputs": [
    {
     "data": {
      "text/html": [
       "<div>\n",
       "<style scoped>\n",
       "    .dataframe tbody tr th:only-of-type {\n",
       "        vertical-align: middle;\n",
       "    }\n",
       "\n",
       "    .dataframe tbody tr th {\n",
       "        vertical-align: top;\n",
       "    }\n",
       "\n",
       "    .dataframe thead th {\n",
       "        text-align: right;\n",
       "    }\n",
       "</style>\n",
       "<table border=\"1\" class=\"dataframe\">\n",
       "  <thead>\n",
       "    <tr style=\"text-align: right;\">\n",
       "      <th></th>\n",
       "      <th>Warehouse</th>\n",
       "      <th>10</th>\n",
       "    </tr>\n",
       "    <tr>\n",
       "      <th></th>\n",
       "      <th>OperationCode</th>\n",
       "      <th></th>\n",
       "    </tr>\n",
       "  </thead>\n",
       "  <tbody>\n",
       "    <tr>\n",
       "      <th rowspan=\"3\" valign=\"top\">Today</th>\n",
       "      <th>Batch Move</th>\n",
       "      <td>0.0</td>\n",
       "    </tr>\n",
       "    <tr>\n",
       "      <th>Picking</th>\n",
       "      <td>0.0</td>\n",
       "    </tr>\n",
       "    <tr>\n",
       "      <th>Rate And Ship</th>\n",
       "      <td>0.0</td>\n",
       "    </tr>\n",
       "    <tr>\n",
       "      <th rowspan=\"3\" valign=\"top\">Yesterday</th>\n",
       "      <th>Batch Move</th>\n",
       "      <td>95.0</td>\n",
       "    </tr>\n",
       "    <tr>\n",
       "      <th>Picking</th>\n",
       "      <td>99.0</td>\n",
       "    </tr>\n",
       "    <tr>\n",
       "      <th>Rate And Ship</th>\n",
       "      <td>91.0</td>\n",
       "    </tr>\n",
       "  </tbody>\n",
       "</table>\n",
       "</div>"
      ],
      "text/plain": [
       "Warehouse                  10\n",
       "          OperationCode      \n",
       "Today     Batch Move      0.0\n",
       "          Picking         0.0\n",
       "          Rate And Ship   0.0\n",
       "Yesterday Batch Move     95.0\n",
       "          Picking        99.0\n",
       "          Rate And Ship  91.0"
      ]
     },
     "metadata": {},
     "output_type": "display_data"
    }
   ],
   "source": [
    "orders('10', df_today_yesterday)"
   ]
  },
  {
   "cell_type": "code",
   "execution_count": 15,
   "id": "4bb020fd",
   "metadata": {
    "execution": {
     "iopub.execute_input": "2022-07-16T19:05:59.115030Z",
     "iopub.status.busy": "2022-07-16T19:05:59.115030Z",
     "iopub.status.idle": "2022-07-16T19:05:59.125751Z",
     "shell.execute_reply": "2022-07-16T19:05:59.124209Z"
    }
   },
   "outputs": [],
   "source": [
    "# # Close connection\n",
    "cnxn.close()"
   ]
  },
  {
   "cell_type": "markdown",
   "id": "cfe829e8",
   "metadata": {},
   "source": [
    "# QUERY: OPEN ORDERS\n",
    "Shipments in Released and Executing status"
   ]
  },
  {
   "cell_type": "code",
   "execution_count": 16,
   "id": "b6917f6f",
   "metadata": {
    "execution": {
     "iopub.execute_input": "2022-07-16T19:05:59.131790Z",
     "iopub.status.busy": "2022-07-16T19:05:59.131790Z",
     "iopub.status.idle": "2022-07-16T19:05:59.141752Z",
     "shell.execute_reply": "2022-07-16T19:05:59.139745Z"
    }
   },
   "outputs": [],
   "source": [
    "# Connect to the Database\n",
    "cnxn = pyodbc.connect(\"Driver={SQL Server Native Client 11.0};\"\n",
    "                        \"Server=wd02;\"\n",
    "                        \"Database=FootPrint;\"\n",
    "                        \"Trusted_Connection=yes;\")"
   ]
  },
  {
   "cell_type": "code",
   "execution_count": 17,
   "id": "72994acb",
   "metadata": {
    "execution": {
     "iopub.execute_input": "2022-07-16T19:05:59.146787Z",
     "iopub.status.busy": "2022-07-16T19:05:59.146787Z",
     "iopub.status.idle": "2022-07-16T19:05:59.156794Z",
     "shell.execute_reply": "2022-07-16T19:05:59.155749Z"
    }
   },
   "outputs": [],
   "source": [
    "# OPEN ORDERS\n",
    "df_open_orders = pd.read_sql_query(\"select w.name Warehouse, count(s.lookupCode) Shipments\\\n",
    "    from datex_footprint.Shipments s\\\n",
    "        join datex_footprint.Warehouses w\\\n",
    "            on w.id = ISNULL(s.actualWarehouseId, s.expectedWarehouseId)\\\n",
    "    where s.statusId in (2) and s.typeId = 2\\\n",
    "    group by w.name\", cnxn)"
   ]
  },
  {
   "cell_type": "code",
   "execution_count": 18,
   "id": "3e534528",
   "metadata": {
    "execution": {
     "iopub.execute_input": "2022-07-16T19:05:59.162788Z",
     "iopub.status.busy": "2022-07-16T19:05:59.162788Z",
     "iopub.status.idle": "2022-07-16T19:05:59.188512Z",
     "shell.execute_reply": "2022-07-16T19:05:59.187955Z"
    }
   },
   "outputs": [
    {
     "data": {
      "text/html": [
       "<div>\n",
       "<style scoped>\n",
       "    .dataframe tbody tr th:only-of-type {\n",
       "        vertical-align: middle;\n",
       "    }\n",
       "\n",
       "    .dataframe tbody tr th {\n",
       "        vertical-align: top;\n",
       "    }\n",
       "\n",
       "    .dataframe thead th {\n",
       "        text-align: right;\n",
       "    }\n",
       "</style>\n",
       "<table border=\"1\" class=\"dataframe\">\n",
       "  <thead>\n",
       "    <tr style=\"text-align: right;\">\n",
       "      <th>Warehouse</th>\n",
       "      <th>10</th>\n",
       "      <th>102</th>\n",
       "      <th>12</th>\n",
       "      <th>15</th>\n",
       "      <th>16</th>\n",
       "      <th>17</th>\n",
       "      <th>19</th>\n",
       "      <th>20</th>\n",
       "      <th>21</th>\n",
       "    </tr>\n",
       "  </thead>\n",
       "  <tbody>\n",
       "    <tr>\n",
       "      <th>Shipments</th>\n",
       "      <td>152</td>\n",
       "      <td>1</td>\n",
       "      <td>2</td>\n",
       "      <td>24</td>\n",
       "      <td>12</td>\n",
       "      <td>9</td>\n",
       "      <td>5</td>\n",
       "      <td>86</td>\n",
       "      <td>3</td>\n",
       "    </tr>\n",
       "  </tbody>\n",
       "</table>\n",
       "</div>"
      ],
      "text/plain": [
       "Warehouse   10  102  12  15  16  17  19  20  21\n",
       "Shipments  152    1   2  24  12   9   5  86   3"
      ]
     },
     "execution_count": 18,
     "metadata": {},
     "output_type": "execute_result"
    }
   ],
   "source": [
    "df_open_orders.set_index('Warehouse', inplace=True)\n",
    "df_open_orders = df_open_orders.T\n",
    "df_open_orders"
   ]
  },
  {
   "cell_type": "code",
   "execution_count": 19,
   "id": "2cfd5c4a",
   "metadata": {
    "execution": {
     "iopub.execute_input": "2022-07-16T19:05:59.194567Z",
     "iopub.status.busy": "2022-07-16T19:05:59.194567Z",
     "iopub.status.idle": "2022-07-16T19:05:59.204568Z",
     "shell.execute_reply": "2022-07-16T19:05:59.202579Z"
    }
   },
   "outputs": [],
   "source": [
    "file_name = f'data/Open_Orders.json'\n",
    "df_open_orders.to_json(file_name)"
   ]
  },
  {
   "cell_type": "code",
   "execution_count": 20,
   "id": "86aaf66f",
   "metadata": {
    "execution": {
     "iopub.execute_input": "2022-07-16T19:05:59.209567Z",
     "iopub.status.busy": "2022-07-16T19:05:59.209567Z",
     "iopub.status.idle": "2022-07-16T19:05:59.218529Z",
     "shell.execute_reply": "2022-07-16T19:05:59.217533Z"
    }
   },
   "outputs": [],
   "source": [
    "# # Close connection\n",
    "cnxn.close()"
   ]
  },
  {
   "cell_type": "code",
   "execution_count": null,
   "id": "72b78df6",
   "metadata": {},
   "outputs": [],
   "source": []
  },
  {
   "cell_type": "code",
   "execution_count": null,
   "id": "d5f52d43",
   "metadata": {},
   "outputs": [],
   "source": []
  },
  {
   "cell_type": "code",
   "execution_count": null,
   "id": "81d3bd0c",
   "metadata": {},
   "outputs": [],
   "source": []
  },
  {
   "cell_type": "code",
   "execution_count": null,
   "id": "a0252f3a",
   "metadata": {},
   "outputs": [],
   "source": []
  },
  {
   "cell_type": "code",
   "execution_count": null,
   "id": "5b20e3fe",
   "metadata": {},
   "outputs": [],
   "source": []
  },
  {
   "cell_type": "code",
   "execution_count": null,
   "id": "e427507c",
   "metadata": {},
   "outputs": [],
   "source": []
  },
  {
   "cell_type": "code",
   "execution_count": null,
   "id": "ce5a9472",
   "metadata": {},
   "outputs": [],
   "source": []
  },
  {
   "cell_type": "code",
   "execution_count": null,
   "id": "ec1114a6",
   "metadata": {},
   "outputs": [],
   "source": []
  },
  {
   "cell_type": "code",
   "execution_count": null,
   "id": "48dcade4",
   "metadata": {},
   "outputs": [],
   "source": []
  },
  {
   "cell_type": "code",
   "execution_count": null,
   "id": "87b3ff6b",
   "metadata": {},
   "outputs": [],
   "source": []
  },
  {
   "cell_type": "markdown",
   "id": "535778bf",
   "metadata": {},
   "source": [
    "# QUERY 02: Open Outbounds WAREHOUSE 10"
   ]
  },
  {
   "cell_type": "code",
   "execution_count": 21,
   "id": "2c1090ec",
   "metadata": {
    "execution": {
     "iopub.execute_input": "2022-07-16T19:05:59.225568Z",
     "iopub.status.busy": "2022-07-16T19:05:59.225568Z",
     "iopub.status.idle": "2022-07-16T19:05:59.234529Z",
     "shell.execute_reply": "2022-07-16T19:05:59.233573Z"
    }
   },
   "outputs": [],
   "source": [
    "# Connect to the Database\n",
    "\n",
    "# cnxn = pyodbc.connect(\"Driver={SQL Server Native Client 11.0};\"\n",
    "#                         \"Server=wd02;\"\n",
    "#                         \"Database=FootPrint;\"\n",
    "#                         \"Trusted_Connection=yes;\")"
   ]
  },
  {
   "cell_type": "code",
   "execution_count": 22,
   "id": "50ba15dd",
   "metadata": {
    "execution": {
     "iopub.execute_input": "2022-07-16T19:05:59.240570Z",
     "iopub.status.busy": "2022-07-16T19:05:59.240570Z",
     "iopub.status.idle": "2022-07-16T19:05:59.249535Z",
     "shell.execute_reply": "2022-07-16T19:05:59.248539Z"
    }
   },
   "outputs": [],
   "source": [
    "# df_02 = pd.read_sql_query(\"SELECT DISTINCT w.name warehouse, p.name project, s.lookupCode shipment_number, s.createdSysDateTime\\\n",
    "#     FROM datex_footprint.shipments s\\\n",
    "#     LEFT JOIN datex_footprint.ShipmentOrderLookup sol\\\n",
    "#         on sol.shipmentId = s.id\\\n",
    "#     LEFT JOIN datex_footprint.orders o\\\n",
    "#         on o.id = sol.orderId\\\n",
    "#     LEFT JOIN datex_footprint.Projects p\\\n",
    "#         on p.id = o.projectId\\\n",
    "#     LEFT JOIN datex_footprint.warehouses w\\\n",
    "#         on w.id = isnull(s.actualWarehouseId, s.expectedWarehouseId)\\\n",
    "#     WHERE s.statusId in (1, 2, 4) and s.typeId = 2\\\n",
    "#     ORDER BY createdSysDateTime\", cnxn)"
   ]
  },
  {
   "cell_type": "code",
   "execution_count": 23,
   "id": "4ead82a2",
   "metadata": {
    "execution": {
     "iopub.execute_input": "2022-07-16T19:05:59.256529Z",
     "iopub.status.busy": "2022-07-16T19:05:59.255530Z",
     "iopub.status.idle": "2022-07-16T19:05:59.265568Z",
     "shell.execute_reply": "2022-07-16T19:05:59.264529Z"
    }
   },
   "outputs": [],
   "source": [
    "# df_02.head()"
   ]
  },
  {
   "cell_type": "code",
   "execution_count": 24,
   "id": "2f4d888f",
   "metadata": {
    "execution": {
     "iopub.execute_input": "2022-07-16T19:05:59.271573Z",
     "iopub.status.busy": "2022-07-16T19:05:59.270573Z",
     "iopub.status.idle": "2022-07-16T19:05:59.280890Z",
     "shell.execute_reply": "2022-07-16T19:05:59.279859Z"
    }
   },
   "outputs": [],
   "source": [
    "# df_02['age_order'] = pd.Timestamp.now() - df_02['createdSysDateTime']\n",
    "# df_02.head()"
   ]
  },
  {
   "cell_type": "code",
   "execution_count": 25,
   "id": "8b695887",
   "metadata": {
    "execution": {
     "iopub.execute_input": "2022-07-16T19:05:59.286894Z",
     "iopub.status.busy": "2022-07-16T19:05:59.285854Z",
     "iopub.status.idle": "2022-07-16T19:05:59.296589Z",
     "shell.execute_reply": "2022-07-16T19:05:59.296071Z"
    }
   },
   "outputs": [],
   "source": [
    "# df_02['age_order_days'] = df_02['age_order'].dt.components['days']\n",
    "# df_02['age_order_hours'] = df_02['age_order'].dt.components['hours']\n",
    "# df_02.head()"
   ]
  },
  {
   "cell_type": "code",
   "execution_count": 26,
   "id": "b21efff0",
   "metadata": {
    "execution": {
     "iopub.execute_input": "2022-07-16T19:05:59.302643Z",
     "iopub.status.busy": "2022-07-16T19:05:59.301647Z",
     "iopub.status.idle": "2022-07-16T19:05:59.312606Z",
     "shell.execute_reply": "2022-07-16T19:05:59.311650Z"
    }
   },
   "outputs": [],
   "source": [
    "# Open Orders less than 24 hours\n",
    "\n",
    "# df_02 = df_02.loc[(df_02['age_order_days'] == 0) & (df_02['warehouse'] == '10')]\n",
    "# df_02.head()"
   ]
  },
  {
   "cell_type": "code",
   "execution_count": 27,
   "id": "1e73132e",
   "metadata": {
    "execution": {
     "iopub.execute_input": "2022-07-16T19:05:59.318617Z",
     "iopub.status.busy": "2022-07-16T19:05:59.317656Z",
     "iopub.status.idle": "2022-07-16T19:05:59.329441Z",
     "shell.execute_reply": "2022-07-16T19:05:59.327821Z"
    }
   },
   "outputs": [],
   "source": [
    "# Bins per hour\n",
    "\n",
    "# bins =[-1,4,8,12,16,24]\n",
    "# bin_names = ['4 Hours', '8 Hours', '12 Hours', '16 Hours', '24 Hours']\n",
    "\n",
    "# df_02['age_group'] = pd.cut(df_02['age_order_hours'], bins, labels=bin_names)"
   ]
  },
  {
   "cell_type": "code",
   "execution_count": 28,
   "id": "50b37145",
   "metadata": {
    "execution": {
     "iopub.execute_input": "2022-07-16T19:05:59.335473Z",
     "iopub.status.busy": "2022-07-16T19:05:59.334468Z",
     "iopub.status.idle": "2022-07-16T19:05:59.344196Z",
     "shell.execute_reply": "2022-07-16T19:05:59.343673Z"
    }
   },
   "outputs": [],
   "source": [
    "# df_02_grouped = df_02.groupby(['age_group'])[['project']].count()"
   ]
  },
  {
   "cell_type": "code",
   "execution_count": 29,
   "id": "ad0ad7b8",
   "metadata": {
    "execution": {
     "iopub.execute_input": "2022-07-16T19:05:59.350257Z",
     "iopub.status.busy": "2022-07-16T19:05:59.349256Z",
     "iopub.status.idle": "2022-07-16T19:05:59.360214Z",
     "shell.execute_reply": "2022-07-16T19:05:59.359253Z"
    }
   },
   "outputs": [],
   "source": [
    "# df_02_grouped = df_02_grouped.rename(columns={'project': 'orders'})"
   ]
  },
  {
   "cell_type": "markdown",
   "id": "ae473cac",
   "metadata": {},
   "source": [
    "### Save in JSON File"
   ]
  },
  {
   "cell_type": "code",
   "execution_count": 30,
   "id": "2d6c8932",
   "metadata": {
    "execution": {
     "iopub.execute_input": "2022-07-16T19:05:59.366257Z",
     "iopub.status.busy": "2022-07-16T19:05:59.366257Z",
     "iopub.status.idle": "2022-07-16T19:05:59.375227Z",
     "shell.execute_reply": "2022-07-16T19:05:59.374217Z"
    }
   },
   "outputs": [],
   "source": [
    "# open_outbounds = df_02_grouped\n",
    "# open_outbounds.to_json('data/open_outbounds.json')\n",
    "# open_outbounds"
   ]
  },
  {
   "cell_type": "code",
   "execution_count": 31,
   "id": "9f6bab4b",
   "metadata": {
    "execution": {
     "iopub.execute_input": "2022-07-16T19:05:59.381257Z",
     "iopub.status.busy": "2022-07-16T19:05:59.380265Z",
     "iopub.status.idle": "2022-07-16T19:05:59.391222Z",
     "shell.execute_reply": "2022-07-16T19:05:59.390218Z"
    }
   },
   "outputs": [],
   "source": [
    "# df_02_grouped = df_02_grouped.iloc[::-1]\n",
    "# df_02_grouped.plot.barh()"
   ]
  },
  {
   "cell_type": "code",
   "execution_count": 32,
   "id": "b030f66f",
   "metadata": {
    "execution": {
     "iopub.execute_input": "2022-07-16T19:05:59.398219Z",
     "iopub.status.busy": "2022-07-16T19:05:59.397222Z",
     "iopub.status.idle": "2022-07-16T19:05:59.406957Z",
     "shell.execute_reply": "2022-07-16T19:05:59.405413Z"
    }
   },
   "outputs": [],
   "source": [
    "# Close connection\n",
    "\n",
    "# cnxn.close()"
   ]
  },
  {
   "cell_type": "markdown",
   "id": "cda41e6f",
   "metadata": {},
   "source": []
  },
  {
   "cell_type": "markdown",
   "id": "9bf6f1bc",
   "metadata": {},
   "source": [
    "# QUERY 3: Picking Performance (Orders and Waves)"
   ]
  },
  {
   "cell_type": "code",
   "execution_count": 33,
   "id": "887d613e",
   "metadata": {
    "execution": {
     "iopub.execute_input": "2022-07-16T19:05:59.411989Z",
     "iopub.status.busy": "2022-07-16T19:05:59.411989Z",
     "iopub.status.idle": "2022-07-16T19:05:59.421951Z",
     "shell.execute_reply": "2022-07-16T19:05:59.420985Z"
    }
   },
   "outputs": [],
   "source": [
    "# Connect to the Database\n",
    "\n",
    "# cnxn = pyodbc.connect(\"Driver={SQL Server Native Client 11.0};\"\n",
    "#                         \"Server=wd02;\"\n",
    "#                         \"Database=FootPrint;\"\n",
    "#                         \"Trusted_Connection=yes;\")"
   ]
  },
  {
   "cell_type": "code",
   "execution_count": 34,
   "id": "641caea5",
   "metadata": {
    "execution": {
     "iopub.execute_input": "2022-07-16T19:05:59.427987Z",
     "iopub.status.busy": "2022-07-16T19:05:59.427987Z",
     "iopub.status.idle": "2022-07-16T19:05:59.437961Z",
     "shell.execute_reply": "2022-07-16T19:05:59.435989Z"
    }
   },
   "outputs": [],
   "source": [
    "# df03 = pd.read_sql_query(\"DECLARE @from date, @to date;\\\n",
    "#                           SELECT @from = getdate(), @to = dateadd(day, 1, getdate());\\\n",
    "#     SELECT t.completedDateTime Date, oc.name Operation, w.name Warehouse,\\\n",
    "#            p.name Project, m.lookupCode Material, employee Employee, s.lookupCode Shipment, isnull(s.waveId, ps.waveId) Wave,\\\n",
    "#            ordersPerWave.shipmentsCount, lc.name Location\\\n",
    "#     FROM datex_footprint.Tasks t\\\n",
    "#         join datex_footprint.OperationCodes oc\\\n",
    "#             on oc.id = t.operationCodeId\\\n",
    "#         left join datex_footprint.Warehouses w\\\n",
    "#             on w.id = t.warehouseId\\\n",
    "#         left join datex_footprint.Projects p\\\n",
    "#             on p.id = t.projectId\\\n",
    "#         left join datex_footprint.Materials m\\\n",
    "#             on m.id = t.materialId\\\n",
    "#         left join datex_footprint.Shipments s\\\n",
    "#             on s.id = t.shipmentId\\\n",
    "#         left join datex_footprint.PickSlips ps\\\n",
    "#             on ps.id = t.pickSlipId\\\n",
    "#         left join datex_footprint.LocationContainers lc\\\n",
    "#             on lc.id = t.actualSourceLocationId\\\n",
    "#         outer apply (\\\n",
    "#             select\\\n",
    "#                 count(distinct tt.shipmentId) shipmentsCount\\\n",
    "#                 from datex_footprint.waves ww\\\n",
    "#                     inner join datex_footprint.PickSlips ppss\\\n",
    "#                     inner join datex_footprint.tasks tt\\\n",
    "#                         on tt.operationCodeId = 8 and tt.pickSlipId = ppss.id\\\n",
    "#                         on ppss.waveId = ww.id\\\n",
    "#                 where ww.id = isnull(s.waveId, ps.waveId)) ordersPerWave\\\n",
    "#     where t.completedDateTime >= @from and t.completedDateTime < @to and t.statusId = 2\\\n",
    "#     and t.operationCodeId in (8, 39, 2064, 2065, 2066) and t.employee != 'Foot Print Service'\\\n",
    "#     order by s.lookupCode, t.completedDateTime\", cnxn)"
   ]
  },
  {
   "cell_type": "code",
   "execution_count": 35,
   "id": "a4cb2a77",
   "metadata": {
    "execution": {
     "iopub.execute_input": "2022-07-16T19:05:59.444729Z",
     "iopub.status.busy": "2022-07-16T19:05:59.443984Z",
     "iopub.status.idle": "2022-07-16T19:05:59.453503Z",
     "shell.execute_reply": "2022-07-16T19:05:59.451201Z"
    }
   },
   "outputs": [],
   "source": [
    "# df03.tail(3)"
   ]
  },
  {
   "cell_type": "code",
   "execution_count": 36,
   "id": "b2d6e6c7",
   "metadata": {
    "execution": {
     "iopub.execute_input": "2022-07-16T19:05:59.460487Z",
     "iopub.status.busy": "2022-07-16T19:05:59.459905Z",
     "iopub.status.idle": "2022-07-16T19:05:59.469153Z",
     "shell.execute_reply": "2022-07-16T19:05:59.466423Z"
    }
   },
   "outputs": [],
   "source": [
    "# Order Columns\n",
    "\n",
    "# df03 = df03[['Warehouse', 'Project', 'Wave', 'Shipment', 'Date', 'Operation', 'Employee',\n",
    "#              'Location', 'shipmentsCount', 'Material']]"
   ]
  },
  {
   "cell_type": "markdown",
   "id": "782d10c7",
   "metadata": {},
   "source": [
    "### Filter by Shipments"
   ]
  },
  {
   "cell_type": "code",
   "execution_count": 37,
   "id": "deb919ce",
   "metadata": {
    "execution": {
     "iopub.execute_input": "2022-07-16T19:05:59.476856Z",
     "iopub.status.busy": "2022-07-16T19:05:59.476273Z",
     "iopub.status.idle": "2022-07-16T19:05:59.498513Z",
     "shell.execute_reply": "2022-07-16T19:05:59.497547Z"
    }
   },
   "outputs": [],
   "source": [
    "# Filter by Orders only\n",
    "\n",
    "# df03_orders = df03.loc[(df03['Operation']=='Picking') |\n",
    "#                        (df03['Operation']=='Scanned Shipment') |\n",
    "#                        (df03['Operation']=='Picking Completed')]\n",
    "\n",
    "# df03_orders = df03_orders[['Warehouse', 'Project', 'Shipment', 'Date', 'Operation', 'Employee', 'Location']]\n",
    "\n",
    "# df03_orders.head()"
   ]
  },
  {
   "cell_type": "code",
   "execution_count": 38,
   "id": "379538a4",
   "metadata": {
    "execution": {
     "iopub.execute_input": "2022-07-16T19:05:59.505675Z",
     "iopub.status.busy": "2022-07-16T19:05:59.505347Z",
     "iopub.status.idle": "2022-07-16T19:05:59.514923Z",
     "shell.execute_reply": "2022-07-16T19:05:59.513343Z"
    }
   },
   "outputs": [],
   "source": [
    "# Create a new column with the time difference between rows\n",
    "\n",
    "# df03_orders['PickingTime'] = df03_orders['Date'].diff()\n",
    "# df03_orders.head()"
   ]
  },
  {
   "cell_type": "code",
   "execution_count": 39,
   "id": "1c8ab7a0",
   "metadata": {
    "execution": {
     "iopub.execute_input": "2022-07-16T19:05:59.520924Z",
     "iopub.status.busy": "2022-07-16T19:05:59.520924Z",
     "iopub.status.idle": "2022-07-16T19:05:59.594607Z",
     "shell.execute_reply": "2022-07-16T19:05:59.592643Z"
    }
   },
   "outputs": [],
   "source": [
    "# Add Hour, Minute and Second columns\n",
    "\n",
    "# df03_orders['hour'] = df03_orders['PickingTime'].dt.components['hours']\n",
    "# df03_orders['minute'] = df03_orders['PickingTime'].dt.components['minutes']\n",
    "# df03_orders['second'] = df03_orders['PickingTime'].dt.components['seconds']\n",
    "# df03_orders.head()"
   ]
  },
  {
   "cell_type": "code",
   "execution_count": 40,
   "id": "65c5bae7",
   "metadata": {
    "execution": {
     "iopub.execute_input": "2022-07-16T19:05:59.600649Z",
     "iopub.status.busy": "2022-07-16T19:05:59.599616Z",
     "iopub.status.idle": "2022-07-16T19:05:59.610609Z",
     "shell.execute_reply": "2022-07-16T19:05:59.608608Z"
    }
   },
   "outputs": [],
   "source": [
    "# Set all the Scanned Shipment hour, minute, time to ZERO\n",
    "\n",
    "# df03_orders_modified = df03_orders\n",
    "\n",
    "# df03_orders_modified.loc[df03_orders_modified.Operation == 'Scanned Shipment', 'hour'] = 0.0\n",
    "# df03_orders_modified.loc[df03_orders_modified.Operation == 'Scanned Shipment', 'minute'] = 0.0\n",
    "# df03_orders_modified.loc[df03_orders_modified.Operation == 'Scanned Shipment', 'second'] = 0.0\n",
    "\n",
    "# df03_orders_modified.loc[df03_orders_modified['Operation'] == 'Scanned Shipment'].head()"
   ]
  },
  {
   "cell_type": "code",
   "execution_count": 41,
   "id": "0a32c449",
   "metadata": {
    "execution": {
     "iopub.execute_input": "2022-07-16T19:05:59.616618Z",
     "iopub.status.busy": "2022-07-16T19:05:59.616618Z",
     "iopub.status.idle": "2022-07-16T19:05:59.626494Z",
     "shell.execute_reply": "2022-07-16T19:05:59.624605Z"
    }
   },
   "outputs": [],
   "source": [
    "# df03_orders_modified['Time'] = df03_orders_modified['hour']*60 + df03_orders_modified['minute'] + df03_orders_modified['second']/60\n",
    "# df03_orders_modified.head()"
   ]
  },
  {
   "cell_type": "code",
   "execution_count": 42,
   "id": "47d0ed4a",
   "metadata": {
    "execution": {
     "iopub.execute_input": "2022-07-16T19:05:59.634490Z",
     "iopub.status.busy": "2022-07-16T19:05:59.633494Z",
     "iopub.status.idle": "2022-07-16T19:05:59.656491Z",
     "shell.execute_reply": "2022-07-16T19:05:59.655526Z"
    }
   },
   "outputs": [],
   "source": [
    "# Save in JSON Format for HTML\n",
    "\n",
    "# df03_group = df03_orders_modified.groupby(['Warehouse', 'Project', 'Shipment', 'Operation', 'Date'])[['Time']].sum().sort_values(['Warehouse', 'Project', 'Shipment', 'Date'])\n",
    "# df03_group.to_json('data/performance.json', orient='table')\n",
    "# df03_group.head(20)"
   ]
  },
  {
   "cell_type": "code",
   "execution_count": 43,
   "id": "8965cf87",
   "metadata": {
    "execution": {
     "iopub.execute_input": "2022-07-16T19:05:59.662483Z",
     "iopub.status.busy": "2022-07-16T19:05:59.661531Z",
     "iopub.status.idle": "2022-07-16T19:05:59.672488Z",
     "shell.execute_reply": "2022-07-16T19:05:59.671525Z"
    }
   },
   "outputs": [],
   "source": [
    "# Remove Operation 'Scanned Shipment'\n",
    "\n",
    "# df03_excluding_Scanned = df03_orders_modified.loc[df03_orders_modified['Operation'] != 'Scanned Shipment']\n",
    "# df03_excluding_Scanned.head()"
   ]
  },
  {
   "cell_type": "code",
   "execution_count": 44,
   "id": "639c4e63",
   "metadata": {
    "execution": {
     "iopub.execute_input": "2022-07-16T19:05:59.677526Z",
     "iopub.status.busy": "2022-07-16T19:05:59.677526Z",
     "iopub.status.idle": "2022-07-16T19:05:59.688492Z",
     "shell.execute_reply": "2022-07-16T19:05:59.687486Z"
    }
   },
   "outputs": [],
   "source": [
    "# Save in CSV Format for Tableau\n",
    "\n",
    "# df03_group2 = df03_excluding_Scanned.groupby(['Warehouse', 'Project', 'Employee', 'Shipment', 'Operation', 'Date'])[['Time']].sum().sort_values(['Warehouse', 'Project', 'Employee', 'Shipment', 'Date'])\n",
    "# df03_group2.to_csv('data/performance.csv')\n",
    "# df03_group2.head(20)"
   ]
  },
  {
   "cell_type": "code",
   "execution_count": 45,
   "id": "72973a53",
   "metadata": {
    "execution": {
     "iopub.execute_input": "2022-07-16T19:05:59.693524Z",
     "iopub.status.busy": "2022-07-16T19:05:59.693524Z",
     "iopub.status.idle": "2022-07-16T19:05:59.703496Z",
     "shell.execute_reply": "2022-07-16T19:05:59.702488Z"
    }
   },
   "outputs": [],
   "source": [
    "# Close connection\n",
    "\n",
    "# cnxn.close()"
   ]
  },
  {
   "cell_type": "code",
   "execution_count": null,
   "id": "61b643e2",
   "metadata": {},
   "outputs": [],
   "source": []
  }
 ],
 "metadata": {
  "kernelspec": {
   "display_name": "PythonData",
   "language": "python",
   "name": "pythondata"
  },
  "language_info": {
   "codemirror_mode": {
    "name": "ipython",
    "version": 3
   },
   "file_extension": ".py",
   "mimetype": "text/x-python",
   "name": "python",
   "nbconvert_exporter": "python",
   "pygments_lexer": "ipython3",
   "version": "3.7.11"
  }
 },
 "nbformat": 4,
 "nbformat_minor": 5
}
