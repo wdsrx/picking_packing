{
 "cells": [
  {
   "cell_type": "code",
   "execution_count": 1,
   "id": "631cdeb5",
   "metadata": {
    "execution": {
     "iopub.execute_input": "2022-08-11T17:27:10.525788Z",
     "iopub.status.busy": "2022-08-11T17:27:10.525788Z",
     "iopub.status.idle": "2022-08-11T17:27:12.055098Z",
     "shell.execute_reply": "2022-08-11T17:27:12.054095Z"
    }
   },
   "outputs": [],
   "source": [
    "import pyodbc\n",
    "import pandas as pd\n",
    "import numpy as np\n",
    "\n",
    "import matplotlib.pyplot as plt\n",
    "from matplotlib import style\n",
    "style.use('fivethirtyeight')"
   ]
  },
  {
   "cell_type": "markdown",
   "id": "e452ad18",
   "metadata": {},
   "source": [
    "# QUERY LINES: PICKING - PACKING - BATCHING"
   ]
  },
  {
   "cell_type": "code",
   "execution_count": 2,
   "id": "cfa380f7",
   "metadata": {
    "execution": {
     "iopub.execute_input": "2022-08-11T17:27:12.057125Z",
     "iopub.status.busy": "2022-08-11T17:27:12.057125Z",
     "iopub.status.idle": "2022-08-11T17:27:12.132408Z",
     "shell.execute_reply": "2022-08-11T17:27:12.131470Z"
    }
   },
   "outputs": [],
   "source": [
    "# Connect to the Database\n",
    "cnxn = pyodbc.connect(\"Driver={SQL Server Native Client 11.0};\"\n",
    "                        \"Server=wd02;\"\n",
    "                        \"Database=FootPrint;\"\n",
    "                        \"Trusted_Connection=yes;\")"
   ]
  },
  {
   "cell_type": "code",
   "execution_count": 3,
   "id": "33630a7b",
   "metadata": {
    "execution": {
     "iopub.execute_input": "2022-08-11T17:27:12.134407Z",
     "iopub.status.busy": "2022-08-11T17:27:12.134407Z",
     "iopub.status.idle": "2022-08-11T17:27:12.723704Z",
     "shell.execute_reply": "2022-08-11T17:27:12.723704Z"
    }
   },
   "outputs": [],
   "source": [
    "df_operations = pd.read_sql_query(\"DECLARE @from date, @to date;\\\n",
    "    SELECT @from = getdate() ,@to = dateadd(day, 1, getdate());\\\n",
    "\\\n",
    "    select t.completedDateTime Date, w.name Warehouse, p.name Project,\\\n",
    "        oc.name OperationCode, t.employee Employee\\\n",
    "    from datex_footprint.Tasks t\\\n",
    "        left join datex_footprint.Warehouses w\\\n",
    "            on w.id = t.warehouseId\\\n",
    "        left join datex_footprint.Projects p\\\n",
    "            on p.id = t.projectId\\\n",
    "        join datex_footprint.OperationCodes oc\\\n",
    "            on oc.id = t.operationCodeId\\\n",
    "        where t.completedDateTime >= @from AND t.completedDateTime < @to AND\\\n",
    "        (t.employee != 'FootPrintService') AND (t.employee != 'Foot Print Service') AND\\\n",
    "        t.statusId = 2 AND t.operationCodeId in (8, 39, 2067)\", cnxn)"
   ]
  },
  {
   "cell_type": "code",
   "execution_count": 4,
   "id": "c735920a",
   "metadata": {
    "execution": {
     "iopub.execute_input": "2022-08-11T17:27:12.726704Z",
     "iopub.status.busy": "2022-08-11T17:27:12.726704Z",
     "iopub.status.idle": "2022-08-11T17:27:12.755789Z",
     "shell.execute_reply": "2022-08-11T17:27:12.755283Z"
    }
   },
   "outputs": [
    {
     "data": {
      "text/html": [
       "<div>\n",
       "<style scoped>\n",
       "    .dataframe tbody tr th:only-of-type {\n",
       "        vertical-align: middle;\n",
       "    }\n",
       "\n",
       "    .dataframe tbody tr th {\n",
       "        vertical-align: top;\n",
       "    }\n",
       "\n",
       "    .dataframe thead th {\n",
       "        text-align: right;\n",
       "    }\n",
       "</style>\n",
       "<table border=\"1\" class=\"dataframe\">\n",
       "  <thead>\n",
       "    <tr style=\"text-align: right;\">\n",
       "      <th></th>\n",
       "      <th>Date</th>\n",
       "      <th>Warehouse</th>\n",
       "      <th>Project</th>\n",
       "      <th>OperationCode</th>\n",
       "      <th>Employee</th>\n",
       "      <th>Hour</th>\n",
       "    </tr>\n",
       "  </thead>\n",
       "  <tbody>\n",
       "    <tr>\n",
       "      <th>0</th>\n",
       "      <td>2022-08-11 11:49:49.353</td>\n",
       "      <td>19</td>\n",
       "      <td>AdvaGen Pharma, Ltd</td>\n",
       "      <td>Picking</td>\n",
       "      <td>Adriana Marie Luna</td>\n",
       "      <td>11</td>\n",
       "    </tr>\n",
       "    <tr>\n",
       "      <th>1</th>\n",
       "      <td>2022-08-11 11:46:52.997</td>\n",
       "      <td>19</td>\n",
       "      <td>AdvaGen Pharma, Ltd</td>\n",
       "      <td>Picking</td>\n",
       "      <td>Adriana Marie Luna</td>\n",
       "      <td>11</td>\n",
       "    </tr>\n",
       "    <tr>\n",
       "      <th>2</th>\n",
       "      <td>2022-08-11 08:46:56.407</td>\n",
       "      <td>19</td>\n",
       "      <td>AdvaGen Pharma, Ltd</td>\n",
       "      <td>Picking</td>\n",
       "      <td>Adriana Marie Luna</td>\n",
       "      <td>8</td>\n",
       "    </tr>\n",
       "    <tr>\n",
       "      <th>3</th>\n",
       "      <td>2022-08-11 09:08:39.997</td>\n",
       "      <td>19</td>\n",
       "      <td>AdvaGen Pharma, Ltd</td>\n",
       "      <td>Picking</td>\n",
       "      <td>Adriana Marie Luna</td>\n",
       "      <td>9</td>\n",
       "    </tr>\n",
       "    <tr>\n",
       "      <th>4</th>\n",
       "      <td>2022-08-11 09:10:28.340</td>\n",
       "      <td>19</td>\n",
       "      <td>AdvaGen Pharma, Ltd</td>\n",
       "      <td>Picking</td>\n",
       "      <td>Adriana Marie Luna</td>\n",
       "      <td>9</td>\n",
       "    </tr>\n",
       "  </tbody>\n",
       "</table>\n",
       "</div>"
      ],
      "text/plain": [
       "                     Date Warehouse              Project OperationCode  \\\n",
       "0 2022-08-11 11:49:49.353        19  AdvaGen Pharma, Ltd       Picking   \n",
       "1 2022-08-11 11:46:52.997        19  AdvaGen Pharma, Ltd       Picking   \n",
       "2 2022-08-11 08:46:56.407        19  AdvaGen Pharma, Ltd       Picking   \n",
       "3 2022-08-11 09:08:39.997        19  AdvaGen Pharma, Ltd       Picking   \n",
       "4 2022-08-11 09:10:28.340        19  AdvaGen Pharma, Ltd       Picking   \n",
       "\n",
       "             Employee  Hour  \n",
       "0  Adriana Marie Luna    11  \n",
       "1  Adriana Marie Luna    11  \n",
       "2  Adriana Marie Luna     8  \n",
       "3  Adriana Marie Luna     9  \n",
       "4  Adriana Marie Luna     9  "
      ]
     },
     "execution_count": 4,
     "metadata": {},
     "output_type": "execute_result"
    }
   ],
   "source": [
    "# Adding Hours\n",
    "df_operations['Hour'] = pd.to_datetime(df_operations['Date']).dt.hour\n",
    "df_operations.head()"
   ]
  },
  {
   "cell_type": "code",
   "execution_count": 5,
   "id": "22ae8da8",
   "metadata": {
    "execution": {
     "iopub.execute_input": "2022-08-11T17:27:12.758831Z",
     "iopub.status.busy": "2022-08-11T17:27:12.758831Z",
     "iopub.status.idle": "2022-08-11T17:27:12.802415Z",
     "shell.execute_reply": "2022-08-11T17:27:12.801906Z"
    }
   },
   "outputs": [],
   "source": [
    "# Activity Function By Warehouse\n",
    "def activity (warehouse, operationCode, df):\n",
    "    # Filter by warehouse\n",
    "    df2 = df[(df['Warehouse'] == warehouse) & (df['OperationCode'] == operationCode)]\n",
    "    \n",
    "    # Grouped by Employee and Hour\n",
    "    df2 = df2.groupby(['Employee', 'Hour']).count()[['OperationCode']]\n",
    "    df2.reset_index(inplace=True)\n",
    "    \n",
    "    # Pivot\n",
    "    df2 = df2.pivot(index='Employee', columns='Hour', values='OperationCode')\n",
    "    df2 = df2.fillna(0)\n",
    "    df2 = df2.rename_axis(None, axis=1)\n",
    "    \n",
    "    # Save into JSON\n",
    "    df2 = df2.T\n",
    "    file_name = f'data/W{warehouse}_{operationCode}.json'\n",
    "    df2.to_json(file_name)"
   ]
  },
  {
   "cell_type": "code",
   "execution_count": 6,
   "id": "f48970d1",
   "metadata": {
    "execution": {
     "iopub.execute_input": "2022-08-11T17:27:12.805425Z",
     "iopub.status.busy": "2022-08-11T17:27:12.805425Z",
     "iopub.status.idle": "2022-08-11T17:27:12.864662Z",
     "shell.execute_reply": "2022-08-11T17:27:12.864154Z"
    }
   },
   "outputs": [],
   "source": [
    "activity('10', 'Picking', df_operations)\n",
    "activity('10', 'Rate And Ship', df_operations)\n",
    "activity('10', 'Batch Move', df_operations)"
   ]
  },
  {
   "cell_type": "code",
   "execution_count": 7,
   "id": "ab7aa825",
   "metadata": {
    "execution": {
     "iopub.execute_input": "2022-08-11T17:27:12.867675Z",
     "iopub.status.busy": "2022-08-11T17:27:12.867675Z",
     "iopub.status.idle": "2022-08-11T17:27:12.880677Z",
     "shell.execute_reply": "2022-08-11T17:27:12.879674Z"
    }
   },
   "outputs": [],
   "source": [
    "# # Close connection\n",
    "cnxn.close()"
   ]
  },
  {
   "cell_type": "markdown",
   "id": "f6e6c852",
   "metadata": {},
   "source": [
    "# QUERY ORDERS: PICKING - PACKING - BATCHING"
   ]
  },
  {
   "cell_type": "code",
   "execution_count": 8,
   "id": "a34045bd",
   "metadata": {
    "execution": {
     "iopub.execute_input": "2022-08-11T17:27:12.883707Z",
     "iopub.status.busy": "2022-08-11T17:27:12.883707Z",
     "iopub.status.idle": "2022-08-11T17:27:12.896671Z",
     "shell.execute_reply": "2022-08-11T17:27:12.895671Z"
    }
   },
   "outputs": [],
   "source": [
    "# Connect to the Database\n",
    "cnxn = pyodbc.connect(\"Driver={SQL Server Native Client 11.0};\"\n",
    "                        \"Server=wd02;\"\n",
    "                        \"Database=FootPrint;\"\n",
    "                        \"Trusted_Connection=yes;\")"
   ]
  },
  {
   "cell_type": "code",
   "execution_count": 9,
   "id": "4d84963a",
   "metadata": {
    "execution": {
     "iopub.execute_input": "2022-08-11T17:27:12.899675Z",
     "iopub.status.busy": "2022-08-11T17:27:12.899675Z",
     "iopub.status.idle": "2022-08-11T17:27:14.407845Z",
     "shell.execute_reply": "2022-08-11T17:27:14.406898Z"
    }
   },
   "outputs": [],
   "source": [
    "# TODAY ORDERS\n",
    "df_today = pd.read_sql_query(\"DECLARE @from date, @to date;\\\n",
    "    SELECT @from = getdate() ,@to = dateadd(day, 1, getdate());\\\n",
    "\\\n",
    "    select distinct w.name Warehouse, oc.name OperationCode,\\\n",
    "        COUNt(DISTINCT (ISNULL(t.shipmentId, s.id))) Shipment\\\n",
    "    from datex_footprint.Tasks t\\\n",
    "        left join datex_footprint.Warehouses w\\\n",
    "            on w.id = t.warehouseId\\\n",
    "        join datex_footprint.OperationCodes oc\\\n",
    "            on oc.id = t.operationCodeId\\\n",
    "        left join datex_footprint.PickSlips ps\\\n",
    "            on ps.id = t.pickSlipId\\\n",
    "        left join datex_footprint.Waves wa\\\n",
    "            on wa.id = ps.waveId\\\n",
    "        left join datex_footprint.shipments s\\\n",
    "            on s.waveId = wa.id\\\n",
    "        where t.completedDateTime >= @from AND t.completedDateTime < @to AND\\\n",
    "        (t.employee != 'FootPrintService') AND (t.employee != 'Foot Print Service') AND\\\n",
    "        t.statusId = 2 AND t.operationCodeId in (8, 39, 2067)\\\n",
    "        group by w.name, oc.name\", cnxn)"
   ]
  },
  {
   "cell_type": "code",
   "execution_count": 10,
   "id": "73bf0281",
   "metadata": {
    "execution": {
     "iopub.execute_input": "2022-08-11T17:27:14.410842Z",
     "iopub.status.busy": "2022-08-11T17:27:14.410842Z",
     "iopub.status.idle": "2022-08-11T17:27:15.463365Z",
     "shell.execute_reply": "2022-08-11T17:27:15.460359Z"
    }
   },
   "outputs": [],
   "source": [
    "# YESTEDAY ORDERS\n",
    "df_yesterday = pd.read_sql_query(\"DECLARE @from date, @to date;\\\n",
    "    SELECT @from = dateadd(day, -1, getdate()) ,@to = getdate();\\\n",
    "\\\n",
    "    select distinct w.name Warehouse, oc.name OperationCode,\\\n",
    "        COUNt(DISTINCT (ISNULL(t.shipmentId, s.id))) Shipment\\\n",
    "    from datex_footprint.Tasks t\\\n",
    "        left join datex_footprint.Warehouses w\\\n",
    "            on w.id = t.warehouseId\\\n",
    "        join datex_footprint.OperationCodes oc\\\n",
    "            on oc.id = t.operationCodeId\\\n",
    "        left join datex_footprint.PickSlips ps\\\n",
    "            on ps.id = t.pickSlipId\\\n",
    "        left join datex_footprint.Waves wa\\\n",
    "            on wa.id = ps.waveId\\\n",
    "        left join datex_footprint.shipments s\\\n",
    "            on s.waveId = wa.id\\\n",
    "        where t.completedDateTime >= @from AND t.completedDateTime < @to AND\\\n",
    "        (t.employee != 'FootPrintService') AND (t.employee != 'Foot Print Service') AND\\\n",
    "        t.statusId = 2 AND t.operationCodeId in (8, 39, 2067)\\\n",
    "        group by w.name, oc.name\", cnxn)"
   ]
  },
  {
   "cell_type": "code",
   "execution_count": 11,
   "id": "6fc49f2e",
   "metadata": {
    "execution": {
     "iopub.execute_input": "2022-08-11T17:27:15.470405Z",
     "iopub.status.busy": "2022-08-11T17:27:15.470405Z",
     "iopub.status.idle": "2022-08-11T17:27:15.493233Z",
     "shell.execute_reply": "2022-08-11T17:27:15.490228Z"
    }
   },
   "outputs": [],
   "source": [
    "# Rename Columns\n",
    "df_today.rename(columns={'Shipment': 'Today'}, inplace=True)\n",
    "df_yesterday.rename(columns={'Shipment': 'Yesterday'}, inplace=True)"
   ]
  },
  {
   "cell_type": "code",
   "execution_count": 12,
   "id": "b18420f4",
   "metadata": {
    "execution": {
     "iopub.execute_input": "2022-08-11T17:27:15.503237Z",
     "iopub.status.busy": "2022-08-11T17:27:15.502230Z",
     "iopub.status.idle": "2022-08-11T17:27:15.537936Z",
     "shell.execute_reply": "2022-08-11T17:27:15.535940Z"
    }
   },
   "outputs": [],
   "source": [
    "# Merge dataframes\n",
    "df_today_yesterday = pd.merge(df_today, df_yesterday,  how='outer', left_on=['Warehouse','OperationCode'], right_on = ['Warehouse','OperationCode'])"
   ]
  },
  {
   "cell_type": "code",
   "execution_count": 13,
   "id": "79c1e830",
   "metadata": {
    "execution": {
     "iopub.execute_input": "2022-08-11T17:27:15.548939Z",
     "iopub.status.busy": "2022-08-11T17:27:15.547937Z",
     "iopub.status.idle": "2022-08-11T17:27:15.569935Z",
     "shell.execute_reply": "2022-08-11T17:27:15.567982Z"
    }
   },
   "outputs": [],
   "source": [
    "def orders (warehouse, df):\n",
    "    df2 = df[df['Warehouse'] == warehouse]\n",
    "    df2 = df2.pivot(index='Warehouse', columns='OperationCode', values=['Today', 'Yesterday']).fillna(0)\n",
    "    df2 = df2.T\n",
    "    \n",
    "    display(df2)\n",
    "    \n",
    "    file_name = f'data/W{warehouse}_Orders.json'\n",
    "    df2.to_json(file_name)"
   ]
  },
  {
   "cell_type": "code",
   "execution_count": 14,
   "id": "993773f6",
   "metadata": {
    "execution": {
     "iopub.execute_input": "2022-08-11T17:27:15.578940Z",
     "iopub.status.busy": "2022-08-11T17:27:15.577940Z",
     "iopub.status.idle": "2022-08-11T17:27:15.631823Z",
     "shell.execute_reply": "2022-08-11T17:27:15.630821Z"
    }
   },
   "outputs": [
    {
     "data": {
      "text/html": [
       "<div>\n",
       "<style scoped>\n",
       "    .dataframe tbody tr th:only-of-type {\n",
       "        vertical-align: middle;\n",
       "    }\n",
       "\n",
       "    .dataframe tbody tr th {\n",
       "        vertical-align: top;\n",
       "    }\n",
       "\n",
       "    .dataframe thead th {\n",
       "        text-align: right;\n",
       "    }\n",
       "</style>\n",
       "<table border=\"1\" class=\"dataframe\">\n",
       "  <thead>\n",
       "    <tr style=\"text-align: right;\">\n",
       "      <th></th>\n",
       "      <th>Warehouse</th>\n",
       "      <th>10</th>\n",
       "    </tr>\n",
       "    <tr>\n",
       "      <th></th>\n",
       "      <th>OperationCode</th>\n",
       "      <th></th>\n",
       "    </tr>\n",
       "  </thead>\n",
       "  <tbody>\n",
       "    <tr>\n",
       "      <th rowspan=\"3\" valign=\"top\">Today</th>\n",
       "      <th>Batch Move</th>\n",
       "      <td>268.0</td>\n",
       "    </tr>\n",
       "    <tr>\n",
       "      <th>Picking</th>\n",
       "      <td>98.0</td>\n",
       "    </tr>\n",
       "    <tr>\n",
       "      <th>Rate And Ship</th>\n",
       "      <td>53.0</td>\n",
       "    </tr>\n",
       "    <tr>\n",
       "      <th rowspan=\"3\" valign=\"top\">Yesterday</th>\n",
       "      <th>Batch Move</th>\n",
       "      <td>166.0</td>\n",
       "    </tr>\n",
       "    <tr>\n",
       "      <th>Picking</th>\n",
       "      <td>116.0</td>\n",
       "    </tr>\n",
       "    <tr>\n",
       "      <th>Rate And Ship</th>\n",
       "      <td>120.0</td>\n",
       "    </tr>\n",
       "  </tbody>\n",
       "</table>\n",
       "</div>"
      ],
      "text/plain": [
       "Warehouse                   10\n",
       "          OperationCode       \n",
       "Today     Batch Move     268.0\n",
       "          Picking         98.0\n",
       "          Rate And Ship   53.0\n",
       "Yesterday Batch Move     166.0\n",
       "          Picking        116.0\n",
       "          Rate And Ship  120.0"
      ]
     },
     "metadata": {},
     "output_type": "display_data"
    }
   ],
   "source": [
    "orders('10', df_today_yesterday)"
   ]
  },
  {
   "cell_type": "code",
   "execution_count": 15,
   "id": "4bb020fd",
   "metadata": {
    "execution": {
     "iopub.execute_input": "2022-08-11T17:27:15.636822Z",
     "iopub.status.busy": "2022-08-11T17:27:15.635822Z",
     "iopub.status.idle": "2022-08-11T17:27:15.646830Z",
     "shell.execute_reply": "2022-08-11T17:27:15.645863Z"
    }
   },
   "outputs": [],
   "source": [
    "# # Close connection\n",
    "cnxn.close()"
   ]
  },
  {
   "cell_type": "markdown",
   "id": "cfe829e8",
   "metadata": {},
   "source": [
    "# QUERY: OPEN ORDERS\n",
    "Shipments in Released and Executing status"
   ]
  },
  {
   "cell_type": "code",
   "execution_count": 16,
   "id": "b6917f6f",
   "metadata": {
    "execution": {
     "iopub.execute_input": "2022-08-11T17:27:15.651862Z",
     "iopub.status.busy": "2022-08-11T17:27:15.651862Z",
     "iopub.status.idle": "2022-08-11T17:27:15.662821Z",
     "shell.execute_reply": "2022-08-11T17:27:15.661821Z"
    }
   },
   "outputs": [],
   "source": [
    "# Connect to the Database\n",
    "cnxn = pyodbc.connect(\"Driver={SQL Server Native Client 11.0};\"\n",
    "                        \"Server=wd02;\"\n",
    "                        \"Database=FootPrint;\"\n",
    "                        \"Trusted_Connection=yes;\")"
   ]
  },
  {
   "cell_type": "code",
   "execution_count": 17,
   "id": "72994acb",
   "metadata": {
    "execution": {
     "iopub.execute_input": "2022-08-11T17:27:15.668829Z",
     "iopub.status.busy": "2022-08-11T17:27:15.668829Z",
     "iopub.status.idle": "2022-08-11T17:27:15.695223Z",
     "shell.execute_reply": "2022-08-11T17:27:15.694002Z"
    }
   },
   "outputs": [],
   "source": [
    "# OPEN ORDERS\n",
    "df_open_orders = pd.read_sql_query(\"select w.name Warehouse, count(s.lookupCode) Shipments\\\n",
    "    from datex_footprint.Shipments s\\\n",
    "        join datex_footprint.Warehouses w\\\n",
    "            on w.id = ISNULL(s.actualWarehouseId, s.expectedWarehouseId)\\\n",
    "    where s.statusId in (2) and s.typeId = 2\\\n",
    "    group by w.name\", cnxn)"
   ]
  },
  {
   "cell_type": "code",
   "execution_count": 18,
   "id": "3e534528",
   "metadata": {
    "execution": {
     "iopub.execute_input": "2022-08-11T17:27:15.702241Z",
     "iopub.status.busy": "2022-08-11T17:27:15.702241Z",
     "iopub.status.idle": "2022-08-11T17:27:15.725275Z",
     "shell.execute_reply": "2022-08-11T17:27:15.724278Z"
    }
   },
   "outputs": [
    {
     "data": {
      "text/html": [
       "<div>\n",
       "<style scoped>\n",
       "    .dataframe tbody tr th:only-of-type {\n",
       "        vertical-align: middle;\n",
       "    }\n",
       "\n",
       "    .dataframe tbody tr th {\n",
       "        vertical-align: top;\n",
       "    }\n",
       "\n",
       "    .dataframe thead th {\n",
       "        text-align: right;\n",
       "    }\n",
       "</style>\n",
       "<table border=\"1\" class=\"dataframe\">\n",
       "  <thead>\n",
       "    <tr style=\"text-align: right;\">\n",
       "      <th>Warehouse</th>\n",
       "      <th>10</th>\n",
       "      <th>12</th>\n",
       "      <th>15</th>\n",
       "      <th>16</th>\n",
       "      <th>17</th>\n",
       "      <th>19</th>\n",
       "      <th>20</th>\n",
       "      <th>21</th>\n",
       "    </tr>\n",
       "  </thead>\n",
       "  <tbody>\n",
       "    <tr>\n",
       "      <th>Shipments</th>\n",
       "      <td>219</td>\n",
       "      <td>1</td>\n",
       "      <td>18</td>\n",
       "      <td>1</td>\n",
       "      <td>14</td>\n",
       "      <td>1</td>\n",
       "      <td>55</td>\n",
       "      <td>3</td>\n",
       "    </tr>\n",
       "  </tbody>\n",
       "</table>\n",
       "</div>"
      ],
      "text/plain": [
       "Warehouse   10  12  15  16  17  19  20  21\n",
       "Shipments  219   1  18   1  14   1  55   3"
      ]
     },
     "execution_count": 18,
     "metadata": {},
     "output_type": "execute_result"
    }
   ],
   "source": [
    "df_open_orders.set_index('Warehouse', inplace=True)\n",
    "df_open_orders = df_open_orders.T\n",
    "df_open_orders"
   ]
  },
  {
   "cell_type": "code",
   "execution_count": 19,
   "id": "2cfd5c4a",
   "metadata": {
    "execution": {
     "iopub.execute_input": "2022-08-11T17:27:15.731239Z",
     "iopub.status.busy": "2022-08-11T17:27:15.731239Z",
     "iopub.status.idle": "2022-08-11T17:27:15.756486Z",
     "shell.execute_reply": "2022-08-11T17:27:15.755415Z"
    }
   },
   "outputs": [],
   "source": [
    "file_name = f'data/Open_Orders.json'\n",
    "df_open_orders.to_json(file_name)"
   ]
  },
  {
   "cell_type": "code",
   "execution_count": 20,
   "id": "86aaf66f",
   "metadata": {
    "execution": {
     "iopub.execute_input": "2022-08-11T17:27:15.761444Z",
     "iopub.status.busy": "2022-08-11T17:27:15.760447Z",
     "iopub.status.idle": "2022-08-11T17:27:15.787524Z",
     "shell.execute_reply": "2022-08-11T17:27:15.787007Z"
    }
   },
   "outputs": [],
   "source": [
    "# # Close connection\n",
    "cnxn.close()"
   ]
  },
  {
   "cell_type": "code",
   "execution_count": null,
   "id": "72b78df6",
   "metadata": {},
   "outputs": [],
   "source": []
  },
  {
   "cell_type": "code",
   "execution_count": null,
   "id": "d5f52d43",
   "metadata": {},
   "outputs": [],
   "source": []
  },
  {
   "cell_type": "code",
   "execution_count": null,
   "id": "81d3bd0c",
   "metadata": {},
   "outputs": [],
   "source": []
  },
  {
   "cell_type": "code",
   "execution_count": null,
   "id": "a0252f3a",
   "metadata": {},
   "outputs": [],
   "source": []
  },
  {
   "cell_type": "code",
   "execution_count": null,
   "id": "5b20e3fe",
   "metadata": {},
   "outputs": [],
   "source": []
  },
  {
   "cell_type": "code",
   "execution_count": null,
   "id": "e427507c",
   "metadata": {},
   "outputs": [],
   "source": []
  },
  {
   "cell_type": "code",
   "execution_count": null,
   "id": "ce5a9472",
   "metadata": {},
   "outputs": [],
   "source": []
  },
  {
   "cell_type": "code",
   "execution_count": null,
   "id": "ec1114a6",
   "metadata": {},
   "outputs": [],
   "source": []
  },
  {
   "cell_type": "code",
   "execution_count": null,
   "id": "48dcade4",
   "metadata": {},
   "outputs": [],
   "source": []
  },
  {
   "cell_type": "code",
   "execution_count": null,
   "id": "87b3ff6b",
   "metadata": {},
   "outputs": [],
   "source": []
  },
  {
   "cell_type": "markdown",
   "id": "535778bf",
   "metadata": {},
   "source": [
    "# QUERY 02: Open Outbounds WAREHOUSE 10"
   ]
  },
  {
   "cell_type": "code",
   "execution_count": 21,
   "id": "2c1090ec",
   "metadata": {
    "execution": {
     "iopub.execute_input": "2022-08-11T17:27:15.793537Z",
     "iopub.status.busy": "2022-08-11T17:27:15.792542Z",
     "iopub.status.idle": "2022-08-11T17:27:15.802234Z",
     "shell.execute_reply": "2022-08-11T17:27:15.801682Z"
    }
   },
   "outputs": [],
   "source": [
    "# Connect to the Database\n",
    "\n",
    "# cnxn = pyodbc.connect(\"Driver={SQL Server Native Client 11.0};\"\n",
    "#                         \"Server=wd02;\"\n",
    "#                         \"Database=FootPrint;\"\n",
    "#                         \"Trusted_Connection=yes;\")"
   ]
  },
  {
   "cell_type": "code",
   "execution_count": 22,
   "id": "50ba15dd",
   "metadata": {
    "execution": {
     "iopub.execute_input": "2022-08-11T17:27:15.807288Z",
     "iopub.status.busy": "2022-08-11T17:27:15.807288Z",
     "iopub.status.idle": "2022-08-11T17:27:15.817991Z",
     "shell.execute_reply": "2022-08-11T17:27:15.816455Z"
    }
   },
   "outputs": [],
   "source": [
    "# df_02 = pd.read_sql_query(\"SELECT DISTINCT w.name warehouse, p.name project, s.lookupCode shipment_number, s.createdSysDateTime\\\n",
    "#     FROM datex_footprint.shipments s\\\n",
    "#     LEFT JOIN datex_footprint.ShipmentOrderLookup sol\\\n",
    "#         on sol.shipmentId = s.id\\\n",
    "#     LEFT JOIN datex_footprint.orders o\\\n",
    "#         on o.id = sol.orderId\\\n",
    "#     LEFT JOIN datex_footprint.Projects p\\\n",
    "#         on p.id = o.projectId\\\n",
    "#     LEFT JOIN datex_footprint.warehouses w\\\n",
    "#         on w.id = isnull(s.actualWarehouseId, s.expectedWarehouseId)\\\n",
    "#     WHERE s.statusId in (1, 2, 4) and s.typeId = 2\\\n",
    "#     ORDER BY createdSysDateTime\", cnxn)"
   ]
  },
  {
   "cell_type": "code",
   "execution_count": 23,
   "id": "4ead82a2",
   "metadata": {
    "execution": {
     "iopub.execute_input": "2022-08-11T17:27:15.822019Z",
     "iopub.status.busy": "2022-08-11T17:27:15.822019Z",
     "iopub.status.idle": "2022-08-11T17:27:15.832987Z",
     "shell.execute_reply": "2022-08-11T17:27:15.831983Z"
    }
   },
   "outputs": [],
   "source": [
    "# df_02.head()"
   ]
  },
  {
   "cell_type": "code",
   "execution_count": 24,
   "id": "2f4d888f",
   "metadata": {
    "execution": {
     "iopub.execute_input": "2022-08-11T17:27:15.837020Z",
     "iopub.status.busy": "2022-08-11T17:27:15.837020Z",
     "iopub.status.idle": "2022-08-11T17:27:15.848990Z",
     "shell.execute_reply": "2022-08-11T17:27:15.847983Z"
    }
   },
   "outputs": [],
   "source": [
    "# df_02['age_order'] = pd.Timestamp.now() - df_02['createdSysDateTime']\n",
    "# df_02.head()"
   ]
  },
  {
   "cell_type": "code",
   "execution_count": 25,
   "id": "8b695887",
   "metadata": {
    "execution": {
     "iopub.execute_input": "2022-08-11T17:27:15.853028Z",
     "iopub.status.busy": "2022-08-11T17:27:15.853028Z",
     "iopub.status.idle": "2022-08-11T17:27:15.864989Z",
     "shell.execute_reply": "2022-08-11T17:27:15.863988Z"
    }
   },
   "outputs": [],
   "source": [
    "# df_02['age_order_days'] = df_02['age_order'].dt.components['days']\n",
    "# df_02['age_order_hours'] = df_02['age_order'].dt.components['hours']\n",
    "# df_02.head()"
   ]
  },
  {
   "cell_type": "code",
   "execution_count": 26,
   "id": "b21efff0",
   "metadata": {
    "execution": {
     "iopub.execute_input": "2022-08-11T17:27:15.870019Z",
     "iopub.status.busy": "2022-08-11T17:27:15.870019Z",
     "iopub.status.idle": "2022-08-11T17:27:15.880988Z",
     "shell.execute_reply": "2022-08-11T17:27:15.879981Z"
    }
   },
   "outputs": [],
   "source": [
    "# Open Orders less than 24 hours\n",
    "\n",
    "# df_02 = df_02.loc[(df_02['age_order_days'] == 0) & (df_02['warehouse'] == '10')]\n",
    "# df_02.head()"
   ]
  },
  {
   "cell_type": "code",
   "execution_count": 27,
   "id": "1e73132e",
   "metadata": {
    "execution": {
     "iopub.execute_input": "2022-08-11T17:27:15.885984Z",
     "iopub.status.busy": "2022-08-11T17:27:15.885984Z",
     "iopub.status.idle": "2022-08-11T17:27:15.896895Z",
     "shell.execute_reply": "2022-08-11T17:27:15.895981Z"
    }
   },
   "outputs": [],
   "source": [
    "# Bins per hour\n",
    "\n",
    "# bins =[-1,4,8,12,16,24]\n",
    "# bin_names = ['4 Hours', '8 Hours', '12 Hours', '16 Hours', '24 Hours']\n",
    "\n",
    "# df_02['age_group'] = pd.cut(df_02['age_order_hours'], bins, labels=bin_names)"
   ]
  },
  {
   "cell_type": "code",
   "execution_count": 28,
   "id": "50b37145",
   "metadata": {
    "execution": {
     "iopub.execute_input": "2022-08-11T17:27:15.901950Z",
     "iopub.status.busy": "2022-08-11T17:27:15.900914Z",
     "iopub.status.idle": "2022-08-11T17:27:15.911654Z",
     "shell.execute_reply": "2022-08-11T17:27:15.911137Z"
    }
   },
   "outputs": [],
   "source": [
    "# df_02_grouped = df_02.groupby(['age_group'])[['project']].count()"
   ]
  },
  {
   "cell_type": "code",
   "execution_count": 29,
   "id": "ad0ad7b8",
   "metadata": {
    "execution": {
     "iopub.execute_input": "2022-08-11T17:27:15.916679Z",
     "iopub.status.busy": "2022-08-11T17:27:15.916679Z",
     "iopub.status.idle": "2022-08-11T17:27:15.926673Z",
     "shell.execute_reply": "2022-08-11T17:27:15.925671Z"
    }
   },
   "outputs": [],
   "source": [
    "# df_02_grouped = df_02_grouped.rename(columns={'project': 'orders'})"
   ]
  },
  {
   "cell_type": "markdown",
   "id": "ae473cac",
   "metadata": {},
   "source": [
    "### Save in JSON File"
   ]
  },
  {
   "cell_type": "code",
   "execution_count": 30,
   "id": "2d6c8932",
   "metadata": {
    "execution": {
     "iopub.execute_input": "2022-08-11T17:27:15.931709Z",
     "iopub.status.busy": "2022-08-11T17:27:15.931709Z",
     "iopub.status.idle": "2022-08-11T17:27:15.942675Z",
     "shell.execute_reply": "2022-08-11T17:27:15.941710Z"
    }
   },
   "outputs": [],
   "source": [
    "# open_outbounds = df_02_grouped\n",
    "# open_outbounds.to_json('data/open_outbounds.json')\n",
    "# open_outbounds"
   ]
  },
  {
   "cell_type": "code",
   "execution_count": 31,
   "id": "9f6bab4b",
   "metadata": {
    "execution": {
     "iopub.execute_input": "2022-08-11T17:27:15.947719Z",
     "iopub.status.busy": "2022-08-11T17:27:15.947719Z",
     "iopub.status.idle": "2022-08-11T17:27:15.957671Z",
     "shell.execute_reply": "2022-08-11T17:27:15.956710Z"
    }
   },
   "outputs": [],
   "source": [
    "# df_02_grouped = df_02_grouped.iloc[::-1]\n",
    "# df_02_grouped.plot.barh()"
   ]
  },
  {
   "cell_type": "code",
   "execution_count": 32,
   "id": "b030f66f",
   "metadata": {
    "execution": {
     "iopub.execute_input": "2022-08-11T17:27:15.962712Z",
     "iopub.status.busy": "2022-08-11T17:27:15.962712Z",
     "iopub.status.idle": "2022-08-11T17:27:15.973672Z",
     "shell.execute_reply": "2022-08-11T17:27:15.972681Z"
    }
   },
   "outputs": [],
   "source": [
    "# Close connection\n",
    "\n",
    "# cnxn.close()"
   ]
  },
  {
   "cell_type": "markdown",
   "id": "cda41e6f",
   "metadata": {},
   "source": []
  },
  {
   "cell_type": "markdown",
   "id": "9bf6f1bc",
   "metadata": {},
   "source": [
    "# QUERY 3: Picking Performance (Orders and Waves)"
   ]
  },
  {
   "cell_type": "code",
   "execution_count": 33,
   "id": "887d613e",
   "metadata": {
    "execution": {
     "iopub.execute_input": "2022-08-11T17:27:15.978672Z",
     "iopub.status.busy": "2022-08-11T17:27:15.978672Z",
     "iopub.status.idle": "2022-08-11T17:27:15.988670Z",
     "shell.execute_reply": "2022-08-11T17:27:15.987669Z"
    }
   },
   "outputs": [],
   "source": [
    "# Connect to the Database\n",
    "\n",
    "# cnxn = pyodbc.connect(\"Driver={SQL Server Native Client 11.0};\"\n",
    "#                         \"Server=wd02;\"\n",
    "#                         \"Database=FootPrint;\"\n",
    "#                         \"Trusted_Connection=yes;\")"
   ]
  },
  {
   "cell_type": "code",
   "execution_count": 34,
   "id": "641caea5",
   "metadata": {
    "execution": {
     "iopub.execute_input": "2022-08-11T17:27:15.993709Z",
     "iopub.status.busy": "2022-08-11T17:27:15.992670Z",
     "iopub.status.idle": "2022-08-11T17:27:16.004681Z",
     "shell.execute_reply": "2022-08-11T17:27:16.003675Z"
    }
   },
   "outputs": [],
   "source": [
    "# df03 = pd.read_sql_query(\"DECLARE @from date, @to date;\\\n",
    "#                           SELECT @from = getdate(), @to = dateadd(day, 1, getdate());\\\n",
    "#     SELECT t.completedDateTime Date, oc.name Operation, w.name Warehouse,\\\n",
    "#            p.name Project, m.lookupCode Material, employee Employee, s.lookupCode Shipment, isnull(s.waveId, ps.waveId) Wave,\\\n",
    "#            ordersPerWave.shipmentsCount, lc.name Location\\\n",
    "#     FROM datex_footprint.Tasks t\\\n",
    "#         join datex_footprint.OperationCodes oc\\\n",
    "#             on oc.id = t.operationCodeId\\\n",
    "#         left join datex_footprint.Warehouses w\\\n",
    "#             on w.id = t.warehouseId\\\n",
    "#         left join datex_footprint.Projects p\\\n",
    "#             on p.id = t.projectId\\\n",
    "#         left join datex_footprint.Materials m\\\n",
    "#             on m.id = t.materialId\\\n",
    "#         left join datex_footprint.Shipments s\\\n",
    "#             on s.id = t.shipmentId\\\n",
    "#         left join datex_footprint.PickSlips ps\\\n",
    "#             on ps.id = t.pickSlipId\\\n",
    "#         left join datex_footprint.LocationContainers lc\\\n",
    "#             on lc.id = t.actualSourceLocationId\\\n",
    "#         outer apply (\\\n",
    "#             select\\\n",
    "#                 count(distinct tt.shipmentId) shipmentsCount\\\n",
    "#                 from datex_footprint.waves ww\\\n",
    "#                     inner join datex_footprint.PickSlips ppss\\\n",
    "#                     inner join datex_footprint.tasks tt\\\n",
    "#                         on tt.operationCodeId = 8 and tt.pickSlipId = ppss.id\\\n",
    "#                         on ppss.waveId = ww.id\\\n",
    "#                 where ww.id = isnull(s.waveId, ps.waveId)) ordersPerWave\\\n",
    "#     where t.completedDateTime >= @from and t.completedDateTime < @to and t.statusId = 2\\\n",
    "#     and t.operationCodeId in (8, 39, 2064, 2065, 2066) and t.employee != 'Foot Print Service'\\\n",
    "#     order by s.lookupCode, t.completedDateTime\", cnxn)"
   ]
  },
  {
   "cell_type": "code",
   "execution_count": 35,
   "id": "a4cb2a77",
   "metadata": {
    "execution": {
     "iopub.execute_input": "2022-08-11T17:27:16.009671Z",
     "iopub.status.busy": "2022-08-11T17:27:16.008671Z",
     "iopub.status.idle": "2022-08-11T17:27:16.021391Z",
     "shell.execute_reply": "2022-08-11T17:27:16.019859Z"
    }
   },
   "outputs": [],
   "source": [
    "# df03.tail(3)"
   ]
  },
  {
   "cell_type": "code",
   "execution_count": 36,
   "id": "b2d6e6c7",
   "metadata": {
    "execution": {
     "iopub.execute_input": "2022-08-11T17:27:16.025428Z",
     "iopub.status.busy": "2022-08-11T17:27:16.025428Z",
     "iopub.status.idle": "2022-08-11T17:27:16.036398Z",
     "shell.execute_reply": "2022-08-11T17:27:16.035429Z"
    }
   },
   "outputs": [],
   "source": [
    "# Order Columns\n",
    "\n",
    "# df03 = df03[['Warehouse', 'Project', 'Wave', 'Shipment', 'Date', 'Operation', 'Employee',\n",
    "#              'Location', 'shipmentsCount', 'Material']]"
   ]
  },
  {
   "cell_type": "markdown",
   "id": "782d10c7",
   "metadata": {},
   "source": [
    "### Filter by Shipments"
   ]
  },
  {
   "cell_type": "code",
   "execution_count": 37,
   "id": "deb919ce",
   "metadata": {
    "execution": {
     "iopub.execute_input": "2022-08-11T17:27:16.041430Z",
     "iopub.status.busy": "2022-08-11T17:27:16.040390Z",
     "iopub.status.idle": "2022-08-11T17:27:16.052397Z",
     "shell.execute_reply": "2022-08-11T17:27:16.051404Z"
    }
   },
   "outputs": [],
   "source": [
    "# Filter by Orders only\n",
    "\n",
    "# df03_orders = df03.loc[(df03['Operation']=='Picking') |\n",
    "#                        (df03['Operation']=='Scanned Shipment') |\n",
    "#                        (df03['Operation']=='Picking Completed')]\n",
    "\n",
    "# df03_orders = df03_orders[['Warehouse', 'Project', 'Shipment', 'Date', 'Operation', 'Employee', 'Location']]\n",
    "\n",
    "# df03_orders.head()"
   ]
  },
  {
   "cell_type": "code",
   "execution_count": 38,
   "id": "379538a4",
   "metadata": {
    "execution": {
     "iopub.execute_input": "2022-08-11T17:27:16.057392Z",
     "iopub.status.busy": "2022-08-11T17:27:16.057392Z",
     "iopub.status.idle": "2022-08-11T17:27:16.083484Z",
     "shell.execute_reply": "2022-08-11T17:27:16.082484Z"
    }
   },
   "outputs": [],
   "source": [
    "# Create a new column with the time difference between rows\n",
    "\n",
    "# df03_orders['PickingTime'] = df03_orders['Date'].diff()\n",
    "# df03_orders.head()"
   ]
  },
  {
   "cell_type": "code",
   "execution_count": 39,
   "id": "1c8ab7a0",
   "metadata": {
    "execution": {
     "iopub.execute_input": "2022-08-11T17:27:16.088484Z",
     "iopub.status.busy": "2022-08-11T17:27:16.087485Z",
     "iopub.status.idle": "2022-08-11T17:27:16.098484Z",
     "shell.execute_reply": "2022-08-11T17:27:16.097484Z"
    }
   },
   "outputs": [],
   "source": [
    "# Add Hour, Minute and Second columns\n",
    "\n",
    "# df03_orders['hour'] = df03_orders['PickingTime'].dt.components['hours']\n",
    "# df03_orders['minute'] = df03_orders['PickingTime'].dt.components['minutes']\n",
    "# df03_orders['second'] = df03_orders['PickingTime'].dt.components['seconds']\n",
    "# df03_orders.head()"
   ]
  },
  {
   "cell_type": "code",
   "execution_count": 40,
   "id": "65c5bae7",
   "metadata": {
    "execution": {
     "iopub.execute_input": "2022-08-11T17:27:16.104491Z",
     "iopub.status.busy": "2022-08-11T17:27:16.103484Z",
     "iopub.status.idle": "2022-08-11T17:27:16.114485Z",
     "shell.execute_reply": "2022-08-11T17:27:16.113483Z"
    }
   },
   "outputs": [],
   "source": [
    "# Set all the Scanned Shipment hour, minute, time to ZERO\n",
    "\n",
    "# df03_orders_modified = df03_orders\n",
    "\n",
    "# df03_orders_modified.loc[df03_orders_modified.Operation == 'Scanned Shipment', 'hour'] = 0.0\n",
    "# df03_orders_modified.loc[df03_orders_modified.Operation == 'Scanned Shipment', 'minute'] = 0.0\n",
    "# df03_orders_modified.loc[df03_orders_modified.Operation == 'Scanned Shipment', 'second'] = 0.0\n",
    "\n",
    "# df03_orders_modified.loc[df03_orders_modified['Operation'] == 'Scanned Shipment'].head()"
   ]
  },
  {
   "cell_type": "code",
   "execution_count": 41,
   "id": "0a32c449",
   "metadata": {
    "execution": {
     "iopub.execute_input": "2022-08-11T17:27:16.119521Z",
     "iopub.status.busy": "2022-08-11T17:27:16.119521Z",
     "iopub.status.idle": "2022-08-11T17:27:16.130165Z",
     "shell.execute_reply": "2022-08-11T17:27:16.129654Z"
    }
   },
   "outputs": [],
   "source": [
    "# df03_orders_modified['Time'] = df03_orders_modified['hour']*60 + df03_orders_modified['minute'] + df03_orders_modified['second']/60\n",
    "# df03_orders_modified.head()"
   ]
  },
  {
   "cell_type": "code",
   "execution_count": 42,
   "id": "47d0ed4a",
   "metadata": {
    "execution": {
     "iopub.execute_input": "2022-08-11T17:27:16.135187Z",
     "iopub.status.busy": "2022-08-11T17:27:16.134218Z",
     "iopub.status.idle": "2022-08-11T17:27:16.146180Z",
     "shell.execute_reply": "2022-08-11T17:27:16.145219Z"
    }
   },
   "outputs": [],
   "source": [
    "# Save in JSON Format for HTML\n",
    "\n",
    "# df03_group = df03_orders_modified.groupby(['Warehouse', 'Project', 'Shipment', 'Operation', 'Date'])[['Time']].sum().sort_values(['Warehouse', 'Project', 'Shipment', 'Date'])\n",
    "# df03_group.to_json('data/performance.json', orient='table')\n",
    "# df03_group.head(20)"
   ]
  },
  {
   "cell_type": "code",
   "execution_count": 43,
   "id": "8965cf87",
   "metadata": {
    "execution": {
     "iopub.execute_input": "2022-08-11T17:27:16.151177Z",
     "iopub.status.busy": "2022-08-11T17:27:16.151177Z",
     "iopub.status.idle": "2022-08-11T17:27:16.161180Z",
     "shell.execute_reply": "2022-08-11T17:27:16.160217Z"
    }
   },
   "outputs": [],
   "source": [
    "# Remove Operation 'Scanned Shipment'\n",
    "\n",
    "# df03_excluding_Scanned = df03_orders_modified.loc[df03_orders_modified['Operation'] != 'Scanned Shipment']\n",
    "# df03_excluding_Scanned.head()"
   ]
  },
  {
   "cell_type": "code",
   "execution_count": 44,
   "id": "639c4e63",
   "metadata": {
    "execution": {
     "iopub.execute_input": "2022-08-11T17:27:16.166179Z",
     "iopub.status.busy": "2022-08-11T17:27:16.166179Z",
     "iopub.status.idle": "2022-08-11T17:27:16.176180Z",
     "shell.execute_reply": "2022-08-11T17:27:16.175180Z"
    }
   },
   "outputs": [],
   "source": [
    "# Save in CSV Format for Tableau\n",
    "\n",
    "# df03_group2 = df03_excluding_Scanned.groupby(['Warehouse', 'Project', 'Employee', 'Shipment', 'Operation', 'Date'])[['Time']].sum().sort_values(['Warehouse', 'Project', 'Employee', 'Shipment', 'Date'])\n",
    "# df03_group2.to_csv('data/performance.csv')\n",
    "# df03_group2.head(20)"
   ]
  },
  {
   "cell_type": "code",
   "execution_count": 45,
   "id": "72973a53",
   "metadata": {
    "execution": {
     "iopub.execute_input": "2022-08-11T17:27:16.181181Z",
     "iopub.status.busy": "2022-08-11T17:27:16.181181Z",
     "iopub.status.idle": "2022-08-11T17:27:16.192187Z",
     "shell.execute_reply": "2022-08-11T17:27:16.191186Z"
    }
   },
   "outputs": [],
   "source": [
    "# Close connection\n",
    "\n",
    "# cnxn.close()"
   ]
  },
  {
   "cell_type": "code",
   "execution_count": null,
   "id": "61b643e2",
   "metadata": {},
   "outputs": [],
   "source": []
  }
 ],
 "metadata": {
  "kernelspec": {
   "display_name": "PythonData",
   "language": "python",
   "name": "pythondata"
  },
  "language_info": {
   "codemirror_mode": {
    "name": "ipython",
    "version": 3
   },
   "file_extension": ".py",
   "mimetype": "text/x-python",
   "name": "python",
   "nbconvert_exporter": "python",
   "pygments_lexer": "ipython3",
   "version": "3.7.11"
  }
 },
 "nbformat": 4,
 "nbformat_minor": 5
}
