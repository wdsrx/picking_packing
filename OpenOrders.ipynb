{
 "cells": [
  {
   "cell_type": "code",
   "execution_count": 1,
   "id": "631cdeb5",
   "metadata": {
    "execution": {
     "iopub.execute_input": "2022-07-17T19:50:35.779176Z",
     "iopub.status.busy": "2022-07-17T19:50:35.778039Z",
     "iopub.status.idle": "2022-07-17T19:50:37.124796Z",
     "shell.execute_reply": "2022-07-17T19:50:37.123773Z"
    }
   },
   "outputs": [],
   "source": [
    "import pyodbc\n",
    "import pandas as pd\n",
    "import numpy as np\n",
    "\n",
    "import matplotlib.pyplot as plt\n",
    "from matplotlib import style\n",
    "style.use('fivethirtyeight')"
   ]
  },
  {
   "cell_type": "markdown",
   "id": "e452ad18",
   "metadata": {},
   "source": [
    "# QUERY LINES: PICKING - PACKING - BATCHING"
   ]
  },
  {
   "cell_type": "code",
   "execution_count": 2,
   "id": "cfa380f7",
   "metadata": {
    "execution": {
     "iopub.execute_input": "2022-07-17T19:50:37.126797Z",
     "iopub.status.busy": "2022-07-17T19:50:37.126797Z",
     "iopub.status.idle": "2022-07-17T19:50:37.186748Z",
     "shell.execute_reply": "2022-07-17T19:50:37.185932Z"
    }
   },
   "outputs": [],
   "source": [
    "# Connect to the Database\n",
    "cnxn = pyodbc.connect(\"Driver={SQL Server Native Client 11.0};\"\n",
    "                        \"Server=wd02;\"\n",
    "                        \"Database=FootPrint;\"\n",
    "                        \"Trusted_Connection=yes;\")"
   ]
  },
  {
   "cell_type": "code",
   "execution_count": 3,
   "id": "33630a7b",
   "metadata": {
    "execution": {
     "iopub.execute_input": "2022-07-17T19:50:37.190745Z",
     "iopub.status.busy": "2022-07-17T19:50:37.190745Z",
     "iopub.status.idle": "2022-07-17T19:50:37.644433Z",
     "shell.execute_reply": "2022-07-17T19:50:37.643909Z"
    }
   },
   "outputs": [],
   "source": [
    "df_operations = pd.read_sql_query(\"DECLARE @from date, @to date;\\\n",
    "    SELECT @from = getdate() ,@to = dateadd(day, 1, getdate());\\\n",
    "\\\n",
    "    select t.completedDateTime Date, w.name Warehouse, p.name Project,\\\n",
    "        oc.name OperationCode, t.employee Employee\\\n",
    "    from datex_footprint.Tasks t\\\n",
    "        left join datex_footprint.Warehouses w\\\n",
    "            on w.id = t.warehouseId\\\n",
    "        left join datex_footprint.Projects p\\\n",
    "            on p.id = t.projectId\\\n",
    "        join datex_footprint.OperationCodes oc\\\n",
    "            on oc.id = t.operationCodeId\\\n",
    "        where t.completedDateTime >= @from AND t.completedDateTime < @to AND\\\n",
    "        (t.employee != 'FootPrintService') AND (t.employee != 'Foot Print Service') AND\\\n",
    "        t.statusId = 2 AND t.operationCodeId in (8, 39, 2067)\", cnxn)"
   ]
  },
  {
   "cell_type": "code",
   "execution_count": 4,
   "id": "c735920a",
   "metadata": {
    "execution": {
     "iopub.execute_input": "2022-07-17T19:50:37.649490Z",
     "iopub.status.busy": "2022-07-17T19:50:37.648493Z",
     "iopub.status.idle": "2022-07-17T19:50:37.675856Z",
     "shell.execute_reply": "2022-07-17T19:50:37.674859Z"
    }
   },
   "outputs": [
    {
     "data": {
      "text/html": [
       "<div>\n",
       "<style scoped>\n",
       "    .dataframe tbody tr th:only-of-type {\n",
       "        vertical-align: middle;\n",
       "    }\n",
       "\n",
       "    .dataframe tbody tr th {\n",
       "        vertical-align: top;\n",
       "    }\n",
       "\n",
       "    .dataframe thead th {\n",
       "        text-align: right;\n",
       "    }\n",
       "</style>\n",
       "<table border=\"1\" class=\"dataframe\">\n",
       "  <thead>\n",
       "    <tr style=\"text-align: right;\">\n",
       "      <th></th>\n",
       "      <th>Date</th>\n",
       "      <th>Warehouse</th>\n",
       "      <th>Project</th>\n",
       "      <th>OperationCode</th>\n",
       "      <th>Employee</th>\n",
       "      <th>Hour</th>\n",
       "    </tr>\n",
       "  </thead>\n",
       "  <tbody>\n",
       "  </tbody>\n",
       "</table>\n",
       "</div>"
      ],
      "text/plain": [
       "Empty DataFrame\n",
       "Columns: [Date, Warehouse, Project, OperationCode, Employee, Hour]\n",
       "Index: []"
      ]
     },
     "execution_count": 4,
     "metadata": {},
     "output_type": "execute_result"
    }
   ],
   "source": [
    "# Adding Hours\n",
    "df_operations['Hour'] = pd.to_datetime(df_operations['Date']).dt.hour\n",
    "df_operations.head()"
   ]
  },
  {
   "cell_type": "code",
   "execution_count": 5,
   "id": "22ae8da8",
   "metadata": {
    "execution": {
     "iopub.execute_input": "2022-07-17T19:50:37.680890Z",
     "iopub.status.busy": "2022-07-17T19:50:37.680890Z",
     "iopub.status.idle": "2022-07-17T19:50:37.691855Z",
     "shell.execute_reply": "2022-07-17T19:50:37.690854Z"
    }
   },
   "outputs": [],
   "source": [
    "# Activity Function By Warehouse\n",
    "def activity (warehouse, operationCode, df):\n",
    "    # Filter by warehouse\n",
    "    df2 = df[(df['Warehouse'] == warehouse) & (df['OperationCode'] == operationCode)]\n",
    "    \n",
    "    # Grouped by Employee and Hour\n",
    "    df2 = df2.groupby(['Employee', 'Hour']).count()[['OperationCode']]\n",
    "    df2.reset_index(inplace=True)\n",
    "    \n",
    "    # Pivot\n",
    "    df2 = df2.pivot(index='Employee', columns='Hour', values='OperationCode')\n",
    "    df2 = df2.fillna(0)\n",
    "    df2 = df2.rename_axis(None, axis=1)\n",
    "    \n",
    "    # Save into JSON\n",
    "    df2 = df2.T\n",
    "    file_name = f'data/W{warehouse}_{operationCode}.json'\n",
    "    df2.to_json(file_name)"
   ]
  },
  {
   "cell_type": "code",
   "execution_count": 6,
   "id": "f48970d1",
   "metadata": {
    "execution": {
     "iopub.execute_input": "2022-07-17T19:50:37.696890Z",
     "iopub.status.busy": "2022-07-17T19:50:37.696890Z",
     "iopub.status.idle": "2022-07-17T19:50:37.739854Z",
     "shell.execute_reply": "2022-07-17T19:50:37.739102Z"
    }
   },
   "outputs": [],
   "source": [
    "activity('10', 'Picking', df_operations)\n",
    "activity('10', 'Rate And Ship', df_operations)\n",
    "activity('10', 'Batch Move', df_operations)"
   ]
  },
  {
   "cell_type": "code",
   "execution_count": 7,
   "id": "ab7aa825",
   "metadata": {
    "execution": {
     "iopub.execute_input": "2022-07-17T19:50:37.744890Z",
     "iopub.status.busy": "2022-07-17T19:50:37.744890Z",
     "iopub.status.idle": "2022-07-17T19:50:37.755063Z",
     "shell.execute_reply": "2022-07-17T19:50:37.754549Z"
    }
   },
   "outputs": [],
   "source": [
    "# # Close connection\n",
    "cnxn.close()"
   ]
  },
  {
   "cell_type": "markdown",
   "id": "f6e6c852",
   "metadata": {},
   "source": [
    "# QUERY ORDERS: PICKING - PACKING - BATCHING"
   ]
  },
  {
   "cell_type": "code",
   "execution_count": 8,
   "id": "a34045bd",
   "metadata": {
    "execution": {
     "iopub.execute_input": "2022-07-17T19:50:37.760117Z",
     "iopub.status.busy": "2022-07-17T19:50:37.760117Z",
     "iopub.status.idle": "2022-07-17T19:50:37.770079Z",
     "shell.execute_reply": "2022-07-17T19:50:37.769081Z"
    }
   },
   "outputs": [],
   "source": [
    "# Connect to the Database\n",
    "cnxn = pyodbc.connect(\"Driver={SQL Server Native Client 11.0};\"\n",
    "                        \"Server=wd02;\"\n",
    "                        \"Database=FootPrint;\"\n",
    "                        \"Trusted_Connection=yes;\")"
   ]
  },
  {
   "cell_type": "code",
   "execution_count": 9,
   "id": "4d84963a",
   "metadata": {
    "execution": {
     "iopub.execute_input": "2022-07-17T19:50:37.775117Z",
     "iopub.status.busy": "2022-07-17T19:50:37.774118Z",
     "iopub.status.idle": "2022-07-17T19:50:38.524737Z",
     "shell.execute_reply": "2022-07-17T19:50:38.521806Z"
    }
   },
   "outputs": [],
   "source": [
    "# TODAY ORDERS\n",
    "df_today = pd.read_sql_query(\"DECLARE @from date, @to date;\\\n",
    "    SELECT @from = getdate() ,@to = dateadd(day, 1, getdate());\\\n",
    "\\\n",
    "    select distinct w.name Warehouse, oc.name OperationCode,\\\n",
    "        COUNt(DISTINCT (ISNULL(t.shipmentId, s.id))) Shipment\\\n",
    "    from datex_footprint.Tasks t\\\n",
    "        left join datex_footprint.Warehouses w\\\n",
    "            on w.id = t.warehouseId\\\n",
    "        join datex_footprint.OperationCodes oc\\\n",
    "            on oc.id = t.operationCodeId\\\n",
    "        left join datex_footprint.PickSlips ps\\\n",
    "            on ps.id = t.pickSlipId\\\n",
    "        left join datex_footprint.Waves wa\\\n",
    "            on wa.id = ps.waveId\\\n",
    "        left join datex_footprint.shipments s\\\n",
    "            on s.waveId = wa.id\\\n",
    "        where t.completedDateTime >= @from AND t.completedDateTime < @to AND\\\n",
    "        (t.employee != 'FootPrintService') AND (t.employee != 'Foot Print Service') AND\\\n",
    "        t.statusId = 2 AND t.operationCodeId in (8, 39, 2067)\\\n",
    "        group by w.name, oc.name\", cnxn)"
   ]
  },
  {
   "cell_type": "code",
   "execution_count": 10,
   "id": "73bf0281",
   "metadata": {
    "execution": {
     "iopub.execute_input": "2022-07-17T19:50:38.534694Z",
     "iopub.status.busy": "2022-07-17T19:50:38.533751Z",
     "iopub.status.idle": "2022-07-17T19:50:54.129282Z",
     "shell.execute_reply": "2022-07-17T19:50:54.127776Z"
    }
   },
   "outputs": [],
   "source": [
    "# YESTEDAY ORDERS\n",
    "df_yesterday = pd.read_sql_query(\"DECLARE @from date, @to date;\\\n",
    "    SELECT @from = dateadd(day, -1, getdate()) ,@to = getdate();\\\n",
    "\\\n",
    "    select distinct w.name Warehouse, oc.name OperationCode,\\\n",
    "        COUNt(DISTINCT (ISNULL(t.shipmentId, s.id))) Shipment\\\n",
    "    from datex_footprint.Tasks t\\\n",
    "        left join datex_footprint.Warehouses w\\\n",
    "            on w.id = t.warehouseId\\\n",
    "        join datex_footprint.OperationCodes oc\\\n",
    "            on oc.id = t.operationCodeId\\\n",
    "        left join datex_footprint.PickSlips ps\\\n",
    "            on ps.id = t.pickSlipId\\\n",
    "        left join datex_footprint.Waves wa\\\n",
    "            on wa.id = ps.waveId\\\n",
    "        left join datex_footprint.shipments s\\\n",
    "            on s.waveId = wa.id\\\n",
    "        where t.completedDateTime >= @from AND t.completedDateTime < @to AND\\\n",
    "        (t.employee != 'FootPrintService') AND (t.employee != 'Foot Print Service') AND\\\n",
    "        t.statusId = 2 AND t.operationCodeId in (8, 39, 2067)\\\n",
    "        group by w.name, oc.name\", cnxn)"
   ]
  },
  {
   "cell_type": "code",
   "execution_count": 11,
   "id": "6fc49f2e",
   "metadata": {
    "execution": {
     "iopub.execute_input": "2022-07-17T19:50:54.136272Z",
     "iopub.status.busy": "2022-07-17T19:50:54.136272Z",
     "iopub.status.idle": "2022-07-17T19:50:54.162292Z",
     "shell.execute_reply": "2022-07-17T19:50:54.159317Z"
    }
   },
   "outputs": [],
   "source": [
    "# Rename Columns\n",
    "df_today.rename(columns={'Shipment': 'Today'}, inplace=True)\n",
    "df_yesterday.rename(columns={'Shipment': 'Yesterday'}, inplace=True)"
   ]
  },
  {
   "cell_type": "code",
   "execution_count": 12,
   "id": "b18420f4",
   "metadata": {
    "execution": {
     "iopub.execute_input": "2022-07-17T19:50:54.171270Z",
     "iopub.status.busy": "2022-07-17T19:50:54.171270Z",
     "iopub.status.idle": "2022-07-17T19:50:54.193187Z",
     "shell.execute_reply": "2022-07-17T19:50:54.190565Z"
    }
   },
   "outputs": [],
   "source": [
    "# Merge dataframes\n",
    "df_today_yesterday = pd.merge(df_today, df_yesterday,  how='outer', left_on=['Warehouse','OperationCode'], right_on = ['Warehouse','OperationCode'])"
   ]
  },
  {
   "cell_type": "code",
   "execution_count": 13,
   "id": "79c1e830",
   "metadata": {
    "execution": {
     "iopub.execute_input": "2022-07-17T19:50:54.204151Z",
     "iopub.status.busy": "2022-07-17T19:50:54.203170Z",
     "iopub.status.idle": "2022-07-17T19:50:54.225144Z",
     "shell.execute_reply": "2022-07-17T19:50:54.222125Z"
    }
   },
   "outputs": [],
   "source": [
    "def orders (warehouse, df):\n",
    "    df2 = df[df['Warehouse'] == warehouse]\n",
    "    df2 = df2.pivot(index='Warehouse', columns='OperationCode', values=['Today', 'Yesterday']).fillna(0)\n",
    "    df2 = df2.T\n",
    "    \n",
    "    display(df2)\n",
    "    \n",
    "    file_name = f'data/W{warehouse}_Orders.json'\n",
    "    df2.to_json(file_name)"
   ]
  },
  {
   "cell_type": "code",
   "execution_count": 14,
   "id": "993773f6",
   "metadata": {
    "execution": {
     "iopub.execute_input": "2022-07-17T19:50:54.234170Z",
     "iopub.status.busy": "2022-07-17T19:50:54.234170Z",
     "iopub.status.idle": "2022-07-17T19:50:54.287221Z",
     "shell.execute_reply": "2022-07-17T19:50:54.285393Z"
    }
   },
   "outputs": [
    {
     "data": {
      "text/html": [
       "<div>\n",
       "<style scoped>\n",
       "    .dataframe tbody tr th:only-of-type {\n",
       "        vertical-align: middle;\n",
       "    }\n",
       "\n",
       "    .dataframe tbody tr th {\n",
       "        vertical-align: top;\n",
       "    }\n",
       "\n",
       "    .dataframe thead th {\n",
       "        text-align: right;\n",
       "    }\n",
       "</style>\n",
       "<table border=\"1\" class=\"dataframe\">\n",
       "  <thead>\n",
       "    <tr style=\"text-align: right;\">\n",
       "      <th></th>\n",
       "      <th>Warehouse</th>\n",
       "      <th>10</th>\n",
       "    </tr>\n",
       "    <tr>\n",
       "      <th></th>\n",
       "      <th>OperationCode</th>\n",
       "      <th></th>\n",
       "    </tr>\n",
       "  </thead>\n",
       "  <tbody>\n",
       "    <tr>\n",
       "      <th>Today</th>\n",
       "      <th>Picking</th>\n",
       "      <td>0</td>\n",
       "    </tr>\n",
       "    <tr>\n",
       "      <th>Yesterday</th>\n",
       "      <th>Picking</th>\n",
       "      <td>1</td>\n",
       "    </tr>\n",
       "  </tbody>\n",
       "</table>\n",
       "</div>"
      ],
      "text/plain": [
       "Warehouse                10\n",
       "          OperationCode    \n",
       "Today     Picking         0\n",
       "Yesterday Picking         1"
      ]
     },
     "metadata": {},
     "output_type": "display_data"
    }
   ],
   "source": [
    "orders('10', df_today_yesterday)"
   ]
  },
  {
   "cell_type": "code",
   "execution_count": 15,
   "id": "4bb020fd",
   "metadata": {
    "execution": {
     "iopub.execute_input": "2022-07-17T19:50:54.292262Z",
     "iopub.status.busy": "2022-07-17T19:50:54.292262Z",
     "iopub.status.idle": "2022-07-17T19:50:54.302910Z",
     "shell.execute_reply": "2022-07-17T19:50:54.301378Z"
    }
   },
   "outputs": [],
   "source": [
    "# # Close connection\n",
    "cnxn.close()"
   ]
  },
  {
   "cell_type": "markdown",
   "id": "cfe829e8",
   "metadata": {},
   "source": [
    "# QUERY: OPEN ORDERS\n",
    "Shipments in Released and Executing status"
   ]
  },
  {
   "cell_type": "code",
   "execution_count": 16,
   "id": "b6917f6f",
   "metadata": {
    "execution": {
     "iopub.execute_input": "2022-07-17T19:50:54.307945Z",
     "iopub.status.busy": "2022-07-17T19:50:54.307945Z",
     "iopub.status.idle": "2022-07-17T19:50:54.332981Z",
     "shell.execute_reply": "2022-07-17T19:50:54.331934Z"
    }
   },
   "outputs": [],
   "source": [
    "# Connect to the Database\n",
    "cnxn = pyodbc.connect(\"Driver={SQL Server Native Client 11.0};\"\n",
    "                        \"Server=wd02;\"\n",
    "                        \"Database=FootPrint;\"\n",
    "                        \"Trusted_Connection=yes;\")"
   ]
  },
  {
   "cell_type": "code",
   "execution_count": 17,
   "id": "72994acb",
   "metadata": {
    "execution": {
     "iopub.execute_input": "2022-07-17T19:50:54.339010Z",
     "iopub.status.busy": "2022-07-17T19:50:54.339010Z",
     "iopub.status.idle": "2022-07-17T19:50:54.364067Z",
     "shell.execute_reply": "2022-07-17T19:50:54.362229Z"
    }
   },
   "outputs": [],
   "source": [
    "# OPEN ORDERS\n",
    "df_open_orders = pd.read_sql_query(\"select w.name Warehouse, count(s.lookupCode) Shipments\\\n",
    "    from datex_footprint.Shipments s\\\n",
    "        join datex_footprint.Warehouses w\\\n",
    "            on w.id = ISNULL(s.actualWarehouseId, s.expectedWarehouseId)\\\n",
    "    where s.statusId in (2) and s.typeId = 2\\\n",
    "    group by w.name\", cnxn)"
   ]
  },
  {
   "cell_type": "code",
   "execution_count": 18,
   "id": "3e534528",
   "metadata": {
    "execution": {
     "iopub.execute_input": "2022-07-17T19:50:54.373112Z",
     "iopub.status.busy": "2022-07-17T19:50:54.372070Z",
     "iopub.status.idle": "2022-07-17T19:50:54.413069Z",
     "shell.execute_reply": "2022-07-17T19:50:54.409512Z"
    }
   },
   "outputs": [
    {
     "data": {
      "text/html": [
       "<div>\n",
       "<style scoped>\n",
       "    .dataframe tbody tr th:only-of-type {\n",
       "        vertical-align: middle;\n",
       "    }\n",
       "\n",
       "    .dataframe tbody tr th {\n",
       "        vertical-align: top;\n",
       "    }\n",
       "\n",
       "    .dataframe thead th {\n",
       "        text-align: right;\n",
       "    }\n",
       "</style>\n",
       "<table border=\"1\" class=\"dataframe\">\n",
       "  <thead>\n",
       "    <tr style=\"text-align: right;\">\n",
       "      <th>Warehouse</th>\n",
       "      <th>10</th>\n",
       "      <th>102</th>\n",
       "      <th>12</th>\n",
       "      <th>15</th>\n",
       "      <th>16</th>\n",
       "      <th>17</th>\n",
       "      <th>19</th>\n",
       "      <th>20</th>\n",
       "      <th>21</th>\n",
       "    </tr>\n",
       "  </thead>\n",
       "  <tbody>\n",
       "    <tr>\n",
       "      <th>Shipments</th>\n",
       "      <td>153</td>\n",
       "      <td>1</td>\n",
       "      <td>1</td>\n",
       "      <td>24</td>\n",
       "      <td>12</td>\n",
       "      <td>9</td>\n",
       "      <td>5</td>\n",
       "      <td>86</td>\n",
       "      <td>3</td>\n",
       "    </tr>\n",
       "  </tbody>\n",
       "</table>\n",
       "</div>"
      ],
      "text/plain": [
       "Warehouse   10  102  12  15  16  17  19  20  21\n",
       "Shipments  153    1   1  24  12   9   5  86   3"
      ]
     },
     "execution_count": 18,
     "metadata": {},
     "output_type": "execute_result"
    }
   ],
   "source": [
    "df_open_orders.set_index('Warehouse', inplace=True)\n",
    "df_open_orders = df_open_orders.T\n",
    "df_open_orders"
   ]
  },
  {
   "cell_type": "code",
   "execution_count": 19,
   "id": "2cfd5c4a",
   "metadata": {
    "execution": {
     "iopub.execute_input": "2022-07-17T19:50:54.422112Z",
     "iopub.status.busy": "2022-07-17T19:50:54.421112Z",
     "iopub.status.idle": "2022-07-17T19:50:54.444070Z",
     "shell.execute_reply": "2022-07-17T19:50:54.441063Z"
    }
   },
   "outputs": [],
   "source": [
    "file_name = f'data/Open_Orders.json'\n",
    "df_open_orders.to_json(file_name)"
   ]
  },
  {
   "cell_type": "code",
   "execution_count": 20,
   "id": "86aaf66f",
   "metadata": {
    "execution": {
     "iopub.execute_input": "2022-07-17T19:50:54.453112Z",
     "iopub.status.busy": "2022-07-17T19:50:54.452127Z",
     "iopub.status.idle": "2022-07-17T19:50:54.474112Z",
     "shell.execute_reply": "2022-07-17T19:50:54.471118Z"
    }
   },
   "outputs": [],
   "source": [
    "# # Close connection\n",
    "cnxn.close()"
   ]
  },
  {
   "cell_type": "code",
   "execution_count": null,
   "id": "72b78df6",
   "metadata": {},
   "outputs": [],
   "source": []
  },
  {
   "cell_type": "code",
   "execution_count": null,
   "id": "d5f52d43",
   "metadata": {},
   "outputs": [],
   "source": []
  },
  {
   "cell_type": "code",
   "execution_count": null,
   "id": "81d3bd0c",
   "metadata": {},
   "outputs": [],
   "source": []
  },
  {
   "cell_type": "code",
   "execution_count": null,
   "id": "a0252f3a",
   "metadata": {},
   "outputs": [],
   "source": []
  },
  {
   "cell_type": "code",
   "execution_count": null,
   "id": "5b20e3fe",
   "metadata": {},
   "outputs": [],
   "source": []
  },
  {
   "cell_type": "code",
   "execution_count": null,
   "id": "e427507c",
   "metadata": {},
   "outputs": [],
   "source": []
  },
  {
   "cell_type": "code",
   "execution_count": null,
   "id": "ce5a9472",
   "metadata": {},
   "outputs": [],
   "source": []
  },
  {
   "cell_type": "code",
   "execution_count": null,
   "id": "ec1114a6",
   "metadata": {},
   "outputs": [],
   "source": []
  },
  {
   "cell_type": "code",
   "execution_count": null,
   "id": "48dcade4",
   "metadata": {},
   "outputs": [],
   "source": []
  },
  {
   "cell_type": "code",
   "execution_count": null,
   "id": "87b3ff6b",
   "metadata": {},
   "outputs": [],
   "source": []
  },
  {
   "cell_type": "markdown",
   "id": "535778bf",
   "metadata": {},
   "source": [
    "# QUERY 02: Open Outbounds WAREHOUSE 10"
   ]
  },
  {
   "cell_type": "code",
   "execution_count": 21,
   "id": "2c1090ec",
   "metadata": {
    "execution": {
     "iopub.execute_input": "2022-07-17T19:50:54.485128Z",
     "iopub.status.busy": "2022-07-17T19:50:54.485128Z",
     "iopub.status.idle": "2022-07-17T19:50:54.505118Z",
     "shell.execute_reply": "2022-07-17T19:50:54.502359Z"
    }
   },
   "outputs": [],
   "source": [
    "# Connect to the Database\n",
    "\n",
    "# cnxn = pyodbc.connect(\"Driver={SQL Server Native Client 11.0};\"\n",
    "#                         \"Server=wd02;\"\n",
    "#                         \"Database=FootPrint;\"\n",
    "#                         \"Trusted_Connection=yes;\")"
   ]
  },
  {
   "cell_type": "code",
   "execution_count": 22,
   "id": "50ba15dd",
   "metadata": {
    "execution": {
     "iopub.execute_input": "2022-07-17T19:50:54.514130Z",
     "iopub.status.busy": "2022-07-17T19:50:54.514130Z",
     "iopub.status.idle": "2022-07-17T19:50:54.536072Z",
     "shell.execute_reply": "2022-07-17T19:50:54.534081Z"
    }
   },
   "outputs": [],
   "source": [
    "# df_02 = pd.read_sql_query(\"SELECT DISTINCT w.name warehouse, p.name project, s.lookupCode shipment_number, s.createdSysDateTime\\\n",
    "#     FROM datex_footprint.shipments s\\\n",
    "#     LEFT JOIN datex_footprint.ShipmentOrderLookup sol\\\n",
    "#         on sol.shipmentId = s.id\\\n",
    "#     LEFT JOIN datex_footprint.orders o\\\n",
    "#         on o.id = sol.orderId\\\n",
    "#     LEFT JOIN datex_footprint.Projects p\\\n",
    "#         on p.id = o.projectId\\\n",
    "#     LEFT JOIN datex_footprint.warehouses w\\\n",
    "#         on w.id = isnull(s.actualWarehouseId, s.expectedWarehouseId)\\\n",
    "#     WHERE s.statusId in (1, 2, 4) and s.typeId = 2\\\n",
    "#     ORDER BY createdSysDateTime\", cnxn)"
   ]
  },
  {
   "cell_type": "code",
   "execution_count": 23,
   "id": "4ead82a2",
   "metadata": {
    "execution": {
     "iopub.execute_input": "2022-07-17T19:50:54.546131Z",
     "iopub.status.busy": "2022-07-17T19:50:54.545112Z",
     "iopub.status.idle": "2022-07-17T19:50:54.569112Z",
     "shell.execute_reply": "2022-07-17T19:50:54.566306Z"
    }
   },
   "outputs": [],
   "source": [
    "# df_02.head()"
   ]
  },
  {
   "cell_type": "code",
   "execution_count": 24,
   "id": "2f4d888f",
   "metadata": {
    "execution": {
     "iopub.execute_input": "2022-07-17T19:50:54.578127Z",
     "iopub.status.busy": "2022-07-17T19:50:54.578127Z",
     "iopub.status.idle": "2022-07-17T19:50:54.600812Z",
     "shell.execute_reply": "2022-07-17T19:50:54.597802Z"
    }
   },
   "outputs": [],
   "source": [
    "# df_02['age_order'] = pd.Timestamp.now() - df_02['createdSysDateTime']\n",
    "# df_02.head()"
   ]
  },
  {
   "cell_type": "code",
   "execution_count": 25,
   "id": "8b695887",
   "metadata": {
    "execution": {
     "iopub.execute_input": "2022-07-17T19:50:54.610804Z",
     "iopub.status.busy": "2022-07-17T19:50:54.609811Z",
     "iopub.status.idle": "2022-07-17T19:50:54.632841Z",
     "shell.execute_reply": "2022-07-17T19:50:54.630282Z"
    }
   },
   "outputs": [],
   "source": [
    "# df_02['age_order_days'] = df_02['age_order'].dt.components['days']\n",
    "# df_02['age_order_hours'] = df_02['age_order'].dt.components['hours']\n",
    "# df_02.head()"
   ]
  },
  {
   "cell_type": "code",
   "execution_count": 26,
   "id": "b21efff0",
   "metadata": {
    "execution": {
     "iopub.execute_input": "2022-07-17T19:50:54.641900Z",
     "iopub.status.busy": "2022-07-17T19:50:54.641900Z",
     "iopub.status.idle": "2022-07-17T19:50:54.664840Z",
     "shell.execute_reply": "2022-07-17T19:50:54.662082Z"
    }
   },
   "outputs": [],
   "source": [
    "# Open Orders less than 24 hours\n",
    "\n",
    "# df_02 = df_02.loc[(df_02['age_order_days'] == 0) & (df_02['warehouse'] == '10')]\n",
    "# df_02.head()"
   ]
  },
  {
   "cell_type": "code",
   "execution_count": 27,
   "id": "1e73132e",
   "metadata": {
    "execution": {
     "iopub.execute_input": "2022-07-17T19:50:54.673900Z",
     "iopub.status.busy": "2022-07-17T19:50:54.673900Z",
     "iopub.status.idle": "2022-07-17T19:50:54.696286Z",
     "shell.execute_reply": "2022-07-17T19:50:54.694064Z"
    }
   },
   "outputs": [],
   "source": [
    "# Bins per hour\n",
    "\n",
    "# bins =[-1,4,8,12,16,24]\n",
    "# bin_names = ['4 Hours', '8 Hours', '12 Hours', '16 Hours', '24 Hours']\n",
    "\n",
    "# df_02['age_group'] = pd.cut(df_02['age_order_hours'], bins, labels=bin_names)"
   ]
  },
  {
   "cell_type": "code",
   "execution_count": 28,
   "id": "50b37145",
   "metadata": {
    "execution": {
     "iopub.execute_input": "2022-07-17T19:50:54.706386Z",
     "iopub.status.busy": "2022-07-17T19:50:54.705370Z",
     "iopub.status.idle": "2022-07-17T19:50:54.727733Z",
     "shell.execute_reply": "2022-07-17T19:50:54.726103Z"
    }
   },
   "outputs": [],
   "source": [
    "# df_02_grouped = df_02.groupby(['age_group'])[['project']].count()"
   ]
  },
  {
   "cell_type": "code",
   "execution_count": 29,
   "id": "ad0ad7b8",
   "metadata": {
    "execution": {
     "iopub.execute_input": "2022-07-17T19:50:54.737734Z",
     "iopub.status.busy": "2022-07-17T19:50:54.736734Z",
     "iopub.status.idle": "2022-07-17T19:50:54.758919Z",
     "shell.execute_reply": "2022-07-17T19:50:54.755967Z"
    }
   },
   "outputs": [],
   "source": [
    "# df_02_grouped = df_02_grouped.rename(columns={'project': 'orders'})"
   ]
  },
  {
   "cell_type": "markdown",
   "id": "ae473cac",
   "metadata": {},
   "source": [
    "### Save in JSON File"
   ]
  },
  {
   "cell_type": "code",
   "execution_count": 30,
   "id": "2d6c8932",
   "metadata": {
    "execution": {
     "iopub.execute_input": "2022-07-17T19:50:54.768911Z",
     "iopub.status.busy": "2022-07-17T19:50:54.768911Z",
     "iopub.status.idle": "2022-07-17T19:50:54.788919Z",
     "shell.execute_reply": "2022-07-17T19:50:54.785970Z"
    }
   },
   "outputs": [],
   "source": [
    "# open_outbounds = df_02_grouped\n",
    "# open_outbounds.to_json('data/open_outbounds.json')\n",
    "# open_outbounds"
   ]
  },
  {
   "cell_type": "code",
   "execution_count": 31,
   "id": "9f6bab4b",
   "metadata": {
    "execution": {
     "iopub.execute_input": "2022-07-17T19:50:54.798972Z",
     "iopub.status.busy": "2022-07-17T19:50:54.797972Z",
     "iopub.status.idle": "2022-07-17T19:50:54.819917Z",
     "shell.execute_reply": "2022-07-17T19:50:54.816963Z"
    }
   },
   "outputs": [],
   "source": [
    "# df_02_grouped = df_02_grouped.iloc[::-1]\n",
    "# df_02_grouped.plot.barh()"
   ]
  },
  {
   "cell_type": "code",
   "execution_count": 32,
   "id": "b030f66f",
   "metadata": {
    "execution": {
     "iopub.execute_input": "2022-07-17T19:50:54.828914Z",
     "iopub.status.busy": "2022-07-17T19:50:54.828914Z",
     "iopub.status.idle": "2022-07-17T19:50:54.850873Z",
     "shell.execute_reply": "2022-07-17T19:50:54.848306Z"
    }
   },
   "outputs": [],
   "source": [
    "# Close connection\n",
    "\n",
    "# cnxn.close()"
   ]
  },
  {
   "cell_type": "markdown",
   "id": "cda41e6f",
   "metadata": {},
   "source": []
  },
  {
   "cell_type": "markdown",
   "id": "9bf6f1bc",
   "metadata": {},
   "source": [
    "# QUERY 3: Picking Performance (Orders and Waves)"
   ]
  },
  {
   "cell_type": "code",
   "execution_count": 33,
   "id": "887d613e",
   "metadata": {
    "execution": {
     "iopub.execute_input": "2022-07-17T19:50:54.861919Z",
     "iopub.status.busy": "2022-07-17T19:50:54.860919Z",
     "iopub.status.idle": "2022-07-17T19:50:54.882871Z",
     "shell.execute_reply": "2022-07-17T19:50:54.879865Z"
    }
   },
   "outputs": [],
   "source": [
    "# Connect to the Database\n",
    "\n",
    "# cnxn = pyodbc.connect(\"Driver={SQL Server Native Client 11.0};\"\n",
    "#                         \"Server=wd02;\"\n",
    "#                         \"Database=FootPrint;\"\n",
    "#                         \"Trusted_Connection=yes;\")"
   ]
  },
  {
   "cell_type": "code",
   "execution_count": 34,
   "id": "641caea5",
   "metadata": {
    "execution": {
     "iopub.execute_input": "2022-07-17T19:50:54.892916Z",
     "iopub.status.busy": "2022-07-17T19:50:54.892916Z",
     "iopub.status.idle": "2022-07-17T19:50:54.913868Z",
     "shell.execute_reply": "2022-07-17T19:50:54.911937Z"
    }
   },
   "outputs": [],
   "source": [
    "# df03 = pd.read_sql_query(\"DECLARE @from date, @to date;\\\n",
    "#                           SELECT @from = getdate(), @to = dateadd(day, 1, getdate());\\\n",
    "#     SELECT t.completedDateTime Date, oc.name Operation, w.name Warehouse,\\\n",
    "#            p.name Project, m.lookupCode Material, employee Employee, s.lookupCode Shipment, isnull(s.waveId, ps.waveId) Wave,\\\n",
    "#            ordersPerWave.shipmentsCount, lc.name Location\\\n",
    "#     FROM datex_footprint.Tasks t\\\n",
    "#         join datex_footprint.OperationCodes oc\\\n",
    "#             on oc.id = t.operationCodeId\\\n",
    "#         left join datex_footprint.Warehouses w\\\n",
    "#             on w.id = t.warehouseId\\\n",
    "#         left join datex_footprint.Projects p\\\n",
    "#             on p.id = t.projectId\\\n",
    "#         left join datex_footprint.Materials m\\\n",
    "#             on m.id = t.materialId\\\n",
    "#         left join datex_footprint.Shipments s\\\n",
    "#             on s.id = t.shipmentId\\\n",
    "#         left join datex_footprint.PickSlips ps\\\n",
    "#             on ps.id = t.pickSlipId\\\n",
    "#         left join datex_footprint.LocationContainers lc\\\n",
    "#             on lc.id = t.actualSourceLocationId\\\n",
    "#         outer apply (\\\n",
    "#             select\\\n",
    "#                 count(distinct tt.shipmentId) shipmentsCount\\\n",
    "#                 from datex_footprint.waves ww\\\n",
    "#                     inner join datex_footprint.PickSlips ppss\\\n",
    "#                     inner join datex_footprint.tasks tt\\\n",
    "#                         on tt.operationCodeId = 8 and tt.pickSlipId = ppss.id\\\n",
    "#                         on ppss.waveId = ww.id\\\n",
    "#                 where ww.id = isnull(s.waveId, ps.waveId)) ordersPerWave\\\n",
    "#     where t.completedDateTime >= @from and t.completedDateTime < @to and t.statusId = 2\\\n",
    "#     and t.operationCodeId in (8, 39, 2064, 2065, 2066) and t.employee != 'Foot Print Service'\\\n",
    "#     order by s.lookupCode, t.completedDateTime\", cnxn)"
   ]
  },
  {
   "cell_type": "code",
   "execution_count": 35,
   "id": "a4cb2a77",
   "metadata": {
    "execution": {
     "iopub.execute_input": "2022-07-17T19:50:54.920861Z",
     "iopub.status.busy": "2022-07-17T19:50:54.919863Z",
     "iopub.status.idle": "2022-07-17T19:50:54.928865Z",
     "shell.execute_reply": "2022-07-17T19:50:54.926873Z"
    }
   },
   "outputs": [],
   "source": [
    "# df03.tail(3)"
   ]
  },
  {
   "cell_type": "code",
   "execution_count": 36,
   "id": "b2d6e6c7",
   "metadata": {
    "execution": {
     "iopub.execute_input": "2022-07-17T19:50:54.935903Z",
     "iopub.status.busy": "2022-07-17T19:50:54.934865Z",
     "iopub.status.idle": "2022-07-17T19:50:54.943866Z",
     "shell.execute_reply": "2022-07-17T19:50:54.941869Z"
    }
   },
   "outputs": [],
   "source": [
    "# Order Columns\n",
    "\n",
    "# df03 = df03[['Warehouse', 'Project', 'Wave', 'Shipment', 'Date', 'Operation', 'Employee',\n",
    "#              'Location', 'shipmentsCount', 'Material']]"
   ]
  },
  {
   "cell_type": "markdown",
   "id": "782d10c7",
   "metadata": {},
   "source": [
    "### Filter by Shipments"
   ]
  },
  {
   "cell_type": "code",
   "execution_count": 37,
   "id": "deb919ce",
   "metadata": {
    "execution": {
     "iopub.execute_input": "2022-07-17T19:50:54.951861Z",
     "iopub.status.busy": "2022-07-17T19:50:54.950861Z",
     "iopub.status.idle": "2022-07-17T19:50:54.959696Z",
     "shell.execute_reply": "2022-07-17T19:50:54.958141Z"
    }
   },
   "outputs": [],
   "source": [
    "# Filter by Orders only\n",
    "\n",
    "# df03_orders = df03.loc[(df03['Operation']=='Picking') |\n",
    "#                        (df03['Operation']=='Scanned Shipment') |\n",
    "#                        (df03['Operation']=='Picking Completed')]\n",
    "\n",
    "# df03_orders = df03_orders[['Warehouse', 'Project', 'Shipment', 'Date', 'Operation', 'Employee', 'Location']]\n",
    "\n",
    "# df03_orders.head()"
   ]
  },
  {
   "cell_type": "code",
   "execution_count": 38,
   "id": "379538a4",
   "metadata": {
    "execution": {
     "iopub.execute_input": "2022-07-17T19:50:54.969686Z",
     "iopub.status.busy": "2022-07-17T19:50:54.969686Z",
     "iopub.status.idle": "2022-07-17T19:50:54.991720Z",
     "shell.execute_reply": "2022-07-17T19:50:54.989682Z"
    }
   },
   "outputs": [],
   "source": [
    "# Create a new column with the time difference between rows\n",
    "\n",
    "# df03_orders['PickingTime'] = df03_orders['Date'].diff()\n",
    "# df03_orders.head()"
   ]
  },
  {
   "cell_type": "code",
   "execution_count": 39,
   "id": "1c8ab7a0",
   "metadata": {
    "execution": {
     "iopub.execute_input": "2022-07-17T19:50:54.998686Z",
     "iopub.status.busy": "2022-07-17T19:50:54.997687Z",
     "iopub.status.idle": "2022-07-17T19:50:55.053726Z",
     "shell.execute_reply": "2022-07-17T19:50:55.052684Z"
    }
   },
   "outputs": [],
   "source": [
    "# Add Hour, Minute and Second columns\n",
    "\n",
    "# df03_orders['hour'] = df03_orders['PickingTime'].dt.components['hours']\n",
    "# df03_orders['minute'] = df03_orders['PickingTime'].dt.components['minutes']\n",
    "# df03_orders['second'] = df03_orders['PickingTime'].dt.components['seconds']\n",
    "# df03_orders.head()"
   ]
  },
  {
   "cell_type": "code",
   "execution_count": 40,
   "id": "65c5bae7",
   "metadata": {
    "execution": {
     "iopub.execute_input": "2022-07-17T19:50:55.058683Z",
     "iopub.status.busy": "2022-07-17T19:50:55.058683Z",
     "iopub.status.idle": "2022-07-17T19:50:55.069228Z",
     "shell.execute_reply": "2022-07-17T19:50:55.068266Z"
    }
   },
   "outputs": [],
   "source": [
    "# Set all the Scanned Shipment hour, minute, time to ZERO\n",
    "\n",
    "# df03_orders_modified = df03_orders\n",
    "\n",
    "# df03_orders_modified.loc[df03_orders_modified.Operation == 'Scanned Shipment', 'hour'] = 0.0\n",
    "# df03_orders_modified.loc[df03_orders_modified.Operation == 'Scanned Shipment', 'minute'] = 0.0\n",
    "# df03_orders_modified.loc[df03_orders_modified.Operation == 'Scanned Shipment', 'second'] = 0.0\n",
    "\n",
    "# df03_orders_modified.loc[df03_orders_modified['Operation'] == 'Scanned Shipment'].head()"
   ]
  },
  {
   "cell_type": "code",
   "execution_count": 41,
   "id": "0a32c449",
   "metadata": {
    "execution": {
     "iopub.execute_input": "2022-07-17T19:50:55.074228Z",
     "iopub.status.busy": "2022-07-17T19:50:55.074228Z",
     "iopub.status.idle": "2022-07-17T19:50:55.085266Z",
     "shell.execute_reply": "2022-07-17T19:50:55.084262Z"
    }
   },
   "outputs": [],
   "source": [
    "# df03_orders_modified['Time'] = df03_orders_modified['hour']*60 + df03_orders_modified['minute'] + df03_orders_modified['second']/60\n",
    "# df03_orders_modified.head()"
   ]
  },
  {
   "cell_type": "code",
   "execution_count": 42,
   "id": "47d0ed4a",
   "metadata": {
    "execution": {
     "iopub.execute_input": "2022-07-17T19:50:55.089227Z",
     "iopub.status.busy": "2022-07-17T19:50:55.089227Z",
     "iopub.status.idle": "2022-07-17T19:50:55.100928Z",
     "shell.execute_reply": "2022-07-17T19:50:55.100412Z"
    }
   },
   "outputs": [],
   "source": [
    "# Save in JSON Format for HTML\n",
    "\n",
    "# df03_group = df03_orders_modified.groupby(['Warehouse', 'Project', 'Shipment', 'Operation', 'Date'])[['Time']].sum().sort_values(['Warehouse', 'Project', 'Shipment', 'Date'])\n",
    "# df03_group.to_json('data/performance.json', orient='table')\n",
    "# df03_group.head(20)"
   ]
  },
  {
   "cell_type": "code",
   "execution_count": 43,
   "id": "8965cf87",
   "metadata": {
    "execution": {
     "iopub.execute_input": "2022-07-17T19:50:55.105983Z",
     "iopub.status.busy": "2022-07-17T19:50:55.105983Z",
     "iopub.status.idle": "2022-07-17T19:50:55.116948Z",
     "shell.execute_reply": "2022-07-17T19:50:55.115948Z"
    }
   },
   "outputs": [],
   "source": [
    "# Remove Operation 'Scanned Shipment'\n",
    "\n",
    "# df03_excluding_Scanned = df03_orders_modified.loc[df03_orders_modified['Operation'] != 'Scanned Shipment']\n",
    "# df03_excluding_Scanned.head()"
   ]
  },
  {
   "cell_type": "code",
   "execution_count": 44,
   "id": "639c4e63",
   "metadata": {
    "execution": {
     "iopub.execute_input": "2022-07-17T19:50:55.121981Z",
     "iopub.status.busy": "2022-07-17T19:50:55.121981Z",
     "iopub.status.idle": "2022-07-17T19:50:55.132845Z",
     "shell.execute_reply": "2022-07-17T19:50:55.131886Z"
    }
   },
   "outputs": [],
   "source": [
    "# Save in CSV Format for Tableau\n",
    "\n",
    "# df03_group2 = df03_excluding_Scanned.groupby(['Warehouse', 'Project', 'Employee', 'Shipment', 'Operation', 'Date'])[['Time']].sum().sort_values(['Warehouse', 'Project', 'Employee', 'Shipment', 'Date'])\n",
    "# df03_group2.to_csv('data/performance.csv')\n",
    "# df03_group2.head(20)"
   ]
  },
  {
   "cell_type": "code",
   "execution_count": 45,
   "id": "72973a53",
   "metadata": {
    "execution": {
     "iopub.execute_input": "2022-07-17T19:50:55.137850Z",
     "iopub.status.busy": "2022-07-17T19:50:55.136847Z",
     "iopub.status.idle": "2022-07-17T19:50:55.148847Z",
     "shell.execute_reply": "2022-07-17T19:50:55.147885Z"
    }
   },
   "outputs": [],
   "source": [
    "# Close connection\n",
    "\n",
    "# cnxn.close()"
   ]
  },
  {
   "cell_type": "code",
   "execution_count": null,
   "id": "61b643e2",
   "metadata": {},
   "outputs": [],
   "source": []
  }
 ],
 "metadata": {
  "kernelspec": {
   "display_name": "PythonData",
   "language": "python",
   "name": "pythondata"
  },
  "language_info": {
   "codemirror_mode": {
    "name": "ipython",
    "version": 3
   },
   "file_extension": ".py",
   "mimetype": "text/x-python",
   "name": "python",
   "nbconvert_exporter": "python",
   "pygments_lexer": "ipython3",
   "version": "3.7.11"
  }
 },
 "nbformat": 4,
 "nbformat_minor": 5
}
